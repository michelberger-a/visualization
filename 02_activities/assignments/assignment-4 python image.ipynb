{
 "cells": [
  {
   "cell_type": "markdown",
   "metadata": {},
   "source": [
    "#### Assignment 4 - Visualizations ####"
   ]
  },
  {
   "cell_type": "markdown",
   "metadata": {},
   "source": [
    "Will be using the Immunization Coverage for Students data. \n",
    "https://open.toronto.ca/dataset/immunization-coverage-for-students/"
   ]
  },
  {
   "cell_type": "code",
   "execution_count": 46,
   "metadata": {},
   "outputs": [],
   "source": [
    "import numpy as np\n",
    "import pandas as pd\n",
    "import matplotlib.pyplot as plt\n",
    "import seaborn as sns\n",
    "import plotly.express as px"
   ]
  },
  {
   "cell_type": "code",
   "execution_count": 57,
   "metadata": {},
   "outputs": [],
   "source": [
    "# retrieve the data\n",
    "df1718 = pd.read_csv(r'C:\\Users\\Alexander\\Documents\\DSI\\visualization\\immunization-coverage-2017-2018.csv')\n",
    "df1819 = pd.read_csv(r'C:\\Users\\Alexander\\Documents\\DSI\\visualization\\immunization-coverage-2018-2019.csv')"
   ]
  },
  {
   "cell_type": "code",
   "execution_count": 58,
   "metadata": {},
   "outputs": [
    {
     "data": {
      "text/html": [
       "<div>\n",
       "<style scoped>\n",
       "    .dataframe tbody tr th:only-of-type {\n",
       "        vertical-align: middle;\n",
       "    }\n",
       "\n",
       "    .dataframe tbody tr th {\n",
       "        vertical-align: top;\n",
       "    }\n",
       "\n",
       "    .dataframe thead th {\n",
       "        text-align: right;\n",
       "    }\n",
       "</style>\n",
       "<table border=\"1\" class=\"dataframe\">\n",
       "  <thead>\n",
       "    <tr style=\"text-align: right;\">\n",
       "      <th></th>\n",
       "      <th>_id</th>\n",
       "      <th>School Name</th>\n",
       "      <th>Enrolled population</th>\n",
       "      <th>DTP coverage rate (%)</th>\n",
       "      <th>DTP Religious exemption rate (%)</th>\n",
       "      <th>MMR coverage rate (%)</th>\n",
       "      <th>MMR Religious exemption rate (%)</th>\n",
       "      <th>Lat</th>\n",
       "      <th>Lng</th>\n",
       "    </tr>\n",
       "  </thead>\n",
       "  <tbody>\n",
       "    <tr>\n",
       "      <th>0</th>\n",
       "      <td>1</td>\n",
       "      <td>A Y JACKSON SECONDARY SCHOOL</td>\n",
       "      <td>1070</td>\n",
       "      <td>91.0</td>\n",
       "      <td>1.0</td>\n",
       "      <td>95.7</td>\n",
       "      <td>1.0</td>\n",
       "      <td>43.805261</td>\n",
       "      <td>-79.366555</td>\n",
       "    </tr>\n",
       "    <tr>\n",
       "      <th>1</th>\n",
       "      <td>2</td>\n",
       "      <td>ACADEMIE ALEXANDRE-DUMAS</td>\n",
       "      <td>110</td>\n",
       "      <td>88.2</td>\n",
       "      <td>1.8</td>\n",
       "      <td>90.0</td>\n",
       "      <td>1.8</td>\n",
       "      <td>43.762419</td>\n",
       "      <td>-79.179765</td>\n",
       "    </tr>\n",
       "    <tr>\n",
       "      <th>2</th>\n",
       "      <td>3</td>\n",
       "      <td>ADAM BECK JUNIOR PUBLIC SCHOOL</td>\n",
       "      <td>247</td>\n",
       "      <td>91.9</td>\n",
       "      <td>3.6</td>\n",
       "      <td>94.3</td>\n",
       "      <td>3.6</td>\n",
       "      <td>43.683152</td>\n",
       "      <td>-79.288488</td>\n",
       "    </tr>\n",
       "    <tr>\n",
       "      <th>3</th>\n",
       "      <td>4</td>\n",
       "      <td>AFRICENTRIC ALTERNATIVE SCHOOL</td>\n",
       "      <td>66</td>\n",
       "      <td>71.2</td>\n",
       "      <td>19.7</td>\n",
       "      <td>72.7</td>\n",
       "      <td>19.7</td>\n",
       "      <td>43.745424</td>\n",
       "      <td>-79.488261</td>\n",
       "    </tr>\n",
       "    <tr>\n",
       "      <th>4</th>\n",
       "      <td>5</td>\n",
       "      <td>AGINCOURT COLLEGIATE INSTITUTE</td>\n",
       "      <td>1253</td>\n",
       "      <td>90.7</td>\n",
       "      <td>1.0</td>\n",
       "      <td>97.8</td>\n",
       "      <td>1.0</td>\n",
       "      <td>43.788874</td>\n",
       "      <td>-79.278910</td>\n",
       "    </tr>\n",
       "  </tbody>\n",
       "</table>\n",
       "</div>"
      ],
      "text/plain": [
       "   _id                     School Name  Enrolled population  \\\n",
       "0    1    A Y JACKSON SECONDARY SCHOOL                 1070   \n",
       "1    2        ACADEMIE ALEXANDRE-DUMAS                  110   \n",
       "2    3  ADAM BECK JUNIOR PUBLIC SCHOOL                  247   \n",
       "3    4  AFRICENTRIC ALTERNATIVE SCHOOL                   66   \n",
       "4    5  AGINCOURT COLLEGIATE INSTITUTE                 1253   \n",
       "\n",
       "   DTP coverage rate (%)  DTP Religious exemption rate (%)  \\\n",
       "0                   91.0                               1.0   \n",
       "1                   88.2                               1.8   \n",
       "2                   91.9                               3.6   \n",
       "3                   71.2                              19.7   \n",
       "4                   90.7                               1.0   \n",
       "\n",
       "   MMR coverage rate (%)  MMR Religious exemption rate (%)        Lat  \\\n",
       "0                   95.7                               1.0  43.805261   \n",
       "1                   90.0                               1.8  43.762419   \n",
       "2                   94.3                               3.6  43.683152   \n",
       "3                   72.7                              19.7  43.745424   \n",
       "4                   97.8                               1.0  43.788874   \n",
       "\n",
       "         Lng  \n",
       "0 -79.366555  \n",
       "1 -79.179765  \n",
       "2 -79.288488  \n",
       "3 -79.488261  \n",
       "4 -79.278910  "
      ]
     },
     "execution_count": 58,
     "metadata": {},
     "output_type": "execute_result"
    }
   ],
   "source": [
    "df1718.head()"
   ]
  },
  {
   "cell_type": "code",
   "execution_count": 59,
   "metadata": {},
   "outputs": [
    {
     "data": {
      "text/html": [
       "<div>\n",
       "<style scoped>\n",
       "    .dataframe tbody tr th:only-of-type {\n",
       "        vertical-align: middle;\n",
       "    }\n",
       "\n",
       "    .dataframe tbody tr th {\n",
       "        vertical-align: top;\n",
       "    }\n",
       "\n",
       "    .dataframe thead th {\n",
       "        text-align: right;\n",
       "    }\n",
       "</style>\n",
       "<table border=\"1\" class=\"dataframe\">\n",
       "  <thead>\n",
       "    <tr style=\"text-align: right;\">\n",
       "      <th></th>\n",
       "      <th>_id</th>\n",
       "      <th>School Name</th>\n",
       "      <th>Enrolled population</th>\n",
       "      <th>DTP coverage rate (%)</th>\n",
       "      <th>DTP Religious exemption rate (%)</th>\n",
       "      <th>MMR coverage rate (%)</th>\n",
       "      <th>MMR Religious exemption rate (%)</th>\n",
       "      <th>Lat</th>\n",
       "      <th>Lng</th>\n",
       "    </tr>\n",
       "  </thead>\n",
       "  <tbody>\n",
       "    <tr>\n",
       "      <th>0</th>\n",
       "      <td>1</td>\n",
       "      <td>A Y Jackson S.S.</td>\n",
       "      <td>1027</td>\n",
       "      <td>89.0</td>\n",
       "      <td>1.1</td>\n",
       "      <td>96.5</td>\n",
       "      <td>1.1</td>\n",
       "      <td>43.805261</td>\n",
       "      <td>-79.366555</td>\n",
       "    </tr>\n",
       "    <tr>\n",
       "      <th>1</th>\n",
       "      <td>2</td>\n",
       "      <td>Academie Alexandre-Dumas</td>\n",
       "      <td>129</td>\n",
       "      <td>86.8</td>\n",
       "      <td>1.6</td>\n",
       "      <td>89.1</td>\n",
       "      <td>1.6</td>\n",
       "      <td>43.762419</td>\n",
       "      <td>-79.179765</td>\n",
       "    </tr>\n",
       "    <tr>\n",
       "      <th>2</th>\n",
       "      <td>3</td>\n",
       "      <td>Adam Beck Jr P.S.</td>\n",
       "      <td>309</td>\n",
       "      <td>96.1</td>\n",
       "      <td>3.6</td>\n",
       "      <td>95.8</td>\n",
       "      <td>3.6</td>\n",
       "      <td>43.683152</td>\n",
       "      <td>-79.288488</td>\n",
       "    </tr>\n",
       "    <tr>\n",
       "      <th>3</th>\n",
       "      <td>4</td>\n",
       "      <td>Africentric Alternative School</td>\n",
       "      <td>77</td>\n",
       "      <td>71.4</td>\n",
       "      <td>20.8</td>\n",
       "      <td>72.7</td>\n",
       "      <td>20.8</td>\n",
       "      <td>43.745424</td>\n",
       "      <td>-79.488261</td>\n",
       "    </tr>\n",
       "    <tr>\n",
       "      <th>4</th>\n",
       "      <td>5</td>\n",
       "      <td>Agincourt C.I.</td>\n",
       "      <td>1241</td>\n",
       "      <td>87.3</td>\n",
       "      <td>1.0</td>\n",
       "      <td>98.1</td>\n",
       "      <td>1.0</td>\n",
       "      <td>43.788874</td>\n",
       "      <td>-79.278910</td>\n",
       "    </tr>\n",
       "  </tbody>\n",
       "</table>\n",
       "</div>"
      ],
      "text/plain": [
       "   _id                     School Name  Enrolled population  \\\n",
       "0    1                A Y Jackson S.S.                 1027   \n",
       "1    2        Academie Alexandre-Dumas                  129   \n",
       "2    3               Adam Beck Jr P.S.                  309   \n",
       "3    4  Africentric Alternative School                   77   \n",
       "4    5                  Agincourt C.I.                 1241   \n",
       "\n",
       "   DTP coverage rate (%)  DTP Religious exemption rate (%)  \\\n",
       "0                   89.0                               1.1   \n",
       "1                   86.8                               1.6   \n",
       "2                   96.1                               3.6   \n",
       "3                   71.4                              20.8   \n",
       "4                   87.3                               1.0   \n",
       "\n",
       "   MMR coverage rate (%)  MMR Religious exemption rate (%)        Lat  \\\n",
       "0                   96.5                               1.1  43.805261   \n",
       "1                   89.1                               1.6  43.762419   \n",
       "2                   95.8                               3.6  43.683152   \n",
       "3                   72.7                              20.8  43.745424   \n",
       "4                   98.1                               1.0  43.788874   \n",
       "\n",
       "         Lng  \n",
       "0 -79.366555  \n",
       "1 -79.179765  \n",
       "2 -79.288488  \n",
       "3 -79.488261  \n",
       "4 -79.278910  "
      ]
     },
     "execution_count": 59,
     "metadata": {},
     "output_type": "execute_result"
    }
   ],
   "source": [
    "df1819.head()"
   ]
  },
  {
   "cell_type": "markdown",
   "metadata": {},
   "source": [
    "##### Set up data for plotly #####"
   ]
  },
  {
   "cell_type": "code",
   "execution_count": 71,
   "metadata": {},
   "outputs": [
    {
     "name": "stderr",
     "output_type": "stream",
     "text": [
      "C:\\Users\\Alexander\\AppData\\Local\\Temp\\ipykernel_36368\\2660218549.py:3: SettingWithCopyWarning:\n",
      "\n",
      "\n",
      "A value is trying to be set on a copy of a slice from a DataFrame.\n",
      "Try using .loc[row_indexer,col_indexer] = value instead\n",
      "\n",
      "See the caveats in the documentation: https://pandas.pydata.org/pandas-docs/stable/user_guide/indexing.html#returning-a-view-versus-a-copy\n",
      "\n",
      "C:\\Users\\Alexander\\AppData\\Local\\Temp\\ipykernel_36368\\2660218549.py:4: SettingWithCopyWarning:\n",
      "\n",
      "\n",
      "A value is trying to be set on a copy of a slice from a DataFrame.\n",
      "Try using .loc[row_indexer,col_indexer] = value instead\n",
      "\n",
      "See the caveats in the documentation: https://pandas.pydata.org/pandas-docs/stable/user_guide/indexing.html#returning-a-view-versus-a-copy\n",
      "\n",
      "C:\\Users\\Alexander\\AppData\\Local\\Temp\\ipykernel_36368\\2660218549.py:12: SettingWithCopyWarning:\n",
      "\n",
      "\n",
      "A value is trying to be set on a copy of a slice from a DataFrame.\n",
      "Try using .loc[row_indexer,col_indexer] = value instead\n",
      "\n",
      "See the caveats in the documentation: https://pandas.pydata.org/pandas-docs/stable/user_guide/indexing.html#returning-a-view-versus-a-copy\n",
      "\n",
      "C:\\Users\\Alexander\\AppData\\Local\\Temp\\ipykernel_36368\\2660218549.py:13: SettingWithCopyWarning:\n",
      "\n",
      "\n",
      "A value is trying to be set on a copy of a slice from a DataFrame.\n",
      "Try using .loc[row_indexer,col_indexer] = value instead\n",
      "\n",
      "See the caveats in the documentation: https://pandas.pydata.org/pandas-docs/stable/user_guide/indexing.html#returning-a-view-versus-a-copy\n",
      "\n",
      "C:\\Users\\Alexander\\AppData\\Local\\Temp\\ipykernel_36368\\2660218549.py:22: SettingWithCopyWarning:\n",
      "\n",
      "\n",
      "A value is trying to be set on a copy of a slice from a DataFrame.\n",
      "Try using .loc[row_indexer,col_indexer] = value instead\n",
      "\n",
      "See the caveats in the documentation: https://pandas.pydata.org/pandas-docs/stable/user_guide/indexing.html#returning-a-view-versus-a-copy\n",
      "\n",
      "C:\\Users\\Alexander\\AppData\\Local\\Temp\\ipykernel_36368\\2660218549.py:23: SettingWithCopyWarning:\n",
      "\n",
      "\n",
      "A value is trying to be set on a copy of a slice from a DataFrame.\n",
      "Try using .loc[row_indexer,col_indexer] = value instead\n",
      "\n",
      "See the caveats in the documentation: https://pandas.pydata.org/pandas-docs/stable/user_guide/indexing.html#returning-a-view-versus-a-copy\n",
      "\n",
      "C:\\Users\\Alexander\\AppData\\Local\\Temp\\ipykernel_36368\\2660218549.py:24: SettingWithCopyWarning:\n",
      "\n",
      "\n",
      "A value is trying to be set on a copy of a slice from a DataFrame.\n",
      "Try using .loc[row_indexer,col_indexer] = value instead\n",
      "\n",
      "See the caveats in the documentation: https://pandas.pydata.org/pandas-docs/stable/user_guide/indexing.html#returning-a-view-versus-a-copy\n",
      "\n",
      "C:\\Users\\Alexander\\AppData\\Local\\Temp\\ipykernel_36368\\2660218549.py:32: SettingWithCopyWarning:\n",
      "\n",
      "\n",
      "A value is trying to be set on a copy of a slice from a DataFrame.\n",
      "Try using .loc[row_indexer,col_indexer] = value instead\n",
      "\n",
      "See the caveats in the documentation: https://pandas.pydata.org/pandas-docs/stable/user_guide/indexing.html#returning-a-view-versus-a-copy\n",
      "\n",
      "C:\\Users\\Alexander\\AppData\\Local\\Temp\\ipykernel_36368\\2660218549.py:33: SettingWithCopyWarning:\n",
      "\n",
      "\n",
      "A value is trying to be set on a copy of a slice from a DataFrame.\n",
      "Try using .loc[row_indexer,col_indexer] = value instead\n",
      "\n",
      "See the caveats in the documentation: https://pandas.pydata.org/pandas-docs/stable/user_guide/indexing.html#returning-a-view-versus-a-copy\n",
      "\n",
      "C:\\Users\\Alexander\\AppData\\Local\\Temp\\ipykernel_36368\\2660218549.py:34: SettingWithCopyWarning:\n",
      "\n",
      "\n",
      "A value is trying to be set on a copy of a slice from a DataFrame.\n",
      "Try using .loc[row_indexer,col_indexer] = value instead\n",
      "\n",
      "See the caveats in the documentation: https://pandas.pydata.org/pandas-docs/stable/user_guide/indexing.html#returning-a-view-versus-a-copy\n",
      "\n"
     ]
    },
    {
     "data": {
      "text/html": [
       "<div>\n",
       "<style scoped>\n",
       "    .dataframe tbody tr th:only-of-type {\n",
       "        vertical-align: middle;\n",
       "    }\n",
       "\n",
       "    .dataframe tbody tr th {\n",
       "        vertical-align: top;\n",
       "    }\n",
       "\n",
       "    .dataframe thead th {\n",
       "        text-align: right;\n",
       "    }\n",
       "</style>\n",
       "<table border=\"1\" class=\"dataframe\">\n",
       "  <thead>\n",
       "    <tr style=\"text-align: right;\">\n",
       "      <th></th>\n",
       "      <th>School Name</th>\n",
       "      <th>Enrolled population</th>\n",
       "      <th>Coverage Rate (%)</th>\n",
       "      <th>Religious Exemption Rate (%)</th>\n",
       "      <th>year</th>\n",
       "      <th>vax</th>\n",
       "    </tr>\n",
       "  </thead>\n",
       "  <tbody>\n",
       "    <tr>\n",
       "      <th>0</th>\n",
       "      <td>A Y JACKSON SECONDARY SCHOOL</td>\n",
       "      <td>1070</td>\n",
       "      <td>91.0</td>\n",
       "      <td>1.0</td>\n",
       "      <td>2017-2018</td>\n",
       "      <td>DTP</td>\n",
       "    </tr>\n",
       "    <tr>\n",
       "      <th>1</th>\n",
       "      <td>ACADEMIE ALEXANDRE-DUMAS</td>\n",
       "      <td>110</td>\n",
       "      <td>88.2</td>\n",
       "      <td>1.8</td>\n",
       "      <td>2017-2018</td>\n",
       "      <td>DTP</td>\n",
       "    </tr>\n",
       "    <tr>\n",
       "      <th>2</th>\n",
       "      <td>ADAM BECK JUNIOR PUBLIC SCHOOL</td>\n",
       "      <td>247</td>\n",
       "      <td>91.9</td>\n",
       "      <td>3.6</td>\n",
       "      <td>2017-2018</td>\n",
       "      <td>DTP</td>\n",
       "    </tr>\n",
       "    <tr>\n",
       "      <th>3</th>\n",
       "      <td>AFRICENTRIC ALTERNATIVE SCHOOL</td>\n",
       "      <td>66</td>\n",
       "      <td>71.2</td>\n",
       "      <td>19.7</td>\n",
       "      <td>2017-2018</td>\n",
       "      <td>DTP</td>\n",
       "    </tr>\n",
       "    <tr>\n",
       "      <th>4</th>\n",
       "      <td>AGINCOURT COLLEGIATE INSTITUTE</td>\n",
       "      <td>1253</td>\n",
       "      <td>90.7</td>\n",
       "      <td>1.0</td>\n",
       "      <td>2017-2018</td>\n",
       "      <td>DTP</td>\n",
       "    </tr>\n",
       "    <tr>\n",
       "      <th>...</th>\n",
       "      <td>...</td>\n",
       "      <td>...</td>\n",
       "      <td>...</td>\n",
       "      <td>...</td>\n",
       "      <td>...</td>\n",
       "      <td>...</td>\n",
       "    </tr>\n",
       "    <tr>\n",
       "      <th>3223</th>\n",
       "      <td>YORK MEMORIAL C.I.</td>\n",
       "      <td>876</td>\n",
       "      <td>96.3</td>\n",
       "      <td>2.5</td>\n",
       "      <td>2018-2019</td>\n",
       "      <td>MMR</td>\n",
       "    </tr>\n",
       "    <tr>\n",
       "      <th>3224</th>\n",
       "      <td>YORK MILLS C.I.</td>\n",
       "      <td>1200</td>\n",
       "      <td>97.2</td>\n",
       "      <td>1.3</td>\n",
       "      <td>2018-2019</td>\n",
       "      <td>MMR</td>\n",
       "    </tr>\n",
       "    <tr>\n",
       "      <th>3225</th>\n",
       "      <td>YORKVIEW P.S.</td>\n",
       "      <td>256</td>\n",
       "      <td>93.0</td>\n",
       "      <td>2.3</td>\n",
       "      <td>2018-2019</td>\n",
       "      <td>MMR</td>\n",
       "    </tr>\n",
       "    <tr>\n",
       "      <th>3226</th>\n",
       "      <td>YORKWOODS P.S.</td>\n",
       "      <td>224</td>\n",
       "      <td>91.5</td>\n",
       "      <td>0.9</td>\n",
       "      <td>2018-2019</td>\n",
       "      <td>MMR</td>\n",
       "    </tr>\n",
       "    <tr>\n",
       "      <th>3227</th>\n",
       "      <td>ZION HEIGHTS JR H.S.</td>\n",
       "      <td>592</td>\n",
       "      <td>96.5</td>\n",
       "      <td>1.0</td>\n",
       "      <td>2018-2019</td>\n",
       "      <td>MMR</td>\n",
       "    </tr>\n",
       "  </tbody>\n",
       "</table>\n",
       "<p>3228 rows × 6 columns</p>\n",
       "</div>"
      ],
      "text/plain": [
       "                         School Name  Enrolled population  Coverage Rate (%)  \\\n",
       "0       A Y JACKSON SECONDARY SCHOOL                 1070               91.0   \n",
       "1           ACADEMIE ALEXANDRE-DUMAS                  110               88.2   \n",
       "2     ADAM BECK JUNIOR PUBLIC SCHOOL                  247               91.9   \n",
       "3     AFRICENTRIC ALTERNATIVE SCHOOL                   66               71.2   \n",
       "4     AGINCOURT COLLEGIATE INSTITUTE                 1253               90.7   \n",
       "...                              ...                  ...                ...   \n",
       "3223              YORK MEMORIAL C.I.                  876               96.3   \n",
       "3224                 YORK MILLS C.I.                 1200               97.2   \n",
       "3225                   YORKVIEW P.S.                  256               93.0   \n",
       "3226                  YORKWOODS P.S.                  224               91.5   \n",
       "3227            ZION HEIGHTS JR H.S.                  592               96.5   \n",
       "\n",
       "      Religious Exemption Rate (%)       year  vax  \n",
       "0                              1.0  2017-2018  DTP  \n",
       "1                              1.8  2017-2018  DTP  \n",
       "2                              3.6  2017-2018  DTP  \n",
       "3                             19.7  2017-2018  DTP  \n",
       "4                              1.0  2017-2018  DTP  \n",
       "...                            ...        ...  ...  \n",
       "3223                           2.5  2018-2019  MMR  \n",
       "3224                           1.3  2018-2019  MMR  \n",
       "3225                           2.3  2018-2019  MMR  \n",
       "3226                           0.9  2018-2019  MMR  \n",
       "3227                           1.0  2018-2019  MMR  \n",
       "\n",
       "[3228 rows x 6 columns]"
      ]
     },
     "execution_count": 71,
     "metadata": {},
     "output_type": "execute_result"
    }
   ],
   "source": [
    "# set up data for dtp vax 17/18\n",
    "dtp1718 = df1718[['School Name', 'Enrolled population', 'DTP coverage rate (%)', 'DTP Religious exemption rate (%)']]\n",
    "dtp1718['year'] = '2017-2018'\n",
    "dtp1718['vax'] = 'DTP'\n",
    "\n",
    "dtp1718 = dtp1718.rename(columns={'DTP coverage rate (%)': 'Coverage Rate (%)',\n",
    "                              'DTP Religious exemption rate (%)': 'Religious Exemption Rate (%)'})\n",
    "\n",
    "\n",
    "# set up data for mmr vax 17/18\n",
    "mmr1718 = df1718[['School Name', 'Enrolled population', 'MMR coverage rate (%)', 'MMR Religious exemption rate (%)']]\n",
    "mmr1718['year'] = '2017-2018'\n",
    "mmr1718['vax'] = 'MMR'\n",
    "\n",
    "mmr1718 = mmr1718.rename(columns={'MMR coverage rate (%)': 'Coverage Rate (%)',\n",
    "                              'MMR Religious exemption rate (%)': 'Religious Exemption Rate (%)'})\n",
    "\n",
    "\n",
    "\n",
    "# set up data for dtp vax 18/19\n",
    "dtp1819 = df1819[['School Name', 'Enrolled population', 'DTP coverage rate (%)', 'DTP Religious exemption rate (%)']]\n",
    "dtp1819['year'] = '2018-2019'\n",
    "dtp1819['vax'] = 'DTP'\n",
    "dtp1819['School Name'] = dtp1819['School Name'].str.upper()\n",
    "\n",
    "dtp1819 = dtp1819.rename(columns={'DTP coverage rate (%)': 'Coverage Rate (%)',\n",
    "                              'DTP Religious exemption rate (%)': 'Religious Exemption Rate (%)'})\n",
    "\n",
    "\n",
    "# set up data for mmr vax 17/18\n",
    "mmr1819 = df1819[['School Name', 'Enrolled population', 'MMR coverage rate (%)', 'MMR Religious exemption rate (%)']]\n",
    "mmr1819['year'] = '2018-2019'\n",
    "mmr1819['vax'] = 'MMR'\n",
    "mmr1819['School Name'] = mmr1819['School Name'].str.upper()\n",
    "\n",
    "mmr1819 = mmr1819.rename(columns={'MMR coverage rate (%)': 'Coverage Rate (%)',\n",
    "                              'MMR Religious exemption rate (%)': 'Religious Exemption Rate (%)'})\n",
    "\n",
    "\n",
    "dtpmmr = pd.concat([dtp1718, dtp1819, mmr1718, mmr1819], ignore_index=True, axis=0)\n",
    "dtpmmr"
   ]
  },
  {
   "cell_type": "code",
   "execution_count": 75,
   "metadata": {},
   "outputs": [
    {
     "data": {
      "application/vnd.plotly.v1+json": {
       "config": {
        "plotlyServerURL": "https://plot.ly"
       },
       "data": [
        {
         "customdata": [
          [
           "A Y JACKSON SECONDARY SCHOOL"
          ],
          [
           "ACADEMIE ALEXANDRE-DUMAS"
          ],
          [
           "ADAM BECK JUNIOR PUBLIC SCHOOL"
          ],
          [
           "AFRICENTRIC ALTERNATIVE SCHOOL"
          ],
          [
           "AGINCOURT COLLEGIATE INSTITUTE"
          ],
          [
           "AGINCOURT JUNIOR PUBLIC SCHOOL"
          ],
          [
           "AGNES MACPHAIL PUBLIC SCHOOL"
          ],
          [
           "ALBERT CAMPBELL COLLEGIATE INSTITUTE"
          ],
          [
           "ALBION HEIGHTS JUNIOR MIDDLE SCHOOL"
          ],
          [
           "ALEXANDER MUIR/GLADSTONE AVE JUNIOR AND SENIOR PUBLIC SCHOOL"
          ],
          [
           "ALEXANDER STIRLING PUBLIC SCHOOL"
          ],
          [
           "ALEXMUIR JUNIOR PUBLIC SCHOOL"
          ],
          [
           "ALL SAINTS CATHOLIC SCHOOL"
          ],
          [
           "ALLENBY JUNIOR PUBLIC SCHOOL"
          ],
          [
           "ALPHA ALTERNATIVE JUNIOR SCHOOL"
          ],
          [
           "ALPHA II ALTERNATIVE SCHOOL"
          ],
          [
           "ALTERNATIVE SCARBOROUGH EDUCATION 1"
          ],
          [
           "ALVIN CURLING PUBLIC SCHOOL"
          ],
          [
           "AMESBURY MIDDLE SCHOOL"
          ],
          [
           "ANCASTER PUBLIC SCHOOL"
          ],
          [
           "ANNETTE STREET JUNIOR AND SENIOR PUBLIC SCHOOL"
          ],
          [
           "ANNUNCIATION CATHOLIC SCHOOL"
          ],
          [
           "ANSON PARK PUBLIC SCHOOL"
          ],
          [
           "ANSON S TAYLOR JUNIOR PUBLIC SCHOOL"
          ],
          [
           "ARBOR GLEN PUBLIC SCHOOL"
          ],
          [
           "ARMOUR HEIGHTS PUBLIC SCHOOL"
          ],
          [
           "AVONDALE ALTERNATIVE ELEMENTARY SCHOOL"
          ],
          [
           "AVONDALE PUBLIC SCHOOL"
          ],
          [
           "AVONDALE SECONDARY ALTERNATIVE SCHOOL"
          ],
          [
           "BALA AVENUE COMMUNITY SCHOOL"
          ],
          [
           "BALMY BEACH COMMUNITY SCHOOL"
          ],
          [
           "BANNOCKBURN SCHOOL"
          ],
          [
           "BANTING AND BEST PUBLIC SCHOOL"
          ],
          [
           "BAYCREST PUBLIC SCHOOL"
          ],
          [
           "BAYVIEW MIDDLE SCHOOL"
          ],
          [
           "BEACHES ALTERNATIVE JUNIOR SCHOOL"
          ],
          [
           "BEAUMONDE HEIGHTS JUNIOR MIDDLE SCHOOL"
          ],
          [
           "BEDFORD PARK PUBLIC SCHOOL"
          ],
          [
           "BELLMERE JUNIOR PUBLIC SCHOOL"
          ],
          [
           "BEN HEPPNER VOCAL MUSIC ACADEMY"
          ],
          [
           "BENDALE BUSINESS & TECHNICAL INSTITUTE"
          ],
          [
           "BENDALE JUNIOR PUBLIC SCHOOL"
          ],
          [
           "BENNINGTON HEIGHTS ELEMENTARY SCHOOL"
          ],
          [
           "BERNER TRAIL JUNIOR PUBLIC SCHOOL"
          ],
          [
           "BESSBOROUGH DRIVE ELEMENTARY AND MIDDLE SCHOOL"
          ],
          [
           "BEVERLEY HEIGHTS MIDDLE SCHOOL"
          ],
          [
           "BEVERLEY SCHOOL"
          ],
          [
           "BEVERLY GLEN JUNIOR PUBLIC SCHOOL"
          ],
          [
           "BIRCH CLIFF HEIGHTS PUBLIC SCHOOL"
          ],
          [
           "BIRCH CLIFF PUBLIC SCHOOL"
          ],
          [
           "BIRCHMOUNT PARK COLLEGIATE INSTITUTE"
          ],
          [
           "BISHOP ALLEN ACADEMY CATHOLIC SECONDARY SCHOOL"
          ],
          [
           "BISHOP MARROCCO/THOMAS MERTON CATHOLIC SECONDARY SCHOOL"
          ],
          [
           "BLACKSMITH PUBLIC SCHOOL"
          ],
          [
           "BLAKE STREET JUNIOR PUBLIC SCHOOL"
          ],
          [
           "BLANTYRE PUBLIC SCHOOL"
          ],
          [
           "BLAYDON PUBLIC SCHOOL"
          ],
          [
           "BLESSED ARCHBISHOP ROMERO CATHOLIC SECONDARY SCHOOL"
          ],
          [
           "BLESSED CARDINAL NEWMAN CATHOLIC SCHOOL"
          ],
          [
           "BLESSED MARGHERITA OF CITTA CASTELLO CATHOLIC SCHOOL"
          ],
          [
           "BLESSED PIER GIORGIO FRASSATI CATHOLIC SCHOOL"
          ],
          [
           "BLESSED POPE PAUL VI CATHOLIC SCHOOL"
          ],
          [
           "BLESSED SACRAMENT CATHOLIC SCHOOL"
          ],
          [
           "BLESSED TRINITY CATHOLIC SCHOOL"
          ],
          [
           "BLISS CARMAN SENIOR PUBLIC SCHOOL"
          ],
          [
           "BLOOR COLLEGIATE INSTITUTE"
          ],
          [
           "BLOORDALE MIDDLE SCHOOL"
          ],
          [
           "BLOORLEA MIDDLE SCHOOL"
          ],
          [
           "BLYTHWOOD JUNIOR PUBLIC SCHOOL"
          ],
          [
           "BOWMORE ROAD JUNIOR AND SENIOR PUBLIC SCHOOL"
          ],
          [
           "BOYS' LEADERSHIP ACADEMY"
          ],
          [
           "BRAEBURN JUNIOR SCHOOL"
          ],
          [
           "BRIAN PUBLIC SCHOOL"
          ],
          [
           "BRIARCREST JUNIOR SCHOOL"
          ],
          [
           "BRIDLEWOOD JUNIOR PUBLIC SCHOOL"
          ],
          [
           "BRIMWOOD BOULEVARD JUNIOR PUBLIC SCHOOL"
          ],
          [
           "BROADACRES JUNIOR PUBLIC SCHOOL"
          ],
          [
           "BROADLANDS PUBLIC SCHOOL"
          ],
          [
           "BROCK PUBLIC SCHOOL"
          ],
          [
           "BROOKHAVEN PUBLIC SCHOOL"
          ],
          [
           "BROOKMILL BOULEVARD JUNIOR PUBLIC SCHOOL"
          ],
          [
           "BROOKSIDE PUBLIC SCHOOL"
          ],
          [
           "BROOKVIEW MIDDLE SCHOOL"
          ],
          [
           "BROWN JUNIOR PUBLIC SCHOOL"
          ],
          [
           "BRUCE JUNIOR PUBLIC SCHOOL"
          ],
          [
           "BUCHANAN PUBLIC SCHOOL"
          ],
          [
           "BURROWS HALL JUNIOR PUBLIC SCHOOL"
          ],
          [
           "GREENWOOD SECONDARY SCHOOL"
          ],
          [
           "C D FARQUHARSON JUNIOR PUBLIC SCHOOL"
          ],
          [
           "C R MARCHANT MIDDLE SCHOOL"
          ],
          [
           "C W JEFFERYS COLLEGIATE INSTITUTE"
          ],
          [
           "CALC SECONDARY SCHOOL"
          ],
          [
           "CALICO PUBLIC SCHOOL"
          ],
          [
           "CAMERON PUBLIC SCHOOL"
          ],
          [
           "CANADIAN MARTYRS CATHOLIC SCHOOL"
          ],
          [
           "CARDINAL CARTER ACADEMY FOR THE ARTS"
          ],
          [
           "CARDINAL LEGER CATHOLIC SCHOOL"
          ],
          [
           "CARLETON VILLAGE JUNIOR AND SENIOR PUBLIC SCHOOL"
          ],
          [
           "CASSANDRA PUBLIC SCHOOL"
          ],
          [
           "CEDAR DRIVE JUNIOR PUBLIC SCHOOL"
          ],
          [
           "CEDARBRAE COLLEGIATE INSTITUTE"
          ],
          [
           "CEDARBROOK PUBLIC SCHOOL"
          ],
          [
           "CEDARVALE COMMUNITY SCHOOL"
          ],
          [
           "CENTENNIAL ROAD JUNIOR PUBLIC SCHOOL"
          ],
          [
           "CENTRAL ETOBICOKE HIGH SCHOOL"
          ],
          [
           "CENTRAL TECHNICAL SCHOOL"
          ],
          [
           "CENTRAL TORONTO ACADEMY"
          ],
          [
           "CHALKFARM PUBLIC SCHOOL"
          ],
          [
           "CHAMINADE COLLEGE SCHOOL"
          ],
          [
           "CHARLES E WEBSTER PUBLIC SCHOOL"
          ],
          [
           "CHARLES G FRASER JUNIOR PUBLIC SCHOOL"
          ],
          [
           "CHARLES GORDON SENIOR PUBLIC SCHOOL"
          ],
          [
           "CHARLES H BEST MIDDLE SCHOOL"
          ],
          [
           "CHARLOTTETOWN JUNIOR PUBLIC SCHOOL"
          ],
          [
           "CHARTLAND JUNIOR PUBLIC SCHOOL"
          ],
          [
           "CHEROKEE PUBLIC SCHOOL"
          ],
          [
           "CHESTER ELEMENTARY SCHOOL"
          ],
          [
           "CHESTER LE JUNIOR PUBLIC SCHOOL"
          ],
          [
           "CHIEF DAN GEORGE PUBLIC SCHOOL"
          ],
          [
           "CHILDREN'S GARDEN JUNIOR SCHOOL"
          ],
          [
           "CHINE DRIVE PUBLIC SCHOOL"
          ],
          [
           "CHURCH STREET JUNIOR PUBLIC SCHOOL"
          ],
          [
           "CHURCHILL HEIGHTS PUBLIC SCHOOL"
          ],
          [
           "CHURCHILL PUBLIC SCHOOL"
          ],
          [
           "CITY SCHOOL"
          ],
          [
           "CITY VIEW ALTERNATIVE SENIOR SCHOOL"
          ],
          [
           "CLAIREVILLE JUNIOR SCHOOL"
          ],
          [
           "CLAIRLEA PUBLIC SCHOOL"
          ],
          [
           "CLAUDE WATSON SCHOOL FOR THE ARTS"
          ],
          [
           "CLIFFSIDE PUBLIC SCHOOL"
          ],
          [
           "CLIFFWOOD PUBLIC SCHOOL"
          ],
          [
           "CLINTON STREET JUNIOR PUBLIC SCHOOL"
          ],
          [
           "COLLEGE FRANCAIS ELEMENTAIRE"
          ],
          [
           "COLLEGE FRANCAIS SECONDAIRE"
          ],
          [
           "CONTACT ALTERNATIVE SCHOOL"
          ],
          [
           "CORDELLA JUNIOR PUBLIC SCHOOL"
          ],
          [
           "CORNELL JUNIOR PUBLIC SCHOOL"
          ],
          [
           "CORVETTE JUNIOR PUBLIC SCHOOL"
          ],
          [
           "COSBURN MIDDLE SCHOOL"
          ],
          [
           "COTTINGHAM JUNIOR PUBLIC SCHOOL"
          ],
          [
           "COURCELETTE PUBLIC SCHOOL"
          ],
          [
           "CRESCENT TOWN ELEMENTARY SCHOOL"
          ],
          [
           "CRESTHAVEN PUBLIC SCHOOL"
          ],
          [
           "CRESTVIEW PUBLIC SCHOOL"
          ],
          [
           "CUMMER VALLEY MIDDLE SCHOOL"
          ],
          [
           "D A MORRISON MIDDLE SCHOOL"
          ],
          [
           "DA VINCI SCHOOL"
          ],
          [
           "DALLINGTON PUBLIC SCHOOL"
          ],
          [
           "ESC PERE-PHILIPPE-LAMARCHE"
          ],
          [
           "DANFORTH COLLEGIATE INSTITUTE AND TECHNICAL SCHOOL"
          ],
          [
           "DANFORTH GARDENS PUBLIC SCHOOL"
          ],
          [
           "DANTE ALIGHIERI ACADEMY"
          ],
          [
           "D'ARCY MCGEE CATHOLIC SCHOOL"
          ],
          [
           "DAVID AND MARY THOMSON COLLEGIATE INSTITUTE"
          ],
          [
           "DAVID HORNELL JUNIOR SCHOOL"
          ],
          [
           "DAVID LEWIS PUBLIC SCHOOL"
          ],
          [
           "DAVISVILLE JUNIOR PUBLIC SCHOOL"
          ],
          [
           "DAYSTROM PUBLIC SCHOOL"
          ],
          [
           "DEER PARK JUNIOR AND SENIOR PUBLIC SCHOOL"
          ],
          [
           "DELPHI SECONDARY ALTERNATIVE SCHOOL"
          ],
          [
           "DELTA SENIOR ALTERNATIVE SCHOOL"
          ],
          [
           "DENLOW PUBLIC SCHOOL"
          ],
          [
           "DENNIS AVENUE COMMUNITY SCHOOL"
          ],
          [
           "DERRYDOWN PUBLIC SCHOOL"
          ],
          [
           "DEWSON STREET JUNIOR PUBLIC SCHOOL"
          ],
          [
           "DIEFENBAKER ELEMENTARY SCHOOL"
          ],
          [
           "DIXON GROVE JUNIOR MIDDLE SCHOOL"
          ],
          [
           "DON MILLS COLLEGIATE INSTITUTE"
          ],
          [
           "DON MILLS MIDDLE SCHOOL"
          ],
          [
           "DON VALLEY JUNIOR HIGH SCHOOL"
          ],
          [
           "DONVIEW MIDDLE HEALTH AND WELLNESS ACADEMY"
          ],
          [
           "DONWOOD PARK JUNIOR PUBLIC SCHOOL"
          ],
          [
           "DORSET PARK PUBLIC SCHOOL"
          ],
          [
           "DOVERCOURT PUBLIC SCHOOL"
          ],
          [
           "DOWNSVIEW PUBLIC SCHOOL"
          ],
          [
           "DOWNSVIEW SECONDARY SCHOOL"
          ],
          [
           "DOWNTOWN ALTERNATIVE SCHOOL"
          ],
          [
           "DOWNTOWN VOCAL MUSIC ACADEMY OF TORONTO"
          ],
          [
           "DR MARION HILLIARD SENIOR PUBLIC SCHOOL"
          ],
          [
           "DR NORMAN BETHUNE COLLEGIATE INSTITUTE"
          ],
          [
           "DREWRY SECONDARY SCHOOL"
          ],
          [
           "DRIFTWOOD PUBLIC SCHOOL"
          ],
          [
           "DUBLIN HEIGHTS ELEMENTARY AND MIDDLE SCHOOL"
          ],
          [
           "DUKE OF CONNAUGHT JUNIOR AND SENIOR PUBLIC SCHOOL"
          ],
          [
           "DUNDAS JUNIOR PUBLIC SCHOOL"
          ],
          [
           "DUNLACE PUBLIC SCHOOL"
          ],
          [
           "EARL BEATTY JUNIOR AND SENIOR PUBLIC SCHOOL"
          ],
          [
           "EARL GREY SENIOR PUBLIC SCHOOL"
          ],
          [
           "EARL HAIG PUBLIC SCHOOL"
          ],
          [
           "EARL HAIG SECONDARY SCHOOL"
          ],
          [
           "EAST ALTERNATIVE SCHOOL OF TORONTO"
          ],
          [
           "EAST YORK ALTERNATIVE SECONDARY SCHOOL"
          ],
          [
           "EAST YORK COLLEGIATE INSTITUTE"
          ],
          [
           "EASTDALE COLLEGIATE INSTITUTE"
          ],
          [
           "EASTVIEW PUBLIC SCHOOL"
          ],
          [
           "EATONVILLE JUNIOR SCHOOL"
          ],
          [
           "ECOLE ELEMENTAIRE CHARLES-SAURIOL"
          ],
          [
           "ECOLE ELEMENTAIRE ETIENNE-BRULE"
          ],
          [
           "ECOLE ELEMENTAIRE FELIX-LECLERC"
          ],
          [
           "ECOLE ELEMENTAIRE GABRIELLE-ROY"
          ],
          [
           "ECOLE ELEMENTAIRE JEANNE-LAJOIE"
          ],
          [
           "ECOLE ELEMENTAIRE LA MOSAIQUE"
          ],
          [
           "ECOLE ELEMENTAIRE LAURE-RIESE"
          ],
          [
           "ECOLE ELEMENTAIRE MATHIEU-DA-COSTAI"
          ],
          [
           "ECOLE ELEMENTAIRE MICHELINE-SAINT-CYR"
          ],
          [
           "ECOLE ELEMENTAIRE PAUL-DEMERS"
          ],
          [
           "ECOLE ELEMENTAIRE PIERRE-ELLIOTT-TRUDEAU"
          ],
          [
           "ECOLE ELEMENTAIRE TORONTO OUEST"
          ],
          [
           "ECOLE SECONDAIRE ETIENNE-BRULE"
          ],
          [
           "ECOLE SECONDAIRE TORONTO OUEST"
          ],
          [
           "EDGEWOOD PUBLIC SCHOOL"
          ],
          [
           "EEC DU SACRE-COEUR-TORONTO"
          ],
          [
           "EEC GEORGES-ETIENNE-CARTIER"
          ],
          [
           "EEC NOTRE-DAME-DE-GRACE - TORONTO"
          ],
          [
           "EEC SAINTE-MADELEINE"
          ],
          [
           "EEC SAINTE-MARGUERITE-D'YOUVILLE"
          ],
          [
           "EEC SAINT-JEAN-DE-LALANDE"
          ],
          [
           "EEC SAINT-MICHEL-TORONTO"
          ],
          [
           "EEC SAINT-NOEL-CHABANEL-TORONTO"
          ],
          [
           "EGLINTON JUNIOR PUBLIC SCHOOL"
          ],
          [
           "EIC MONSEIGNEUR-DE-CHARBONNEL"
          ],
          [
           "EIC PERE-PHILIPPE-LAMARCHE"
          ],
          [
           "EIC SAINT-FRERE-ANDRE"
          ],
          [
           "ELIA MIDDLE SCHOOL"
          ],
          [
           "ELIZABETH SIMCOE JUNIOR PUBLIC SCHOOL"
          ],
          [
           "ELKHORN PUBLIC SCHOOL"
          ],
          [
           "ELLESMERE-STATTON PUBLIC SCHOOL"
          ],
          [
           "ELMBANK JUNIOR MIDDLE ACADEMY"
          ],
          [
           "ELMLEA JUNIOR SCHOOL"
          ],
          [
           "EMERY COLLEGIATE INSTITUTE"
          ],
          [
           "EMILY CARR PUBLIC SCHOOL"
          ],
          [
           "EPIPHANY OF OUR LORD CATHOLIC ACADEMY"
          ],
          [
           "EQUINOX HOLISTIC ALTERNATIVE SCHOOL"
          ],
          [
           "ERNEST PUBLIC SCHOOL"
          ],
          [
           "ESC MONSEIGNEUR-DE-CHARBONNEL"
          ],
          [
           "ESC SAINT-FRERE-ANDRE"
          ],
          [
           "ESSEX JUNIOR AND SENIOR PUBLIC SCHOOL"
          ],
          [
           "ETIENNE BRULE JUNIOR SCHOOL"
          ],
          [
           "ETOBICOKE COLLEGIATE INSTITUTE"
          ],
          [
           "ETOBICOKE SCHOOL OF THE ARTS"
          ],
          [
           "ETOBICOKE YEAR ROUND ALTERNATIVE CENTRE"
          ],
          [
           "F H MILLER JUNIOR PUBLIC SCHOOL"
          ],
          [
           "FAIRBANK JUNIOR AND MIDDLE SCHOOL"
          ],
          [
           "FAIRBANK MEMORIAL COMMUNITY SCHOOL"
          ],
          [
           "FAIRGLEN JUNIOR PUBLIC SCHOOL"
          ],
          [
           "FAIRMOUNT PUBLIC SCHOOL"
          ],
          [
           "FATHER HENRY CARR CATHOLIC SECONDARY SCHOOL"
          ],
          [
           "FATHER JOHN REDMOND CATHOLIC SECONDARY SCHOOL"
          ],
          [
           "FATHER SERRA CATHOLIC SCHOOL"
          ],
          [
           "FAYWOOD ARTS-BASED CURRICULUM SCHOOL"
          ],
          [
           "FENSIDE PUBLIC SCHOOL"
          ],
          [
           "FERN AVENUE JUNIOR AND SENIOR PUBLIC SCHOOL"
          ],
          [
           "FINCH PUBLIC SCHOOL"
          ],
          [
           "FIRGROVE PUBLIC SCHOOL"
          ],
          [
           "FIRST NATIONS SCHOOL OF TORONTO"
          ],
          [
           "FISHERVILLE SENIOR PUBLIC SCHOOL"
          ],
          [
           "FLEMING PUBLIC SCHOOL"
          ],
          [
           "FLEMINGTON PUBLIC SCHOOL"
          ],
          [
           "FOREST HILL COLLEGIATE INSTITUTE"
          ],
          [
           "FOREST HILL JUNIOR AND SENIOR PUBLIC SCHOOL"
          ],
          [
           "FOREST MANOR PUBLIC SCHOOL"
          ],
          [
           "FRANCIS LIBERMANN CATHOLIC HIGH SCHOOL"
          ],
          [
           "FRANK OKE SECONDARY SCHOOL"
          ],
          [
           "FRANKLAND COMMUNITY SCHOOL"
          ],
          [
           "GALLOWAY ROAD PUBLIC SCHOOL"
          ],
          [
           "GARDEN AVENUE JUNIOR PUBLIC SCHOOL"
          ],
          [
           "GATEWAY PUBLIC SCHOOL"
          ],
          [
           "GENERAL BROCK PUBLIC SCHOOL"
          ],
          [
           "GENERAL CRERAR PUBLIC SCHOOL"
          ],
          [
           "GENERAL MERCER JUNIOR PUBLIC SCHOOL"
          ],
          [
           "GEORGE ANDERSON PUBLIC SCHOOL"
          ],
          [
           "GEORGE B LITTLE PUBLIC SCHOOL"
          ],
          [
           "GEORGE HARVEY COLLEGIATE INSTITUTE"
          ],
          [
           "GEORGE P MACKIE JUNIOR PUBLIC SCHOOL"
          ],
          [
           "GEORGE PECK PUBLIC SCHOOL"
          ],
          [
           "GEORGE R GAULD JUNIOR SCHOOL"
          ],
          [
           "GEORGE S HENRY ACADEMY"
          ],
          [
           "GEORGE SYME COMMUNITY SCHOOL"
          ],
          [
           "GEORGE WEBSTER ELEMENTARY SCHOOL"
          ],
          [
           "GEORGES VANIER SECONDARY SCHOOL"
          ],
          [
           "GIVINS/SHAW JUNIOR PUBLIC SCHOOL"
          ],
          [
           "GLAMORGAN JUNIOR PUBLIC SCHOOL"
          ],
          [
           "GLEDHILL JUNIOR PUBLIC SCHOOL"
          ],
          [
           "GLEN AMES SENIOR PUBLIC SCHOOL"
          ],
          [
           "GLEN PARK PUBLIC SCHOOL"
          ],
          [
           "GLEN RAVINE JUNIOR PUBLIC SCHOOL"
          ],
          [
           "GLENVIEW SENIOR PUBLIC SCHOOL"
          ],
          [
           "GOLF ROAD JUNIOR PUBLIC SCHOOL"
          ],
          [
           "GORDON A BROWN MIDDLE SCHOOL"
          ],
          [
           "GOSFORD PUBLIC SCHOOL"
          ],
          [
           "GRACEDALE PUBLIC SCHOOL"
          ],
          [
           "GRACEFIELD PUBLIC SCHOOL"
          ],
          [
           "GREENHOLME JUNIOR MIDDLE SCHOOL"
          ],
          [
           "GREENLAND PUBLIC SCHOOL"
          ],
          [
           "GRENOBLE PUBLIC SCHOOL"
          ],
          [
           "GREY OWL JUNIOR PUBLIC SCHOOL"
          ],
          [
           "GUILDWOOD JUNIOR PUBLIC SCHOOL"
          ],
          [
           "GULFSTREAM PUBLIC SCHOOL"
          ],
          [
           "H A HALBERT JUNIOR PUBLIC SCHOOL"
          ],
          [
           "H J ALEXANDER COMMUNITY SCHOOL"
          ],
          [
           "HARBORD COLLEGIATE INSTITUTE"
          ],
          [
           "HARRISON PUBLIC SCHOOL"
          ],
          [
           "HARWOOD PUBLIC SCHOOL"
          ],
          [
           "HAVERGAL JUNIOR SCHOOL"
          ],
          [
           "HAWTHORNE II BILINGUAL ALTERNATIVE JUNIOR SCHOOL"
          ],
          [
           "HEATHER HEIGHTS JUNIOR PUBLIC SCHOOL"
          ],
          [
           "HENRY HUDSON SENIOR PUBLIC SCHOOL"
          ],
          [
           "HENRY KELSEY SENIOR PUBLIC SCHOOL"
          ],
          [
           "HERITAGE PARK PUBLIC SCHOOL"
          ],
          [
           "HEYDON PARK SECONDARY SCHOOL"
          ],
          [
           "HIGH PARK ALTERNATIVE SCHOOL JUNIOR"
          ],
          [
           "HIGHCASTLE PUBLIC SCHOOL"
          ],
          [
           "HIGHFIELD JUNIOR SCHOOL"
          ],
          [
           "HIGHLAND CREEK PUBLIC SCHOOL"
          ],
          [
           "HIGHLAND HEIGHTS JUNIOR PUBLIC SCHOOL"
          ],
          [
           "HIGHLAND JUNIOR HIGH SCHOOL"
          ],
          [
           "HIGHVIEW PUBLIC SCHOOL"
          ],
          [
           "HILLCREST COMMUNITY SCHOOL"
          ],
          [
           "HILLMOUNT PUBLIC SCHOOL"
          ],
          [
           "HILLTOP MIDDLE SCHOOL"
          ],
          [
           "HODGSON SENIOR PUBLIC SCHOOL"
          ],
          [
           "HOLLYCREST MIDDLE SCHOOL"
          ],
          [
           "HOLLYWOOD PUBLIC SCHOOL"
          ],
          [
           "HOLY ANGELS CATHOLIC SCHOOL"
          ],
          [
           "HOLY CHILD CATHOLIC SCHOOL"
          ],
          [
           "HOLY CROSS CATHOLIC SCHOOL"
          ],
          [
           "HOLY FAMILY CATHOLIC SCHOOL"
          ],
          [
           "HOLY NAME CATHOLIC SCHOOL"
          ],
          [
           "HOLY ROSARY CATHOLIC SCHOOL"
          ],
          [
           "HOLY SPIRIT CATHOLIC SCHOOL"
          ],
          [
           "HORIZON ALTERNATIVE SENIOR SCHOOL"
          ],
          [
           "HOWARD JUNIOR PUBLIC SCHOOL"
          ],
          [
           "HUMBER SUMMIT MIDDLE SCHOOL"
          ],
          [
           "HUMBER VALLEY VILLAGE JUNIOR MIDDLE SCHOOL"
          ],
          [
           "HUMBERCREST PUBLIC SCHOOL"
          ],
          [
           "HUMBERSIDE COLLEGIATE INSTITUTE"
          ],
          [
           "HUMBERWOOD DOWNS JUNIOR MIDDLE ACADEMY"
          ],
          [
           "HUMEWOOD COMMUNITY SCHOOL"
          ],
          [
           "HUNTER'S GLEN JUNIOR PUBLIC SCHOOL"
          ],
          [
           "HURON STREET JUNIOR PUBLIC SCHOOL"
          ],
          [
           "IMMACULATE CONCEPTION CATHOLIC SCHOOL"
          ],
          [
           "IMMACULATE HEART OF MARY CATHOLIC SCHOOL"
          ],
          [
           "INDIAN ROAD CRESCENT JUNIOR PUBLIC SCHOOL"
          ],
          [
           "INGLENOOK COMMUNITY SCHOOL"
          ],
          [
           "INGLEWOOD HEIGHTS JUNIOR PUBLIC SCHOOL"
          ],
          [
           "IONVIEW PUBLIC SCHOOL"
          ],
          [
           "IROQUOIS JUNIOR PUBLIC SCHOOL"
          ],
          [
           "ISLAND PUBLIC/NATURAL SCIENCE SCHOOL"
          ],
          [
           "ISLINGTON JUNIOR MIDDLE SCHOOL"
          ],
          [
           "J B TYRRELL SENIOR PUBLIC SCHOOL"
          ],
          [
           "J G WORKMAN PUBLIC SCHOOL"
          ],
          [
           "J R WILCOX COMMUNITY SCHOOL"
          ],
          [
           "JACK MINER SENIOR PUBLIC SCHOOL"
          ],
          [
           "JACKMAN AVENUE JUNIOR PUBLIC SCHOOL"
          ],
          [
           "JAMES CARDINAL MCGUIGAN CATHOLIC HIGH SCHOOL"
          ],
          [
           "JAMES CULNAN CATHOLIC SCHOOL"
          ],
          [
           "JAMES S BELL JUNIOR MIDDLE SCHOOL"
          ],
          [
           "JARVIS COLLEGIATE INSTITUTE"
          ],
          [
           "JEAN VANIER CATHOLIC SECONDARY SCHOOL"
          ],
          [
           "JESSE KETCHUM JUNIOR AND SENIOR PUBLIC SCHOOL"
          ],
          [
           "JOHN A LESLIE PUBLIC SCHOOL"
          ],
          [
           "JOHN BUCHAN SENIOR PUBLIC SCHOOL"
          ],
          [
           "JOHN D PARKER JUNIOR SCHOOL"
          ],
          [
           "JOHN ENGLISH JUNIOR MIDDLE SCHOOL"
          ],
          [
           "JOHN FISHER JUNIOR PUBLIC SCHOOL"
          ],
          [
           "JOHN G ALTHOUSE MIDDLE SCHOOL"
          ],
          [
           "JOHN G DIEFENBAKER PUBLIC SCHOOL"
          ],
          [
           "JOHN MCCRAE PUBLIC SCHOOL"
          ],
          [
           "JOHN POLANYI COLLEGIATE INSTITUTE"
          ],
          [
           "JOHN ROSS ROBERTSON JUNIOR PUBLIC SCHOOL"
          ],
          [
           "JOHN WANLESS JUNIOR PUBLIC SCHOOL"
          ],
          [
           "JOSEPH BRANT SENIOR PUBLIC SCHOOL"
          ],
          [
           "JOSEPH HOWE SENIOR PUBLIC SCHOOL"
          ],
          [
           "JOSYF CARDINAL SLIPYJ CATHOLIC SCHOOL"
          ],
          [
           "JOYCE PUBLIC SCHOOL"
          ],
          [
           "KAREN KAIN SCHOOL OF THE ARTS"
          ],
          [
           "KEELE STREET JUNIOR PUBLIC SCHOOL"
          ],
          [
           "KEELESDALE JUNIOR PUBLIC SCHOOL"
          ],
          [
           "KENNEDY PUBLIC SCHOOL"
          ],
          [
           "KENSINGTON COMMUNITY SCHOOL"
          ],
          [
           "KEW BEACH JUNIOR PUBLIC SCHOOL"
          ],
          [
           "KIMBERLEY JUNIOR PUBLIC SCHOOL"
          ],
          [
           "KING EDWARD JUNIOR AND SENIOR PUBLIC SCHOOL"
          ],
          [
           "KING GEORGE JUNIOR PUBLIC SCHOOL"
          ],
          [
           "KINGSLAKE PUBLIC SCHOOL"
          ],
          [
           "KINGSVIEW VILLAGE JUNIOR SCHOOL"
          ],
          [
           "KIPLING COLLEGIATE INSTITUTE"
          ],
          [
           "KNOB HILL PUBLIC SCHOOL"
          ],
          [
           "LAKESHORE COLLEGIATE INSTITUTE"
          ],
          [
           "LAMBERTON PUBLIC SCHOOL"
          ],
          [
           "LAMBTON KINGSWAY JUNIOR MIDDLE SCHOOL"
          ],
          [
           "LAMBTON PARK COMMUNITY SCHOOL"
          ],
          [
           "L'AMOREAUX COLLEGIATE INSTITUTE"
          ],
          [
           "LANOR JUNIOR MIDDLE SCHOOL"
          ],
          [
           "LAWRENCE HEIGHTS MIDDLE SCHOOL"
          ],
          [
           "LAWRENCE PARK COLLEGIATE INSTITUTE"
          ],
          [
           "LEASIDE HIGH SCHOOL"
          ],
          [
           "LEDBURY PARK ELEMENTARY AND MIDDLE SCHOOL"
          ],
          [
           "LESCON PUBLIC SCHOOL"
          ],
          [
           "LESLIEVILLE JUNIOR PUBLIC SCHOOL"
          ],
          [
           "LESTER B PEARSON COLLEGIATE INSTITUTE"
          ],
          [
           "LESTER B PEARSON ELEMENTARY SCHOOL"
          ],
          [
           "LILLIAN PUBLIC SCHOOL"
          ],
          [
           "LORD DUFFERIN JUNIOR AND SENIOR PUBLIC SCHOOL"
          ],
          [
           "LORD LANSDOWNE JUNIOR PUBLIC SCHOOL"
          ],
          [
           "LORD ROBERTS JUNIOR PUBLIC SCHOOL"
          ],
          [
           "LORETTO ABBEY CATHOLIC SECONDARY SCHOOL"
          ],
          [
           "LORETTO COLLEGE SCHOOL"
          ],
          [
           "LUCY MAUD MONTGOMERY PUBLIC SCHOOL"
          ],
          [
           "LUCY MCCORMICK SENIOR SCHOOL"
          ],
          [
           "LYNNGATE JUNIOR PUBLIC SCHOOL"
          ],
          [
           "LYNNWOOD HEIGHTS JUNIOR PUBLIC SCHOOL"
          ],
          [
           "MACKLIN PUBLIC SCHOOL"
          ],
          [
           "MADONNA CATHOLIC SECONDARY SCHOOL"
          ],
          [
           "MALVERN COLLEGIATE INSTITUTE"
          ],
          [
           "MALVERN JUNIOR PUBLIC SCHOOL"
          ],
          [
           "MANHATTAN PARK JUNIOR PUBLIC SCHOOL"
          ],
          [
           "MAPLE LEAF PUBLIC SCHOOL"
          ],
          [
           "MAPLEWOOD HIGH SCHOOL"
          ],
          [
           "MARC GARNEAU COLLEGIATE INSTITUTE"
          ],
          [
           "MARKET LANE JUNIOR AND SENIOR PUBLIC SCHOOL"
          ],
          [
           "MARSHALL MCLUHAN CATHOLIC SECONDARY SCHOOL"
          ],
          [
           "MARTINGROVE COLLEGIATE INSTITUTE"
          ],
          [
           "MARY SHADD PUBLIC SCHOOL"
          ],
          [
           "MARY WARD CATHOLIC SECONDARY SCHOOL"
          ],
          [
           "MARYVALE PUBLIC SCHOOL"
          ],
          [
           "MASON ROAD JUNIOR PUBLIC SCHOOL"
          ],
          [
           "MAURICE CODY JUNIOR PUBLIC SCHOOL"
          ],
          [
           "MCKEE PUBLIC SCHOOL"
          ],
          [
           "MCMURRICH JUNIOR PUBLIC SCHOOL"
          ],
          [
           "MEADOWVALE PUBLIC SCHOOL"
          ],
          [
           "MELODY VILLAGE JUNIOR SCHOOL"
          ],
          [
           "MICHAEL POWER/ST JOSEPH HIGH SCHOOL"
          ],
          [
           "MILITARY TRAIL PUBLIC SCHOOL"
          ],
          [
           "MILL VALLEY JUNIOR SCHOOL"
          ],
          [
           "MILLIKEN PUBLIC SCHOOL"
          ],
          [
           "MILLWOOD JUNIOR SCHOOL"
          ],
          [
           "MILNE VALLEY MIDDLE SCHOOL"
          ],
          [
           "MONARCH PARK COLLEGIATE INSTITUTE"
          ],
          [
           "MONSIGNOR FRASER COLLEGE (MIDLAND NORTH)"
          ],
          [
           "MONSIGNOR FRASER COLLEGE (MIDTOWN)"
          ],
          [
           "MONSIGNOR FRASER COLLEGE (NORTHEAST)"
          ],
          [
           "MONSIGNOR FRASER COLLEGE (SOUTHWEST)"
          ],
          [
           "MONSIGNOR FRASER COLLEGE (ST. MARTIN)"
          ],
          [
           "MONSIGNOR PERCY JOHNSON CATHOLIC HIGH SCHOOL"
          ],
          [
           "MONTROSE JUNIOR PUBLIC SCHOOL"
          ],
          [
           "MORRISH PUBLIC SCHOOL"
          ],
          [
           "MORSE STREET JUNIOR PUBLIC SCHOOL"
          ],
          [
           "MOTHER CABRINI CATHOLIC SCHOOL"
          ],
          [
           "MOUNTVIEW ALTERNATIVE JUNIOR SCHOOL"
          ],
          [
           "MSGR FRASER COLLEGE (ALTERNATIVE STUDY) SECONDARY SCHOOL"
          ],
          [
           "MSGR FRASER COLLEGE (NORFINCH CAMPUS)"
          ],
          [
           "MSGR FRASER-ISABELLA"
          ],
          [
           "MSGR FRASER-MIDLAND"
          ],
          [
           "MSGR JOHN CORRIGAN CATHOLIC SCHOOL"
          ],
          [
           "MUIRHEAD PUBLIC SCHOOL"
          ],
          [
           "NATIVE LEARNING CENTRE"
          ],
          [
           "NATIVITY OF OUR LORD CATHOLIC SCHOOL"
          ],
          [
           "NEIL MCNEIL HIGH SCHOOL"
          ],
          [
           "NELSON MANDELA PARK PUBLIC SCHOOL"
          ],
          [
           "NEWTONBROOK SECONDARY SCHOOL"
          ],
          [
           "NIAGARA STREET JUNIOR PUBLIC SCHOOL"
          ],
          [
           "NORMAN COOK JUNIOR PUBLIC SCHOOL"
          ],
          [
           "NORMAN INGRAM PUBLIC SCHOOL"
          ],
          [
           "NORSEMAN JUNIOR MIDDLE SCHOOL"
          ],
          [
           "NORTH AGINCOURT JUNIOR PUBLIC SCHOOL"
          ],
          [
           "NORTH ALBION COLLEGIATE INSTITUTE"
          ],
          [
           "NORTH BENDALE JUNIOR PUBLIC SCHOOL"
          ],
          [
           "NORTH BRIDLEWOOD JUNIOR PUBLIC SCHOOL"
          ],
          [
           "NORTH EAST YEAR ROUND ALTERNATIVE CENTRE"
          ],
          [
           "NORTH KIPLING JUNIOR MIDDLE SCHOOL"
          ],
          [
           "NORTH TORONTO COLLEGIATE INSTITUTE"
          ],
          [
           "NORTH WEST YEAR ROUND ALTERNATIVE CENTRE"
          ],
          [
           "NORTHERN SECONDARY SCHOOL"
          ],
          [
           "NORTHLEA ELEMENTARY AND MIDDLE SCHOOL"
          ],
          [
           "NORTHVIEW HEIGHTS SECONDARY SCHOOL"
          ],
          [
           "NORWAY JUNIOR PUBLIC SCHOOL"
          ],
          [
           "NOTRE DAME CATHOLIC HIGH SCHOOL"
          ],
          [
           "OAKDALE PARK MIDDLE SCHOOL"
          ],
          [
           "OAKRIDGE JUNIOR PUBLIC SCHOOL"
          ],
          [
           "OAKWOOD COLLEGIATE INSTITUTE"
          ],
          [
           "OASIS ALTERNATIVE"
          ],
          [
           "O'CONNOR PUBLIC SCHOOL"
          ],
          [
           "OGDEN JUNIOR PUBLIC SCHOOL"
          ],
          [
           "ORDE STREET JUNIOR PUBLIC SCHOOL"
          ],
          [
           "ORIOLE PARK JUNIOR PUBLIC SCHOOL"
          ],
          [
           "OSSINGTON/OLD ORCHARD JUNIOR PUBLIC SCHOOL"
          ],
          [
           "OUR LADY OF FATIMA CATHOLIC SCHOOL"
          ],
          [
           "OUR LADY OF GRACE CATHOLIC SCHOOL"
          ],
          [
           "OUR LADY OF GUADALUPE CATHOLIC SCHOOL"
          ],
          [
           "OUR LADY OF LOURDES CATHOLIC SCHOOL"
          ],
          [
           "OUR LADY OF PEACE CATHOLIC SCHOOL"
          ],
          [
           "OUR LADY OF PERPETUAL HELP CATHOLIC SCHOOL"
          ],
          [
           "OUR LADY OF SORROWS CATHOLIC SCHOOL"
          ],
          [
           "OUR LADY OF THE ASSUMPTION CATHOLIC SCHOOL"
          ],
          [
           "OUR LADY OF VICTORY CATHOLIC SCHOOL"
          ],
          [
           "OUR LADY OF WISDOM CATHOLIC SCHOOL"
          ],
          [
           "OWEN PUBLIC SCHOOL"
          ],
          [
           "PALMERSTON AVENUE JUNIOR PUBLIC SCHOOL"
          ],
          [
           "ST MARK CATHOLIC SCHOOL"
          ],
          [
           "PAPE AVENUE JUNIOR PUBLIC SCHOOL"
          ],
          [
           "PARK LAWN JUNIOR AND MIDDLE SCHOOL"
          ],
          [
           "PARKDALE COLLEGIATE INSTITUTE"
          ],
          [
           "PARKDALE JUNIOR AND SENIOR PUBLIC SCHOOL"
          ],
          [
           "PARKFIELD JUNIOR SCHOOL"
          ],
          [
           "PARKSIDE ELEMENTARY SCHOOL"
          ],
          [
           "PARKVIEW ALTERNATIVE SCHOOL"
          ],
          [
           "PAULINE JOHNSON JUNIOR PUBLIC SCHOOL"
          ],
          [
           "PAULINE JUNIOR PUBLIC SCHOOL"
          ],
          [
           "PELMO PARK PUBLIC SCHOOL"
          ],
          [
           "PERCY WILLIAMS JUNIOR PUBLIC SCHOOL"
          ],
          [
           "PERTH AVENUE JUNIOR PUBLIC SCHOOL"
          ],
          [
           "PIERRE LAPORTE MIDDLE SCHOOL"
          ],
          [
           "PINEWAY PUBLIC SCHOOL"
          ],
          [
           "PLEASANT PUBLIC SCHOOL"
          ],
          [
           "PLEASANT VIEW MIDDLE SCHOOL"
          ],
          [
           "POPE FRANCIS CATHOLIC SCHOOL"
          ],
          [
           "POPLAR ROAD JUNIOR PUBLIC SCHOOL"
          ],
          [
           "PORT ROYAL PUBLIC SCHOOL"
          ],
          [
           "PORTAGE TRAIL COMMUNITY JUNIOR SCHOOL"
          ],
          [
           "PRECIOUS BLOOD CATHOLIC SCHOOL"
          ],
          [
           "PRESTEIGN HEIGHTS ELEMENTARY SCHOOL"
          ],
          [
           "PRINCE OF PEACE CATHOLIC SCHOOL"
          ],
          [
           "PRINCESS MARGARET JUNIOR SCHOOL"
          ],
          [
           "QUEEN ALEXANDRA MIDDLE SCHOOL"
          ],
          [
           "QUEEN VICTORIA JUNIOR PUBLIC SCHOOL"
          ],
          [
           "QUEST ALTERNATIVE SENIOR SCHOOL"
          ],
          [
           "R H KING ACADEMY"
          ],
          [
           "R H MCGREGOR ELEMENTARY SCHOOL"
          ],
          [
           "ST MARTHA CATHOLIC SCHOOL"
          ],
          [
           "R J LANG ELEMENTARY AND MIDDLE SCHOOL"
          ],
          [
           "RANCHDALE PUBLIC SCHOOL"
          ],
          [
           "RAWLINSON COMMUNITY SCHOOL"
          ],
          [
           "REGAL ROAD JUNIOR PUBLIC SCHOOL"
          ],
          [
           "REGENT HEIGHTS PUBLIC SCHOOL"
          ],
          [
           "REGINA MUNDI CATHOLIC SCHOOL"
          ],
          [
           "RENE GORDON HEALTH AND WELLNESS ACADEMY"
          ],
          [
           "RICHVIEW COLLEGIATE INSTITUTE"
          ],
          [
           "RIPPLETON PUBLIC SCHOOL"
          ],
          [
           "RIVERCREST JUNIOR SCHOOL"
          ],
          [
           "RIVERDALE COLLEGIATE INSTITUTE"
          ],
          [
           "ROBERT SERVICE SENIOR PUBLIC SCHOOL"
          ],
          [
           "ROCKCLIFFE MIDDLE SCHOOL"
          ],
          [
           "ROCKFORD PUBLIC SCHOOL"
          ],
          [
           "RODEN PUBLIC SCHOOL"
          ],
          [
           "ROLPH ROAD ELEMENTARY SCHOOL"
          ],
          [
           "ROSE AVENUE JUNIOR PUBLIC SCHOOL"
          ],
          [
           "ROSEDALE HEIGHTS SCHOOL OF THE ARTS"
          ],
          [
           "ROSEDALE JUNIOR PUBLIC SCHOOL"
          ],
          [
           "ROSELANDS JUNIOR PUBLIC SCHOOL"
          ],
          [
           "ROSETHORN JUNIOR SCHOOL"
          ],
          [
           "ROUGE VALLEY PUBLIC SCHOOL"
          ],
          [
           "ROYWOOD PUBLIC SCHOOL"
          ],
          [
           "RUNNYMEDE COLLEGIATE INSTITUTE"
          ],
          [
           "RUNNYMEDE JUNIOR AND SENIOR PUBLIC SCHOOL"
          ],
          [
           "RYERSON COMMUNITY SCHOOL"
          ],
          [
           "SACRED HEART CATHOLIC SCHOOL"
          ],
          [
           "SAMUEL HEARNE PUBLIC SCHOOL"
          ],
          [
           "SANTA MARIA CATHOLIC SCHOOL"
          ],
          [
           "SATEC at W A PORTER COLLEGIATE INSTITUTE"
          ],
          [
           "SCARBOROUGH VILLAGE PUBLIC SCHOOL"
          ],
          [
           "SCHOOL OF EXPERIENTIAL EDUCATION"
          ],
          [
           "SCHOOL OF LIFE EXPERIENCE"
          ],
          [
           "SECOND STREET JUNIOR MIDDLE SCHOOL"
          ],
          [
           "SECORD ELEMENTARY SCHOOL"
          ],
          [
           "SEED ALTERNATIVE SCHOOL"
          ],
          [
           "SELWYN ELEMENTARY SCHOOL"
          ],
          [
           "SENATOR O'CONNOR COLLEGE SCHOOL"
          ],
          [
           "SENECA HILL PUBLIC SCHOOL"
          ],
          [
           "SENECA SCHOOL"
          ],
          [
           "SEVENTH STREET JUNIOR SCHOOL"
          ],
          [
           "SHAUGHNESSY PUBLIC SCHOOL"
          ],
          [
           "SHEPPARD PUBLIC SCHOOL"
          ],
          [
           "SHIRLEY STREET JUNIOR PUBLIC SCHOOL"
          ],
          [
           "SHOREHAM PUBLIC SCHOOL"
          ],
          [
           "SILVER SPRINGS PUBLIC SCHOOL"
          ],
          [
           "SILVERTHORN COLLEGIATE INSTITUTE"
          ],
          [
           "SILVERTHORN COMMUNITY SCHOOL"
          ],
          [
           "SIR ADAM BECK JUNIOR SCHOOL"
          ],
          [
           "SIR ALEXANDER MACKENZIE SENIOR PUBLIC SCHOOL"
          ],
          [
           "SIR ERNEST MACMILLAN SENIOR PUBLIC SCHOOL"
          ],
          [
           "SIR JOHN A MACDONALD COLLEGIATE INSTITUTE"
          ],
          [
           "SIR OLIVER MOWAT COLLEGIATE INSTITUTE"
          ],
          [
           "SIR SAMUEL B STEELE JUNIOR PUBLIC SCHOOL"
          ],
          [
           "SIR WILFRID LAURIER COLLEGIATE INSTITUTE"
          ],
          [
           "SIR WILLIAM OSLER HIGH SCHOOL"
          ],
          [
           "SLOANE PUBLIC SCHOOL"
          ],
          [
           "SMITHFIELD MIDDLE SCHOOL"
          ],
          [
           "SOUTH EAST YEAR ROUND ALTERNATIVE CENTRE"
          ],
          [
           "SPECTRUM ALTERNATIVE SENIOR SCHOOL"
          ],
          [
           "SPRUCECOURT JUNIOR PUBLIC SCHOOL"
          ],
          [
           "ST AGATHA CATHOLIC SCHOOL"
          ],
          [
           "ST AGNES CATHOLIC SCHOOL"
          ],
          [
           "ST AIDAN CATHOLIC SCHOOL"
          ],
          [
           "ST ALBERT CATHOLIC SCHOOL"
          ],
          [
           "ST ALPHONSUS CATHOLIC SCHOOL"
          ],
          [
           "ST AMBROSE CATHOLIC SCHOOL"
          ],
          [
           "ST ANDRE CATHOLIC SCHOOL"
          ],
          [
           "ST ANDREW CATHOLIC SCHOOL"
          ],
          [
           "ST ANDREWS MIDDLE SCHOOL"
          ],
          [
           "ST ANDREWS PUBLIC SCHOOL"
          ],
          [
           "ST ANGELA CATHOLIC SCHOOL"
          ],
          [
           "ST ANSELM CATHOLIC SCHOOL"
          ],
          [
           "ST ANTHONY CATHOLIC SCHOOL"
          ],
          [
           "ST ANTOINE DANIEL CATHOLIC SCHOOL"
          ],
          [
           "ST AUGUSTINE CATHOLIC SCHOOL"
          ],
          [
           "ST BARBARA CATHOLIC SCHOOL"
          ],
          [
           "ST BARNABAS CATHOLIC SCHOOL"
          ],
          [
           "ST BARTHOLOMEW CATHOLIC SCHOOL"
          ],
          [
           "ST BASIL-THE-GREAT COLLEGE SCHOOL"
          ],
          [
           "ST BEDE CATHOLIC SCHOOL"
          ],
          [
           "ST BENEDICT CATHOLIC SCHOOL"
          ],
          [
           "ST BERNARD CATHOLIC SCHOOL"
          ],
          [
           "ST BONAVENTURE CATHOLIC SCHOOL"
          ],
          [
           "ST BONIFACE CATHOLIC SCHOOL"
          ],
          [
           "ST BRENDAN CATHOLIC SCHOOL"
          ],
          [
           "ST BRIGID CATHOLIC SCHOOL"
          ],
          [
           "ST BRUNO / ST RAYMOND CATHOLIC SCHOOL"
          ],
          [
           "ST CATHERINE CATHOLIC SCHOOL"
          ],
          [
           "ST CECILIA CATHOLIC SCHOOL"
          ],
          [
           "ST CHARLES CATHOLIC SCHOOL"
          ],
          [
           "ST CHARLES GARNIER CATHOLIC SCHOOL"
          ],
          [
           "ST CLARE CATHOLIC SCHOOL"
          ],
          [
           "ST CLEMENT CATHOLIC SCHOOL"
          ],
          [
           "ST CLEMENT CATHOLIC SCHOOL"
          ],
          [
           "ST COLUMBA CATHOLIC SCHOOL"
          ],
          [
           "ST CONRAD CATHOLIC SCHOOL"
          ],
          [
           "ST CYRIL CATHOLIC SCHOOL"
          ],
          [
           "ST DEMETRIUS CATHOLIC SCHOOL"
          ],
          [
           "ST DENIS CATHOLIC SCHOOL"
          ],
          [
           "ST DOMINIC SAVIO CATHOLIC SCHOOL"
          ],
          [
           "ST DOROTHY CATHOLIC SCHOOL"
          ],
          [
           "ST DUNSTAN CATHOLIC SCHOOL"
          ],
          [
           "ST EDMUND CAMPION CATHOLIC SCHOOL"
          ],
          [
           "ST EDWARD CATHOLIC SCHOOL"
          ],
          [
           "ST ELIZABETH CATHOLIC SCHOOL"
          ],
          [
           "ST ELIZABETH SETON CATHOLIC SCHOOL"
          ],
          [
           "ST EUGENE CATHOLIC SCHOOL"
          ],
          [
           "ST FIDELIS CATHOLIC SCHOOL"
          ],
          [
           "ST FLORENCE CATHOLIC SCHOOL"
          ],
          [
           "ST FRANCIS DE SALES CATHOLIC SCHOOL"
          ],
          [
           "ST FRANCIS OF ASSISI CATHOLIC SCHOOL"
          ],
          [
           "ST FRANCIS XAVIER CATHOLIC SCHOOL"
          ],
          [
           "ST GABRIEL CATHOLIC SCHOOL"
          ],
          [
           "ST GABRIEL LALEMANT CATHOLIC SCHOOL"
          ],
          [
           "ST GEORGE'S JUNIOR SCHOOL"
          ],
          [
           "ST GERALD CATHOLIC SCHOOL"
          ],
          [
           "ST GREGORY CATHOLIC SCHOOL"
          ],
          [
           "ST HELEN CATHOLIC SCHOOL"
          ],
          [
           "ST HENRY CATHOLIC SCHOOL"
          ],
          [
           "ST IGNATIUS OF LOYOLA CATHOLIC SCHOOL"
          ],
          [
           "ST ISAAC JOGUES CATHOLIC SCHOOL"
          ],
          [
           "ST JAMES CATHOLIC SCHOOL"
          ],
          [
           "ST JANE FRANCES CATHOLIC SCHOOL"
          ],
          [
           "ST JEAN DE BREBEUF CATHOLIC SCHOOL"
          ],
          [
           "ST JEROME CATHOLIC SCHOOL"
          ],
          [
           "ST JOACHIM CATHOLIC SCHOOL"
          ],
          [
           "ST JOHN BOSCO CATHOLIC SCHOOL"
          ],
          [
           "ST JOHN CATHOLIC SCHOOL"
          ],
          [
           "ST JOHN PAUL II CATHOLIC SECONDARY SCHOOL"
          ],
          [
           "ST JOHN THE EVANGELIST CATHOLIC SCHOOL"
          ],
          [
           "ST JOHN VIANNEY CATHOLIC SCHOOL"
          ],
          [
           "ST JOHN XXIII CATHOLIC SCHOOL"
          ],
          [
           "ST JOSAPHAT CATHOLIC SCHOOL"
          ],
          [
           "ST JOSEPH CATHOLIC SCHOOL"
          ],
          [
           "ST JOSEPH'S COLLEGE SCHOOL"
          ],
          [
           "ST JOSEPHS MORROW PARK HIGH SCHOOL"
          ],
          [
           "ST JUDE CATHOLIC SCHOOL"
          ],
          [
           "ST KATERI TEKAKWITHA CATHOLIC SCHOOL"
          ],
          [
           "ST KEVIN CATHOLIC SCHOOL"
          ],
          [
           "ST LAWRENCE CATHOLIC SCHOOL"
          ],
          [
           "ST LEO CATHOLIC SCHOOL"
          ],
          [
           "ST LOUIS CATHOLIC SCHOOL"
          ],
          [
           "ST LUIGI CATHOLIC SCHOOL"
          ],
          [
           "ST MALACHY CATHOLIC SCHOOL"
          ],
          [
           "ST MARCELLUS CATHOLIC SCHOOL"
          ],
          [
           "ST MARGARET CATHOLIC SCHOOL"
          ],
          [
           "ST MARGARET'S PUBLIC SCHOOL"
          ],
          [
           "ST MARGUERITE BOURGEOYS CATHOLIC SCHOOL"
          ],
          [
           "ST MARIA GORETTI CATHOLIC SCHOOL"
          ],
          [
           "ST MARTIN DE PORRES CATHOLIC SCHOOL"
          ],
          [
           "ST MARY CATHOLIC SCHOOL"
          ],
          [
           "ST MARY OF THE ANGELS CATHOLIC SCHOOL"
          ],
          [
           "ST MARY'S CATHOLIC SECONDARY SCHOOL"
          ],
          [
           "ST MATTHEW CATHOLIC SCHOOL"
          ],
          [
           "ST MATTHIAS CATHOLIC SCHOOL"
          ],
          [
           "ST MAURICE CATHOLIC SCHOOL"
          ],
          [
           "ST MICHAEL CATHOLIC SCHOOL"
          ],
          [
           "ST MICHAEL'S CHOIR (JR) SCHOOL"
          ],
          [
           "ST MICHAEL'S CHOIR (SR) SCHOOL"
          ],
          [
           "ST MONICA CATHOLIC SCHOOL"
          ],
          [
           "ST MOTHER TERESA CATHOLIC ACADEMY"
          ],
          [
           "ST NICHOLAS CATHOLIC SCHOOL"
          ],
          [
           "ST NICHOLAS OF BARI CATHOLIC SCHOOL"
          ],
          [
           "ST NORBERT CATHOLIC SCHOOL"
          ],
          [
           "ST PASCHAL BAYLON CATHOLIC SCHOOL"
          ],
          [
           "ST PATRICK CATHOLIC SECONDARY SCHOOL"
          ],
          [
           "ST PAUL CATHOLIC SCHOOL"
          ],
          [
           "ST PIUS X CATHOLIC SCHOOL"
          ],
          [
           "ST RAPHAEL CATHOLIC SCHOOL"
          ],
          [
           "ST RENE GOUPIL CATHOLIC SCHOOL"
          ],
          [
           "ST RICHARD CATHOLIC SCHOOL"
          ],
          [
           "ST RITA CATHOLIC SCHOOL"
          ],
          [
           "ST ROBERT CATHOLIC SCHOOL"
          ],
          [
           "ST ROCH CATHOLIC SCHOOL"
          ],
          [
           "ST ROSE OF LIMA CATHOLIC SCHOOL"
          ],
          [
           "ST SEBASTIAN CATHOLIC SCHOOL"
          ],
          [
           "ST SIMON CATHOLIC SCHOOL"
          ],
          [
           "ST STEPHEN CATHOLIC SCHOOL"
          ],
          [
           "ST SYLVESTER CATHOLIC SCHOOL"
          ],
          [
           "ST TERESA CATHOLIC SCHOOL"
          ],
          [
           "ST THERESA SHRINE CATHOLIC SCHOOL"
          ],
          [
           "ST THOMAS AQUINAS CATHOLIC SCHOOL"
          ],
          [
           "ST THOMAS MORE CATHOLIC SCHOOL"
          ],
          [
           "ST TIMOTHY CATHOLIC SCHOOL"
          ],
          [
           "ST URSULA CATHOLIC SCHOOL"
          ],
          [
           "ST VICTOR CATHOLIC SCHOOL"
          ],
          [
           "ST VINCENT DE PAUL CATHOLIC SCHOOL"
          ],
          [
           "ST WILFRID CATHOLIC SCHOOL"
          ],
          [
           "STANLEY PUBLIC SCHOOL"
          ],
          [
           "STEELESVIEW PUBLIC SCHOOL"
          ],
          [
           "STELLA MARIS CATHOLIC SCHOOL"
          ],
          [
           "STEPHEN LEACOCK COLLEGIATE INSTITUTE"
          ],
          [
           "STILECROFT PUBLIC SCHOOL"
          ],
          [
           "STS COSMAS AND DAMIAN CATHOLIC SCHOOL"
          ],
          [
           "SUBWAY ACADEMY I"
          ],
          [
           "SUBWAY ACADEMY II"
          ],
          [
           "SUMMIT HEIGHTS PUBLIC SCHOOL"
          ],
          [
           "SUNNY VIEW JUNIOR AND SENIOR PUBLIC SCHOOL"
          ],
          [
           "SUNNYLEA JUNIOR SCHOOL"
          ],
          [
           "SWANSEA JUNIOR AND SENIOR PUBLIC SCHOOL"
          ],
          [
           "TAM O'SHANTER JUNIOR PUBLIC SCHOOL"
          ],
          [
           "TAYLOR CREEK PUBLIC SCHOOL"
          ],
          [
           "TECUMSEH SENIOR PUBLIC SCHOOL"
          ],
          [
           "TERRAVIEW-WILLOWFIELD PUBLIC SCHOOL"
          ],
          [
           "TERRY FOX PUBLIC SCHOOL"
          ],
          [
           "THE DIVINE INFANT CATHOLIC SCHOOL"
          ],
          [
           "THE ELMS JUNIOR MIDDLE SCHOOL"
          ],
          [
           "THE GROVE COMMUNITY SCHOOL"
          ],
          [
           "THE HOLY TRINITY CATHOLIC SCHOOL"
          ],
          [
           "THE STUDENT SCHOOL"
          ],
          [
           "THE WATERFRONT SCHOOL"
          ],
          [
           "THISTLETOWN COLLEGIATE INSTITUTE"
          ],
          [
           "THOMAS L WELLS PUBLIC SCHOOL"
          ],
          [
           "THORNCLIFFE PARK PUBLIC SCHOOL"
          ],
          [
           "THREE VALLEYS PUBLIC SCHOOL"
          ],
          [
           "TIMBERBANK JUNIOR PUBLIC SCHOOL"
          ],
          [
           "TOM LONGBOAT JUNIOR PUBLIC SCHOOL"
          ],
          [
           "TOPCLIFF PUBLIC SCHOOL"
          ],
          [
           "TRANSFIGURATION OF OUR LORD CATHOLIC SCHOOL"
          ],
          [
           "TREDWAY WOODSWORTH PUBLIC SCHOOL"
          ],
          [
           "TUMPANE PUBLIC SCHOOL"
          ],
          [
           "TWENTIETH STREET JUNIOR SCHOOL"
          ],
          [
           "URSULA FRANKLIN ACADEMY"
          ],
          [
           "VALLEY PARK MIDDLE SCHOOL"
          ],
          [
           "VALLEYFIELD JUNIOR SCHOOL"
          ],
          [
           "VENERABLE JOHN MERLINI CATHOLIC SCHOOL"
          ],
          [
           "VICTORIA PARK COLLEGIATE INSTITUTE"
          ],
          [
           "VICTORIA PARK ELEMENTARY SCHOOL"
          ],
          [
           "VICTORIA VILLAGE PUBLIC SCHOOL"
          ],
          [
           "VRADENBURG JUNIOR PUBLIC SCHOOL"
          ],
          [
           "WALTER PERRY JUNIOR PUBLIC SCHOOL"
          ],
          [
           "WARREN PARK JUNIOR PUBLIC SCHOOL"
          ],
          [
           "WEDGEWOOD JUNIOR SCHOOL"
          ],
          [
           "WELLESWORTH JUNIOR SCHOOL"
          ],
          [
           "WEST END ALTERNATIVE SCHOOL"
          ],
          [
           "WEST GLEN JUNIOR SCHOOL"
          ],
          [
           "WEST HILL COLLEGIATE INSTITUTE"
          ],
          [
           "WEST HILL PUBLIC SCHOOL"
          ],
          [
           "WEST HUMBER COLLEGIATE INSTITUTE"
          ],
          [
           "WEST HUMBER JUNIOR MIDDLE SCHOOL"
          ],
          [
           "WEST PREPARATORY JUNIOR PUBLIC SCHOOL"
          ],
          [
           "WEST ROUGE JUNIOR PUBLIC SCHOOL"
          ],
          [
           "WESTERN TECHNICAL & COMMERCIAL SCHOOL"
          ],
          [
           "WESTMOUNT JUNIOR SCHOOL"
          ],
          [
           "WESTON COLLEGIATE INSTITUTE"
          ],
          [
           "WESTON MEMORIAL JUNIOR PUBLIC SCHOOL"
          ],
          [
           "WESTVIEW CENTENNIAL SECONDARY SCHOOL"
          ],
          [
           "WESTWAY JUNIOR SCHOOL"
          ],
          [
           "WESTWOOD MIDDLE SCHOOL"
          ],
          [
           "WEXFORD COLLEGIATE SCHOOL FOR THE ARTS"
          ],
          [
           "WEXFORD PUBLIC SCHOOL"
          ],
          [
           "WHITE HAVEN JUNIOR PUBLIC SCHOOL"
          ],
          [
           "WHITNEY JUNIOR PUBLIC SCHOOL"
          ],
          [
           "WILKINSON JUNIOR PUBLIC SCHOOL"
          ],
          [
           "WILLIAM BURGESS ELEMENTARY SCHOOL"
          ],
          [
           "WILLIAM G DAVIS JUNIOR PUBLIC SCHOOL"
          ],
          [
           "WILLIAM G MILLER JUNIOR PUBLIC SCHOOL"
          ],
          [
           "WILLIAM J MCCORDIC SCHOOL"
          ],
          [
           "WILLIAM LYON MACKENZIE COLLEGIATE INSTITUTE"
          ],
          [
           "WILLIAMSON ROAD JUNIOR PUBLIC SCHOOL"
          ],
          [
           "WILLOW PARK JUNIOR PUBLIC SCHOOL"
          ],
          [
           "WILLOWDALE MIDDLE SCHOOL"
          ],
          [
           "WILMINGTON ELEMENTARY SCHOOL"
          ],
          [
           "WINCHESTER JUNIOR AND SENIOR PUBLIC SCHOOL"
          ],
          [
           "WINDFIELDS MIDDLE SCHOOL"
          ],
          [
           "WINONA DRIVE SENIOR PUBLIC SCHOOL"
          ],
          [
           "WINSTON CHURCHILL COLLEGIATE INSTITUTE"
          ],
          [
           "WITHROW AVENUE JUNIOR PUBLIC SCHOOL"
          ],
          [
           "WOBURN COLLEGIATE INSTITUTE"
          ],
          [
           "WOBURN JUNIOR PUBLIC SCHOOL"
          ],
          [
           "WOODBINE JUNIOR HIGH SCHOOL"
          ],
          [
           "YORK HUMBER HIGH SCHOOL"
          ],
          [
           "YORK MEMORIAL COLLEGIATE INSTITUTE"
          ],
          [
           "YORK MILLS COLLEGIATE INSTITUTE"
          ],
          [
           "YORKVIEW PUBLIC SCHOOL"
          ],
          [
           "YORKWOODS PUBLIC SCHOOL"
          ],
          [
           "ZION HEIGHTS JUNIOR HIGH SCHOOL"
          ]
         ],
         "hovertemplate": "year=2017-2018<br>vax=DTP<br>Enrolled population=%{x}<br>Coverage Rate (%)=%{y}<br>School Name=%{customdata[0]}<br>Religious Exemption Rate (%)=%{marker.color}<extra></extra>",
         "legendgroup": "",
         "marker": {
          "color": [
           1,
           1.8,
           3.6,
           19.7,
           1,
           0,
           0,
           0.3,
           0.8,
           1.8,
           0.9,
           0.6,
           3.6,
           2.2,
           27.8,
           21.1,
           1.4,
           1.3,
           1.1,
           0,
           2.4,
           2.3,
           0.8,
           0,
           1.4,
           3.5,
           6.3,
           1.5,
           2,
           0,
           3.4,
           2.3,
           0,
           4.9,
           0.4,
           17.6,
           0.3,
           2.3,
           1,
           11.1,
           2.5,
           0,
           1,
           0,
           1.8,
           1.6,
           3.6,
           1.3,
           0.6,
           1.8,
           0.9,
           2.5,
           0.7,
           1.5,
           2.2,
           3.2,
           1.4,
           0.3,
           1.1,
           0.5,
           1.1,
           0,
           2.9,
           2.2,
           1.8,
           2.1,
           2.4,
           2.4,
           2.7,
           3.3,
           0,
           0,
           2.6,
           3.7,
           2.5,
           0.5,
           3.5,
           5.2,
           3.4,
           1.3,
           0,
           0.2,
           0.5,
           2.1,
           1.9,
           2.5,
           0.9,
           0,
           0,
           1.4,
           1,
           0,
           3.4,
           2.2,
           0,
           2.6,
           0.5,
           2.2,
           0.7,
           0.6,
           1.2,
           1.4,
           2.3,
           2.9,
           7.7,
           2.7,
           3.4,
           1.8,
           1,
           0.8,
           2.8,
           2.1,
           1.7,
           5.7,
           0,
           4.5,
           2.3,
           7.1,
           1,
           8.5,
           5.4,
           1.4,
           0.7,
           2.4,
           8.7,
           20.4,
           0.8,
           1.9,
           3,
           0,
           1.4,
           3.4,
           3.5,
           4.8,
           1.4,
           3.1,
           0,
           0.7,
           1.9,
           2.5,
           6.4,
           0.6,
           3.3,
           0,
           0.2,
           2.1,
           44.1,
           2.5,
           0,
           2.1,
           1,
           0.8,
           0,
           1.2,
           4.7,
           0,
           2.2,
           0,
           3.1,
           3.2,
           10,
           3.6,
           4.3,
           1.8,
           6.2,
           4.5,
           0.3,
           1.9,
           2,
           0.8,
           1.7,
           1.9,
           0.7,
           2.8,
           2.1,
           1.7,
           7.7,
           6.4,
           1.1,
           0.3,
           1.4,
           0,
           3,
           3,
           2.7,
           2.5,
           4.2,
           2.4,
           3.1,
           1.2,
           3.2,
           0,
           2.5,
           0.9,
           0,
           0,
           0,
           1.4,
           5.8,
           3.7,
           1,
           6.1,
           2.4,
           0,
           0,
           0,
           3,
           3,
           2.9,
           3,
           0,
           0,
           0.9,
           2.7,
           0.7,
           3.2,
           1.4,
           2.6,
           0,
           1,
           1.6,
           0,
           4.5,
           0.3,
           5.7,
           3.3,
           0.7,
           2.1,
           2.8,
           1.1,
           1.4,
           0,
           22.3,
           1.8,
           2.5,
           2.7,
           4,
           2.6,
           2,
           4.8,
           2.8,
           1.6,
           2.8,
           0,
           0,
           1.1,
           0.8,
           3.3,
           3,
           4.4,
           1.1,
           2.9,
           3.8,
           0,
           9.2,
           0.6,
           0,
           0,
           1.7,
           1.7,
           0.3,
           0.8,
           2.5,
           4.3,
           1.5,
           1.5,
           1.2,
           1.2,
           2.4,
           3.7,
           0,
           0,
           0.6,
           5.9,
           1.2,
           0,
           1.1,
           2.5,
           0.8,
           0.4,
           3.9,
           0,
           3.8,
           1.7,
           3.1,
           0.7,
           1,
           0,
           3.8,
           0,
           1.1,
           0,
           0,
           3.8,
           0.6,
           2.6,
           8.6,
           1.3,
           0.9,
           1.3,
           3.1,
           1.3,
           0.9,
           0.3,
           4.3,
           0,
           0.7,
           0.3,
           0.5,
           1.7,
           15.8,
           0.5,
           0.3,
           0.8,
           1.1,
           1,
           0,
           3.2,
           0,
           2.9,
           2.1,
           2.7,
           1.1,
           2.3,
           0,
           1,
           1.4,
           1.5,
           1.3,
           0,
           7.5,
           4.9,
           0.9,
           6,
           2.8,
           2.7,
           0.4,
           4.2,
           0.8,
           4.9,
           0,
           0,
           5.2,
           6.9,
           0.9,
           0,
           0,
           3.6,
           1.4,
           1,
           0,
           2.6,
           1,
           4.8,
           0.4,
           0.4,
           4.6,
           0.9,
           0.5,
           3.3,
           0,
           0,
           0.5,
           4,
           4.1,
           2.7,
           3.4,
           1.4,
           1.5,
           2.6,
           0.9,
           1,
           1.5,
           8.4,
           0,
           8.1,
           4.7,
           0,
           0,
           3.7,
           2.9,
           0,
           2.7,
           3.2,
           2.9,
           1,
           0.2,
           0,
           2.8,
           0,
           3.7,
           0,
           1.6,
           4,
           2,
           2.4,
           1.8,
           1.2,
           2.4,
           1.1,
           0.9,
           2.5,
           0,
           0.4,
           3.9,
           0.5,
           1.7,
           0.5,
           0,
           5.3,
           3.5,
           2.4,
           0.4,
           0.1,
           3.2,
           1,
           4.3,
           5,
           4.5,
           0.6,
           1.8,
           0.6,
           0.9,
           0.4,
           1.2,
           2.6,
           0.6,
           1.5,
           0.3,
           4.2,
           2,
           0,
           2,
           0.7,
           10,
           1.3,
           1.1,
           1.6,
           2.3,
           0,
           0,
           0,
           0,
           0,
           0.9,
           1.2,
           0.5,
           2.4,
           1.8,
           5.9,
           1.2,
           0,
           0,
           0,
           0.7,
           1.8,
           5,
           2.9,
           1.9,
           1.5,
           1.8,
           2.1,
           1.5,
           3.5,
           1.4,
           0.9,
           0.1,
           3.1,
           1.9,
           2.3,
           0.7,
           1.4,
           0,
           3.5,
           1.9,
           1.1,
           4.2,
           0.5,
           0.7,
           0.6,
           3.3,
           8.2,
           0,
           1.1,
           0.9,
           2.6,
           4.1,
           1.7,
           0.6,
           1,
           0,
           3.5,
           0.5,
           2.3,
           1.3,
           0.2,
           3.4,
           1.6,
           4.7,
           6.7,
           2.2,
           2.7,
           2.2,
           3.1,
           2.7,
           0,
           2.8,
           0,
           3.7,
           2.5,
           0,
           4.5,
           0.5,
           0,
           2.4,
           1.2,
           0.6,
           1.4,
           1,
           2.5,
           1,
           4,
           1,
           1.8,
           2.9,
           2.5,
           7.6,
           0.7,
           1.6,
           2.2,
           1.1,
           0,
           2.3,
           2.2,
           0.6,
           1.3,
           1.5,
           2.9,
           1.6,
           3.8,
           3.2,
           0,
           2.3,
           1.5,
           2.6,
           1.1,
           0,
           8.4,
           0,
           1.8,
           5.5,
           0,
           1.2,
           1.7,
           1.2,
           1.4,
           1.2,
           0.5,
           0,
           0.3,
           0,
           1.4,
           0.8,
           2.3,
           2.1,
           4,
           3.1,
           1.4,
           0,
           3.8,
           4.7,
           0,
           1.5,
           8.4,
           0,
           0,
           3,
           3,
           4.5,
           1.3,
           1.3,
           1.4,
           2.2,
           1,
           1,
           0.7,
           0,
           0.2,
           0,
           8.3,
           1.2,
           0.8,
           2.4,
           0.5,
           1.1,
           1.4,
           4.6,
           0,
           0.2,
           2.3,
           0,
           0.6,
           3,
           2.4,
           0.4,
           0.3,
           1.4,
           1.1,
           5.8,
           0.7,
           0,
           0.8,
           1.2,
           1.1,
           0,
           0.6,
           2,
           6,
           4.2,
           2,
           1.1,
           0.7,
           1.6,
           2.1,
           1.5,
           3,
           0.6,
           1.1,
           6.6,
           3.9,
           1.3,
           1,
           0.7,
           0,
           1.1,
           2,
           1.9,
           2.8,
           2.9,
           0.9,
           0,
           3.4,
           0.6,
           1.6,
           2.1,
           2.5,
           1.1,
           3.1,
           0.8,
           0.6,
           3.9,
           0,
           0.9,
           0.5,
           0.7,
           0.3,
           0,
           0,
           0.7,
           0.6,
           0,
           3,
           0.4,
           7.8,
           0.8,
           0.9,
           0.6,
           0,
           2.7,
           0.7,
           0.7,
           1.8,
           1.7,
           0,
           1.1,
           1.7,
           0.5,
           1.8,
           0,
           0.2,
           0,
           1.6,
           0,
           1.3,
           0.3,
           2.4,
           0,
           1,
           3,
           2.2,
           1,
           2.2,
           1.3,
           0.5,
           1.9,
           0.2,
           0.9,
           0,
           1.3,
           1,
           0,
           0.8,
           0,
           0.5,
           0,
           0,
           3.7,
           0.6,
           0.4,
           1.8,
           0.6,
           0,
           0,
           0,
           1.3,
           0.6,
           0.5,
           3.4,
           0.5,
           1.1,
           0.6,
           0.4,
           0.7,
           1,
           0.9,
           9.1,
           2,
           2.5,
           3.5,
           3.8,
           3.3,
           0.6,
           0,
           0.4,
           3.9,
           0,
           1.3,
           1.5,
           24.1,
           2.4,
           1.5,
           4.1,
           1.3,
           0,
           0.2,
           2.2,
           0,
           1.4,
           0,
           2.2,
           1,
           1.7,
           7,
           4.2,
           0.4,
           1.8,
           1.1,
           0.8,
           0,
           2.9,
           0,
           1.9,
           6.9,
           1.1,
           2.7,
           5.5,
           5.2,
           1.5,
           2.9,
           0.9,
           0.3,
           3.7,
           5,
           3.7,
           2,
           1.3,
           1.6,
           0.5,
           2.2,
           2.9,
           2.2,
           1.3,
           1,
           2.4,
           1.8,
           3.5,
           0,
           3.4,
           3.8,
           2.6,
           2.1,
           0,
           2,
           0,
           2.7,
           2.6,
           5.1,
           1.6,
           2.7,
           0.2,
           0,
           1.1,
           3.2,
           2.4,
           1.4,
           2.3,
           1.1,
           0.8
          ],
          "coloraxis": "coloraxis",
          "symbol": "circle"
         },
         "mode": "markers",
         "name": "",
         "showlegend": false,
         "type": "scattergl",
         "x": [
          1070,
          110,
          247,
          66,
          1253,
          109,
          180,
          1154,
          262,
          280,
          229,
          179,
          559,
          409,
          36,
          19,
          70,
          317,
          268,
          48,
          335,
          216,
          131,
          103,
          138,
          144,
          80,
          195,
          49,
          108,
          207,
          43,
          186,
          61,
          453,
          34,
          378,
          474,
          193,
          45,
          324,
          188,
          105,
          129,
          381,
          433,
          55,
          235,
          163,
          224,
          886,
          1583,
          714,
          67,
          134,
          157,
          73,
          698,
          996,
          209,
          189,
          196,
          343,
          137,
          283,
          846,
          370,
          286,
          223,
          607,
          47,
          69,
          155,
          162,
          120,
          186,
          202,
          248,
          177,
          152,
          120,
          456,
          423,
          283,
          107,
          204,
          112,
          147,
          185,
          422,
          776,
          201,
          147,
          135,
          196,
          808,
          193,
          180,
          137,
          343,
          1101,
          367,
          256,
          138,
          104,
          959,
          587,
          109,
          922,
          263,
          107,
          330,
          356,
          210,
          91,
          88,
          218,
          70,
          201,
          59,
          92,
          145,
          278,
          165,
          104,
          54,
          119,
          359,
          300,
          134,
          142,
          234,
          115,
          165,
          70,
          64,
          375,
          273,
          642,
          79,
          188,
          180,
          151,
          124,
          425,
          426,
          34,
          201,
          77,
          982,
          313,
          841,
          178,
          1003,
          106,
          302,
          228,
          186,
          355,
          93,
          60,
          225,
          47,
          167,
          243,
          199,
          576,
          971,
          410,
          367,
          356,
          375,
          151,
          248,
          95,
          583,
          52,
          47,
          274,
          969,
          69,
          190,
          563,
          633,
          150,
          161,
          212,
          453,
          295,
          1873,
          62,
          114,
          1040,
          116,
          201,
          100,
          147,
          148,
          104,
          135,
          201,
          212,
          124,
          82,
          42,
          46,
          168,
          164,
          280,
          169,
          102,
          70,
          223,
          110,
          148,
          222,
          74,
          78,
          83,
          207,
          127,
          112,
          110,
          297,
          175,
          180,
          422,
          237,
          176,
          554,
          210,
          115,
          112,
          55,
          199,
          185,
          176,
          76,
          1004,
          939,
          36,
          61,
          217,
          53,
          215,
          281,
          917,
          1229,
          332,
          274,
          94,
          485,
          105,
          151,
          130,
          160,
          174,
          101,
          954,
          650,
          302,
          906,
          79,
          187,
          134,
          130,
          411,
          243,
          248,
          108,
          66,
          260,
          488,
          68,
          162,
          52,
          373,
          162,
          500,
          850,
          155,
          257,
          186,
          416,
          254,
          151,
          770,
          151,
          372,
          111,
          278,
          102,
          213,
          53,
          509,
          115,
          58,
          371,
          114,
          236,
          1016,
          75,
          117,
          288,
          94,
          89,
          287,
          298,
          190,
          116,
          76,
          198,
          290,
          127,
          94,
          486,
          70,
          185,
          89,
          561,
          533,
          475,
          180,
          302,
          206,
          202,
          138,
          203,
          152,
          264,
          67,
          267,
          458,
          252,
          430,
          1212,
          469,
          331,
          256,
          163,
          298,
          105,
          174,
          72,
          109,
          219,
          217,
          112,
          278,
          416,
          126,
          152,
          197,
          315,
          851,
          275,
          283,
          660,
          860,
          304,
          335,
          185,
          193,
          626,
          220,
          482,
          145,
          352,
          871,
          308,
          346,
          397,
          393,
          357,
          121,
          172,
          295,
          62,
          352,
          82,
          238,
          141,
          474,
          93,
          103,
          198,
          449,
          314,
          640,
          137,
          401,
          56,
          495,
          199,
          148,
          1192,
          969,
          339,
          84,
          182,
          1334,
          324,
          99,
          275,
          128,
          205,
          938,
          444,
          124,
          57,
          86,
          82,
          279,
          676,
          1114,
          197,
          47,
          140,
          112,
          1701,
          170,
          1087,
          1111,
          262,
          1041,
          156,
          175,
          268,
          308,
          288,
          152,
          88,
          1887,
          282,
          60,
          159,
          185,
          580,
          829,
          99,
          73,
          34,
          44,
          15,
          964,
          84,
          202,
          251,
          111,
          51,
          170,
          114,
          56,
          72,
          144,
          109,
          20,
          277,
          840,
          195,
          857,
          97,
          65,
          85,
          496,
          225,
          790,
          64,
          107,
          44,
          417,
          1312,
          29,
          1697,
          469,
          1598,
          142,
          665,
          419,
          172,
          399,
          97,
          55,
          87,
          211,
          114,
          148,
          477,
          176,
          99,
          334,
          399,
          197,
          515,
          240,
          419,
          205,
          250,
          212,
          120,
          178,
          328,
          504,
          286,
          110,
          69,
          72,
          119,
          134,
          121,
          158,
          134,
          404,
          51,
          249,
          334,
          161,
          138,
          205,
          443,
          298,
          101,
          201,
          169,
          345,
          519,
          66,
          1264,
          307,
          135,
          278,
          89,
          427,
          277,
          318,
          237,
          132,
          1047,
          122,
          80,
          1206,
          169,
          303,
          336,
          233,
          190,
          303,
          1062,
          119,
          166,
          183,
          146,
          84,
          545,
          601,
          278,
          170,
          376,
          137,
          1199,
          121,
          72,
          120,
          298,
          239,
          75,
          128,
          1364,
          150,
          53,
          86,
          126,
          67,
          83,
          104,
          221,
          879,
          201,
          178,
          398,
          374,
          1130,
          1074,
          192,
          1348,
          141,
          96,
          637,
          64,
          60,
          168,
          244,
          207,
          184,
          281,
          140,
          219,
          365,
          459,
          392,
          191,
          322,
          233,
          207,
          242,
          342,
          207,
          187,
          52,
          1304,
          93,
          385,
          404,
          377,
          209,
          354,
          355,
          149,
          71,
          394,
          176,
          270,
          254,
          283,
          328,
          134,
          349,
          178,
          166,
          179,
          159,
          200,
          142,
          156,
          285,
          147,
          103,
          218,
          376,
          108,
          280,
          117,
          326,
          186,
          97,
          81,
          180,
          458,
          258,
          154,
          76,
          201,
          113,
          436,
          140,
          317,
          173,
          199,
          284,
          1311,
          259,
          234,
          264,
          90,
          125,
          771,
          468,
          475,
          186,
          150,
          288,
          168,
          118,
          79,
          184,
          242,
          416,
          171,
          58,
          637,
          257,
          187,
          150,
          690,
          338,
          169,
          170,
          105,
          167,
          89,
          195,
          414,
          232,
          393,
          210,
          450,
          782,
          104,
          315,
          301,
          118,
          260,
          51,
          381,
          229,
          274,
          136,
          319,
          270,
          110,
          170,
          123,
          331,
          208,
          392,
          158,
          203,
          208,
          411,
          175,
          173,
          224,
          582,
          100,
          231,
          44,
          51,
          239,
          57,
          133,
          553,
          161,
          235,
          263,
          178,
          243,
          77,
          262,
          58,
          210,
          66,
          121,
          467,
          349,
          829,
          138,
          118,
          148,
          160,
          276,
          511,
          173,
          71,
          525,
          983,
          170,
          174,
          1215,
          72,
          105,
          121,
          154,
          87,
          181,
          73,
          73,
          77,
          651,
          136,
          1060,
          308,
          273,
          160,
          1068,
          99,
          928,
          128,
          821,
          90,
          373,
          1121,
          230,
          306,
          127,
          272,
          143,
          125,
          325,
          52,
          1407,
          288,
          186,
          544,
          51,
          297,
          665,
          414,
          561,
          299,
          900,
          185,
          358,
          154,
          887,
          1233,
          175,
          180,
          596
         ],
         "xaxis": "x3",
         "y": [
          91,
          88.2,
          91.9,
          71.2,
          90.7,
          98.2,
          95.6,
          89.2,
          95.4,
          90.4,
          84.7,
          91.6,
          93.7,
          90.2,
          69.4,
          57.9,
          87.1,
          94.6,
          88.4,
          97.9,
          90.7,
          93.1,
          92.4,
          97.1,
          97.8,
          94.4,
          90,
          91.3,
          69.4,
          93.5,
          94.2,
          79.1,
          91.9,
          91.8,
          90.3,
          82.4,
          92.6,
          91.4,
          89.1,
          84.4,
          88.6,
          94.7,
          98.1,
          96.1,
          90.8,
          88.2,
          87.3,
          96.6,
          95.7,
          91.5,
          87.2,
          88.3,
          87.5,
          94,
          94.8,
          91.7,
          98.6,
          89.1,
          88.7,
          98.1,
          97.9,
          92.9,
          92.1,
          90.5,
          91.2,
          90.4,
          88.4,
          93.7,
          95.1,
          94.2,
          93.6,
          95.7,
          91,
          92,
          96.7,
          91.4,
          92.6,
          92.7,
          85.3,
          88.2,
          94.2,
          96.9,
          90.8,
          83.4,
          94.4,
          93.6,
          94.6,
          62.6,
          93,
          87.7,
          85.4,
          66.7,
          76.2,
          95.6,
          94.4,
          86.3,
          96.9,
          83.3,
          95.6,
          96.2,
          86.1,
          91.8,
          95.3,
          94.2,
          81.7,
          83.1,
          78.4,
          86.2,
          92.7,
          91.3,
          89.7,
          89.1,
          87.6,
          90,
          100,
          92,
          91.7,
          87.1,
          91,
          52.5,
          93.5,
          91,
          96,
          90.3,
          77.9,
          77.8,
          92.4,
          93.6,
          95.3,
          98.5,
          97.9,
          88,
          71.3,
          86.1,
          67.1,
          92.2,
          97.3,
          92.3,
          91.9,
          93.7,
          89.4,
          95.6,
          96,
          97.6,
          92.9,
          86.4,
          55.9,
          89.6,
          90.9,
          88.9,
          92.3,
          86.7,
          97.8,
          87.9,
          88.7,
          91.4,
          88.2,
          94.1,
          85.9,
          83.9,
          88.3,
          96,
          87.2,
          95.8,
          88.5,
          92,
          89.6,
          88.6,
          90.2,
          94,
          83.7,
          95.5,
          94.7,
          89.5,
          90.5,
          79.9,
          92.3,
          87.2,
          93.1,
          91,
          85.5,
          92.6,
          84.2,
          96.5,
          93.3,
          95,
          91,
          92.9,
          93.6,
          89.2,
          93.5,
          81.6,
          88.6,
          81.9,
          77.1,
          97,
          92.5,
          85.1,
          86.5,
          91.1,
          90.5,
          90.6,
          89.5,
          85.4,
          88.1,
          63,
          94.6,
          83.5,
          87.1,
          87,
          96.1,
          97.1,
          97.8,
          92.7,
          95.3,
          95.5,
          95.9,
          92.3,
          94,
          88.9,
          89.8,
          92,
          88.2,
          89.9,
          90.9,
          89.4,
          95.7,
          83.1,
          87.5,
          84.5,
          95.7,
          87,
          77.7,
          98.2,
          83.4,
          83.8,
          88.1,
          97.4,
          88.4,
          82.5,
          83.3,
          93.4,
          92.2,
          94.3,
          98.1,
          88.3,
          86.8,
          84.5,
          93.7,
          90.5,
          91.5,
          94.8,
          91.4,
          89.4,
          69.2,
          95.6,
          95.4,
          91.1,
          89.1,
          88.6,
          86.4,
          89,
          84.8,
          89.3,
          89.6,
          94.6,
          83.2,
          90.5,
          88.3,
          89.8,
          98.5,
          90,
          78.9,
          92.6,
          95.7,
          92.3,
          84.2,
          85.2,
          90.8,
          77.1,
          88.4,
          91.4,
          90.3,
          95.2,
          90.9,
          96.7,
          94.7,
          94,
          86.3,
          90.1,
          92.1,
          92.2,
          89.2,
          94.3,
          85.7,
          89.6,
          89.7,
          90.3,
          92.1,
          87.7,
          87.6,
          98.7,
          94.9,
          80.9,
          95.7,
          98.9,
          96.2,
          96.6,
          93.7,
          83.6,
          84.2,
          89.4,
          95.9,
          98.4,
          96.8,
          94.4,
          94.3,
          88.1,
          96.6,
          91.4,
          87.6,
          88.6,
          92.8,
          93.4,
          92.2,
          93.6,
          88.4,
          96.1,
          93.4,
          91.7,
          91,
          87.6,
          82.3,
          88.1,
          95.3,
          88,
          97,
          89.7,
          93.4,
          89.6,
          96,
          96.2,
          89.1,
          77.8,
          95.4,
          87.2,
          97.2,
          94.6,
          83.5,
          97.4,
          98.4,
          94.7,
          98.5,
          88.6,
          83.2,
          96.4,
          92.9,
          88,
          88.7,
          79.9,
          93.1,
          93,
          91.2,
          94.2,
          93.2,
          90.2,
          93.8,
          93.5,
          78.3,
          90.3,
          94.5,
          88.4,
          96.2,
          86.6,
          93.4,
          89,
          84.7,
          93.5,
          97.2,
          95.1,
          92.4,
          98.6,
          92,
          94.6,
          92.2,
          81.8,
          80.6,
          84.4,
          82.7,
          79.6,
          93.8,
          82.1,
          83,
          91,
          93.9,
          89,
          89.5,
          90,
          89.3,
          89.6,
          90.2,
          95.1,
          98,
          90.5,
          93.8,
          88.8,
          89.3,
          91.2,
          98.4,
          33.3,
          96.5,
          93.9,
          91.8,
          87.9,
          88.4,
          87.8,
          93.6,
          86.4,
          88.4,
          85.7,
          90.6,
          90.6,
          89.9,
          91.2,
          90.8,
          87.2,
          86.9,
          94.8,
          93.5,
          89.6,
          91.4,
          97.7,
          88.1,
          75.9,
          90,
          95.6,
          96.8,
          92.6,
          88.4,
          83.8,
          89,
          85.3,
          75,
          26.7,
          86.7,
          97.6,
          92.6,
          90.4,
          94.6,
          92.2,
          80,
          71.9,
          57.1,
          72.2,
          92.4,
          79.8,
          65,
          90.3,
          89.5,
          92.3,
          80.4,
          90.7,
          96.9,
          94.1,
          97,
          92.4,
          88.4,
          90.6,
          95.3,
          81.8,
          86.1,
          89.3,
          82.8,
          87.8,
          94.7,
          86.9,
          89.4,
          89,
          87.6,
          92.4,
          86.7,
          78.4,
          92.7,
          95.4,
          82.5,
          96.5,
          88.5,
          91.6,
          92,
          87.9,
          93.4,
          93.5,
          97.5,
          95.5,
          84.6,
          91.6,
          95.1,
          91.2,
          92,
          90.8,
          96.6,
          89,
          87.1,
          84.6,
          90,
          94.2,
          84.7,
          90.8,
          87.3,
          82.6,
          86.7,
          85.8,
          86.6,
          96.1,
          89.6,
          82.3,
          92.5,
          97.1,
          93.2,
          85.3,
          89.6,
          94.1,
          95.5,
          91.7,
          93.9,
          93.1,
          87.9,
          88.9,
          94.8,
          91.9,
          86.3,
          97.8,
          93.7,
          93.1,
          90.3,
          94.9,
          95.5,
          88.3,
          95.9,
          93.8,
          89.6,
          94.7,
          91.1,
          78.6,
          86.3,
          97.9,
          87.8,
          83.1,
          98.3,
          86.7,
          94,
          97.3,
          95.2,
          88.6,
          96.7,
          72.3,
          92.9,
          86.4,
          93.4,
          89.3,
          90.1,
          76.4,
          85.8,
          89.3,
          84.9,
          80,
          95.3,
          90.1,
          99.3,
          88.7,
          93,
          98.4,
          98.5,
          91.6,
          92.3,
          95,
          83.8,
          87.6,
          92.7,
          93.5,
          93.9,
          89.3,
          89.3,
          94.3,
          88.6,
          87.2,
          94.8,
          93.4,
          89.1,
          91.7,
          91.1,
          96.3,
          84.1,
          90.2,
          94.3,
          90,
          90.9,
          91,
          85.8,
          92.6,
          93.7,
          83.2,
          94.8,
          88.4,
          88.8,
          89.8,
          90.3,
          98.4,
          94.2,
          89.3,
          96.8,
          91.7,
          92.8,
          96,
          92.3,
          97.7,
          92.4,
          85.9,
          84.5,
          95.9,
          95.5,
          90.4,
          92.1,
          96.1,
          37.2,
          90.3,
          94.8,
          96.6,
          86.1,
          94.4,
          93.1,
          95.5,
          90.8,
          98.7,
          94.4,
          89.1,
          92.2,
          94.5,
          95.5,
          94.4,
          90.4,
          92.3,
          89.6,
          86.6,
          95.9,
          95.1,
          86.7,
          95,
          95.3,
          92.9,
          94.7,
          92.5,
          94.7,
          92,
          96.4,
          88.6,
          97.1,
          97.5,
          95.1,
          90.5,
          92.7,
          94,
          86,
          83.3,
          98.4,
          90.3,
          85.9,
          92,
          84.9,
          98,
          94.1,
          93.5,
          96.6,
          93.7,
          94,
          86.8,
          91.8,
          86.5,
          96.6,
          93.9,
          89.1,
          92.5,
          97.3,
          83.5,
          97,
          88.2,
          94.1,
          87.6,
          93.4,
          86.5,
          90.3,
          87.7,
          95.3,
          96.9,
          92.4,
          89.6,
          87,
          89.4,
          95.2,
          94,
          50.8,
          95,
          96.1,
          94.5,
          95.6,
          93.4,
          94.9,
          94,
          91.9,
          97.3,
          88.8,
          96.7,
          92.1,
          92.8,
          94.1,
          95.6,
          95.1,
          94.2,
          84.9,
          90.3,
          98.8,
          96,
          84.5,
          94,
          93.1,
          79.5,
          68.6,
          96.7,
          89.5,
          93.2,
          96.2,
          90.1,
          92.3,
          89.4,
          93.8,
          93,
          94.8,
          81.3,
          75.9,
          91,
          78.8,
          81.8,
          83.5,
          95.4,
          85.3,
          96.4,
          95.8,
          94.6,
          95,
          91.3,
          97.1,
          94.8,
          87.3,
          87.8,
          77.5,
          86.5,
          96.6,
          89,
          98.6,
          92.4,
          96.7,
          83.1,
          85.1,
          93.4,
          83.6,
          76.7,
          90.9,
          86.5,
          85.3,
          86.6,
          96.8,
          86.1,
          87.5,
          82.5,
          89.9,
          86,
          88.3,
          79.4,
          87.8,
          90.9,
          85.8,
          85.7,
          90.8,
          96.9,
          94.1,
          93,
          98.4,
          90.5,
          46.2,
          87.9,
          96.2,
          88.2,
          90.1,
          86.3,
          90.9,
          92,
          92.5,
          89.3,
          92,
          90.9,
          90.3,
          89.7,
          89,
          89.5,
          89.5,
          93.1,
          87.8,
          94
         ],
         "yaxis": "y3"
        },
        {
         "customdata": [
          [
           "A Y JACKSON SECONDARY SCHOOL"
          ],
          [
           "ACADEMIE ALEXANDRE-DUMAS"
          ],
          [
           "ADAM BECK JUNIOR PUBLIC SCHOOL"
          ],
          [
           "AFRICENTRIC ALTERNATIVE SCHOOL"
          ],
          [
           "AGINCOURT COLLEGIATE INSTITUTE"
          ],
          [
           "AGINCOURT JUNIOR PUBLIC SCHOOL"
          ],
          [
           "AGNES MACPHAIL PUBLIC SCHOOL"
          ],
          [
           "ALBERT CAMPBELL COLLEGIATE INSTITUTE"
          ],
          [
           "ALBION HEIGHTS JUNIOR MIDDLE SCHOOL"
          ],
          [
           "ALEXANDER MUIR/GLADSTONE AVE JUNIOR AND SENIOR PUBLIC SCHOOL"
          ],
          [
           "ALEXANDER STIRLING PUBLIC SCHOOL"
          ],
          [
           "ALEXMUIR JUNIOR PUBLIC SCHOOL"
          ],
          [
           "ALL SAINTS CATHOLIC SCHOOL"
          ],
          [
           "ALLENBY JUNIOR PUBLIC SCHOOL"
          ],
          [
           "ALPHA ALTERNATIVE JUNIOR SCHOOL"
          ],
          [
           "ALPHA II ALTERNATIVE SCHOOL"
          ],
          [
           "ALTERNATIVE SCARBOROUGH EDUCATION 1"
          ],
          [
           "ALVIN CURLING PUBLIC SCHOOL"
          ],
          [
           "AMESBURY MIDDLE SCHOOL"
          ],
          [
           "ANCASTER PUBLIC SCHOOL"
          ],
          [
           "ANNETTE STREET JUNIOR AND SENIOR PUBLIC SCHOOL"
          ],
          [
           "ANNUNCIATION CATHOLIC SCHOOL"
          ],
          [
           "ANSON PARK PUBLIC SCHOOL"
          ],
          [
           "ANSON S TAYLOR JUNIOR PUBLIC SCHOOL"
          ],
          [
           "ARBOR GLEN PUBLIC SCHOOL"
          ],
          [
           "ARMOUR HEIGHTS PUBLIC SCHOOL"
          ],
          [
           "AVONDALE ALTERNATIVE ELEMENTARY SCHOOL"
          ],
          [
           "AVONDALE PUBLIC SCHOOL"
          ],
          [
           "AVONDALE SECONDARY ALTERNATIVE SCHOOL"
          ],
          [
           "BALA AVENUE COMMUNITY SCHOOL"
          ],
          [
           "BALMY BEACH COMMUNITY SCHOOL"
          ],
          [
           "BANNOCKBURN SCHOOL"
          ],
          [
           "BANTING AND BEST PUBLIC SCHOOL"
          ],
          [
           "BAYCREST PUBLIC SCHOOL"
          ],
          [
           "BAYVIEW MIDDLE SCHOOL"
          ],
          [
           "BEACHES ALTERNATIVE JUNIOR SCHOOL"
          ],
          [
           "BEAUMONDE HEIGHTS JUNIOR MIDDLE SCHOOL"
          ],
          [
           "BEDFORD PARK PUBLIC SCHOOL"
          ],
          [
           "BELLMERE JUNIOR PUBLIC SCHOOL"
          ],
          [
           "BEN HEPPNER VOCAL MUSIC ACADEMY"
          ],
          [
           "BENDALE BUSINESS & TECHNICAL INSTITUTE"
          ],
          [
           "BENDALE JUNIOR PUBLIC SCHOOL"
          ],
          [
           "BENNINGTON HEIGHTS ELEMENTARY SCHOOL"
          ],
          [
           "BERNER TRAIL JUNIOR PUBLIC SCHOOL"
          ],
          [
           "BESSBOROUGH DRIVE ELEMENTARY AND MIDDLE SCHOOL"
          ],
          [
           "BEVERLEY HEIGHTS MIDDLE SCHOOL"
          ],
          [
           "BEVERLEY SCHOOL"
          ],
          [
           "BEVERLY GLEN JUNIOR PUBLIC SCHOOL"
          ],
          [
           "BIRCH CLIFF HEIGHTS PUBLIC SCHOOL"
          ],
          [
           "BIRCH CLIFF PUBLIC SCHOOL"
          ],
          [
           "BIRCHMOUNT PARK COLLEGIATE INSTITUTE"
          ],
          [
           "BISHOP ALLEN ACADEMY CATHOLIC SECONDARY SCHOOL"
          ],
          [
           "BISHOP MARROCCO/THOMAS MERTON CATHOLIC SECONDARY SCHOOL"
          ],
          [
           "BLACKSMITH PUBLIC SCHOOL"
          ],
          [
           "BLAKE STREET JUNIOR PUBLIC SCHOOL"
          ],
          [
           "BLANTYRE PUBLIC SCHOOL"
          ],
          [
           "BLAYDON PUBLIC SCHOOL"
          ],
          [
           "BLESSED ARCHBISHOP ROMERO CATHOLIC SECONDARY SCHOOL"
          ],
          [
           "BLESSED CARDINAL NEWMAN CATHOLIC SCHOOL"
          ],
          [
           "BLESSED MARGHERITA OF CITTA CASTELLO CATHOLIC SCHOOL"
          ],
          [
           "BLESSED PIER GIORGIO FRASSATI CATHOLIC SCHOOL"
          ],
          [
           "BLESSED POPE PAUL VI CATHOLIC SCHOOL"
          ],
          [
           "BLESSED SACRAMENT CATHOLIC SCHOOL"
          ],
          [
           "BLESSED TRINITY CATHOLIC SCHOOL"
          ],
          [
           "BLISS CARMAN SENIOR PUBLIC SCHOOL"
          ],
          [
           "BLOOR COLLEGIATE INSTITUTE"
          ],
          [
           "BLOORDALE MIDDLE SCHOOL"
          ],
          [
           "BLOORLEA MIDDLE SCHOOL"
          ],
          [
           "BLYTHWOOD JUNIOR PUBLIC SCHOOL"
          ],
          [
           "BOWMORE ROAD JUNIOR AND SENIOR PUBLIC SCHOOL"
          ],
          [
           "BOYS' LEADERSHIP ACADEMY"
          ],
          [
           "BRAEBURN JUNIOR SCHOOL"
          ],
          [
           "BRIAN PUBLIC SCHOOL"
          ],
          [
           "BRIARCREST JUNIOR SCHOOL"
          ],
          [
           "BRIDLEWOOD JUNIOR PUBLIC SCHOOL"
          ],
          [
           "BRIMWOOD BOULEVARD JUNIOR PUBLIC SCHOOL"
          ],
          [
           "BROADACRES JUNIOR PUBLIC SCHOOL"
          ],
          [
           "BROADLANDS PUBLIC SCHOOL"
          ],
          [
           "BROCK PUBLIC SCHOOL"
          ],
          [
           "BROOKHAVEN PUBLIC SCHOOL"
          ],
          [
           "BROOKMILL BOULEVARD JUNIOR PUBLIC SCHOOL"
          ],
          [
           "BROOKSIDE PUBLIC SCHOOL"
          ],
          [
           "BROOKVIEW MIDDLE SCHOOL"
          ],
          [
           "BROWN JUNIOR PUBLIC SCHOOL"
          ],
          [
           "BRUCE JUNIOR PUBLIC SCHOOL"
          ],
          [
           "BUCHANAN PUBLIC SCHOOL"
          ],
          [
           "BURROWS HALL JUNIOR PUBLIC SCHOOL"
          ],
          [
           "GREENWOOD SECONDARY SCHOOL"
          ],
          [
           "C D FARQUHARSON JUNIOR PUBLIC SCHOOL"
          ],
          [
           "C R MARCHANT MIDDLE SCHOOL"
          ],
          [
           "C W JEFFERYS COLLEGIATE INSTITUTE"
          ],
          [
           "CALC SECONDARY SCHOOL"
          ],
          [
           "CALICO PUBLIC SCHOOL"
          ],
          [
           "CAMERON PUBLIC SCHOOL"
          ],
          [
           "CANADIAN MARTYRS CATHOLIC SCHOOL"
          ],
          [
           "CARDINAL CARTER ACADEMY FOR THE ARTS"
          ],
          [
           "CARDINAL LEGER CATHOLIC SCHOOL"
          ],
          [
           "CARLETON VILLAGE JUNIOR AND SENIOR PUBLIC SCHOOL"
          ],
          [
           "CASSANDRA PUBLIC SCHOOL"
          ],
          [
           "CEDAR DRIVE JUNIOR PUBLIC SCHOOL"
          ],
          [
           "CEDARBRAE COLLEGIATE INSTITUTE"
          ],
          [
           "CEDARBROOK PUBLIC SCHOOL"
          ],
          [
           "CEDARVALE COMMUNITY SCHOOL"
          ],
          [
           "CENTENNIAL ROAD JUNIOR PUBLIC SCHOOL"
          ],
          [
           "CENTRAL ETOBICOKE HIGH SCHOOL"
          ],
          [
           "CENTRAL TECHNICAL SCHOOL"
          ],
          [
           "CENTRAL TORONTO ACADEMY"
          ],
          [
           "CHALKFARM PUBLIC SCHOOL"
          ],
          [
           "CHAMINADE COLLEGE SCHOOL"
          ],
          [
           "CHARLES E WEBSTER PUBLIC SCHOOL"
          ],
          [
           "CHARLES G FRASER JUNIOR PUBLIC SCHOOL"
          ],
          [
           "CHARLES GORDON SENIOR PUBLIC SCHOOL"
          ],
          [
           "CHARLES H BEST MIDDLE SCHOOL"
          ],
          [
           "CHARLOTTETOWN JUNIOR PUBLIC SCHOOL"
          ],
          [
           "CHARTLAND JUNIOR PUBLIC SCHOOL"
          ],
          [
           "CHEROKEE PUBLIC SCHOOL"
          ],
          [
           "CHESTER ELEMENTARY SCHOOL"
          ],
          [
           "CHESTER LE JUNIOR PUBLIC SCHOOL"
          ],
          [
           "CHIEF DAN GEORGE PUBLIC SCHOOL"
          ],
          [
           "CHILDREN'S GARDEN JUNIOR SCHOOL"
          ],
          [
           "CHINE DRIVE PUBLIC SCHOOL"
          ],
          [
           "CHURCH STREET JUNIOR PUBLIC SCHOOL"
          ],
          [
           "CHURCHILL HEIGHTS PUBLIC SCHOOL"
          ],
          [
           "CHURCHILL PUBLIC SCHOOL"
          ],
          [
           "CITY SCHOOL"
          ],
          [
           "CITY VIEW ALTERNATIVE SENIOR SCHOOL"
          ],
          [
           "CLAIREVILLE JUNIOR SCHOOL"
          ],
          [
           "CLAIRLEA PUBLIC SCHOOL"
          ],
          [
           "CLAUDE WATSON SCHOOL FOR THE ARTS"
          ],
          [
           "CLIFFSIDE PUBLIC SCHOOL"
          ],
          [
           "CLIFFWOOD PUBLIC SCHOOL"
          ],
          [
           "CLINTON STREET JUNIOR PUBLIC SCHOOL"
          ],
          [
           "COLLEGE FRANCAIS ELEMENTAIRE"
          ],
          [
           "COLLEGE FRANCAIS SECONDAIRE"
          ],
          [
           "CONTACT ALTERNATIVE SCHOOL"
          ],
          [
           "CORDELLA JUNIOR PUBLIC SCHOOL"
          ],
          [
           "CORNELL JUNIOR PUBLIC SCHOOL"
          ],
          [
           "CORVETTE JUNIOR PUBLIC SCHOOL"
          ],
          [
           "COSBURN MIDDLE SCHOOL"
          ],
          [
           "COTTINGHAM JUNIOR PUBLIC SCHOOL"
          ],
          [
           "COURCELETTE PUBLIC SCHOOL"
          ],
          [
           "CRESCENT TOWN ELEMENTARY SCHOOL"
          ],
          [
           "CRESTHAVEN PUBLIC SCHOOL"
          ],
          [
           "CRESTVIEW PUBLIC SCHOOL"
          ],
          [
           "CUMMER VALLEY MIDDLE SCHOOL"
          ],
          [
           "D A MORRISON MIDDLE SCHOOL"
          ],
          [
           "DA VINCI SCHOOL"
          ],
          [
           "DALLINGTON PUBLIC SCHOOL"
          ],
          [
           "ESC PERE-PHILIPPE-LAMARCHE"
          ],
          [
           "DANFORTH COLLEGIATE INSTITUTE AND TECHNICAL SCHOOL"
          ],
          [
           "DANFORTH GARDENS PUBLIC SCHOOL"
          ],
          [
           "DANTE ALIGHIERI ACADEMY"
          ],
          [
           "D'ARCY MCGEE CATHOLIC SCHOOL"
          ],
          [
           "DAVID AND MARY THOMSON COLLEGIATE INSTITUTE"
          ],
          [
           "DAVID HORNELL JUNIOR SCHOOL"
          ],
          [
           "DAVID LEWIS PUBLIC SCHOOL"
          ],
          [
           "DAVISVILLE JUNIOR PUBLIC SCHOOL"
          ],
          [
           "DAYSTROM PUBLIC SCHOOL"
          ],
          [
           "DEER PARK JUNIOR AND SENIOR PUBLIC SCHOOL"
          ],
          [
           "DELPHI SECONDARY ALTERNATIVE SCHOOL"
          ],
          [
           "DELTA SENIOR ALTERNATIVE SCHOOL"
          ],
          [
           "DENLOW PUBLIC SCHOOL"
          ],
          [
           "DENNIS AVENUE COMMUNITY SCHOOL"
          ],
          [
           "DERRYDOWN PUBLIC SCHOOL"
          ],
          [
           "DEWSON STREET JUNIOR PUBLIC SCHOOL"
          ],
          [
           "DIEFENBAKER ELEMENTARY SCHOOL"
          ],
          [
           "DIXON GROVE JUNIOR MIDDLE SCHOOL"
          ],
          [
           "DON MILLS COLLEGIATE INSTITUTE"
          ],
          [
           "DON MILLS MIDDLE SCHOOL"
          ],
          [
           "DON VALLEY JUNIOR HIGH SCHOOL"
          ],
          [
           "DONVIEW MIDDLE HEALTH AND WELLNESS ACADEMY"
          ],
          [
           "DONWOOD PARK JUNIOR PUBLIC SCHOOL"
          ],
          [
           "DORSET PARK PUBLIC SCHOOL"
          ],
          [
           "DOVERCOURT PUBLIC SCHOOL"
          ],
          [
           "DOWNSVIEW PUBLIC SCHOOL"
          ],
          [
           "DOWNSVIEW SECONDARY SCHOOL"
          ],
          [
           "DOWNTOWN ALTERNATIVE SCHOOL"
          ],
          [
           "DOWNTOWN VOCAL MUSIC ACADEMY OF TORONTO"
          ],
          [
           "DR MARION HILLIARD SENIOR PUBLIC SCHOOL"
          ],
          [
           "DR NORMAN BETHUNE COLLEGIATE INSTITUTE"
          ],
          [
           "DREWRY SECONDARY SCHOOL"
          ],
          [
           "DRIFTWOOD PUBLIC SCHOOL"
          ],
          [
           "DUBLIN HEIGHTS ELEMENTARY AND MIDDLE SCHOOL"
          ],
          [
           "DUKE OF CONNAUGHT JUNIOR AND SENIOR PUBLIC SCHOOL"
          ],
          [
           "DUNDAS JUNIOR PUBLIC SCHOOL"
          ],
          [
           "DUNLACE PUBLIC SCHOOL"
          ],
          [
           "EARL BEATTY JUNIOR AND SENIOR PUBLIC SCHOOL"
          ],
          [
           "EARL GREY SENIOR PUBLIC SCHOOL"
          ],
          [
           "EARL HAIG PUBLIC SCHOOL"
          ],
          [
           "EARL HAIG SECONDARY SCHOOL"
          ],
          [
           "EAST ALTERNATIVE SCHOOL OF TORONTO"
          ],
          [
           "EAST YORK ALTERNATIVE SECONDARY SCHOOL"
          ],
          [
           "EAST YORK COLLEGIATE INSTITUTE"
          ],
          [
           "EASTDALE COLLEGIATE INSTITUTE"
          ],
          [
           "EASTVIEW PUBLIC SCHOOL"
          ],
          [
           "EATONVILLE JUNIOR SCHOOL"
          ],
          [
           "ECOLE ELEMENTAIRE CHARLES-SAURIOL"
          ],
          [
           "ECOLE ELEMENTAIRE ETIENNE-BRULE"
          ],
          [
           "ECOLE ELEMENTAIRE FELIX-LECLERC"
          ],
          [
           "ECOLE ELEMENTAIRE GABRIELLE-ROY"
          ],
          [
           "ECOLE ELEMENTAIRE JEANNE-LAJOIE"
          ],
          [
           "ECOLE ELEMENTAIRE LA MOSAIQUE"
          ],
          [
           "ECOLE ELEMENTAIRE LAURE-RIESE"
          ],
          [
           "ECOLE ELEMENTAIRE MATHIEU-DA-COSTAI"
          ],
          [
           "ECOLE ELEMENTAIRE MICHELINE-SAINT-CYR"
          ],
          [
           "ECOLE ELEMENTAIRE PAUL-DEMERS"
          ],
          [
           "ECOLE ELEMENTAIRE PIERRE-ELLIOTT-TRUDEAU"
          ],
          [
           "ECOLE ELEMENTAIRE TORONTO OUEST"
          ],
          [
           "ECOLE SECONDAIRE ETIENNE-BRULE"
          ],
          [
           "ECOLE SECONDAIRE TORONTO OUEST"
          ],
          [
           "EDGEWOOD PUBLIC SCHOOL"
          ],
          [
           "EEC DU SACRE-COEUR-TORONTO"
          ],
          [
           "EEC GEORGES-ETIENNE-CARTIER"
          ],
          [
           "EEC NOTRE-DAME-DE-GRACE - TORONTO"
          ],
          [
           "EEC SAINTE-MADELEINE"
          ],
          [
           "EEC SAINTE-MARGUERITE-D'YOUVILLE"
          ],
          [
           "EEC SAINT-JEAN-DE-LALANDE"
          ],
          [
           "EEC SAINT-MICHEL-TORONTO"
          ],
          [
           "EEC SAINT-NOEL-CHABANEL-TORONTO"
          ],
          [
           "EGLINTON JUNIOR PUBLIC SCHOOL"
          ],
          [
           "EIC MONSEIGNEUR-DE-CHARBONNEL"
          ],
          [
           "EIC PERE-PHILIPPE-LAMARCHE"
          ],
          [
           "EIC SAINT-FRERE-ANDRE"
          ],
          [
           "ELIA MIDDLE SCHOOL"
          ],
          [
           "ELIZABETH SIMCOE JUNIOR PUBLIC SCHOOL"
          ],
          [
           "ELKHORN PUBLIC SCHOOL"
          ],
          [
           "ELLESMERE-STATTON PUBLIC SCHOOL"
          ],
          [
           "ELMBANK JUNIOR MIDDLE ACADEMY"
          ],
          [
           "ELMLEA JUNIOR SCHOOL"
          ],
          [
           "EMERY COLLEGIATE INSTITUTE"
          ],
          [
           "EMILY CARR PUBLIC SCHOOL"
          ],
          [
           "EPIPHANY OF OUR LORD CATHOLIC ACADEMY"
          ],
          [
           "EQUINOX HOLISTIC ALTERNATIVE SCHOOL"
          ],
          [
           "ERNEST PUBLIC SCHOOL"
          ],
          [
           "ESC MONSEIGNEUR-DE-CHARBONNEL"
          ],
          [
           "ESC SAINT-FRERE-ANDRE"
          ],
          [
           "ESSEX JUNIOR AND SENIOR PUBLIC SCHOOL"
          ],
          [
           "ETIENNE BRULE JUNIOR SCHOOL"
          ],
          [
           "ETOBICOKE COLLEGIATE INSTITUTE"
          ],
          [
           "ETOBICOKE SCHOOL OF THE ARTS"
          ],
          [
           "ETOBICOKE YEAR ROUND ALTERNATIVE CENTRE"
          ],
          [
           "F H MILLER JUNIOR PUBLIC SCHOOL"
          ],
          [
           "FAIRBANK JUNIOR AND MIDDLE SCHOOL"
          ],
          [
           "FAIRBANK MEMORIAL COMMUNITY SCHOOL"
          ],
          [
           "FAIRGLEN JUNIOR PUBLIC SCHOOL"
          ],
          [
           "FAIRMOUNT PUBLIC SCHOOL"
          ],
          [
           "FATHER HENRY CARR CATHOLIC SECONDARY SCHOOL"
          ],
          [
           "FATHER JOHN REDMOND CATHOLIC SECONDARY SCHOOL"
          ],
          [
           "FATHER SERRA CATHOLIC SCHOOL"
          ],
          [
           "FAYWOOD ARTS-BASED CURRICULUM SCHOOL"
          ],
          [
           "FENSIDE PUBLIC SCHOOL"
          ],
          [
           "FERN AVENUE JUNIOR AND SENIOR PUBLIC SCHOOL"
          ],
          [
           "FINCH PUBLIC SCHOOL"
          ],
          [
           "FIRGROVE PUBLIC SCHOOL"
          ],
          [
           "FIRST NATIONS SCHOOL OF TORONTO"
          ],
          [
           "FISHERVILLE SENIOR PUBLIC SCHOOL"
          ],
          [
           "FLEMING PUBLIC SCHOOL"
          ],
          [
           "FLEMINGTON PUBLIC SCHOOL"
          ],
          [
           "FOREST HILL COLLEGIATE INSTITUTE"
          ],
          [
           "FOREST HILL JUNIOR AND SENIOR PUBLIC SCHOOL"
          ],
          [
           "FOREST MANOR PUBLIC SCHOOL"
          ],
          [
           "FRANCIS LIBERMANN CATHOLIC HIGH SCHOOL"
          ],
          [
           "FRANK OKE SECONDARY SCHOOL"
          ],
          [
           "FRANKLAND COMMUNITY SCHOOL"
          ],
          [
           "GALLOWAY ROAD PUBLIC SCHOOL"
          ],
          [
           "GARDEN AVENUE JUNIOR PUBLIC SCHOOL"
          ],
          [
           "GATEWAY PUBLIC SCHOOL"
          ],
          [
           "GENERAL BROCK PUBLIC SCHOOL"
          ],
          [
           "GENERAL CRERAR PUBLIC SCHOOL"
          ],
          [
           "GENERAL MERCER JUNIOR PUBLIC SCHOOL"
          ],
          [
           "GEORGE ANDERSON PUBLIC SCHOOL"
          ],
          [
           "GEORGE B LITTLE PUBLIC SCHOOL"
          ],
          [
           "GEORGE HARVEY COLLEGIATE INSTITUTE"
          ],
          [
           "GEORGE P MACKIE JUNIOR PUBLIC SCHOOL"
          ],
          [
           "GEORGE PECK PUBLIC SCHOOL"
          ],
          [
           "GEORGE R GAULD JUNIOR SCHOOL"
          ],
          [
           "GEORGE S HENRY ACADEMY"
          ],
          [
           "GEORGE SYME COMMUNITY SCHOOL"
          ],
          [
           "GEORGE WEBSTER ELEMENTARY SCHOOL"
          ],
          [
           "GEORGES VANIER SECONDARY SCHOOL"
          ],
          [
           "GIVINS/SHAW JUNIOR PUBLIC SCHOOL"
          ],
          [
           "GLAMORGAN JUNIOR PUBLIC SCHOOL"
          ],
          [
           "GLEDHILL JUNIOR PUBLIC SCHOOL"
          ],
          [
           "GLEN AMES SENIOR PUBLIC SCHOOL"
          ],
          [
           "GLEN PARK PUBLIC SCHOOL"
          ],
          [
           "GLEN RAVINE JUNIOR PUBLIC SCHOOL"
          ],
          [
           "GLENVIEW SENIOR PUBLIC SCHOOL"
          ],
          [
           "GOLF ROAD JUNIOR PUBLIC SCHOOL"
          ],
          [
           "GORDON A BROWN MIDDLE SCHOOL"
          ],
          [
           "GOSFORD PUBLIC SCHOOL"
          ],
          [
           "GRACEDALE PUBLIC SCHOOL"
          ],
          [
           "GRACEFIELD PUBLIC SCHOOL"
          ],
          [
           "GREENHOLME JUNIOR MIDDLE SCHOOL"
          ],
          [
           "GREENLAND PUBLIC SCHOOL"
          ],
          [
           "GRENOBLE PUBLIC SCHOOL"
          ],
          [
           "GREY OWL JUNIOR PUBLIC SCHOOL"
          ],
          [
           "GUILDWOOD JUNIOR PUBLIC SCHOOL"
          ],
          [
           "GULFSTREAM PUBLIC SCHOOL"
          ],
          [
           "H A HALBERT JUNIOR PUBLIC SCHOOL"
          ],
          [
           "H J ALEXANDER COMMUNITY SCHOOL"
          ],
          [
           "HARBORD COLLEGIATE INSTITUTE"
          ],
          [
           "HARRISON PUBLIC SCHOOL"
          ],
          [
           "HARWOOD PUBLIC SCHOOL"
          ],
          [
           "HAVERGAL JUNIOR SCHOOL"
          ],
          [
           "HAWTHORNE II BILINGUAL ALTERNATIVE JUNIOR SCHOOL"
          ],
          [
           "HEATHER HEIGHTS JUNIOR PUBLIC SCHOOL"
          ],
          [
           "HENRY HUDSON SENIOR PUBLIC SCHOOL"
          ],
          [
           "HENRY KELSEY SENIOR PUBLIC SCHOOL"
          ],
          [
           "HERITAGE PARK PUBLIC SCHOOL"
          ],
          [
           "HEYDON PARK SECONDARY SCHOOL"
          ],
          [
           "HIGH PARK ALTERNATIVE SCHOOL JUNIOR"
          ],
          [
           "HIGHCASTLE PUBLIC SCHOOL"
          ],
          [
           "HIGHFIELD JUNIOR SCHOOL"
          ],
          [
           "HIGHLAND CREEK PUBLIC SCHOOL"
          ],
          [
           "HIGHLAND HEIGHTS JUNIOR PUBLIC SCHOOL"
          ],
          [
           "HIGHLAND JUNIOR HIGH SCHOOL"
          ],
          [
           "HIGHVIEW PUBLIC SCHOOL"
          ],
          [
           "HILLCREST COMMUNITY SCHOOL"
          ],
          [
           "HILLMOUNT PUBLIC SCHOOL"
          ],
          [
           "HILLTOP MIDDLE SCHOOL"
          ],
          [
           "HODGSON SENIOR PUBLIC SCHOOL"
          ],
          [
           "HOLLYCREST MIDDLE SCHOOL"
          ],
          [
           "HOLLYWOOD PUBLIC SCHOOL"
          ],
          [
           "HOLY ANGELS CATHOLIC SCHOOL"
          ],
          [
           "HOLY CHILD CATHOLIC SCHOOL"
          ],
          [
           "HOLY CROSS CATHOLIC SCHOOL"
          ],
          [
           "HOLY FAMILY CATHOLIC SCHOOL"
          ],
          [
           "HOLY NAME CATHOLIC SCHOOL"
          ],
          [
           "HOLY ROSARY CATHOLIC SCHOOL"
          ],
          [
           "HOLY SPIRIT CATHOLIC SCHOOL"
          ],
          [
           "HORIZON ALTERNATIVE SENIOR SCHOOL"
          ],
          [
           "HOWARD JUNIOR PUBLIC SCHOOL"
          ],
          [
           "HUMBER SUMMIT MIDDLE SCHOOL"
          ],
          [
           "HUMBER VALLEY VILLAGE JUNIOR MIDDLE SCHOOL"
          ],
          [
           "HUMBERCREST PUBLIC SCHOOL"
          ],
          [
           "HUMBERSIDE COLLEGIATE INSTITUTE"
          ],
          [
           "HUMBERWOOD DOWNS JUNIOR MIDDLE ACADEMY"
          ],
          [
           "HUMEWOOD COMMUNITY SCHOOL"
          ],
          [
           "HUNTER'S GLEN JUNIOR PUBLIC SCHOOL"
          ],
          [
           "HURON STREET JUNIOR PUBLIC SCHOOL"
          ],
          [
           "IMMACULATE CONCEPTION CATHOLIC SCHOOL"
          ],
          [
           "IMMACULATE HEART OF MARY CATHOLIC SCHOOL"
          ],
          [
           "INDIAN ROAD CRESCENT JUNIOR PUBLIC SCHOOL"
          ],
          [
           "INGLENOOK COMMUNITY SCHOOL"
          ],
          [
           "INGLEWOOD HEIGHTS JUNIOR PUBLIC SCHOOL"
          ],
          [
           "IONVIEW PUBLIC SCHOOL"
          ],
          [
           "IROQUOIS JUNIOR PUBLIC SCHOOL"
          ],
          [
           "ISLAND PUBLIC/NATURAL SCIENCE SCHOOL"
          ],
          [
           "ISLINGTON JUNIOR MIDDLE SCHOOL"
          ],
          [
           "J B TYRRELL SENIOR PUBLIC SCHOOL"
          ],
          [
           "J G WORKMAN PUBLIC SCHOOL"
          ],
          [
           "J R WILCOX COMMUNITY SCHOOL"
          ],
          [
           "JACK MINER SENIOR PUBLIC SCHOOL"
          ],
          [
           "JACKMAN AVENUE JUNIOR PUBLIC SCHOOL"
          ],
          [
           "JAMES CARDINAL MCGUIGAN CATHOLIC HIGH SCHOOL"
          ],
          [
           "JAMES CULNAN CATHOLIC SCHOOL"
          ],
          [
           "JAMES S BELL JUNIOR MIDDLE SCHOOL"
          ],
          [
           "JARVIS COLLEGIATE INSTITUTE"
          ],
          [
           "JEAN VANIER CATHOLIC SECONDARY SCHOOL"
          ],
          [
           "JESSE KETCHUM JUNIOR AND SENIOR PUBLIC SCHOOL"
          ],
          [
           "JOHN A LESLIE PUBLIC SCHOOL"
          ],
          [
           "JOHN BUCHAN SENIOR PUBLIC SCHOOL"
          ],
          [
           "JOHN D PARKER JUNIOR SCHOOL"
          ],
          [
           "JOHN ENGLISH JUNIOR MIDDLE SCHOOL"
          ],
          [
           "JOHN FISHER JUNIOR PUBLIC SCHOOL"
          ],
          [
           "JOHN G ALTHOUSE MIDDLE SCHOOL"
          ],
          [
           "JOHN G DIEFENBAKER PUBLIC SCHOOL"
          ],
          [
           "JOHN MCCRAE PUBLIC SCHOOL"
          ],
          [
           "JOHN POLANYI COLLEGIATE INSTITUTE"
          ],
          [
           "JOHN ROSS ROBERTSON JUNIOR PUBLIC SCHOOL"
          ],
          [
           "JOHN WANLESS JUNIOR PUBLIC SCHOOL"
          ],
          [
           "JOSEPH BRANT SENIOR PUBLIC SCHOOL"
          ],
          [
           "JOSEPH HOWE SENIOR PUBLIC SCHOOL"
          ],
          [
           "JOSYF CARDINAL SLIPYJ CATHOLIC SCHOOL"
          ],
          [
           "JOYCE PUBLIC SCHOOL"
          ],
          [
           "KAREN KAIN SCHOOL OF THE ARTS"
          ],
          [
           "KEELE STREET JUNIOR PUBLIC SCHOOL"
          ],
          [
           "KEELESDALE JUNIOR PUBLIC SCHOOL"
          ],
          [
           "KENNEDY PUBLIC SCHOOL"
          ],
          [
           "KENSINGTON COMMUNITY SCHOOL"
          ],
          [
           "KEW BEACH JUNIOR PUBLIC SCHOOL"
          ],
          [
           "KIMBERLEY JUNIOR PUBLIC SCHOOL"
          ],
          [
           "KING EDWARD JUNIOR AND SENIOR PUBLIC SCHOOL"
          ],
          [
           "KING GEORGE JUNIOR PUBLIC SCHOOL"
          ],
          [
           "KINGSLAKE PUBLIC SCHOOL"
          ],
          [
           "KINGSVIEW VILLAGE JUNIOR SCHOOL"
          ],
          [
           "KIPLING COLLEGIATE INSTITUTE"
          ],
          [
           "KNOB HILL PUBLIC SCHOOL"
          ],
          [
           "LAKESHORE COLLEGIATE INSTITUTE"
          ],
          [
           "LAMBERTON PUBLIC SCHOOL"
          ],
          [
           "LAMBTON KINGSWAY JUNIOR MIDDLE SCHOOL"
          ],
          [
           "LAMBTON PARK COMMUNITY SCHOOL"
          ],
          [
           "L'AMOREAUX COLLEGIATE INSTITUTE"
          ],
          [
           "LANOR JUNIOR MIDDLE SCHOOL"
          ],
          [
           "LAWRENCE HEIGHTS MIDDLE SCHOOL"
          ],
          [
           "LAWRENCE PARK COLLEGIATE INSTITUTE"
          ],
          [
           "LEASIDE HIGH SCHOOL"
          ],
          [
           "LEDBURY PARK ELEMENTARY AND MIDDLE SCHOOL"
          ],
          [
           "LESCON PUBLIC SCHOOL"
          ],
          [
           "LESLIEVILLE JUNIOR PUBLIC SCHOOL"
          ],
          [
           "LESTER B PEARSON COLLEGIATE INSTITUTE"
          ],
          [
           "LESTER B PEARSON ELEMENTARY SCHOOL"
          ],
          [
           "LILLIAN PUBLIC SCHOOL"
          ],
          [
           "LORD DUFFERIN JUNIOR AND SENIOR PUBLIC SCHOOL"
          ],
          [
           "LORD LANSDOWNE JUNIOR PUBLIC SCHOOL"
          ],
          [
           "LORD ROBERTS JUNIOR PUBLIC SCHOOL"
          ],
          [
           "LORETTO ABBEY CATHOLIC SECONDARY SCHOOL"
          ],
          [
           "LORETTO COLLEGE SCHOOL"
          ],
          [
           "LUCY MAUD MONTGOMERY PUBLIC SCHOOL"
          ],
          [
           "LUCY MCCORMICK SENIOR SCHOOL"
          ],
          [
           "LYNNGATE JUNIOR PUBLIC SCHOOL"
          ],
          [
           "LYNNWOOD HEIGHTS JUNIOR PUBLIC SCHOOL"
          ],
          [
           "MACKLIN PUBLIC SCHOOL"
          ],
          [
           "MADONNA CATHOLIC SECONDARY SCHOOL"
          ],
          [
           "MALVERN COLLEGIATE INSTITUTE"
          ],
          [
           "MALVERN JUNIOR PUBLIC SCHOOL"
          ],
          [
           "MANHATTAN PARK JUNIOR PUBLIC SCHOOL"
          ],
          [
           "MAPLE LEAF PUBLIC SCHOOL"
          ],
          [
           "MAPLEWOOD HIGH SCHOOL"
          ],
          [
           "MARC GARNEAU COLLEGIATE INSTITUTE"
          ],
          [
           "MARKET LANE JUNIOR AND SENIOR PUBLIC SCHOOL"
          ],
          [
           "MARSHALL MCLUHAN CATHOLIC SECONDARY SCHOOL"
          ],
          [
           "MARTINGROVE COLLEGIATE INSTITUTE"
          ],
          [
           "MARY SHADD PUBLIC SCHOOL"
          ],
          [
           "MARY WARD CATHOLIC SECONDARY SCHOOL"
          ],
          [
           "MARYVALE PUBLIC SCHOOL"
          ],
          [
           "MASON ROAD JUNIOR PUBLIC SCHOOL"
          ],
          [
           "MAURICE CODY JUNIOR PUBLIC SCHOOL"
          ],
          [
           "MCKEE PUBLIC SCHOOL"
          ],
          [
           "MCMURRICH JUNIOR PUBLIC SCHOOL"
          ],
          [
           "MEADOWVALE PUBLIC SCHOOL"
          ],
          [
           "MELODY VILLAGE JUNIOR SCHOOL"
          ],
          [
           "MICHAEL POWER/ST JOSEPH HIGH SCHOOL"
          ],
          [
           "MILITARY TRAIL PUBLIC SCHOOL"
          ],
          [
           "MILL VALLEY JUNIOR SCHOOL"
          ],
          [
           "MILLIKEN PUBLIC SCHOOL"
          ],
          [
           "MILLWOOD JUNIOR SCHOOL"
          ],
          [
           "MILNE VALLEY MIDDLE SCHOOL"
          ],
          [
           "MONARCH PARK COLLEGIATE INSTITUTE"
          ],
          [
           "MONSIGNOR FRASER COLLEGE (MIDLAND NORTH)"
          ],
          [
           "MONSIGNOR FRASER COLLEGE (MIDTOWN)"
          ],
          [
           "MONSIGNOR FRASER COLLEGE (NORTHEAST)"
          ],
          [
           "MONSIGNOR FRASER COLLEGE (SOUTHWEST)"
          ],
          [
           "MONSIGNOR FRASER COLLEGE (ST. MARTIN)"
          ],
          [
           "MONSIGNOR PERCY JOHNSON CATHOLIC HIGH SCHOOL"
          ],
          [
           "MONTROSE JUNIOR PUBLIC SCHOOL"
          ],
          [
           "MORRISH PUBLIC SCHOOL"
          ],
          [
           "MORSE STREET JUNIOR PUBLIC SCHOOL"
          ],
          [
           "MOTHER CABRINI CATHOLIC SCHOOL"
          ],
          [
           "MOUNTVIEW ALTERNATIVE JUNIOR SCHOOL"
          ],
          [
           "MSGR FRASER COLLEGE (ALTERNATIVE STUDY) SECONDARY SCHOOL"
          ],
          [
           "MSGR FRASER COLLEGE (NORFINCH CAMPUS)"
          ],
          [
           "MSGR FRASER-ISABELLA"
          ],
          [
           "MSGR FRASER-MIDLAND"
          ],
          [
           "MSGR JOHN CORRIGAN CATHOLIC SCHOOL"
          ],
          [
           "MUIRHEAD PUBLIC SCHOOL"
          ],
          [
           "NATIVE LEARNING CENTRE"
          ],
          [
           "NATIVITY OF OUR LORD CATHOLIC SCHOOL"
          ],
          [
           "NEIL MCNEIL HIGH SCHOOL"
          ],
          [
           "NELSON MANDELA PARK PUBLIC SCHOOL"
          ],
          [
           "NEWTONBROOK SECONDARY SCHOOL"
          ],
          [
           "NIAGARA STREET JUNIOR PUBLIC SCHOOL"
          ],
          [
           "NORMAN COOK JUNIOR PUBLIC SCHOOL"
          ],
          [
           "NORMAN INGRAM PUBLIC SCHOOL"
          ],
          [
           "NORSEMAN JUNIOR MIDDLE SCHOOL"
          ],
          [
           "NORTH AGINCOURT JUNIOR PUBLIC SCHOOL"
          ],
          [
           "NORTH ALBION COLLEGIATE INSTITUTE"
          ],
          [
           "NORTH BENDALE JUNIOR PUBLIC SCHOOL"
          ],
          [
           "NORTH BRIDLEWOOD JUNIOR PUBLIC SCHOOL"
          ],
          [
           "NORTH EAST YEAR ROUND ALTERNATIVE CENTRE"
          ],
          [
           "NORTH KIPLING JUNIOR MIDDLE SCHOOL"
          ],
          [
           "NORTH TORONTO COLLEGIATE INSTITUTE"
          ],
          [
           "NORTH WEST YEAR ROUND ALTERNATIVE CENTRE"
          ],
          [
           "NORTHERN SECONDARY SCHOOL"
          ],
          [
           "NORTHLEA ELEMENTARY AND MIDDLE SCHOOL"
          ],
          [
           "NORTHVIEW HEIGHTS SECONDARY SCHOOL"
          ],
          [
           "NORWAY JUNIOR PUBLIC SCHOOL"
          ],
          [
           "NOTRE DAME CATHOLIC HIGH SCHOOL"
          ],
          [
           "OAKDALE PARK MIDDLE SCHOOL"
          ],
          [
           "OAKRIDGE JUNIOR PUBLIC SCHOOL"
          ],
          [
           "OAKWOOD COLLEGIATE INSTITUTE"
          ],
          [
           "OASIS ALTERNATIVE"
          ],
          [
           "O'CONNOR PUBLIC SCHOOL"
          ],
          [
           "OGDEN JUNIOR PUBLIC SCHOOL"
          ],
          [
           "ORDE STREET JUNIOR PUBLIC SCHOOL"
          ],
          [
           "ORIOLE PARK JUNIOR PUBLIC SCHOOL"
          ],
          [
           "OSSINGTON/OLD ORCHARD JUNIOR PUBLIC SCHOOL"
          ],
          [
           "OUR LADY OF FATIMA CATHOLIC SCHOOL"
          ],
          [
           "OUR LADY OF GRACE CATHOLIC SCHOOL"
          ],
          [
           "OUR LADY OF GUADALUPE CATHOLIC SCHOOL"
          ],
          [
           "OUR LADY OF LOURDES CATHOLIC SCHOOL"
          ],
          [
           "OUR LADY OF PEACE CATHOLIC SCHOOL"
          ],
          [
           "OUR LADY OF PERPETUAL HELP CATHOLIC SCHOOL"
          ],
          [
           "OUR LADY OF SORROWS CATHOLIC SCHOOL"
          ],
          [
           "OUR LADY OF THE ASSUMPTION CATHOLIC SCHOOL"
          ],
          [
           "OUR LADY OF VICTORY CATHOLIC SCHOOL"
          ],
          [
           "OUR LADY OF WISDOM CATHOLIC SCHOOL"
          ],
          [
           "OWEN PUBLIC SCHOOL"
          ],
          [
           "PALMERSTON AVENUE JUNIOR PUBLIC SCHOOL"
          ],
          [
           "ST MARK CATHOLIC SCHOOL"
          ],
          [
           "PAPE AVENUE JUNIOR PUBLIC SCHOOL"
          ],
          [
           "PARK LAWN JUNIOR AND MIDDLE SCHOOL"
          ],
          [
           "PARKDALE COLLEGIATE INSTITUTE"
          ],
          [
           "PARKDALE JUNIOR AND SENIOR PUBLIC SCHOOL"
          ],
          [
           "PARKFIELD JUNIOR SCHOOL"
          ],
          [
           "PARKSIDE ELEMENTARY SCHOOL"
          ],
          [
           "PARKVIEW ALTERNATIVE SCHOOL"
          ],
          [
           "PAULINE JOHNSON JUNIOR PUBLIC SCHOOL"
          ],
          [
           "PAULINE JUNIOR PUBLIC SCHOOL"
          ],
          [
           "PELMO PARK PUBLIC SCHOOL"
          ],
          [
           "PERCY WILLIAMS JUNIOR PUBLIC SCHOOL"
          ],
          [
           "PERTH AVENUE JUNIOR PUBLIC SCHOOL"
          ],
          [
           "PIERRE LAPORTE MIDDLE SCHOOL"
          ],
          [
           "PINEWAY PUBLIC SCHOOL"
          ],
          [
           "PLEASANT PUBLIC SCHOOL"
          ],
          [
           "PLEASANT VIEW MIDDLE SCHOOL"
          ],
          [
           "POPE FRANCIS CATHOLIC SCHOOL"
          ],
          [
           "POPLAR ROAD JUNIOR PUBLIC SCHOOL"
          ],
          [
           "PORT ROYAL PUBLIC SCHOOL"
          ],
          [
           "PORTAGE TRAIL COMMUNITY JUNIOR SCHOOL"
          ],
          [
           "PRECIOUS BLOOD CATHOLIC SCHOOL"
          ],
          [
           "PRESTEIGN HEIGHTS ELEMENTARY SCHOOL"
          ],
          [
           "PRINCE OF PEACE CATHOLIC SCHOOL"
          ],
          [
           "PRINCESS MARGARET JUNIOR SCHOOL"
          ],
          [
           "QUEEN ALEXANDRA MIDDLE SCHOOL"
          ],
          [
           "QUEEN VICTORIA JUNIOR PUBLIC SCHOOL"
          ],
          [
           "QUEST ALTERNATIVE SENIOR SCHOOL"
          ],
          [
           "R H KING ACADEMY"
          ],
          [
           "R H MCGREGOR ELEMENTARY SCHOOL"
          ],
          [
           "ST MARTHA CATHOLIC SCHOOL"
          ],
          [
           "R J LANG ELEMENTARY AND MIDDLE SCHOOL"
          ],
          [
           "RANCHDALE PUBLIC SCHOOL"
          ],
          [
           "RAWLINSON COMMUNITY SCHOOL"
          ],
          [
           "REGAL ROAD JUNIOR PUBLIC SCHOOL"
          ],
          [
           "REGENT HEIGHTS PUBLIC SCHOOL"
          ],
          [
           "REGINA MUNDI CATHOLIC SCHOOL"
          ],
          [
           "RENE GORDON HEALTH AND WELLNESS ACADEMY"
          ],
          [
           "RICHVIEW COLLEGIATE INSTITUTE"
          ],
          [
           "RIPPLETON PUBLIC SCHOOL"
          ],
          [
           "RIVERCREST JUNIOR SCHOOL"
          ],
          [
           "RIVERDALE COLLEGIATE INSTITUTE"
          ],
          [
           "ROBERT SERVICE SENIOR PUBLIC SCHOOL"
          ],
          [
           "ROCKCLIFFE MIDDLE SCHOOL"
          ],
          [
           "ROCKFORD PUBLIC SCHOOL"
          ],
          [
           "RODEN PUBLIC SCHOOL"
          ],
          [
           "ROLPH ROAD ELEMENTARY SCHOOL"
          ],
          [
           "ROSE AVENUE JUNIOR PUBLIC SCHOOL"
          ],
          [
           "ROSEDALE HEIGHTS SCHOOL OF THE ARTS"
          ],
          [
           "ROSEDALE JUNIOR PUBLIC SCHOOL"
          ],
          [
           "ROSELANDS JUNIOR PUBLIC SCHOOL"
          ],
          [
           "ROSETHORN JUNIOR SCHOOL"
          ],
          [
           "ROUGE VALLEY PUBLIC SCHOOL"
          ],
          [
           "ROYWOOD PUBLIC SCHOOL"
          ],
          [
           "RUNNYMEDE COLLEGIATE INSTITUTE"
          ],
          [
           "RUNNYMEDE JUNIOR AND SENIOR PUBLIC SCHOOL"
          ],
          [
           "RYERSON COMMUNITY SCHOOL"
          ],
          [
           "SACRED HEART CATHOLIC SCHOOL"
          ],
          [
           "SAMUEL HEARNE PUBLIC SCHOOL"
          ],
          [
           "SANTA MARIA CATHOLIC SCHOOL"
          ],
          [
           "SATEC at W A PORTER COLLEGIATE INSTITUTE"
          ],
          [
           "SCARBOROUGH VILLAGE PUBLIC SCHOOL"
          ],
          [
           "SCHOOL OF EXPERIENTIAL EDUCATION"
          ],
          [
           "SCHOOL OF LIFE EXPERIENCE"
          ],
          [
           "SECOND STREET JUNIOR MIDDLE SCHOOL"
          ],
          [
           "SECORD ELEMENTARY SCHOOL"
          ],
          [
           "SEED ALTERNATIVE SCHOOL"
          ],
          [
           "SELWYN ELEMENTARY SCHOOL"
          ],
          [
           "SENATOR O'CONNOR COLLEGE SCHOOL"
          ],
          [
           "SENECA HILL PUBLIC SCHOOL"
          ],
          [
           "SENECA SCHOOL"
          ],
          [
           "SEVENTH STREET JUNIOR SCHOOL"
          ],
          [
           "SHAUGHNESSY PUBLIC SCHOOL"
          ],
          [
           "SHEPPARD PUBLIC SCHOOL"
          ],
          [
           "SHIRLEY STREET JUNIOR PUBLIC SCHOOL"
          ],
          [
           "SHOREHAM PUBLIC SCHOOL"
          ],
          [
           "SILVER SPRINGS PUBLIC SCHOOL"
          ],
          [
           "SILVERTHORN COLLEGIATE INSTITUTE"
          ],
          [
           "SILVERTHORN COMMUNITY SCHOOL"
          ],
          [
           "SIR ADAM BECK JUNIOR SCHOOL"
          ],
          [
           "SIR ALEXANDER MACKENZIE SENIOR PUBLIC SCHOOL"
          ],
          [
           "SIR ERNEST MACMILLAN SENIOR PUBLIC SCHOOL"
          ],
          [
           "SIR JOHN A MACDONALD COLLEGIATE INSTITUTE"
          ],
          [
           "SIR OLIVER MOWAT COLLEGIATE INSTITUTE"
          ],
          [
           "SIR SAMUEL B STEELE JUNIOR PUBLIC SCHOOL"
          ],
          [
           "SIR WILFRID LAURIER COLLEGIATE INSTITUTE"
          ],
          [
           "SIR WILLIAM OSLER HIGH SCHOOL"
          ],
          [
           "SLOANE PUBLIC SCHOOL"
          ],
          [
           "SMITHFIELD MIDDLE SCHOOL"
          ],
          [
           "SOUTH EAST YEAR ROUND ALTERNATIVE CENTRE"
          ],
          [
           "SPECTRUM ALTERNATIVE SENIOR SCHOOL"
          ],
          [
           "SPRUCECOURT JUNIOR PUBLIC SCHOOL"
          ],
          [
           "ST AGATHA CATHOLIC SCHOOL"
          ],
          [
           "ST AGNES CATHOLIC SCHOOL"
          ],
          [
           "ST AIDAN CATHOLIC SCHOOL"
          ],
          [
           "ST ALBERT CATHOLIC SCHOOL"
          ],
          [
           "ST ALPHONSUS CATHOLIC SCHOOL"
          ],
          [
           "ST AMBROSE CATHOLIC SCHOOL"
          ],
          [
           "ST ANDRE CATHOLIC SCHOOL"
          ],
          [
           "ST ANDREW CATHOLIC SCHOOL"
          ],
          [
           "ST ANDREWS MIDDLE SCHOOL"
          ],
          [
           "ST ANDREWS PUBLIC SCHOOL"
          ],
          [
           "ST ANGELA CATHOLIC SCHOOL"
          ],
          [
           "ST ANSELM CATHOLIC SCHOOL"
          ],
          [
           "ST ANTHONY CATHOLIC SCHOOL"
          ],
          [
           "ST ANTOINE DANIEL CATHOLIC SCHOOL"
          ],
          [
           "ST AUGUSTINE CATHOLIC SCHOOL"
          ],
          [
           "ST BARBARA CATHOLIC SCHOOL"
          ],
          [
           "ST BARNABAS CATHOLIC SCHOOL"
          ],
          [
           "ST BARTHOLOMEW CATHOLIC SCHOOL"
          ],
          [
           "ST BASIL-THE-GREAT COLLEGE SCHOOL"
          ],
          [
           "ST BEDE CATHOLIC SCHOOL"
          ],
          [
           "ST BENEDICT CATHOLIC SCHOOL"
          ],
          [
           "ST BERNARD CATHOLIC SCHOOL"
          ],
          [
           "ST BONAVENTURE CATHOLIC SCHOOL"
          ],
          [
           "ST BONIFACE CATHOLIC SCHOOL"
          ],
          [
           "ST BRENDAN CATHOLIC SCHOOL"
          ],
          [
           "ST BRIGID CATHOLIC SCHOOL"
          ],
          [
           "ST BRUNO / ST RAYMOND CATHOLIC SCHOOL"
          ],
          [
           "ST CATHERINE CATHOLIC SCHOOL"
          ],
          [
           "ST CECILIA CATHOLIC SCHOOL"
          ],
          [
           "ST CHARLES CATHOLIC SCHOOL"
          ],
          [
           "ST CHARLES GARNIER CATHOLIC SCHOOL"
          ],
          [
           "ST CLARE CATHOLIC SCHOOL"
          ],
          [
           "ST CLEMENT CATHOLIC SCHOOL"
          ],
          [
           "ST CLEMENT CATHOLIC SCHOOL"
          ],
          [
           "ST COLUMBA CATHOLIC SCHOOL"
          ],
          [
           "ST CONRAD CATHOLIC SCHOOL"
          ],
          [
           "ST CYRIL CATHOLIC SCHOOL"
          ],
          [
           "ST DEMETRIUS CATHOLIC SCHOOL"
          ],
          [
           "ST DENIS CATHOLIC SCHOOL"
          ],
          [
           "ST DOMINIC SAVIO CATHOLIC SCHOOL"
          ],
          [
           "ST DOROTHY CATHOLIC SCHOOL"
          ],
          [
           "ST DUNSTAN CATHOLIC SCHOOL"
          ],
          [
           "ST EDMUND CAMPION CATHOLIC SCHOOL"
          ],
          [
           "ST EDWARD CATHOLIC SCHOOL"
          ],
          [
           "ST ELIZABETH CATHOLIC SCHOOL"
          ],
          [
           "ST ELIZABETH SETON CATHOLIC SCHOOL"
          ],
          [
           "ST EUGENE CATHOLIC SCHOOL"
          ],
          [
           "ST FIDELIS CATHOLIC SCHOOL"
          ],
          [
           "ST FLORENCE CATHOLIC SCHOOL"
          ],
          [
           "ST FRANCIS DE SALES CATHOLIC SCHOOL"
          ],
          [
           "ST FRANCIS OF ASSISI CATHOLIC SCHOOL"
          ],
          [
           "ST FRANCIS XAVIER CATHOLIC SCHOOL"
          ],
          [
           "ST GABRIEL CATHOLIC SCHOOL"
          ],
          [
           "ST GABRIEL LALEMANT CATHOLIC SCHOOL"
          ],
          [
           "ST GEORGE'S JUNIOR SCHOOL"
          ],
          [
           "ST GERALD CATHOLIC SCHOOL"
          ],
          [
           "ST GREGORY CATHOLIC SCHOOL"
          ],
          [
           "ST HELEN CATHOLIC SCHOOL"
          ],
          [
           "ST HENRY CATHOLIC SCHOOL"
          ],
          [
           "ST IGNATIUS OF LOYOLA CATHOLIC SCHOOL"
          ],
          [
           "ST ISAAC JOGUES CATHOLIC SCHOOL"
          ],
          [
           "ST JAMES CATHOLIC SCHOOL"
          ],
          [
           "ST JANE FRANCES CATHOLIC SCHOOL"
          ],
          [
           "ST JEAN DE BREBEUF CATHOLIC SCHOOL"
          ],
          [
           "ST JEROME CATHOLIC SCHOOL"
          ],
          [
           "ST JOACHIM CATHOLIC SCHOOL"
          ],
          [
           "ST JOHN BOSCO CATHOLIC SCHOOL"
          ],
          [
           "ST JOHN CATHOLIC SCHOOL"
          ],
          [
           "ST JOHN PAUL II CATHOLIC SECONDARY SCHOOL"
          ],
          [
           "ST JOHN THE EVANGELIST CATHOLIC SCHOOL"
          ],
          [
           "ST JOHN VIANNEY CATHOLIC SCHOOL"
          ],
          [
           "ST JOHN XXIII CATHOLIC SCHOOL"
          ],
          [
           "ST JOSAPHAT CATHOLIC SCHOOL"
          ],
          [
           "ST JOSEPH CATHOLIC SCHOOL"
          ],
          [
           "ST JOSEPH'S COLLEGE SCHOOL"
          ],
          [
           "ST JOSEPHS MORROW PARK HIGH SCHOOL"
          ],
          [
           "ST JUDE CATHOLIC SCHOOL"
          ],
          [
           "ST KATERI TEKAKWITHA CATHOLIC SCHOOL"
          ],
          [
           "ST KEVIN CATHOLIC SCHOOL"
          ],
          [
           "ST LAWRENCE CATHOLIC SCHOOL"
          ],
          [
           "ST LEO CATHOLIC SCHOOL"
          ],
          [
           "ST LOUIS CATHOLIC SCHOOL"
          ],
          [
           "ST LUIGI CATHOLIC SCHOOL"
          ],
          [
           "ST MALACHY CATHOLIC SCHOOL"
          ],
          [
           "ST MARCELLUS CATHOLIC SCHOOL"
          ],
          [
           "ST MARGARET CATHOLIC SCHOOL"
          ],
          [
           "ST MARGARET'S PUBLIC SCHOOL"
          ],
          [
           "ST MARGUERITE BOURGEOYS CATHOLIC SCHOOL"
          ],
          [
           "ST MARIA GORETTI CATHOLIC SCHOOL"
          ],
          [
           "ST MARTIN DE PORRES CATHOLIC SCHOOL"
          ],
          [
           "ST MARY CATHOLIC SCHOOL"
          ],
          [
           "ST MARY OF THE ANGELS CATHOLIC SCHOOL"
          ],
          [
           "ST MARY'S CATHOLIC SECONDARY SCHOOL"
          ],
          [
           "ST MATTHEW CATHOLIC SCHOOL"
          ],
          [
           "ST MATTHIAS CATHOLIC SCHOOL"
          ],
          [
           "ST MAURICE CATHOLIC SCHOOL"
          ],
          [
           "ST MICHAEL CATHOLIC SCHOOL"
          ],
          [
           "ST MICHAEL'S CHOIR (JR) SCHOOL"
          ],
          [
           "ST MICHAEL'S CHOIR (SR) SCHOOL"
          ],
          [
           "ST MONICA CATHOLIC SCHOOL"
          ],
          [
           "ST MOTHER TERESA CATHOLIC ACADEMY"
          ],
          [
           "ST NICHOLAS CATHOLIC SCHOOL"
          ],
          [
           "ST NICHOLAS OF BARI CATHOLIC SCHOOL"
          ],
          [
           "ST NORBERT CATHOLIC SCHOOL"
          ],
          [
           "ST PASCHAL BAYLON CATHOLIC SCHOOL"
          ],
          [
           "ST PATRICK CATHOLIC SECONDARY SCHOOL"
          ],
          [
           "ST PAUL CATHOLIC SCHOOL"
          ],
          [
           "ST PIUS X CATHOLIC SCHOOL"
          ],
          [
           "ST RAPHAEL CATHOLIC SCHOOL"
          ],
          [
           "ST RENE GOUPIL CATHOLIC SCHOOL"
          ],
          [
           "ST RICHARD CATHOLIC SCHOOL"
          ],
          [
           "ST RITA CATHOLIC SCHOOL"
          ],
          [
           "ST ROBERT CATHOLIC SCHOOL"
          ],
          [
           "ST ROCH CATHOLIC SCHOOL"
          ],
          [
           "ST ROSE OF LIMA CATHOLIC SCHOOL"
          ],
          [
           "ST SEBASTIAN CATHOLIC SCHOOL"
          ],
          [
           "ST SIMON CATHOLIC SCHOOL"
          ],
          [
           "ST STEPHEN CATHOLIC SCHOOL"
          ],
          [
           "ST SYLVESTER CATHOLIC SCHOOL"
          ],
          [
           "ST TERESA CATHOLIC SCHOOL"
          ],
          [
           "ST THERESA SHRINE CATHOLIC SCHOOL"
          ],
          [
           "ST THOMAS AQUINAS CATHOLIC SCHOOL"
          ],
          [
           "ST THOMAS MORE CATHOLIC SCHOOL"
          ],
          [
           "ST TIMOTHY CATHOLIC SCHOOL"
          ],
          [
           "ST URSULA CATHOLIC SCHOOL"
          ],
          [
           "ST VICTOR CATHOLIC SCHOOL"
          ],
          [
           "ST VINCENT DE PAUL CATHOLIC SCHOOL"
          ],
          [
           "ST WILFRID CATHOLIC SCHOOL"
          ],
          [
           "STANLEY PUBLIC SCHOOL"
          ],
          [
           "STEELESVIEW PUBLIC SCHOOL"
          ],
          [
           "STELLA MARIS CATHOLIC SCHOOL"
          ],
          [
           "STEPHEN LEACOCK COLLEGIATE INSTITUTE"
          ],
          [
           "STILECROFT PUBLIC SCHOOL"
          ],
          [
           "STS COSMAS AND DAMIAN CATHOLIC SCHOOL"
          ],
          [
           "SUBWAY ACADEMY I"
          ],
          [
           "SUBWAY ACADEMY II"
          ],
          [
           "SUMMIT HEIGHTS PUBLIC SCHOOL"
          ],
          [
           "SUNNY VIEW JUNIOR AND SENIOR PUBLIC SCHOOL"
          ],
          [
           "SUNNYLEA JUNIOR SCHOOL"
          ],
          [
           "SWANSEA JUNIOR AND SENIOR PUBLIC SCHOOL"
          ],
          [
           "TAM O'SHANTER JUNIOR PUBLIC SCHOOL"
          ],
          [
           "TAYLOR CREEK PUBLIC SCHOOL"
          ],
          [
           "TECUMSEH SENIOR PUBLIC SCHOOL"
          ],
          [
           "TERRAVIEW-WILLOWFIELD PUBLIC SCHOOL"
          ],
          [
           "TERRY FOX PUBLIC SCHOOL"
          ],
          [
           "THE DIVINE INFANT CATHOLIC SCHOOL"
          ],
          [
           "THE ELMS JUNIOR MIDDLE SCHOOL"
          ],
          [
           "THE GROVE COMMUNITY SCHOOL"
          ],
          [
           "THE HOLY TRINITY CATHOLIC SCHOOL"
          ],
          [
           "THE STUDENT SCHOOL"
          ],
          [
           "THE WATERFRONT SCHOOL"
          ],
          [
           "THISTLETOWN COLLEGIATE INSTITUTE"
          ],
          [
           "THOMAS L WELLS PUBLIC SCHOOL"
          ],
          [
           "THORNCLIFFE PARK PUBLIC SCHOOL"
          ],
          [
           "THREE VALLEYS PUBLIC SCHOOL"
          ],
          [
           "TIMBERBANK JUNIOR PUBLIC SCHOOL"
          ],
          [
           "TOM LONGBOAT JUNIOR PUBLIC SCHOOL"
          ],
          [
           "TOPCLIFF PUBLIC SCHOOL"
          ],
          [
           "TRANSFIGURATION OF OUR LORD CATHOLIC SCHOOL"
          ],
          [
           "TREDWAY WOODSWORTH PUBLIC SCHOOL"
          ],
          [
           "TUMPANE PUBLIC SCHOOL"
          ],
          [
           "TWENTIETH STREET JUNIOR SCHOOL"
          ],
          [
           "URSULA FRANKLIN ACADEMY"
          ],
          [
           "VALLEY PARK MIDDLE SCHOOL"
          ],
          [
           "VALLEYFIELD JUNIOR SCHOOL"
          ],
          [
           "VENERABLE JOHN MERLINI CATHOLIC SCHOOL"
          ],
          [
           "VICTORIA PARK COLLEGIATE INSTITUTE"
          ],
          [
           "VICTORIA PARK ELEMENTARY SCHOOL"
          ],
          [
           "VICTORIA VILLAGE PUBLIC SCHOOL"
          ],
          [
           "VRADENBURG JUNIOR PUBLIC SCHOOL"
          ],
          [
           "WALTER PERRY JUNIOR PUBLIC SCHOOL"
          ],
          [
           "WARREN PARK JUNIOR PUBLIC SCHOOL"
          ],
          [
           "WEDGEWOOD JUNIOR SCHOOL"
          ],
          [
           "WELLESWORTH JUNIOR SCHOOL"
          ],
          [
           "WEST END ALTERNATIVE SCHOOL"
          ],
          [
           "WEST GLEN JUNIOR SCHOOL"
          ],
          [
           "WEST HILL COLLEGIATE INSTITUTE"
          ],
          [
           "WEST HILL PUBLIC SCHOOL"
          ],
          [
           "WEST HUMBER COLLEGIATE INSTITUTE"
          ],
          [
           "WEST HUMBER JUNIOR MIDDLE SCHOOL"
          ],
          [
           "WEST PREPARATORY JUNIOR PUBLIC SCHOOL"
          ],
          [
           "WEST ROUGE JUNIOR PUBLIC SCHOOL"
          ],
          [
           "WESTERN TECHNICAL & COMMERCIAL SCHOOL"
          ],
          [
           "WESTMOUNT JUNIOR SCHOOL"
          ],
          [
           "WESTON COLLEGIATE INSTITUTE"
          ],
          [
           "WESTON MEMORIAL JUNIOR PUBLIC SCHOOL"
          ],
          [
           "WESTVIEW CENTENNIAL SECONDARY SCHOOL"
          ],
          [
           "WESTWAY JUNIOR SCHOOL"
          ],
          [
           "WESTWOOD MIDDLE SCHOOL"
          ],
          [
           "WEXFORD COLLEGIATE SCHOOL FOR THE ARTS"
          ],
          [
           "WEXFORD PUBLIC SCHOOL"
          ],
          [
           "WHITE HAVEN JUNIOR PUBLIC SCHOOL"
          ],
          [
           "WHITNEY JUNIOR PUBLIC SCHOOL"
          ],
          [
           "WILKINSON JUNIOR PUBLIC SCHOOL"
          ],
          [
           "WILLIAM BURGESS ELEMENTARY SCHOOL"
          ],
          [
           "WILLIAM G DAVIS JUNIOR PUBLIC SCHOOL"
          ],
          [
           "WILLIAM G MILLER JUNIOR PUBLIC SCHOOL"
          ],
          [
           "WILLIAM J MCCORDIC SCHOOL"
          ],
          [
           "WILLIAM LYON MACKENZIE COLLEGIATE INSTITUTE"
          ],
          [
           "WILLIAMSON ROAD JUNIOR PUBLIC SCHOOL"
          ],
          [
           "WILLOW PARK JUNIOR PUBLIC SCHOOL"
          ],
          [
           "WILLOWDALE MIDDLE SCHOOL"
          ],
          [
           "WILMINGTON ELEMENTARY SCHOOL"
          ],
          [
           "WINCHESTER JUNIOR AND SENIOR PUBLIC SCHOOL"
          ],
          [
           "WINDFIELDS MIDDLE SCHOOL"
          ],
          [
           "WINONA DRIVE SENIOR PUBLIC SCHOOL"
          ],
          [
           "WINSTON CHURCHILL COLLEGIATE INSTITUTE"
          ],
          [
           "WITHROW AVENUE JUNIOR PUBLIC SCHOOL"
          ],
          [
           "WOBURN COLLEGIATE INSTITUTE"
          ],
          [
           "WOBURN JUNIOR PUBLIC SCHOOL"
          ],
          [
           "WOODBINE JUNIOR HIGH SCHOOL"
          ],
          [
           "YORK HUMBER HIGH SCHOOL"
          ],
          [
           "YORK MEMORIAL COLLEGIATE INSTITUTE"
          ],
          [
           "YORK MILLS COLLEGIATE INSTITUTE"
          ],
          [
           "YORKVIEW PUBLIC SCHOOL"
          ],
          [
           "YORKWOODS PUBLIC SCHOOL"
          ],
          [
           "ZION HEIGHTS JUNIOR HIGH SCHOOL"
          ]
         ],
         "hovertemplate": "year=2017-2018<br>vax=MMR<br>Enrolled population=%{x}<br>Coverage Rate (%)=%{y}<br>School Name=%{customdata[0]}<br>Religious Exemption Rate (%)=%{marker.color}<extra></extra>",
         "legendgroup": "",
         "marker": {
          "color": [
           1,
           1.8,
           3.6,
           19.7,
           1,
           0,
           0,
           0.3,
           1.1,
           1.8,
           0.9,
           0.6,
           3.6,
           2.2,
           27.8,
           21.1,
           0,
           1.3,
           1.1,
           0,
           2.4,
           2.3,
           0.8,
           0,
           1.4,
           3.5,
           6.3,
           1.5,
           2,
           0,
           3.4,
           2.3,
           0,
           4.9,
           0.4,
           17.6,
           0.3,
           2.3,
           1,
           11.1,
           2.5,
           0,
           1,
           0,
           1.8,
           1.6,
           3.6,
           1.3,
           0.6,
           1.8,
           0.9,
           2.4,
           0.7,
           1.5,
           2.2,
           3.2,
           1.4,
           0.3,
           1,
           0.5,
           1.1,
           0,
           2.9,
           2.2,
           1.8,
           2.1,
           2.4,
           2.4,
           2.2,
           3.1,
           0,
           0,
           2.6,
           3.1,
           2.5,
           0.5,
           3.5,
           5.2,
           3.4,
           1.3,
           0,
           0.2,
           0.5,
           2.1,
           1.9,
           2.5,
           0.9,
           0,
           0,
           1.4,
           1,
           0,
           3.4,
           2.2,
           0,
           2.7,
           0.5,
           2.2,
           0.7,
           0.6,
           1.1,
           1.4,
           2.3,
           2.9,
           7.7,
           2.5,
           3.4,
           1.8,
           1,
           0.8,
           2.8,
           2.1,
           1.7,
           5.7,
           0,
           4.5,
           2.3,
           7.1,
           1,
           8.5,
           5.4,
           1.4,
           0.7,
           2.4,
           8.7,
           20.4,
           0.8,
           1.9,
           3,
           0,
           1.4,
           3,
           3.5,
           4.8,
           1.4,
           3.1,
           0,
           0.7,
           1.9,
           2.5,
           6.4,
           0.6,
           3.3,
           0,
           0.2,
           2.3,
           44.1,
           2.5,
           0,
           2.1,
           1,
           0.8,
           0,
           1.2,
           4.7,
           0,
           2.2,
           0,
           3.1,
           3.2,
           10,
           3.1,
           4.3,
           1.8,
           6.2,
           4.5,
           0.3,
           1.9,
           2,
           0.8,
           1.7,
           1.9,
           0.7,
           2.8,
           2.1,
           1.7,
           7.7,
           6.4,
           1.1,
           0.3,
           1.4,
           0,
           3,
           3,
           2.7,
           2.5,
           4.2,
           2.4,
           3.1,
           1.2,
           3.2,
           0,
           2.4,
           0.9,
           0,
           0,
           0,
           1.4,
           5.8,
           3.7,
           1,
           5.7,
           2.4,
           0,
           0,
           0,
           3,
           3,
           2.9,
           3,
           0,
           0,
           0.9,
           2.7,
           0.7,
           3.2,
           1.4,
           2.6,
           0,
           1,
           1.6,
           0,
           4.5,
           0.3,
           5.7,
           3.3,
           0.7,
           2.1,
           2.8,
           1.1,
           1.4,
           0,
           22.3,
           1.8,
           2.5,
           2.7,
           4,
           2.6,
           2,
           4.8,
           2.8,
           1.6,
           2.8,
           0,
           0,
           1.1,
           0.8,
           3.3,
           3,
           4.4,
           1.1,
           2.9,
           3.8,
           0,
           10,
           0.6,
           0,
           0,
           1.7,
           1.7,
           0.3,
           0.8,
           2.5,
           4.3,
           1.5,
           1.5,
           1.2,
           1.2,
           2.4,
           3.7,
           0,
           0,
           0.6,
           5.9,
           0.6,
           0,
           1.1,
           2.5,
           0.8,
           0.4,
           3.9,
           0,
           3.8,
           1.7,
           3.1,
           0.7,
           1,
           0,
           3.8,
           0,
           1.1,
           0,
           0,
           3.8,
           0.6,
           2.6,
           8.6,
           1.3,
           0.9,
           1.3,
           3.1,
           1.3,
           0.9,
           0.3,
           4.3,
           0,
           0.7,
           0.3,
           0.5,
           1.7,
           15.8,
           0.5,
           0.3,
           0.8,
           1.1,
           1,
           0,
           3.2,
           0,
           2.9,
           2.1,
           2.7,
           1.1,
           2.3,
           0,
           1,
           1.4,
           1.5,
           1.3,
           0,
           7.5,
           4.9,
           0.9,
           6,
           2.8,
           2.7,
           0.4,
           4.2,
           0.8,
           4.9,
           0,
           0,
           5.2,
           8.3,
           0.9,
           0,
           0,
           3.6,
           1.4,
           1.2,
           0,
           2.6,
           1,
           5.1,
           0.4,
           0.4,
           4.6,
           0.8,
           0.3,
           3.3,
           0,
           0,
           0.5,
           4,
           4.1,
           2.7,
           3.4,
           1.4,
           1.4,
           2.6,
           0.9,
           1,
           1.5,
           8.4,
           0,
           8.1,
           4.7,
           0,
           0,
           3.7,
           2.9,
           0,
           2.7,
           3.2,
           2.9,
           1,
           0.2,
           0,
           2.8,
           0,
           3.2,
           0,
           1.6,
           4,
           2,
           2.3,
           1.8,
           1.2,
           2.4,
           1.1,
           0.9,
           2.5,
           0,
           0.4,
           3.9,
           0.5,
           1.6,
           0.5,
           0,
           5.3,
           3.5,
           2.4,
           0.4,
           0.1,
           3.2,
           1,
           4.3,
           5,
           3.6,
           0.6,
           1.8,
           0.6,
           0.9,
           0.4,
           1.2,
           1.9,
           0.6,
           1.5,
           0.3,
           4.2,
           2,
           0,
           2,
           0.7,
           10,
           1.3,
           1.1,
           1.6,
           2.3,
           0,
           0,
           0,
           0,
           0,
           0.9,
           1.2,
           0.5,
           2.4,
           1.8,
           5.9,
           1.2,
           0,
           0,
           0,
           0.7,
           1.8,
           5,
           2.9,
           1.7,
           1.5,
           1.8,
           2.1,
           1.5,
           3.5,
           1.4,
           0.9,
           0,
           3.1,
           1.9,
           2.3,
           0.7,
           1.4,
           0,
           3.4,
           1.9,
           1,
           4.2,
           0.5,
           0.7,
           0.6,
           3.3,
           8.2,
           0,
           1.1,
           0.9,
           2.6,
           4.1,
           1.7,
           0.6,
           1,
           0,
           3.5,
           0.5,
           2.3,
           1.3,
           0.2,
           3.4,
           1.6,
           4.7,
           6.7,
           2.2,
           2.7,
           2.2,
           3.1,
           1.8,
           0,
           2.8,
           0,
           3.7,
           2.5,
           0,
           4.5,
           0.5,
           0,
           2.4,
           1.2,
           0.6,
           1.4,
           1,
           2.5,
           1,
           4,
           1,
           1.8,
           2.9,
           2.5,
           7.6,
           0.6,
           1.6,
           2.2,
           1.1,
           0,
           2.3,
           2.2,
           0.6,
           1.3,
           1.5,
           2.9,
           1.6,
           3.8,
           3.2,
           0,
           2.3,
           1.5,
           2.6,
           1.1,
           0,
           8.4,
           0,
           1.8,
           5.5,
           0,
           1.2,
           1.7,
           1.3,
           1.4,
           1.2,
           0.5,
           0,
           0.3,
           0,
           1.4,
           0.8,
           2.3,
           2.1,
           4,
           3.1,
           1.4,
           0,
           3.8,
           4.7,
           0,
           1.5,
           8.4,
           0,
           0,
           3,
           3,
           4.5,
           1.3,
           1.3,
           1.2,
           2.2,
           1,
           1,
           0.7,
           0,
           0.2,
           0,
           8.3,
           1.2,
           0.8,
           2.4,
           0.5,
           1.1,
           1.4,
           4.6,
           0,
           0.2,
           2.3,
           0,
           0.6,
           3,
           2.4,
           0.4,
           0.3,
           1.4,
           1.1,
           5.8,
           0.7,
           0,
           0.5,
           1.2,
           1.1,
           0,
           0.6,
           2,
           5.4,
           4.2,
           2,
           1.1,
           0.7,
           1.6,
           2.1,
           1.5,
           3,
           0.6,
           1.1,
           6.6,
           3.9,
           1.3,
           1,
           0.7,
           0,
           1.1,
           2,
           1.9,
           2.8,
           2.9,
           0.9,
           0,
           3.4,
           0.6,
           1.6,
           2.1,
           2.5,
           1.1,
           3.1,
           0.8,
           0.6,
           3.9,
           0,
           0.9,
           0.5,
           0.7,
           0.3,
           0,
           0,
           0.7,
           0.6,
           0,
           3,
           0.4,
           7.8,
           0.8,
           0.9,
           0.6,
           0,
           2.7,
           0.7,
           0.7,
           1.8,
           1.7,
           0,
           1.1,
           1.7,
           0.5,
           1.8,
           0,
           0.2,
           0,
           1.6,
           0,
           1.3,
           0.3,
           2.4,
           0,
           1,
           3,
           2.2,
           1,
           2.2,
           1.3,
           0.5,
           1.9,
           0.2,
           0.9,
           0,
           1.3,
           1,
           0,
           0.8,
           0,
           0.5,
           0,
           0,
           3.7,
           0.6,
           0.4,
           1.8,
           0.6,
           0,
           0,
           0,
           1.3,
           0.6,
           0.5,
           3.4,
           0.5,
           1.1,
           0.6,
           0.4,
           0.7,
           1,
           0.9,
           9.1,
           2,
           2.5,
           3.5,
           3.8,
           3.3,
           0.6,
           0,
           0.4,
           3.9,
           0,
           1.3,
           1.5,
           24.1,
           2.4,
           1.5,
           4.1,
           0.9,
           0,
           0.2,
           2.2,
           0,
           1.4,
           0,
           2.2,
           0.8,
           1.7,
           7,
           4.2,
           0.4,
           1.8,
           1.1,
           0.8,
           0,
           2.9,
           0,
           1.9,
           6.9,
           1.1,
           2.7,
           5.5,
           3.9,
           1.5,
           2.9,
           0.9,
           0.3,
           3.7,
           5,
           3.7,
           2,
           1.2,
           1.6,
           0.5,
           2.2,
           2.9,
           2.1,
           1.3,
           1,
           2.4,
           1.8,
           3.5,
           0,
           3.4,
           3.8,
           2.6,
           2.1,
           0,
           2,
           0,
           2.7,
           2.4,
           5.1,
           1.6,
           2.7,
           0.2,
           0,
           1.1,
           3.2,
           2.4,
           1.3,
           2.3,
           1.1,
           0.8
          ],
          "coloraxis": "coloraxis",
          "symbol": "circle"
         },
         "mode": "markers",
         "name": "",
         "showlegend": false,
         "type": "scattergl",
         "x": [
          1070,
          110,
          247,
          66,
          1253,
          109,
          180,
          1154,
          262,
          280,
          229,
          179,
          559,
          409,
          36,
          19,
          70,
          317,
          268,
          48,
          335,
          216,
          131,
          103,
          138,
          144,
          80,
          195,
          49,
          108,
          207,
          43,
          186,
          61,
          453,
          34,
          378,
          474,
          193,
          45,
          324,
          188,
          105,
          129,
          381,
          433,
          55,
          235,
          163,
          224,
          886,
          1583,
          714,
          67,
          134,
          157,
          73,
          698,
          996,
          209,
          189,
          196,
          343,
          137,
          283,
          846,
          370,
          286,
          223,
          607,
          47,
          69,
          155,
          162,
          120,
          186,
          202,
          248,
          177,
          152,
          120,
          456,
          423,
          283,
          107,
          204,
          112,
          147,
          185,
          422,
          776,
          201,
          147,
          135,
          196,
          808,
          193,
          180,
          137,
          343,
          1101,
          367,
          256,
          138,
          104,
          959,
          587,
          109,
          922,
          263,
          107,
          330,
          356,
          210,
          91,
          88,
          218,
          70,
          201,
          59,
          92,
          145,
          278,
          165,
          104,
          54,
          119,
          359,
          300,
          134,
          142,
          234,
          115,
          165,
          70,
          64,
          375,
          273,
          642,
          79,
          188,
          180,
          151,
          124,
          425,
          426,
          34,
          201,
          77,
          982,
          313,
          841,
          178,
          1003,
          106,
          302,
          228,
          186,
          355,
          93,
          60,
          225,
          47,
          167,
          243,
          199,
          576,
          971,
          410,
          367,
          356,
          375,
          151,
          248,
          95,
          583,
          52,
          47,
          274,
          969,
          69,
          190,
          563,
          633,
          150,
          161,
          212,
          453,
          295,
          1873,
          62,
          114,
          1040,
          116,
          201,
          100,
          147,
          148,
          104,
          135,
          201,
          212,
          124,
          82,
          42,
          46,
          168,
          164,
          280,
          169,
          102,
          70,
          223,
          110,
          148,
          222,
          74,
          78,
          83,
          207,
          127,
          112,
          110,
          297,
          175,
          180,
          422,
          237,
          176,
          554,
          210,
          115,
          112,
          55,
          199,
          185,
          176,
          76,
          1004,
          939,
          36,
          61,
          217,
          53,
          215,
          281,
          917,
          1229,
          332,
          274,
          94,
          485,
          105,
          151,
          130,
          160,
          174,
          101,
          954,
          650,
          302,
          906,
          79,
          187,
          134,
          130,
          411,
          243,
          248,
          108,
          66,
          260,
          488,
          68,
          162,
          52,
          373,
          162,
          500,
          850,
          155,
          257,
          186,
          416,
          254,
          151,
          770,
          151,
          372,
          111,
          278,
          102,
          213,
          53,
          509,
          115,
          58,
          371,
          114,
          236,
          1016,
          75,
          117,
          288,
          94,
          89,
          287,
          298,
          190,
          116,
          76,
          198,
          290,
          127,
          94,
          486,
          70,
          185,
          89,
          561,
          533,
          475,
          180,
          302,
          206,
          202,
          138,
          203,
          152,
          264,
          67,
          267,
          458,
          252,
          430,
          1212,
          469,
          331,
          256,
          163,
          298,
          105,
          174,
          72,
          109,
          219,
          217,
          112,
          278,
          416,
          126,
          152,
          197,
          315,
          851,
          275,
          283,
          660,
          860,
          304,
          335,
          185,
          193,
          626,
          220,
          482,
          145,
          352,
          871,
          308,
          346,
          397,
          393,
          357,
          121,
          172,
          295,
          62,
          352,
          82,
          238,
          141,
          474,
          93,
          103,
          198,
          449,
          314,
          640,
          137,
          401,
          56,
          495,
          199,
          148,
          1192,
          969,
          339,
          84,
          182,
          1334,
          324,
          99,
          275,
          128,
          205,
          938,
          444,
          124,
          57,
          86,
          82,
          279,
          676,
          1114,
          197,
          47,
          140,
          112,
          1701,
          170,
          1087,
          1111,
          262,
          1041,
          156,
          175,
          268,
          308,
          288,
          152,
          88,
          1887,
          282,
          60,
          159,
          185,
          580,
          829,
          99,
          73,
          34,
          44,
          15,
          964,
          84,
          202,
          251,
          111,
          51,
          170,
          114,
          56,
          72,
          144,
          109,
          20,
          277,
          840,
          195,
          857,
          97,
          65,
          85,
          496,
          225,
          790,
          64,
          107,
          44,
          417,
          1312,
          29,
          1697,
          469,
          1598,
          142,
          665,
          419,
          172,
          399,
          97,
          55,
          87,
          211,
          114,
          148,
          477,
          176,
          99,
          334,
          399,
          197,
          515,
          240,
          419,
          205,
          250,
          212,
          120,
          178,
          328,
          504,
          286,
          110,
          69,
          72,
          119,
          134,
          121,
          158,
          134,
          404,
          51,
          249,
          334,
          161,
          138,
          205,
          443,
          298,
          101,
          201,
          169,
          345,
          519,
          66,
          1264,
          307,
          135,
          278,
          89,
          427,
          277,
          318,
          237,
          132,
          1047,
          122,
          80,
          1206,
          169,
          303,
          336,
          233,
          190,
          303,
          1062,
          119,
          166,
          183,
          146,
          84,
          545,
          601,
          278,
          170,
          376,
          137,
          1199,
          121,
          72,
          120,
          298,
          239,
          75,
          128,
          1364,
          150,
          53,
          86,
          126,
          67,
          83,
          104,
          221,
          879,
          201,
          178,
          398,
          374,
          1130,
          1074,
          192,
          1348,
          141,
          96,
          637,
          64,
          60,
          168,
          244,
          207,
          184,
          281,
          140,
          219,
          365,
          459,
          392,
          191,
          322,
          233,
          207,
          242,
          342,
          207,
          187,
          52,
          1304,
          93,
          385,
          404,
          377,
          209,
          354,
          355,
          149,
          71,
          394,
          176,
          270,
          254,
          283,
          328,
          134,
          349,
          178,
          166,
          179,
          159,
          200,
          142,
          156,
          285,
          147,
          103,
          218,
          376,
          108,
          280,
          117,
          326,
          186,
          97,
          81,
          180,
          458,
          258,
          154,
          76,
          201,
          113,
          436,
          140,
          317,
          173,
          199,
          284,
          1311,
          259,
          234,
          264,
          90,
          125,
          771,
          468,
          475,
          186,
          150,
          288,
          168,
          118,
          79,
          184,
          242,
          416,
          171,
          58,
          637,
          257,
          187,
          150,
          690,
          338,
          169,
          170,
          105,
          167,
          89,
          195,
          414,
          232,
          393,
          210,
          450,
          782,
          104,
          315,
          301,
          118,
          260,
          51,
          381,
          229,
          274,
          136,
          319,
          270,
          110,
          170,
          123,
          331,
          208,
          392,
          158,
          203,
          208,
          411,
          175,
          173,
          224,
          582,
          100,
          231,
          44,
          51,
          239,
          57,
          133,
          553,
          161,
          235,
          263,
          178,
          243,
          77,
          262,
          58,
          210,
          66,
          121,
          467,
          349,
          829,
          138,
          118,
          148,
          160,
          276,
          511,
          173,
          71,
          525,
          983,
          170,
          174,
          1215,
          72,
          105,
          121,
          154,
          87,
          181,
          73,
          73,
          77,
          651,
          136,
          1060,
          308,
          273,
          160,
          1068,
          99,
          928,
          128,
          821,
          90,
          373,
          1121,
          230,
          306,
          127,
          272,
          143,
          125,
          325,
          52,
          1407,
          288,
          186,
          544,
          51,
          297,
          665,
          414,
          561,
          299,
          900,
          185,
          358,
          154,
          887,
          1233,
          175,
          180,
          596
         ],
         "xaxis": "x4",
         "y": [
          95.7,
          90,
          94.3,
          72.7,
          97.8,
          98.2,
          97.8,
          95,
          95.4,
          93.6,
          91.3,
          95.5,
          94.6,
          94.9,
          69.4,
          68.4,
          97.1,
          96.2,
          93.3,
          95.8,
          93.1,
          93.1,
          92.4,
          98.1,
          97.1,
          92.4,
          92.5,
          91.8,
          91.8,
          96.3,
          96.6,
          90.7,
          93,
          90.2,
          90.3,
          82.4,
          93.4,
          93.9,
          88.1,
          84.4,
          96.3,
          93.1,
          98.1,
          97.7,
          94.5,
          91.5,
          89.1,
          97,
          97.5,
          94.6,
          94.7,
          94.4,
          93.1,
          94,
          96.3,
          93.6,
          95.9,
          95.1,
          96.4,
          98.6,
          96.8,
          94.4,
          92.7,
          93.4,
          92.6,
          95.6,
          93.2,
          95.8,
          94.6,
          95.7,
          93.6,
          92.8,
          89.7,
          92.6,
          95,
          96.2,
          92.6,
          92.7,
          90.4,
          94.1,
          95.8,
          98,
          93.9,
          87.3,
          93.5,
          94.1,
          93.8,
          61.2,
          94.1,
          89.1,
          91.1,
          76.6,
          78.2,
          95.6,
          95.9,
          95.9,
          97.9,
          86.1,
          95.6,
          95.9,
          94.6,
          94.3,
          96.5,
          96.4,
          91.3,
          90.1,
          84.2,
          87.2,
          98.2,
          90.9,
          93.5,
          90.3,
          89.3,
          91.9,
          100,
          90.9,
          94,
          90,
          94,
          64.4,
          93.5,
          90.3,
          95.7,
          93.3,
          89.4,
          77.8,
          91.6,
          95.3,
          96.7,
          97.8,
          97.2,
          91.5,
          76.5,
          89.1,
          95.7,
          93.8,
          97.9,
          94.9,
          94.4,
          96.2,
          91.5,
          93.9,
          94.7,
          96,
          92,
          91.8,
          55.9,
          91,
          96.1,
          95.8,
          92.3,
          92.3,
          97.8,
          93.2,
          87.7,
          92.7,
          89.9,
          95.7,
          87.9,
          94.6,
          88.3,
          96,
          89.4,
          94.6,
          90.9,
          93.5,
          91.3,
          95,
          93.2,
          95.6,
          87.4,
          95.2,
          94,
          91.5,
          91.6,
          87,
          90.4,
          89.4,
          93.4,
          97.3,
          91.3,
          93.7,
          86.9,
          96.5,
          92,
          95.7,
          92.5,
          95.8,
          95.3,
          95.4,
          96.8,
          97.4,
          94.5,
          93.1,
          83.1,
          98,
          93.2,
          87.2,
          87.5,
          90.4,
          93,
          92,
          87.9,
          91.5,
          76.2,
          71.7,
          93.5,
          87.8,
          93.9,
          92.9,
          96.1,
          97.1,
          98.7,
          93.6,
          95.3,
          93.7,
          93.2,
          94.9,
          95.2,
          87,
          92.1,
          94.6,
          93.6,
          93.3,
          93.7,
          92.8,
          95.5,
          84,
          86.9,
          90.4,
          95.2,
          89.6,
          77.7,
          96.4,
          92.5,
          92.4,
          90.9,
          96.1,
          95.7,
          93.1,
          97.2,
          93.4,
          93.1,
          96.2,
          98.6,
          92.2,
          93.5,
          93.1,
          95.5,
          89.4,
          92.6,
          96.7,
          92.4,
          91.4,
          74.6,
          91.3,
          98.3,
          89.1,
          95,
          90.2,
          87.7,
          94.9,
          97.5,
          91.4,
          94,
          95.4,
          86.9,
          88.9,
          91.5,
          89.8,
          97,
          93.5,
          83.6,
          92.6,
          96.3,
          96.2,
          90.1,
          88.9,
          90.2,
          81.8,
          89,
          96.5,
          93,
          97.4,
          94.1,
          96.7,
          95.6,
          96.7,
          88.7,
          94.6,
          93.5,
          94.1,
          91.1,
          94.3,
          87.8,
          91.3,
          89.7,
          93.3,
          94.7,
          91.1,
          95.9,
          96,
          96.6,
          92,
          94.7,
          97.8,
          96.2,
          96.6,
          93.7,
          97.4,
          84.2,
          92.4,
          96.6,
          98.4,
          95.7,
          95.9,
          97.1,
          89.7,
          97.8,
          93.6,
          90.2,
          92.8,
          91.7,
          94,
          92.2,
          91.6,
          92,
          97,
          91.4,
          90.5,
          91,
          88.4,
          87.1,
          88.9,
          96,
          96.2,
          97.2,
          91.8,
          95.7,
          93.3,
          96.3,
          95.2,
          90.8,
          90.3,
          96.3,
          91.3,
          99.1,
          94.6,
          89.9,
          97.8,
          98.4,
          93.4,
          98,
          90.5,
          89,
          97.5,
          91.2,
          93.9,
          92.4,
          83.9,
          95.8,
          91.4,
          92.2,
          94.7,
          94.1,
          91.9,
          95.2,
          96,
          84.4,
          93.2,
          96.2,
          92.2,
          96.2,
          86.8,
          95,
          90.7,
          87.5,
          96.8,
          97.2,
          93.9,
          94.1,
          99.3,
          92,
          96.8,
          93.2,
          85.9,
          89.1,
          86.3,
          93.3,
          86.1,
          95.3,
          85.7,
          89.7,
          92.5,
          93.9,
          96.8,
          97.6,
          92,
          90.5,
          93.4,
          97.5,
          97.2,
          97,
          92.4,
          94.5,
          91.2,
          96.9,
          97.7,
          99.2,
          80.7,
          95.3,
          89,
          92.1,
          93,
          96.1,
          92.4,
          93.6,
          89.3,
          95.5,
          93.2,
          90,
          96.5,
          96.2,
          93.9,
          96.3,
          92.3,
          89.7,
          96.6,
          92.2,
          90.3,
          92.8,
          96.6,
          94.8,
          85.5,
          90,
          95,
          96.8,
          93.3,
          95.9,
          98,
          98.6,
          97.1,
          93.2,
          93.3,
          94.7,
          98.8,
          95,
          92.8,
          94.6,
          92.2,
          98.2,
          87.7,
          89.3,
          87.5,
          92.4,
          75.2,
          80,
          90.3,
          97,
          92.8,
          86.3,
          92.8,
          98.5,
          96.5,
          97.2,
          95.1,
          97.1,
          95.3,
          94.4,
          95.5,
          88.7,
          96.5,
          96.6,
          95.2,
          94.7,
          92.2,
          95.1,
          97.3,
          91.9,
          94.8,
          94.5,
          88.7,
          94.5,
          95.4,
          83.4,
          95.6,
          91.2,
          92.2,
          96,
          83.8,
          93.4,
          95,
          95.9,
          95.9,
          78.8,
          92.4,
          93.7,
          93.6,
          91,
          89.2,
          97.2,
          91.5,
          94.6,
          85.7,
          92.7,
          95.7,
          97.2,
          95,
          87.3,
          86,
          92.4,
          87.3,
          88.4,
          96.1,
          90.8,
          82.6,
          93.8,
          98.6,
          91.7,
          89.6,
          89.9,
          93.1,
          94.5,
          95.3,
          93.6,
          93.6,
          90.9,
          97.5,
          94.1,
          93.3,
          88.5,
          97.8,
          94.4,
          94.9,
          92.5,
          95.8,
          94.7,
          96.8,
          95.9,
          93.8,
          95.9,
          98.8,
          91.1,
          80.7,
          89.3,
          96.3,
          88.4,
          89.3,
          99.2,
          90.4,
          94,
          98.6,
          95.2,
          96.5,
          97.3,
          74.5,
          93.5,
          90.2,
          94.2,
          95.7,
          93.4,
          97.2,
          95,
          91.6,
          90,
          93.3,
          96.1,
          95.3,
          98.7,
          90.6,
          93,
          98.4,
          95.5,
          91.6,
          92.3,
          94.1,
          93.9,
          90,
          93.8,
          95.7,
          94.4,
          95.2,
          96.9,
          95.8,
          96.1,
          93.6,
          96.9,
          94.5,
          100,
          91.7,
          95.2,
          97.5,
          82.6,
          93.5,
          94,
          91.4,
          92.7,
          89.6,
          89.8,
          94.4,
          94.2,
          86.3,
          96.1,
          91.8,
          88.8,
          89.5,
          90.3,
          97.9,
          94.2,
          95.4,
          97.8,
          92.5,
          92.8,
          96,
          91.9,
          98.6,
          93.8,
          87.2,
          87.3,
          97.2,
          94.3,
          90.7,
          94.5,
          96.5,
          81.1,
          92.5,
          93.4,
          96.6,
          90.4,
          94.4,
          94.3,
          95,
          90.8,
          96.8,
          93.7,
          91.2,
          95.1,
          95.9,
          95.7,
          93.5,
          89.6,
          96.6,
          91.1,
          86.6,
          96.9,
          95.1,
          87.2,
          94.5,
          97.3,
          94.2,
          92.1,
          92.5,
          95.6,
          93.3,
          97.9,
          91.5,
          98.3,
          96.5,
          96.5,
          97.6,
          93.1,
          91.9,
          84.5,
          82.2,
          97.6,
          95.1,
          89.5,
          94.1,
          82.3,
          98,
          93.8,
          94,
          96.6,
          92.4,
          95.1,
          88,
          88.5,
          90.6,
          98.3,
          93.9,
          91.4,
          93.6,
          96,
          89.4,
          97.3,
          88.2,
          95.3,
          96.2,
          94.6,
          95.5,
          93.8,
          92,
          95.3,
          97.5,
          91,
          86.2,
          90.9,
          90.4,
          95.2,
          94,
          51.7,
          98.1,
          100,
          92.1,
          97.4,
          92.3,
          94.9,
          95,
          93.7,
          96.4,
          91.8,
          95.9,
          94.3,
          94.7,
          91.8,
          94.3,
          95.1,
          92.3,
          85.9,
          93.7,
          98.8,
          96.4,
          90.2,
          95,
          92.2,
          90.9,
          82.4,
          96.7,
          87.7,
          93.2,
          96.4,
          90.7,
          93.2,
          93.5,
          93.3,
          95.5,
          94.8,
          83.2,
          75.9,
          95.2,
          93.9,
          86.8,
          94.6,
          97.1,
          89.1,
          96.4,
          95.8,
          96.6,
          96.9,
          93.1,
          96.9,
          94.8,
          87.3,
          95,
          81,
          88.2,
          98.3,
          96,
          100,
          92.4,
          98.3,
          92.9,
          86.2,
          94.5,
          86.3,
          90.4,
          90.9,
          94.8,
          85.3,
          93.6,
          95.1,
          90.8,
          89.4,
          92.6,
          91.9,
          94,
          90.6,
          90.7,
          90,
          94.6,
          95.2,
          86.1,
          93.1,
          96.1,
          95.2,
          91.6,
          98.4,
          93.8,
          88.5,
          93.5,
          96.5,
          90.9,
          91.7,
          84.3,
          92.6,
          92.9,
          94,
          95.5,
          94,
          97.9,
          89.2,
          88.5,
          94.8,
          96.2,
          96.4,
          93.1,
          90,
          95.3
         ],
         "yaxis": "y4"
        },
        {
         "customdata": [
          [
           "A Y JACKSON S.S."
          ],
          [
           "ACADEMIE ALEXANDRE-DUMAS"
          ],
          [
           "ADAM BECK JR P.S."
          ],
          [
           "AFRICENTRIC ALTERNATIVE SCHOOL"
          ],
          [
           "AGINCOURT C.I."
          ],
          [
           "AGINCOURT JR P.S."
          ],
          [
           "AGNES MACPHAIL P.S."
          ],
          [
           "ALBERT CAMPBELL C.I."
          ],
          [
           "ALBION HEIGHTS JMS"
          ],
          [
           "ALEXANDER MUIR/GLADSTONE AVE JR & SR P.S."
          ],
          [
           "ALEXANDER STIRLING P.S."
          ],
          [
           "ALEXMUIR JR P.S."
          ],
          [
           "ALL SAINTS C.S."
          ],
          [
           "ALLENBY JR P.S."
          ],
          [
           "ALPHA ALTERNATIVE JR SCHOOL"
          ],
          [
           "ALPHA II ALTERNATIVE SCHOOL"
          ],
          [
           "ALTERNATIVE SCARBOROUGH EDUCATION 1"
          ],
          [
           "ALVIN CURLING P.S."
          ],
          [
           "AMESBURY MIDDLE SCHOOL"
          ],
          [
           "ANCASTER P.S."
          ],
          [
           "ANNETTE STREET JR & SR P.S."
          ],
          [
           "ANNUNCIATION C.S."
          ],
          [
           "ANSON PARK P.S."
          ],
          [
           "ANSON S TAYLOR JR P.S."
          ],
          [
           "ARBOR GLEN P.S."
          ],
          [
           "ARMOUR HEIGHTS P.S."
          ],
          [
           "AVONDALE ALTERNATIVE ELEMENTARY"
          ],
          [
           "AVONDALE P.S."
          ],
          [
           "AVONDALE SECONDARY ALTERNATIVE"
          ],
          [
           "BALA AVENUE COMMUNITY SCHOOL"
          ],
          [
           "BALMY BEACH COMMUNITY SCHOOL"
          ],
          [
           "BANTING AND BEST P.S."
          ],
          [
           "BAYCREST P.S."
          ],
          [
           "BAYVIEW MIDDLE SCHOOL"
          ],
          [
           "BEACHES ALTERNATIVE JR"
          ],
          [
           "BEAUMONDE HEIGHTS JMS"
          ],
          [
           "BEDFORD PARK P.S."
          ],
          [
           "BELLMERE JR P.S."
          ],
          [
           "BEN HEPPNER VOCAL MUSIC ACADEMY"
          ],
          [
           "BENDALE BUSINESS & TECHNICAL INSTITUTE"
          ],
          [
           "BENDALE JR P.S."
          ],
          [
           "BENNINGTON HEIGHTS ELEMENTARY"
          ],
          [
           "BERNER TRAIL JR P.S."
          ],
          [
           "BESSBOROUGH DR. EMS"
          ],
          [
           "BEVERLEY HEIGHTS MIDDLE SCHOOL"
          ],
          [
           "BEVERLEY SCHOOL"
          ],
          [
           "BEVERLY GLEN JR P.S."
          ],
          [
           "BIRCH CLIFF HEIGHTS P.S."
          ],
          [
           "BIRCH CLIFF P.S."
          ],
          [
           "BIRCHMOUNT PARK C.I."
          ],
          [
           "BISHOP ALLEN ACADEMY CATHOLIC S.S."
          ],
          [
           "BISHOP MARROCCO/THOMAS MERTON CATHOLIC S.S."
          ],
          [
           "BLACKSMITH P.S."
          ],
          [
           "BLAKE STREET JR P.S."
          ],
          [
           "BLANTYRE P.S."
          ],
          [
           "BLAYDON P.S."
          ],
          [
           "BLESSED CARDINAL NEWMAN C.S."
          ],
          [
           "BLESSED MARGHERITA OF CITTA CASTELLO C.S."
          ],
          [
           "BLESSED PIER GIORGIO FRASSATI C.S."
          ],
          [
           "BLESSED POPE PAUL VI C.S."
          ],
          [
           "BLESSED SACRAMENT C.S."
          ],
          [
           "BLESSED TRINITY C.S."
          ],
          [
           "BLISS CARMAN SENIOR P.S."
          ],
          [
           "BLOOR C.I."
          ],
          [
           "BLOORDALE MIDDLE SCHOOL"
          ],
          [
           "BLOORLEA MIDDLE SCHOOL"
          ],
          [
           "BLYTHWOOD JR P.S."
          ],
          [
           "BOWMORE ROAD JR & SR P.S."
          ],
          [
           "BOYS' LEADERSHIP ACADEMY"
          ],
          [
           "BRAEBURN JR SCHOOL"
          ],
          [
           "BREBEUF COLLEGE SCHOOL"
          ],
          [
           "BRIAN P.S."
          ],
          [
           "BRIARCREST JR SCHOOL"
          ],
          [
           "BRIDLEWOOD JR P.S."
          ],
          [
           "BRIMWOOD BOULEVARD JR P.S."
          ],
          [
           "BROADACRES JR P.S."
          ],
          [
           "BROADLANDS P.S."
          ],
          [
           "BROCK P.S."
          ],
          [
           "BROOKHAVEN P.S."
          ],
          [
           "BROOKMILL BOULEVARD JR P.S."
          ],
          [
           "BROOKSIDE P.S."
          ],
          [
           "BROOKVIEW MIDDLE SCHOOL"
          ],
          [
           "BROWN JR P.S."
          ],
          [
           "BRUCE JR P.S."
          ],
          [
           "BUCHANAN P.S."
          ],
          [
           "BURROWS HALL JR P.S."
          ],
          [
           "C D FARQUHARSON JR P.S."
          ],
          [
           "C R MARCHANT MIDDLE SCHOOL"
          ],
          [
           "C W JEFFERYS C.I."
          ],
          [
           "CALICO P.S."
          ],
          [
           "CAMERON P.S."
          ],
          [
           "CANADIAN MARTYRS C.S."
          ],
          [
           "CARDINAL CARTER ACADEMY FOR THE ARTS"
          ],
          [
           "CARDINAL LEGER C.S."
          ],
          [
           "CARLETON VILLAGE JR AND SR P.S."
          ],
          [
           "CASSANDRA P.S."
          ],
          [
           "CEDAR DRIVE JR P.S."
          ],
          [
           "CEDARBRAE C.I."
          ],
          [
           "CEDARBROOK P.S."
          ],
          [
           "CEDARVALE COMMUNITY SCHOOL"
          ],
          [
           "CENTENNIAL ROAD JR P.S."
          ],
          [
           "CENTRAL ETOBICOKE HIGH SCHOOL"
          ],
          [
           "CENTRAL TECHNICAL SCHOOL"
          ],
          [
           "CENTRAL TORONTO ACADEMY"
          ],
          [
           "CHALKFARM P.S."
          ],
          [
           "CHAMINADE COLLEGE SCHOOL"
          ],
          [
           "CHARLES E WEBSTER P.S."
          ],
          [
           "CHARLES G FRASER JR P.S."
          ],
          [
           "CHARLES GORDON SENIOR P.S."
          ],
          [
           "CHARLES H BEST MIDDLE SCHOOL"
          ],
          [
           "CHARLOTTETOWN JR P.S."
          ],
          [
           "CHARTLAND JR P.S."
          ],
          [
           "CHEROKEE P.S."
          ],
          [
           "CHESTER ELEMENTARY SCHOOL"
          ],
          [
           "CHESTER LE JR P.S."
          ],
          [
           "CHIEF DAN GEORGE P.S."
          ],
          [
           "CHINE DRIVE P.S."
          ],
          [
           "CHURCH STREET JR P.S."
          ],
          [
           "CHURCHILL HEIGHTS P.S."
          ],
          [
           "CHURCHILL P.S."
          ],
          [
           "CITY SCHOOL"
          ],
          [
           "CITY VIEW ALTERNATIVE SR"
          ],
          [
           "CLAIREVILLE JR SCHOOL"
          ],
          [
           "CLAIRLEA P.S."
          ],
          [
           "CLAUDE WATSON SCHOOL FOR THE ARTS"
          ],
          [
           "CLIFFSIDE P.S."
          ],
          [
           "CLIFFWOOD P.S."
          ],
          [
           "CLINTON STREET JR P.S."
          ],
          [
           "COLLEGE FRANCAIS ELEMENTAIRE"
          ],
          [
           "GREENLAND P.S."
          ],
          [
           "COLLEGE FRANCAIS SECONDAIRE"
          ],
          [
           "CONTACT ALTERNATIVE SCHOOL"
          ],
          [
           "CORDELLA JR P.S."
          ],
          [
           "CORNELL JR P.S."
          ],
          [
           "CORVETTE JR P.S."
          ],
          [
           "COSBURN MIDDLE SCHOOL"
          ],
          [
           "COTTINGHAM JR P.S."
          ],
          [
           "COURCELETTE P.S."
          ],
          [
           "CRESCENT TOWN ELEMENTARY"
          ],
          [
           "CRESTHAVEN P.S."
          ],
          [
           "CRESTVIEW P.S."
          ],
          [
           "CUMMER VALLEY MIDDLE SCHOOL"
          ],
          [
           "D A MORRISON MIDDLE SCHOOL"
          ],
          [
           "DA VINCI SCHOOL"
          ],
          [
           "DALLINGTON P.S."
          ],
          [
           "DANFORTH C. I. AND TECHNICAL SCHOOL"
          ],
          [
           "DANFORTH GARDENS P.S."
          ],
          [
           "DANTE ALIGHIERI ACADEMY"
          ],
          [
           "D'ARCY MCGEE C.S."
          ],
          [
           "DAVID AND MARY THOMSON C.I."
          ],
          [
           "DAVID HORNELL JR SCHOOL"
          ],
          [
           "DAVID LEWIS P.S."
          ],
          [
           "DAVISVILLE JR P.S."
          ],
          [
           "DAYSTROM P.S."
          ],
          [
           "DEER PARK JR & SR P.S."
          ],
          [
           "DELPHI SECONDARY ALTERNATIVE"
          ],
          [
           "DELTA SENIOR ALTERNATIVE"
          ],
          [
           "DENLOW P.S."
          ],
          [
           "DENNIS AVENUE COMMUNITY SCHOOL"
          ],
          [
           "DERRYDOWN P.S."
          ],
          [
           "DEWSON STREET JR P.S."
          ],
          [
           "DIEFENBAKER ELEMENTARY"
          ],
          [
           "DIXON GROVE JMS"
          ],
          [
           "DON MILLS C.I."
          ],
          [
           "DON MILLS MIDDLE SCHOOL"
          ],
          [
           "DON VALLEY JR H.S."
          ],
          [
           "DONVIEW MIDDLE HEALTH & WELLNESS ACADEMY"
          ],
          [
           "DONWOOD PARK JR P.S."
          ],
          [
           "DORSET PARK P.S."
          ],
          [
           "DOVERCOURT P.S."
          ],
          [
           "DOWNSVIEW P.S."
          ],
          [
           "DOWNSVIEW S.S."
          ],
          [
           "DOWNTOWN ALTERNATIVE SCHOOL"
          ],
          [
           "DOWNTOWN VOCAL MUSIC ACADEMY OF TORONTO"
          ],
          [
           "DR MARION HILLIARD SR P.S."
          ],
          [
           "DR NORMAN BETHUNE C.I."
          ],
          [
           "DREWRY S.S."
          ],
          [
           "DRIFTWOOD P.S."
          ],
          [
           "DUBLIN HEIGHTS EMS"
          ],
          [
           "DUKE OF CONNAUGHT JR & SR P.S."
          ],
          [
           "DUNDAS JR P.S."
          ],
          [
           "DUNLACE P.S."
          ],
          [
           "EARL BEATTY JR & SR P.S."
          ],
          [
           "EARL GREY SR P.S."
          ],
          [
           "EARL HAIG P.S."
          ],
          [
           "EARL HAIG S.S."
          ],
          [
           "EAST ALTERNATIVE SCHOOL OF TORONTO"
          ],
          [
           "EAST YORK ALTERNATIVE S.S."
          ],
          [
           "EAST YORK C.I."
          ],
          [
           "EASTDALE C.I."
          ],
          [
           "EASTVIEW P.S."
          ],
          [
           "EATONVILLE JUNIOR SCHOOL"
          ],
          [
           "ECOLE ELEMENTAIRE CHARLES-SAURIOL"
          ],
          [
           "ECOLE ELEMENTAIRE ETIENNE-BRULE"
          ],
          [
           "ECOLE ELEMENTAIRE FELIX-LECLERC"
          ],
          [
           "ECOLE ELEMENTAIRE GABRIELLE-ROY"
          ],
          [
           "ECOLE ELEMENTAIRE JEANNE-LAJOIE"
          ],
          [
           "ECOLE ELEMENTAIRE LA MOSAIQUE"
          ],
          [
           "ECOLE ELEMENTAIRE LAURE-RIESE"
          ],
          [
           "ECOLE ELEMENTAIRE MATHIEU-DA-COSTAI"
          ],
          [
           "ECOLE ELEMENTAIRE MICHELINE-SAINT-CYR"
          ],
          [
           "ECOLE ELEMENTAIRE PAUL-DEMERS"
          ],
          [
           "ECOLE ELEMENTAIRE PIERRE-ELLIOTT-TRUDEAU"
          ],
          [
           "ECOLE ELEMENTAIRE TORONTO OUEST"
          ],
          [
           "ECOLE SECONDAIRE ETIENNE-BRULE"
          ],
          [
           "ECOLE SECONDAIRE TORONTO OUEST"
          ],
          [
           "EDGEWOOD P.S."
          ],
          [
           "EEC DU SACRE-COEUR-TORONTO"
          ],
          [
           "EEC GEORGES-ETIENNE-CARTIER"
          ],
          [
           "EEC NOTRE-DAME-DE-GRCE - TORONTO"
          ],
          [
           "EEC SAINTE-MADELEINE"
          ],
          [
           "EEC SAINTE-MARGUERITE-D'YOUVILLE"
          ],
          [
           "EEC SAINT-JEAN-DE-LALANDE"
          ],
          [
           "EEC SAINT-MICHEL-TORONTO"
          ],
          [
           "EEC SAINT-NOEL-CHABANEL-TORONTO"
          ],
          [
           "EGLINTON JR P.S."
          ],
          [
           "EIC MONSEIGNEUR-DE-CHARBONNEL"
          ],
          [
           "EIC PERE-PHILIPPE-LAMARCHE"
          ],
          [
           "EIC SAINT-FRERE-ANDRE"
          ],
          [
           "ELIA MIDDLE SCHOOL"
          ],
          [
           "ELIZABETH SIMCOE JR P.S."
          ],
          [
           "ELKHORN P.S."
          ],
          [
           "ELLESMERE-STATTON P.S."
          ],
          [
           "ELMBANK JMA"
          ],
          [
           "ELMLEA JR SCHOOL"
          ],
          [
           "EMERY C.I."
          ],
          [
           "EMILY CARR P.S."
          ],
          [
           "EPIPHANY OF OUR LORD CATHOLIC ACADEMY"
          ],
          [
           "EQUINOX HOLISTIC ALTERNATIVE"
          ],
          [
           "ERNEST P.S."
          ],
          [
           "ESC MONSEIGNEUR-DE-CHARBONNEL"
          ],
          [
           "ESC PERE-PHILIPPE-LAMARCHE"
          ],
          [
           "ESC SAINT-FRERE-ANDRE"
          ],
          [
           "ESSEX JR & SR P.S."
          ],
          [
           "ETIENNE BRULE JR SCHOOL"
          ],
          [
           "ETOBICOKE C.I."
          ],
          [
           "ETOBICOKE SCHOOL OF THE ARTS"
          ],
          [
           "ETOBICOKE YEAR ROUND ALTERNATIVE CENTRE"
          ],
          [
           "F H MILLER JR P.S."
          ],
          [
           "FAIRBANK JMS"
          ],
          [
           "FAIRBANK MEMORIAL COMMUNITY SCHOOL"
          ],
          [
           "FAIRGLEN JR P.S."
          ],
          [
           "FAIRMOUNT P.S."
          ],
          [
           "FATHER HENRY CARR CATHOLIC S.S."
          ],
          [
           "FATHER JOHN REDMOND CATHOLIC S.S."
          ],
          [
           "FATHER SERRA C.S."
          ],
          [
           "FAYWOOD ARTS-BASED CURRICULUM SCHOOL"
          ],
          [
           "FENSIDE P.S."
          ],
          [
           "FERN AVENUE JR & SR P.S."
          ],
          [
           "FINCH P.S."
          ],
          [
           "FIRGROVE P.S."
          ],
          [
           "FISHERVILLE SR P.S."
          ],
          [
           "FLEMING P.S."
          ],
          [
           "FLEMINGTON P.S."
          ],
          [
           "FOREST HILL C.I."
          ],
          [
           "FOREST HILL JR & SR P.S."
          ],
          [
           "FOREST MANOR P.S."
          ],
          [
           "FRANCIS LIBERMANN CATHOLIC H.S."
          ],
          [
           "FRANK OKE S.S."
          ],
          [
           "FRANKLAND COMMUNITY SCHOOL"
          ],
          [
           "GALLOWAY ROAD P.S."
          ],
          [
           "GARDEN AVENUE JR P.S."
          ],
          [
           "GATEWAY P.S."
          ],
          [
           "GENERAL BROCK P.S."
          ],
          [
           "GENERAL CRERAR P.S."
          ],
          [
           "GENERAL MERCER JR P.S."
          ],
          [
           "GEORGE ANDERSON P.S."
          ],
          [
           "GEORGE B LITTLE P.S."
          ],
          [
           "GEORGE HARVEY C.I."
          ],
          [
           "GEORGE P MACKIE JR P.S."
          ],
          [
           "GEORGE PECK P.S."
          ],
          [
           "GEORGE R GAULD JR SCHOOL"
          ],
          [
           "GEORGE S HENRY ACADEMY"
          ],
          [
           "GEORGE SYME COMMUNITY SCHOOL"
          ],
          [
           "GEORGE WEBSTER ELEMENTARY"
          ],
          [
           "GEORGES VANIER S.S."
          ],
          [
           "GIVINS/SHAW JR P.S."
          ],
          [
           "GLAMORGAN JR P.S."
          ],
          [
           "GLEDHILL JR P.S."
          ],
          [
           "GLEN AMES SR P.S."
          ],
          [
           "GLEN PARK P.S."
          ],
          [
           "GLEN RAVINE JR P.S."
          ],
          [
           "GLENVIEW SR P.S."
          ],
          [
           "GOLF ROAD JR P.S."
          ],
          [
           "GORDON A BROWN MIDDLE SCHOOL"
          ],
          [
           "GOSFORD P.S."
          ],
          [
           "GRACEDALE P.S."
          ],
          [
           "GRACEFIELD P.S."
          ],
          [
           "GREENHOLME JMS"
          ],
          [
           "GREENWOOD S.S."
          ],
          [
           "GRENOBLE P.S."
          ],
          [
           "GREY OWL JR P.S."
          ],
          [
           "GUILDWOOD JR P.S."
          ],
          [
           "GULFSTREAM P.S."
          ],
          [
           "H A HALBERT JR P.S."
          ],
          [
           "H J ALEXANDER COMMUNITY SCHOOL"
          ],
          [
           "HARBORD C.I."
          ],
          [
           "HARRISON P.S."
          ],
          [
           "HARWOOD P.S."
          ],
          [
           "HAWTHORNE II BILINGUAL ALTERNATIVE JR"
          ],
          [
           "HEATHER HEIGHTS JR P.S."
          ],
          [
           "HENRY HUDSON SENIOR P.S."
          ],
          [
           "HENRY KELSEY SENIOR P.S."
          ],
          [
           "HERITAGE PARK P.S."
          ],
          [
           "HEYDON PARK S.S."
          ],
          [
           "HIGH PARK ALTERNATIVE JR"
          ],
          [
           "HIGHCASTLE P.S."
          ],
          [
           "HIGHFIELD JR SCHOOL"
          ],
          [
           "HIGHLAND CREEK P.S."
          ],
          [
           "HIGHLAND HEIGHTS JR P.S."
          ],
          [
           "HIGHLAND JR HIGH SCHOOL"
          ],
          [
           "HIGHVIEW P.S."
          ],
          [
           "HILLCREST COMMUNITY SCHOOL"
          ],
          [
           "HILLMOUNT P.S."
          ],
          [
           "HILLTOP MIDDLE SCHOOL"
          ],
          [
           "HODGSON SR P.S."
          ],
          [
           "HOLLYCREST MIDDLE SCHOOL"
          ],
          [
           "HOLLYWOOD P.S."
          ],
          [
           "HOLY ANGELS C.S."
          ],
          [
           "HOLY CHILD C.S."
          ],
          [
           "HOLY CROSS C.S."
          ],
          [
           "HOLY FAMILY C.S."
          ],
          [
           "HOLY NAME C.S."
          ],
          [
           "HOLY ROSARY C.S."
          ],
          [
           "HOLY SPIRIT C.S."
          ],
          [
           "HORIZON ALTERNATIVE SR SCHOOL"
          ],
          [
           "HOWARD JR P.S."
          ],
          [
           "HUMBER SUMMIT MIDDLE SCHOOL"
          ],
          [
           "HUMBER VALLEY VILLAGE JMS"
          ],
          [
           "HUMBERCREST P.S."
          ],
          [
           "HUMBERSIDE C.I."
          ],
          [
           "HUMBERWOOD DOWNS JMA"
          ],
          [
           "HUMEWOOD COMMUNITY SCHOOL"
          ],
          [
           "HUNTER'S GLEN JR P.S."
          ],
          [
           "HURON STREET JR P.S."
          ],
          [
           "IMMACULATE CONCEPTION C.S."
          ],
          [
           "IMMACULATE HEART OF MARY C.S."
          ],
          [
           "INDIAN ROAD CRESCENT JR P.S."
          ],
          [
           "INGLENOOK COMMUNITY SCHOOL"
          ],
          [
           "INGLEWOOD HEIGHTS JR P.S."
          ],
          [
           "IONVIEW P.S."
          ],
          [
           "IROQUOIS JR P.S."
          ],
          [
           "ISLAND PUBLIC/NATURAL SCIENCE SCHOOL"
          ],
          [
           "ISLINGTON JMS"
          ],
          [
           "J B TYRRELL SR P.S."
          ],
          [
           "J G WORKMAN P.S."
          ],
          [
           "J R WILCOX COMMUNITY SCHOOL"
          ],
          [
           "JACK MINER SR P.S."
          ],
          [
           "JACKMAN AVENUE JR P.S."
          ],
          [
           "JAMES CARDINAL MCGUIGAN CATHOLIC H.S."
          ],
          [
           "JAMES CULNAN C.S."
          ],
          [
           "JAMES S BELL JMS"
          ],
          [
           "JARVIS C.I."
          ],
          [
           "JEAN VANIER CATHOLIC S.S."
          ],
          [
           "JESSE KETCHUM JR & SR P.S."
          ],
          [
           "JOHN A LESLIE P.S."
          ],
          [
           "JOHN BUCHAN SR P.S."
          ],
          [
           "JOHN D PARKER JR SCHOOL"
          ],
          [
           "JOHN ENGLISH JMS"
          ],
          [
           "JOHN FISHER JR P.S."
          ],
          [
           "JOHN G ALTHOUSE MIDDLE SCHOOL"
          ],
          [
           "JOHN G DIEFENBAKER P.S."
          ],
          [
           "JOHN MCCRAE P.S."
          ],
          [
           "JOHN POLANYI C.I."
          ],
          [
           "JOHN ROSS ROBERTSON JR P.S."
          ],
          [
           "JOHN WANLESS JR P.S."
          ],
          [
           "JOSEPH BRANT SR P.S."
          ],
          [
           "JOSEPH HOWE SR P.S."
          ],
          [
           "JOSYF CARDINAL SLIPYJ C.S."
          ],
          [
           "JOYCE P.S."
          ],
          [
           "KAPAPAMAHCHAKWE - WANDERING SPIRIT SCHOOL"
          ],
          [
           "KAREN KAIN SCHOOL OF THE ARTS"
          ],
          [
           "KEELE STREET JR P.S."
          ],
          [
           "KEELESDALE JR P.S."
          ],
          [
           "KENNEDY P.S."
          ],
          [
           "KENSINGTON COMMUNITY SCHOOL"
          ],
          [
           "KEW BEACH JR P.S."
          ],
          [
           "KIMBERLEY JR P.S."
          ],
          [
           "KING EDWARD JR & SR P.S."
          ],
          [
           "KING GEORGE JR P.S."
          ],
          [
           "KINGSLAKE P.S."
          ],
          [
           "KINGSVIEW VILLAGE JR SCHOOL"
          ],
          [
           "KIPLING C.I."
          ],
          [
           "KNOB HILL P.S."
          ],
          [
           "LAKESHORE C.I."
          ],
          [
           "LAMBERTON P.S."
          ],
          [
           "LAMBTON KINGSWAY JMS"
          ],
          [
           "RUNNYMEDE C.I."
          ],
          [
           "LAMBTON PARK COMMUNITY SCHOOL"
          ],
          [
           "L'AMOREAUX C.I."
          ],
          [
           "LANOR JMS"
          ],
          [
           "LAWRENCE HEIGHTS MIDDLE SCHOOL"
          ],
          [
           "LAWRENCE PARK C.I."
          ],
          [
           "LEASIDE HIGH SCHOOL"
          ],
          [
           "LEDBURY PARK EMS"
          ],
          [
           "LESCON P.S."
          ],
          [
           "LESLIEVILLE JR P.S."
          ],
          [
           "LESTER B PEARSON C.I."
          ],
          [
           "LESTER B PEARSON ELEMENTARY"
          ],
          [
           "LILLIAN P.S."
          ],
          [
           "LORD DUFFERIN JR & SR P.S."
          ],
          [
           "LORD LANSDOWNE JR P.S."
          ],
          [
           "LORD ROBERTS JR P.S."
          ],
          [
           "LORETTO ABBEY CATHOLIC S.S."
          ],
          [
           "LORETTO COLLEGE SCHOOL"
          ],
          [
           "LUCY MAUD MONTGOMERY P.S."
          ],
          [
           "LUCY MCCORMICK SR SCHOOL"
          ],
          [
           "LYNNGATE JR P.S."
          ],
          [
           "LYNNWOOD HEIGHTS JR P.S."
          ],
          [
           "MACKLIN P.S."
          ],
          [
           "MADONNA CATHOLIC S.S."
          ],
          [
           "MALVERN C.I."
          ],
          [
           "MALVERN JR P.S."
          ],
          [
           "MANHATTAN PARK JR P.S."
          ],
          [
           "MAPLE LEAF P.S."
          ],
          [
           "MAPLEWOOD HIGH SCHOOL"
          ],
          [
           "MARC GARNEAU C.I."
          ],
          [
           "MARKET LANE JR & SR P.S."
          ],
          [
           "MARSHALL MCLUHAN CATHOLIC S.S."
          ],
          [
           "MARTINGROVE C.I."
          ],
          [
           "MARY SHADD P.S."
          ],
          [
           "MARY WARD CATHOLIC S.S."
          ],
          [
           "MARYVALE P.S."
          ],
          [
           "MASON ROAD JR P.S."
          ],
          [
           "MAURICE CODY JR P.S."
          ],
          [
           "MCKEE P.S."
          ],
          [
           "MCMURRICH JR P.S."
          ],
          [
           "MEADOWVALE P.S."
          ],
          [
           "MELODY VILLAGE JR SCHOOL"
          ],
          [
           "MICHAEL POWER/ST JOSEPH H.S."
          ],
          [
           "MILITARY TRAIL P.S."
          ],
          [
           "MILL VALLEY JR SCHOOL"
          ],
          [
           "MILLIKEN P.S."
          ],
          [
           "MILLWOOD JR SCHOOL"
          ],
          [
           "MILNE VALLEY MIDDLE SCHOOL"
          ],
          [
           "MONARCH PARK C.I."
          ],
          [
           "MONSIGNOR FRASER COLLEGE - ALTERNATE STUDY"
          ],
          [
           "MONSIGNOR FRASER COLLEGE - ISABELLA"
          ],
          [
           "MONSIGNOR FRASER COLLEGE - MIDLAND"
          ],
          [
           "MONSIGNOR FRASER COLLEGE - MIDLAND NORTH"
          ],
          [
           "MONSIGNOR FRASER COLLEGE - MIDTOWN"
          ],
          [
           "MONSIGNOR FRASER COLLEGE - NORFINCH"
          ],
          [
           "MONSIGNOR FRASER COLLEGE - NORTHEAST"
          ],
          [
           "MONSIGNOR FRASER COLLEGE - SOUTHWEST"
          ],
          [
           "MONSIGNOR FRASER COLLEGE - ST. MARTIN"
          ],
          [
           "MONSIGNOR JOHN CORRIGAN C.S."
          ],
          [
           "MONSIGNOR PERCY JOHNSON CATHOLIC H.S."
          ],
          [
           "MONTROSE JR P.S."
          ],
          [
           "MORRISH P.S."
          ],
          [
           "MORSE STREET JR P.S."
          ],
          [
           "MOTHER CABRINI C.S."
          ],
          [
           "MOUNTVIEW ALTERNATIVE JR"
          ],
          [
           "MUIRHEAD P.S."
          ],
          [
           "NATIVE LEARNING CENTRE"
          ],
          [
           "NATIVITY OF OUR LORD C.S."
          ],
          [
           "NEIL MCNEIL HIGH SCHOOL"
          ],
          [
           "NELSON MANDELA PARK P.S."
          ],
          [
           "NEWTONBROOK S.S."
          ],
          [
           "NIAGARA STREET JR P.S."
          ],
          [
           "NORMAN COOK JR P.S."
          ],
          [
           "NORMAN INGRAM P.S."
          ],
          [
           "NORSEMAN JMS"
          ],
          [
           "NORTH AGINCOURT JR P.S."
          ],
          [
           "NORTH ALBION C.I."
          ],
          [
           "NORTH BENDALE JR P.S."
          ],
          [
           "NORTH BRIDLEWOOD JR P.S."
          ],
          [
           "NORTH EAST YEAR ROUND ALTERNATIVE"
          ],
          [
           "NORTH KIPLING JMS"
          ],
          [
           "NORTH PREPARATORY JR P.S."
          ],
          [
           "NORTH TORONTO C.I."
          ],
          [
           "NORTH WEST YEAR ROUND ALTERNATIVE"
          ],
          [
           "NORTHERN S.S."
          ],
          [
           "NORTHLEA EMS"
          ],
          [
           "NORTHVIEW HEIGHTS S.S."
          ],
          [
           "NORWAY JR P.S."
          ],
          [
           "NOTRE DAME CATHOLIC H.S."
          ],
          [
           "OAKDALE PARK MIDDLE SCHOOL"
          ],
          [
           "OAKRIDGE JR P.S."
          ],
          [
           "OAKWOOD C.I."
          ],
          [
           "OASIS ALTERNATIVE"
          ],
          [
           "O'CONNOR P.S."
          ],
          [
           "OGDEN JR P.S."
          ],
          [
           "ORDE STREET JR P.S."
          ],
          [
           "ORIOLE PARK JR P.S."
          ],
          [
           "OSSINGTON/OLD ORCHARD JR P.S."
          ],
          [
           "ST JOACHIM C.S."
          ],
          [
           "OUR LADY OF FATIMA C.S."
          ],
          [
           "OUR LADY OF GRACE C.S."
          ],
          [
           "OUR LADY OF GUADALUPE C.S."
          ],
          [
           "OUR LADY OF LOURDES C.S."
          ],
          [
           "OUR LADY OF PEACE C.S."
          ],
          [
           "OUR LADY OF PERPETUAL HELP C.S."
          ],
          [
           "OUR LADY OF SORROWS C.S."
          ],
          [
           "OUR LADY OF THE ASSUMPTION C.S."
          ],
          [
           "OUR LADY OF VICTORY C.S."
          ],
          [
           "OUR LADY OF WISDOM C.S."
          ],
          [
           "OWEN P.S."
          ],
          [
           "PALMERSTON AVENUE JR P.S."
          ],
          [
           "PAPE AVENUE JR P.S."
          ],
          [
           "PARK LANE P.S."
          ],
          [
           "PARK LAWN JMS"
          ],
          [
           "PARKDALE C.I."
          ],
          [
           "PARKDALE JR & SR P.S."
          ],
          [
           "PARKFIELD JR SCHOOL"
          ],
          [
           "PARKSIDE ELEMENTARY"
          ],
          [
           "PARKVIEW ALTERNATIVE"
          ],
          [
           "PAULINE JOHNSON JR P.S."
          ],
          [
           "PAULINE JR P.S."
          ],
          [
           "PELMO PARK P.S."
          ],
          [
           "PERCY WILLIAMS JR P.S."
          ],
          [
           "PERTH AVENUE JR P.S."
          ],
          [
           "PIERRE LAPORTE MIDDLE SCHOOL"
          ],
          [
           "PINEWAY P.S."
          ],
          [
           "PLEASANT P.S."
          ],
          [
           "PLEASANT VIEW MIDDLE SCHOOL"
          ],
          [
           "POPE FRANCIS C.S."
          ],
          [
           "POPLAR ROAD JR P.S."
          ],
          [
           "PORT ROYAL P.S."
          ],
          [
           "PORTAGE TRAIL COMMUNITY JR SCHOOL"
          ],
          [
           "PRECIOUS BLOOD C.S."
          ],
          [
           "PRESTEIGN HEIGHTS ELEMENTARY"
          ],
          [
           "PRINCE OF PEACE C.S."
          ],
          [
           "PRINCESS MARGARET JR SCHOOL"
          ],
          [
           "QUEEN ALEXANDRA MIDDLE SCHOOL"
          ],
          [
           "QUEEN VICTORIA JR P.S."
          ],
          [
           "QUEST ALTERNATIVE SR"
          ],
          [
           "R H KING ACADEMY"
          ],
          [
           "R H MCGREGOR ELEMENTARY"
          ],
          [
           "R J LANG EMS"
          ],
          [
           "RANCHDALE P.S."
          ],
          [
           "RAWLINSON COMMUNITY SCHOOL"
          ],
          [
           "REGAL ROAD JR P.S."
          ],
          [
           "REGENT HEIGHTS P.S."
          ],
          [
           "REGINA MUNDI C.S."
          ],
          [
           "RENE GORDON HEALTH & WELLNESS ACADEMY"
          ],
          [
           "RICHVIEW C.I."
          ],
          [
           "RIPPLETON P.S."
          ],
          [
           "RIVERCREST JR SCHOOL"
          ],
          [
           "RIVERDALE C.I."
          ],
          [
           "ROBERT SERVICE SR P.S."
          ],
          [
           "ROCKCLIFFE MIDDLE SCHOOL"
          ],
          [
           "ROCKFORD P.S."
          ],
          [
           "RODEN P.S."
          ],
          [
           "ROLPH ROAD ELEMENTARY"
          ],
          [
           "ROSE AVENUE JR P.S."
          ],
          [
           "ROSEDALE HEIGHTS SCHOOL OF THE ARTS"
          ],
          [
           "ROSEDALE JR P.S."
          ],
          [
           "ROSELANDS JR P.S."
          ],
          [
           "ROSETHORN JR SCHOOL"
          ],
          [
           "ROUGE VALLEY P.S."
          ],
          [
           "ROYWOOD P.S."
          ],
          [
           "RUNNYMEDE JR & SR P.S."
          ],
          [
           "RYERSON COMMUNITY SCHOOL"
          ],
          [
           "SACRED HEART C.S."
          ],
          [
           "SAMUEL HEARNE P.S."
          ],
          [
           "SANTA MARIA C.S."
          ],
          [
           "SATEC AT W A PORTER C.I."
          ],
          [
           "SCARBOROUGH VILLAGE P.S."
          ],
          [
           "SCHOOL OF EXPERIENTIAL EDUCATION"
          ],
          [
           "SCHOOL OF LIFE EXPERIENCE"
          ],
          [
           "SECOND STREET JMS"
          ],
          [
           "SECORD ELEMENTARY"
          ],
          [
           "SEED ALTERNATIVE"
          ],
          [
           "SELWYN ELEMENTARY"
          ],
          [
           "SENATOR O'CONNOR COLLEGE"
          ],
          [
           "SENECA HILL P.S."
          ],
          [
           "SENECA SCHOOL"
          ],
          [
           "SEVENTH STREET JR SCHOOL"
          ],
          [
           "SHAUGHNESSY P.S."
          ],
          [
           "SHEPPARD P.S."
          ],
          [
           "SHIRLEY STREET JR P.S."
          ],
          [
           "SHOREHAM P.S."
          ],
          [
           "SILVER SPRINGS P.S."
          ],
          [
           "SILVERTHORN C.I."
          ],
          [
           "SILVERTHORN COMMUNITY SCHOOL"
          ],
          [
           "SIR ADAM BECK JR SCHOOL"
          ],
          [
           "SIR ALEXANDER MACKENZIE SR P.S."
          ],
          [
           "SIR ERNEST MACMILLAN SR P.S."
          ],
          [
           "SIR JOHN A MACDONALD C.I."
          ],
          [
           "SIR OLIVER MOWAT C.I."
          ],
          [
           "SIR SAMUEL B STEELE JR P.S."
          ],
          [
           "SIR WILFRID LAURIER C.I."
          ],
          [
           "SIR WILLIAM OSLER H.S."
          ],
          [
           "SLOANE P.S."
          ],
          [
           "SMITHFIELD MIDDLE SCHOOL"
          ],
          [
           "SOUTH EAST YEAR ROUND ALTERNATIVE"
          ],
          [
           "SPECTRUM ALTERNATIVE SR"
          ],
          [
           "SPRUCECOURT JR P.S."
          ],
          [
           "ST AGATHA C.S."
          ],
          [
           "ST AGNES C.S."
          ],
          [
           "ST AIDAN C.S."
          ],
          [
           "ST ALBERT C.S."
          ],
          [
           "ST ALPHONSUS C.S."
          ],
          [
           "ST AMBROSE C.S."
          ],
          [
           "ST ANDRE C.S."
          ],
          [
           "ST ANDREW C.S."
          ],
          [
           "ST ANDREWS MIDDLE SCHOOL"
          ],
          [
           "ST ANDREWS P.S."
          ],
          [
           "ST ANGELA C.S."
          ],
          [
           "ST ANSELM C.S."
          ],
          [
           "ST ANTHONY C.S."
          ],
          [
           "ST ANTOINE DANIEL C.S."
          ],
          [
           "ST AUGUSTINE C.S."
          ],
          [
           "ST BARBARA C.S."
          ],
          [
           "ST BARNABAS C.S."
          ],
          [
           "ST BARTHOLOMEW C.S."
          ],
          [
           "ST BEDE C.S."
          ],
          [
           "ST BENEDICT C.S."
          ],
          [
           "ST BERNARD C.S."
          ],
          [
           "ST BONAVENTURE C.S."
          ],
          [
           "ST BONIFACE C.S."
          ],
          [
           "ST BRENDAN C.S."
          ],
          [
           "ST BRIGID C.S."
          ],
          [
           "ST BRUNO / ST RAYMOND C.S."
          ],
          [
           "ST CATHERINE C.S."
          ],
          [
           "ST CECILIA C.S."
          ],
          [
           "ST CHARLES C.S."
          ],
          [
           "ST CHARLES GARNIER C.S."
          ],
          [
           "ST CLARE C.S."
          ],
          [
           "ST CLEMENT C.S."
          ],
          [
           "ST COLUMBA C.S."
          ],
          [
           "ST CONRAD C.S."
          ],
          [
           "ST CYRIL C.S."
          ],
          [
           "ST DEMETRIUS C.S."
          ],
          [
           "ST DENIS C.S."
          ],
          [
           "ST DOMINIC SAVIO C.S."
          ],
          [
           "ST DOROTHY C.S."
          ],
          [
           "ST DUNSTAN C.S."
          ],
          [
           "ST EDMUND CAMPION C.S."
          ],
          [
           "ST EDWARD C.S."
          ],
          [
           "ST ELIZABETH C.S."
          ],
          [
           "ST ELIZABETH SETON C.S."
          ],
          [
           "ST EUGENE C.S."
          ],
          [
           "ST FIDELIS C.S."
          ],
          [
           "ST FLORENCE C.S."
          ],
          [
           "ST FRANCIS DE SALES C.S."
          ],
          [
           "ST FRANCIS OF ASSISI C.S."
          ],
          [
           "ST FRANCIS XAVIER C.S."
          ],
          [
           "ST GABRIEL C.S."
          ],
          [
           "ST GABRIEL LALEMANT C.S."
          ],
          [
           "ST GEORGE'S JR"
          ],
          [
           "ST GERALD C.S."
          ],
          [
           "ST GREGORY C.S."
          ],
          [
           "ST HELEN C.S."
          ],
          [
           "ST HENRY C.S."
          ],
          [
           "ST IGNATIUS OF LOYOLA C.S."
          ],
          [
           "ST ISAAC JOGUES C.S."
          ],
          [
           "ST JAMES C.S."
          ],
          [
           "ST JANE FRANCES C.S."
          ],
          [
           "ST JEAN DE BREBEUF C.S."
          ],
          [
           "ST JEROME C.S."
          ],
          [
           "ST JOHN BOSCO C.S."
          ],
          [
           "ST JOHN C.S."
          ],
          [
           "ST JOHN THE EVANGELIST C.S."
          ],
          [
           "ST JOHN VIANNEY C.S."
          ],
          [
           "ST JOSAPHAT C.S."
          ],
          [
           "ST JOSEPH C.S."
          ],
          [
           "ST JOSEPH'S COLLEGE"
          ],
          [
           "ST JOSEPHS MORROW PARK H.S."
          ],
          [
           "ST JUDE C.S."
          ],
          [
           "ST KEVIN C.S."
          ],
          [
           "ST LAWRENCE C.S."
          ],
          [
           "ST LEO C.S."
          ],
          [
           "ST LOUIS C.S."
          ],
          [
           "ST LUIGI C.S."
          ],
          [
           "ST MALACHY C.S."
          ],
          [
           "ST MARCELLUS C.S."
          ],
          [
           "ST MARGARET C.S."
          ],
          [
           "ST MARGARET'S P.S."
          ],
          [
           "ST MARGUERITE BOURGEOYS C.S."
          ],
          [
           "ST MARIA GORETTI C.S."
          ],
          [
           "ST MARK C.S."
          ],
          [
           "ST MARTHA C.S."
          ],
          [
           "ST MARTIN DE PORRES C.S."
          ],
          [
           "ST MARY C.S."
          ],
          [
           "ST MARY OF THE ANGELS C.S."
          ],
          [
           "ST MARY'S CATHOLIC S.S."
          ],
          [
           "ST MATTHEW C.S."
          ],
          [
           "ST MATTHIAS C.S."
          ],
          [
           "ST MAURICE C.S."
          ],
          [
           "ST MICHAEL C.S."
          ],
          [
           "ST MICHAEL'S CHOIR JR SCHOOL"
          ],
          [
           "ST MICHAEL'S CHOIR SR SCHOOL"
          ],
          [
           "ST MONICA C.S."
          ],
          [
           "ST NICHOLAS C.S."
          ],
          [
           "ST NICHOLAS OF BARI C.S."
          ],
          [
           "ST NORBERT C.S."
          ],
          [
           "ST OSCAR ROMERO CATHOLIC S.S."
          ],
          [
           "ST PASCHAL BAYLON C.S."
          ],
          [
           "ST PATRICK CATHOLIC S.S."
          ],
          [
           "ST PAUL C.S."
          ],
          [
           "ST PIUS X C.S."
          ],
          [
           "ST RAPHAEL C.S."
          ],
          [
           "ST RENE GOUPIL C.S."
          ],
          [
           "ST RICHARD C.S."
          ],
          [
           "ST RITA C.S."
          ],
          [
           "ST ROBERT C.S."
          ],
          [
           "ST ROCH C.S."
          ],
          [
           "ST ROSE OF LIMA C.S."
          ],
          [
           "ST SEBASTIAN C.S."
          ],
          [
           "ST SIMON C.S."
          ],
          [
           "ST STEPHEN C.S."
          ],
          [
           "ST SYLVESTER C.S."
          ],
          [
           "ST TERESA C.S."
          ],
          [
           "ST THERESA SHRINE C.S."
          ],
          [
           "ST THOMAS AQUINAS C.S."
          ],
          [
           "ST THOMAS MORE C.S."
          ],
          [
           "ST TIMOTHY C.S."
          ],
          [
           "ST URSULA C.S."
          ],
          [
           "ST VICTOR C.S."
          ],
          [
           "ST VINCENT DE PAUL C.S."
          ],
          [
           "ST WILFRID C.S."
          ],
          [
           "ST. BASIL THE GREAT COLLEGE"
          ],
          [
           "ST. JOHN PAUL II CATHOLIC S.S."
          ],
          [
           "ST. JOHN XXIII C.S."
          ],
          [
           "ST. KATERI TEKAKWITHA C.S."
          ],
          [
           "ST. MOTHER TERESA CATHOLIC ACADEMY"
          ],
          [
           "STANLEY P.S."
          ],
          [
           "STEELESVIEW P.S."
          ],
          [
           "STELLA MARIS C.S."
          ],
          [
           "STEPHEN LEACOCK C.I."
          ],
          [
           "STILECROFT P.S."
          ],
          [
           "STS COSMAS AND DAMIAN C.S."
          ],
          [
           "SUBWAY ACADEMY I"
          ],
          [
           "SUBWAY ACADEMY II"
          ],
          [
           "SUMMIT HEIGHTS P.S."
          ],
          [
           "SUNNY VIEW JR & SR P.S."
          ],
          [
           "SUNNYLEA JR SCHOOL"
          ],
          [
           "SWANSEA JR & SR P.S."
          ],
          [
           "TAM O'SHANTER JR P.S."
          ],
          [
           "TAYLOR CREEK P.S."
          ],
          [
           "TECUMSEH SENIOR P.S."
          ],
          [
           "TERRAVIEW-WILLOWFIELD P.S."
          ],
          [
           "TERRY FOX P.S."
          ],
          [
           "THE DIVINE INFANT C.S."
          ],
          [
           "THE ELMS JMS"
          ],
          [
           "THE GROVE COMMUNITY SCHOOL"
          ],
          [
           "THE HOLY TRINITY C.S."
          ],
          [
           "THE STUDENT SCHOOL"
          ],
          [
           "THE WATERFRONT SCHOOL"
          ],
          [
           "THISTLETOWN C.I."
          ],
          [
           "THOMAS L WELLS P.S."
          ],
          [
           "THORNCLIFFE PARK P.S."
          ],
          [
           "THREE VALLEYS P.S."
          ],
          [
           "TIMBERBANK JR P.S."
          ],
          [
           "TOM LONGBOAT JR P.S."
          ],
          [
           "TOPCLIFF P.S."
          ],
          [
           "TRANSFIGURATION OF OUR LORD C.S."
          ],
          [
           "TREDWAY WOODSWORTH P.S."
          ],
          [
           "TUMPANE P.S."
          ],
          [
           "TWENTIETH STREET JR SCHOOL"
          ],
          [
           "URSULA FRANKLIN ACADEMY"
          ],
          [
           "VALLEY PARK MIDDLE SCHOOL"
          ],
          [
           "VALLEYFIELD JR SCHOOL"
          ],
          [
           "VENERABLE JOHN MERLINI C.S."
          ],
          [
           "VICTORIA PARK C.I."
          ],
          [
           "VICTORIA PARK ELEMENTARY"
          ],
          [
           "VICTORIA VILLAGE P.S."
          ],
          [
           "VRADENBURG JR P.S."
          ],
          [
           "WALTER PERRY JR P.S."
          ],
          [
           "WARREN PARK JR P.S."
          ],
          [
           "WEDGEWOOD JR SCHOOL"
          ],
          [
           "WELLESWORTH JR SCHOOL"
          ],
          [
           "WEST END ALTERNATIVE"
          ],
          [
           "WEST GLEN JR SCHOOL"
          ],
          [
           "WEST HILL C.I."
          ],
          [
           "WEST HILL P.S."
          ],
          [
           "WEST HUMBER C.I."
          ],
          [
           "WEST HUMBER JMS"
          ],
          [
           "WEST PREPARATORY JR P.S."
          ],
          [
           "WEST ROUGE JR P.S."
          ],
          [
           "WESTERN TECHNICAL & COMMERCIAL SCHOOL"
          ],
          [
           "WESTMOUNT JR SCHOOL"
          ],
          [
           "WESTON C.I."
          ],
          [
           "WESTON MEMORIAL JR P.S."
          ],
          [
           "WESTVIEW CENTENNIAL S.S."
          ],
          [
           "WESTWAY JR SCHOOL"
          ],
          [
           "WESTWOOD MIDDLE SCHOOL"
          ],
          [
           "WEXFORD COLLEGIATE SCHOOL FOR THE ARTS"
          ],
          [
           "WEXFORD P.S."
          ],
          [
           "WHITE HAVEN JR P.S."
          ],
          [
           "WHITNEY JR P.S."
          ],
          [
           "WILKINSON JR P.S."
          ],
          [
           "WILLIAM BURGESS ELEMENTARY"
          ],
          [
           "WILLIAM G DAVIS JR P.S."
          ],
          [
           "WILLIAM G MILLER JR P.S."
          ],
          [
           "WILLIAM J MCCORDIC SCHOOL"
          ],
          [
           "WILLIAM LYON MACKENZIE C.I."
          ],
          [
           "WILLIAMSON ROAD JR P.S."
          ],
          [
           "WILLOW PARK JR P.S."
          ],
          [
           "WILLOWDALE MIDDLE SCHOOL"
          ],
          [
           "WILMINGTON ELEMENTARY"
          ],
          [
           "WINCHESTER JR & SR P.S."
          ],
          [
           "WINDFIELDS MIDDLE SCHOOL"
          ],
          [
           "WINONA DRIVE SENIOR P.S."
          ],
          [
           "WINSTON CHURCHILL C.I."
          ],
          [
           "WITHROW AVENUE JR P.S."
          ],
          [
           "WOBURN C.I."
          ],
          [
           "WOBURN JR P.S."
          ],
          [
           "WOODBINE JR H.S."
          ],
          [
           "YORK HUMBER H.S."
          ],
          [
           "YORK MEMORIAL C.I."
          ],
          [
           "YORK MILLS C.I."
          ],
          [
           "YORKVIEW P.S."
          ],
          [
           "YORKWOODS P.S."
          ],
          [
           "ZION HEIGHTS JR H.S."
          ]
         ],
         "hovertemplate": "year=2018-2019<br>vax=DTP<br>Enrolled population=%{x}<br>Coverage Rate (%)=%{y}<br>School Name=%{customdata[0]}<br>Religious Exemption Rate (%)=%{marker.color}<extra></extra>",
         "legendgroup": "",
         "marker": {
          "color": [
           1.1,
           1.6,
           3.6,
           20.8,
           1,
           0,
           0,
           0.4,
           0.7,
           1.9,
           0.8,
           0.4,
           3.3,
           2.5,
           22.4,
           15.8,
           0,
           1.8,
           1.1,
           0,
           2.3,
           2,
           0.6,
           0,
           1.1,
           2.8,
           6.4,
           1.4,
           2.7,
           0,
           2.8,
           0,
           8.6,
           0.5,
           18.2,
           0.7,
           2.2,
           1.3,
           11.1,
           2.8,
           0,
           0.8,
           0,
           2.1,
           1.6,
           4.7,
           1.4,
           0.5,
           2.2,
           0.8,
           2.3,
           0.7,
           1.1,
           2.5,
           3.6,
           1,
           1,
           0.4,
           1.3,
           0,
           2.8,
           1.9,
           1.8,
           2,
           3.5,
           2.4,
           2.6,
           3.1,
           2.1,
           1.1,
           1.1,
           2.4,
           3.2,
           2,
           0.4,
           3.4,
           5.3,
           2.9,
           0.9,
           0,
           0.2,
           0.5,
           2.2,
           1.4,
           2.7,
           0.7,
           0,
           2.4,
           1.5,
           3.1,
           2.3,
           0.4,
           2.7,
           0.4,
           2.6,
           1.8,
           0.7,
           1.2,
           2,
           2.7,
           2.5,
           8.8,
           3.2,
           4,
           1.4,
           1,
           1,
           2.2,
           2.1,
           1.7,
           4.6,
           0.9,
           3.6,
           1.8,
           5.7,
           0.9,
           4.7,
           1.1,
           1,
           2.1,
           11.1,
           20.4,
           1.4,
           2.9,
           3,
           1.4,
           1,
           2.9,
           3.4,
           2.5,
           4.5,
           5.7,
           2.6,
           0.2,
           0.9,
           1.9,
           3,
           6.5,
           1.2,
           3.6,
           0,
           0.2,
           2.1,
           36.2,
           1.8,
           2.2,
           0.8,
           0.6,
           0,
           1,
           4.3,
           0,
           2,
           0,
           3.2,
           3.6,
           10,
           3.1,
           3.7,
           2.2,
           5.3,
           4.5,
           0.3,
           1.9,
           2.4,
           0.6,
           1.7,
           2.2,
           0.6,
           2.7,
           1.7,
           2,
           6.1,
           6.4,
           1.5,
           0.2,
           2,
           0.4,
           3.3,
           3,
           2.4,
           1.9,
           4.3,
           2.4,
           2.4,
           1.2,
           3.2,
           0,
           2.6,
           1.1,
           0,
           0,
           0.5,
           1.3,
           5.6,
           2.5,
           0.8,
           5.5,
           3.4,
           0,
           0,
           1.5,
           4.2,
           2.6,
           2.5,
           2.6,
           0,
           0,
           0.9,
           1.9,
           0.6,
           3.7,
           2.6,
           1,
           1,
           2.1,
           3.2,
           0,
           4.1,
           0.3,
           5.4,
           2.5,
           0.9,
           2.4,
           3.1,
           1.2,
           1.3,
           0,
           22,
           1.4,
           2.1,
           0,
           3.5,
           3.4,
           2.9,
           1.8,
           4.3,
           3.8,
           2.6,
           3,
           0,
           0,
           1.6,
           0.5,
           3,
           3.4,
           4.6,
           0.8,
           2.6,
           2.6,
           0,
           1.3,
           0,
           0,
           1.3,
           1.6,
           0.3,
           0.8,
           2.7,
           3.4,
           1.4,
           2.3,
           1.7,
           1.7,
           2.1,
           4.6,
           0,
           0.3,
           0.7,
           5.2,
           1.1,
           0,
           1.2,
           2.2,
           0.7,
           0.3,
           3.6,
           0,
           2.7,
           1.7,
           2.9,
           0.6,
           1,
           0,
           4.1,
           0,
           1.1,
           0.7,
           0,
           0,
           0.8,
           2.8,
           7.9,
           1.1,
           0.7,
           1.6,
           2.9,
           1,
           0.8,
           5.9,
           0.8,
           0.7,
           0.3,
           0.8,
           2.2,
           13.5,
           0.4,
           0.5,
           0.7,
           0.9,
           1,
           0,
           4.5,
           2.5,
           3.6,
           2.7,
           3.4,
           0.9,
           2.2,
           0,
           0.8,
           1.2,
           1.7,
           1.6,
           0,
           7.5,
           4.3,
           1.1,
           5.5,
           2.6,
           2.6,
           0.4,
           3.9,
           0.7,
           4.5,
           0,
           1.7,
           4.4,
           4,
           1.4,
           0,
           0,
           3.2,
           1.8,
           1.2,
           0,
           2.7,
           1,
           4.1,
           0.4,
           0.6,
           4.1,
           0.9,
           0.5,
           3.2,
           0.3,
           0,
           0.4,
           3.6,
           3.8,
           2.9,
           2.9,
           1.5,
           1.6,
           2.4,
           1.1,
           1.1,
           1.5,
           7.8,
           0,
           7.8,
           8.7,
           4,
           0,
           0,
           3.2,
           3.8,
           0,
           2.6,
           2.4,
           2.3,
           2.3,
           0.2,
           0.3,
           2.5,
           1.6,
           3.9,
           1.7,
           0,
           1.4,
           3.7,
           2.7,
           2.4,
           1.5,
           1.3,
           2.7,
           0.9,
           0.7,
           2.3,
           0,
           0.7,
           3.4,
           0.4,
           1.5,
           0.5,
           0,
           5.9,
           2.9,
           2,
           0.6,
           0.2,
           2.8,
           0.8,
           3.1,
           4.4,
           5.4,
           0.6,
           1.6,
           0.7,
           0.9,
           0.6,
           1.2,
           2.2,
           0.5,
           2.1,
           0.9,
           4,
           1.7,
           0.8,
           2,
           0.6,
           7.2,
           1.6,
           2.1,
           1.6,
           2.3,
           1.9,
           7.1,
           0,
           0,
           0,
           0,
           0,
           1,
           0,
           0.6,
           0.9,
           0.9,
           0.4,
           1.9,
           2.2,
           4.8,
           2.1,
           6.7,
           2.8,
           1.7,
           2.1,
           1.7,
           1.6,
           1.2,
           3.7,
           2.1,
           1.1,
           0.1,
           2.7,
           1.5,
           3.4,
           0.6,
           0.8,
           1.2,
           0,
           3.1,
           1.6,
           1.1,
           3.8,
           0.3,
           0.7,
           0.8,
           3.3,
           9.7,
           0,
           0.9,
           0.8,
           3.2,
           3.2,
           0,
           1.8,
           0.5,
           0.8,
           0,
           3.3,
           0.4,
           2.4,
           1.1,
           0.2,
           3.8,
           1.5,
           4.5,
           2.2,
           0,
           3.7,
           1.4,
           3.3,
           2,
           0,
           4.7,
           0.6,
           3,
           3,
           0,
           4,
           0.8,
           1.3,
           3.3,
           1.3,
           0,
           1.3,
           0.8,
           2.9,
           0.9,
           4.4,
           0.9,
           1.4,
           2.9,
           3.1,
           7.6,
           0.7,
           1.2,
           1.5,
           0,
           2,
           2.2,
           0.5,
           1.1,
           1.2,
           2.6,
           1.2,
           2.5,
           2.9,
           0,
           2.4,
           1.6,
           2.1,
           1.7,
           0,
           8.2,
           0,
           2.5,
           5,
           0.6,
           2.9,
           1.1,
           1.9,
           1,
           0.5,
           0,
           0.3,
           0,
           2.2,
           0,
           2.3,
           2.4,
           6.5,
           3.1,
           1.3,
           0,
           3.6,
           3.4,
           0,
           1,
           8.1,
           1.4,
           0,
           2.4,
           3.1,
           4.1,
           1.3,
           1.4,
           1.5,
           2,
           0.9,
           1.1,
           0.9,
           0,
           0.3,
           0,
           8.3,
           1,
           1.1,
           2.1,
           0.5,
           0.9,
           1.2,
           3.9,
           0,
           0.2,
           2.3,
           0,
           0.5,
           2.6,
           2.5,
           0.3,
           0.2,
           1.1,
           1.4,
           4.5,
           0.9,
           0.9,
           1,
           1.1,
           0,
           0.5,
           1.9,
           5.7,
           3.8,
           2.2,
           1,
           0.6,
           1.3,
           2.1,
           3.6,
           0.7,
           0.9,
           6.2,
           3.3,
           1,
           0.8,
           1.1,
           0,
           1.5,
           2.4,
           1.7,
           2.7,
           3,
           1.4,
           0.3,
           4.1,
           0.5,
           1.3,
           0,
           1.8,
           0.9,
           3,
           1,
           0.6,
           5.5,
           0.8,
           0.8,
           0.4,
           0.6,
           0.3,
           0,
           0.9,
           0,
           2.5,
           7.4,
           0.7,
           0.9,
           0.4,
           0,
           1.1,
           0.6,
           2,
           3.4,
           0,
           0.9,
           1.7,
           0.4,
           2,
           0,
           0.3,
           4.9,
           3.7,
           0,
           1.4,
           0,
           0.8,
           0.5,
           2,
           0.5,
           1.6,
           3,
           2.3,
           0.9,
           1.1,
           0.7,
           1.6,
           0.2,
           0.4,
           0.8,
           0,
           1.9,
           1.1,
           0,
           0.7,
           1.5,
           0.5,
           0,
           0.3,
           3.3,
           0.5,
           0.3,
           2.3,
           1.1,
           0,
           0,
           0.4,
           1.1,
           0.5,
           0.4,
           2.9,
           0.4,
           0.7,
           0.5,
           0.7,
           2.3,
           1.5,
           1.4,
           1,
           0.8,
           0.6,
           0.7,
           0.8,
           9.5,
           0,
           2.6,
           3,
           2.8,
           3.3,
           0.5,
           0.4,
           0.8,
           3.5,
           0,
           1.2,
           1.7,
           19.7,
           2.2,
           4.5,
           4.9,
           1.4,
           0,
           0.3,
           2.3,
           0.7,
           1.7,
           0,
           1.9,
           1.4,
           1.7,
           5.3,
           3.8,
           0.4,
           1.9,
           1,
           0.9,
           0,
           4.5,
           0,
           1.6,
           6.3,
           1.3,
           3.1,
           8.2,
           5.1,
           1.4,
           2.7,
           0.9,
           0.3,
           3.5,
           5.5,
           3.8,
           2.4,
           1.3,
           1.3,
           0.7,
           1.6,
           2.9,
           2.1,
           1.6,
           1.1,
           2.5,
           1.6,
           3,
           0,
           3.5,
           3.8,
           2.5,
           2,
           0,
           2.2,
           0,
           3.2,
           2.9,
           5.1,
           1.5,
           2.5,
           0.2,
           0,
           1.4,
           4.1,
           2.5,
           1.3,
           2.3,
           0.9,
           1
          ],
          "coloraxis": "coloraxis",
          "symbol": "circle"
         },
         "mode": "markers",
         "name": "",
         "showlegend": false,
         "type": "scattergl",
         "x": [
          1027,
          129,
          309,
          77,
          1241,
          141,
          207,
          1072,
          294,
          324,
          261,
          226,
          643,
          524,
          49,
          19,
          15,
          383,
          268,
          57,
          384,
          253,
          162,
          122,
          185,
          179,
          94,
          221,
          37,
          129,
          252,
          218,
          81,
          443,
          44,
          430,
          534,
          237,
          45,
          285,
          238,
          129,
          158,
          419,
          434,
          64,
          284,
          188,
          270,
          833,
          1540,
          686,
          93,
          200,
          194,
          99,
          973,
          241,
          224,
          228,
          400,
          158,
          281,
          834,
          368,
          286,
          269,
          705,
          47,
          93,
          852,
          206,
          189,
          147,
          234,
          236,
          341,
          204,
          216,
          152,
          532,
          421,
          362,
          138,
          226,
          138,
          225,
          419,
          738,
          162,
          177,
          243,
          780,
          224,
          227,
          166,
          419,
          1019,
          391,
          293,
          161,
          80,
          724,
          503,
          139,
          913,
          311,
          138,
          328,
          347,
          260,
          117,
          112,
          277,
          87,
          231,
          106,
          188,
          306,
          234,
          81,
          54,
          144,
          415,
          300,
          142,
          198,
          273,
          118,
          81,
          154,
          35,
          77,
          464,
          349,
          641,
          100,
          215,
          258,
          167,
          177,
          418,
          426,
          47,
          273,
          945,
          356,
          785,
          217,
          937,
          140,
          344,
          304,
          235,
          404,
          84,
          60,
          259,
          54,
          231,
          300,
          247,
          594,
          935,
          409,
          363,
          356,
          449,
          159,
          293,
          121,
          501,
          66,
          47,
          269,
          932,
          49,
          240,
          631,
          695,
          206,
          209,
          277,
          452,
          372,
          1810,
          62,
          60,
          1003,
          95,
          226,
          131,
          205,
          151,
          124,
          159,
          252,
          273,
          174,
          102,
          49,
          66,
          213,
          156,
          281,
          153,
          119,
          69,
          233,
          105,
          156,
          215,
          76,
          100,
          98,
          280,
          62,
          74,
          74,
          290,
          203,
          243,
          460,
          245,
          229,
          484,
          229,
          141,
          132,
          69,
          140,
          81,
          142,
          208,
          105,
          957,
          929,
          26,
          77,
          230,
          78,
          236,
          308,
          850,
          1187,
          386,
          324,
          124,
          545,
          151,
          208,
          159,
          192,
          133,
          928,
          675,
          393,
          878,
          74,
          233,
          148,
          172,
          522,
          302,
          285,
          130,
          91,
          294,
          401,
          77,
          187,
          75,
          338,
          226,
          538,
          747,
          194,
          327,
          258,
          414,
          307,
          179,
          768,
          190,
          368,
          150,
          363,
          140,
          234,
          123,
          623,
          143,
          63,
          435,
          136,
          304,
          1014,
          102,
          130,
          119,
          118,
          287,
          298,
          237,
          91,
          96,
          225,
          381,
          138,
          115,
          482,
          101,
          224,
          121,
          558,
          528,
          475,
          224,
          368,
          227,
          239,
          167,
          234,
          193,
          324,
          67,
          328,
          450,
          291,
          494,
          1195,
          554,
          410,
          302,
          202,
          340,
          120,
          204,
          50,
          140,
          262,
          240,
          154,
          342,
          415,
          136,
          186,
          197,
          414,
          794,
          346,
          318,
          638,
          821,
          345,
          383,
          184,
          253,
          698,
          292,
          480,
          171,
          404,
          743,
          372,
          443,
          459,
          392,
          395,
          154,
          153,
          172,
          347,
          78,
          415,
          95,
          312,
          160,
          499,
          123,
          128,
          260,
          410,
          366,
          603,
          189,
          463,
          522,
          79,
          443,
          218,
          148,
          1178,
          958,
          384,
          112,
          231,
          1291,
          385,
          138,
          306,
          174,
          252,
          904,
          418,
          133,
          51,
          104,
          101,
          340,
          634,
          1107,
          236,
          65,
          160,
          93,
          1629,
          191,
          1032,
          1088,
          310,
          1002,
          180,
          209,
          374,
          427,
          350,
          177,
          124,
          1818,
          319,
          83,
          184,
          241,
          575,
          775,
          106,
          14,
          16,
          28,
          26,
          73,
          64,
          99,
          16,
          158,
          936,
          112,
          235,
          323,
          136,
          63,
          97,
          15,
          322,
          822,
          234,
          749,
          125,
          83,
          109,
          581,
          267,
          757,
          75,
          136,
          29,
          469,
          122,
          1286,
          14,
          1678,
          560,
          1490,
          185,
          656,
          417,
          265,
          359,
          72,
          80,
          116,
          243,
          156,
          188,
          217,
          558,
          194,
          121,
          383,
          458,
          244,
          577,
          284,
          485,
          236,
          331,
          269,
          230,
          47,
          383,
          493,
          334,
          152,
          101,
          43,
          167,
          164,
          166,
          197,
          175,
          398,
          76,
          272,
          313,
          184,
          159,
          243,
          480,
          327,
          135,
          230,
          209,
          342,
          586,
          66,
          1229,
          409,
          323,
          124,
          501,
          357,
          371,
          280,
          161,
          1035,
          161,
          118,
          1198,
          166,
          296,
          430,
          284,
          235,
          371,
          1045,
          151,
          200,
          258,
          163,
          104,
          707,
          309,
          194,
          372,
          161,
          1181,
          140,
          45,
          28,
          351,
          327,
          31,
          163,
          1321,
          195,
          56,
          118,
          143,
          99,
          111,
          146,
          250,
          834,
          225,
          244,
          396,
          370,
          1094,
          1048,
          234,
          1319,
          110,
          144,
          631,
          27,
          60,
          194,
          282,
          241,
          220,
          317,
          165,
          258,
          419,
          550,
          393,
          222,
          397,
          269,
          242,
          297,
          422,
          265,
          207,
          67,
          117,
          436,
          478,
          435,
          259,
          409,
          425,
          158,
          78,
          463,
          193,
          314,
          300,
          329,
          169,
          426,
          217,
          193,
          215,
          193,
          239,
          185,
          185,
          336,
          167,
          116,
          263,
          438,
          141,
          334,
          123,
          372,
          227,
          105,
          113,
          212,
          530,
          289,
          179,
          91,
          259,
          131,
          517,
          159,
          372,
          238,
          336,
          306,
          282,
          108,
          151,
          758,
          459,
          542,
          180,
          329,
          200,
          145,
          99,
          214,
          286,
          474,
          199,
          69,
          717,
          144,
          162,
          302,
          219,
          167,
          650,
          378,
          202,
          204,
          129,
          169,
          88,
          223,
          273,
          454,
          243,
          627,
          522,
          728,
          123,
          373,
          367,
          95,
          302,
          66,
          441,
          253,
          325,
          152,
          384,
          294,
          130,
          182,
          157,
          401,
          235,
          456,
          184,
          235,
          244,
          472,
          1258,
          1276,
          305,
          213,
          413,
          209,
          200,
          263,
          511,
          138,
          261,
          21,
          19,
          274,
          67,
          178,
          642,
          202,
          275,
          263,
          202,
          282,
          82,
          287,
          76,
          317,
          22,
          142,
          441,
          396,
          1108,
          173,
          152,
          178,
          210,
          320,
          587,
          232,
          94,
          521,
          964,
          208,
          210,
          1173,
          92,
          132,
          145,
          189,
          111,
          240,
          96,
          49,
          98,
          631,
          150,
          1016,
          341,
          341,
          199,
          975,
          123,
          894,
          157,
          763,
          122,
          373,
          1084,
          250,
          350,
          161,
          316,
          202,
          170,
          373,
          52,
          1377,
          356,
          216,
          542,
          101,
          343,
          661,
          414,
          517,
          366,
          877,
          225,
          347,
          122,
          876,
          1200,
          256,
          224,
          592
         ],
         "xaxis": "x",
         "y": [
          89,
          86.8,
          96.1,
          71.4,
          87.3,
          99.3,
          94.7,
          88.2,
          93.9,
          90.7,
          92.7,
          96.9,
          87.4,
          95.8,
          75.5,
          52.6,
          86.7,
          94.5,
          92.2,
          89.5,
          92.2,
          87,
          92.6,
          100,
          97.3,
          95.5,
          90.4,
          93.7,
          73,
          97.7,
          96,
          96.8,
          87.7,
          94.6,
          79.5,
          95.6,
          95.5,
          96.2,
          84.4,
          84.2,
          99.2,
          99.2,
          98.1,
          91.9,
          85.5,
          84.4,
          97.9,
          96.3,
          92.6,
          85.1,
          85.1,
          81,
          92.5,
          96,
          93.8,
          93.9,
          84.8,
          90,
          90.2,
          87.7,
          89.3,
          89.2,
          85.8,
          87.4,
          89.4,
          92.3,
          97,
          92.2,
          89.4,
          95.7,
          81.6,
          93.7,
          95.8,
          93.2,
          97.9,
          94.9,
          94.1,
          90.7,
          97.2,
          100,
          94.2,
          88.1,
          92.8,
          95.7,
          92.9,
          96.4,
          97.3,
          92.1,
          85.6,
          85.8,
          97.2,
          88.1,
          83.2,
          91.1,
          94.3,
          97.6,
          96.4,
          85,
          95.4,
          95.2,
          97.5,
          73.8,
          82.5,
          78.5,
          89.9,
          89.6,
          95.8,
          92.8,
          87.8,
          86.7,
          95,
          98.3,
          93.8,
          96.8,
          87.4,
          94.4,
          93.4,
          90.4,
          97.1,
          96.2,
          79,
          77.8,
          97.2,
          92.5,
          94.3,
          97.2,
          97,
          95.6,
          70.3,
          96.3,
          77.9,
          68.6,
          94.8,
          96.3,
          94.6,
          91.6,
          96,
          91.2,
          93.4,
          95.2,
          98.3,
          97.4,
          92.5,
          57.4,
          96.3,
          86.8,
          93.3,
          82.2,
          94.5,
          87,
          91.4,
          95.1,
          96.1,
          96.6,
          91.6,
          79.8,
          88.3,
          96.5,
          90.7,
          94.8,
          93.3,
          91.9,
          89.9,
          86.5,
          88.8,
          92.6,
          85.4,
          90.9,
          91.8,
          91.8,
          95.9,
          79.2,
          92.4,
          87.2,
          89.6,
          90.1,
          81.6,
          90.4,
          91,
          94.2,
          95.1,
          96.7,
          95.3,
          89.6,
          94.4,
          87.3,
          91.9,
          90,
          85.6,
          84.2,
          86.3,
          96.2,
          84.9,
          76.8,
          79,
          85.5,
          82.1,
          88.6,
          78.7,
          76.5,
          81.6,
          53,
          89.2,
          80.8,
          81.9,
          85,
          98.3,
          88.4,
          88.8,
          85.7,
          89.1,
          87.4,
          88.2,
          87,
          85.7,
          94.3,
          88.7,
          93.2,
          87.8,
          88.3,
          94.1,
          96.7,
          91.5,
          95.1,
          88.6,
          85.5,
          96.9,
          81.6,
          78,
          95.7,
          81.4,
          80.2,
          81,
          85.6,
          96.2,
          86.4,
          80.1,
          88.5,
          92.2,
          87.4,
          92.3,
          97.5,
          95.1,
          83.8,
          83,
          88.9,
          91.4,
          91.9,
          92.5,
          92.7,
          93.3,
          79.2,
          98.4,
          97.7,
          87,
          95,
          93.9,
          86,
          82.4,
          93.6,
          89.2,
          97.7,
          93.9,
          94,
          93.3,
          90.8,
          100,
          95.2,
          80,
          93.5,
          90.4,
          96,
          81.1,
          92,
          87.7,
          76.2,
          92.8,
          97.6,
          96.1,
          90.8,
          96.4,
          98.9,
          90.9,
          98.4,
          90.5,
          95.3,
          93.9,
          90.7,
          96.2,
          61.8,
          95.5,
          91.6,
          92.1,
          91.3,
          95.6,
          91.8,
          84.4,
          97.1,
          90.8,
          93.3,
          94.1,
          92.7,
          94,
          95.4,
          75.8,
          82.3,
          97.8,
          93.4,
          97.1,
          96.5,
          94,
          89.1,
          94.2,
          93.4,
          91.9,
          93.9,
          90.7,
          97.3,
          88,
          87.7,
          87.4,
          82,
          87.6,
          87.6,
          84.3,
          85.1,
          94.8,
          88.4,
          91.1,
          94.5,
          84.1,
          95.8,
          93.7,
          92.1,
          93.6,
          92.4,
          90.8,
          94.1,
          78,
          91.4,
          93.9,
          99.2,
          95.5,
          92.1,
          90.8,
          93.4,
          94.6,
          93.4,
          94.4,
          76.8,
          91.3,
          91.2,
          86.8,
          82.7,
          89.6,
          93,
          90.2,
          97.6,
          91.7,
          92.8,
          93.1,
          94.7,
          93.3,
          79.1,
          96.2,
          98.9,
          86.9,
          91.3,
          84.8,
          98.7,
          68,
          86.6,
          90.2,
          96.2,
          97.6,
          90.5,
          94.9,
          100,
          90.6,
          95.9,
          94.5,
          83.8,
          75.4,
          93.2,
          81.6,
          92.1,
          91.6,
          85.4,
          72.2,
          81.3,
          94.5,
          89.9,
          85.3,
          86.5,
          94.3,
          84.8,
          95.7,
          88,
          94.8,
          98.6,
          95.8,
          95.4,
          96.4,
          86.7,
          84.9,
          95.5,
          33.3,
          92.3,
          92.1,
          95,
          84.2,
          85.2,
          96.2,
          90.8,
          91.3,
          86,
          83.2,
          91.6,
          87.3,
          86.8,
          94.5,
          87.5,
          89.4,
          89.5,
          96,
          97.2,
          92.9,
          91,
          99.2,
          84.6,
          90.3,
          92.8,
          96.2,
          97.5,
          89.4,
          86.8,
          82.1,
          42.9,
          87.5,
          89.3,
          69.2,
          80.8,
          78.1,
          75.8,
          62.5,
          87.3,
          84.9,
          99.1,
          94.9,
          96.6,
          87.5,
          93.7,
          96.9,
          66.7,
          86,
          87.1,
          94,
          80.6,
          92,
          95.2,
          92.7,
          92.9,
          97.4,
          85.1,
          90.7,
          94.1,
          86.2,
          91.9,
          95.1,
          86.2,
          71.4,
          85.3,
          95.9,
          84.6,
          94.6,
          84.6,
          91.6,
          88.7,
          83.3,
          75,
          86.3,
          96.6,
          96.3,
          96.2,
          95.7,
          91.7,
          85.8,
          87.1,
          83.5,
          86.7,
          88.9,
          93,
          90.5,
          77.8,
          86.6,
          88.1,
          95.2,
          92.9,
          96.5,
          55.3,
          92.7,
          84.8,
          87.1,
          94.7,
          94.1,
          88.4,
          92.8,
          90.2,
          91.6,
          98.5,
          92,
          88.2,
          90.8,
          95.2,
          93.9,
          89.1,
          97.5,
          95.5,
          91.9,
          85.6,
          94.8,
          90.9,
          89.5,
          89.5,
          89.4,
          86.4,
          87.2,
          96.3,
          89.8,
          96,
          93,
          93.3,
          91.4,
          88.2,
          95,
          84.8,
          97.5,
          94.1,
          87.1,
          88,
          88.9,
          93.7,
          90.1,
          97.4,
          95.7,
          80.9,
          98.7,
          95.5,
          94.6,
          95.1,
          92.3,
          95.5,
          81.9,
          84.5,
          87.9,
          90.1,
          88,
          91.4,
          77.8,
          92.9,
          93.7,
          93,
          80.6,
          95.7,
          85.5,
          99,
          91.1,
          94.9,
          97.2,
          98,
          91.9,
          90.4,
          96.4,
          82,
          92.9,
          94.3,
          89.9,
          89.5,
          85.7,
          86.5,
          97,
          87.2,
          87.3,
          95.8,
          93.5,
          92.6,
          88.3,
          92.8,
          89,
          81.3,
          88.6,
          89.3,
          84.2,
          85.7,
          86.2,
          79.3,
          93.1,
          96.4,
          77.6,
          89.2,
          81.8,
          81.5,
          82.2,
          84.9,
          94.2,
          86.6,
          84.6,
          86.5,
          86.6,
          90.8,
          86.1,
          90.2,
          84,
          80.4,
          80.8,
          92,
          91.2,
          85.4,
          87.3,
          90.9,
          81.1,
          89.9,
          92.2,
          83.9,
          89.3,
          90.2,
          87.9,
          81.1,
          91.9,
          90.8,
          79.6,
          89.7,
          87.5,
          88.4,
          82.3,
          86.8,
          87.8,
          85.2,
          76.7,
          90.5,
          93.8,
          83,
          90.4,
          90.3,
          88.3,
          87.9,
          84.2,
          86.3,
          87.8,
          93.1,
          84.4,
          90.3,
          89.9,
          85.6,
          86.9,
          77.8,
          94,
          85,
          81.3,
          86.5,
          88.3,
          90.9,
          84,
          90.3,
          84.8,
          86.9,
          81.1,
          87.8,
          89.4,
          88.4,
          89.7,
          83.3,
          84.6,
          82.8,
          87.7,
          93.4,
          76.9,
          93.1,
          81.2,
          85.8,
          82.9,
          92.9,
          83,
          84.8,
          89,
          91.9,
          88.1,
          84.1,
          84.7,
          83.8,
          83.7,
          89.5,
          86.1,
          57.9,
          89.1,
          83.3,
          89.6,
          88.9,
          89.5,
          92.8,
          88.5,
          88.8,
          88.5,
          81.9,
          94.3,
          84.8,
          86.4,
          88.8,
          92.9,
          89.8,
          89.8,
          80.5,
          86.2,
          86.8,
          80.7,
          78.9,
          83.5,
          94.7,
          98.5,
          91.6,
          82.2,
          96.4,
          87.7,
          71.4,
          78.9,
          97.4,
          83.6,
          96.6,
          94.4,
          97,
          96.4,
          88.6,
          93.1,
          96.8,
          87.8,
          93,
          80.3,
          82,
          77.3,
          94.4,
          82.8,
          96.2,
          95.8,
          95.4,
          98,
          96.6,
          96.7,
          87.2,
          94,
          94.4,
          89.4,
          83.7,
          90.2,
          89.4,
          88.1,
          86.9,
          98.9,
          89.4,
          98.6,
          89.9,
          87.4,
          96.3,
          87.5,
          81.6,
          93.9,
          83.8,
          90.7,
          85.2,
          94.1,
          94.1,
          91.5,
          80.3,
          89.4,
          84.2,
          97.5,
          81.3,
          94.3,
          90.3,
          84,
          91.2,
          94.9,
          95.7,
          97.8,
          91.1,
          98.8,
          93.8,
          46.2,
          84.9,
          97.2,
          97.2,
          92.6,
          92.1,
          91.3,
          91.8,
          87.4,
          87,
          96.2,
          88.6,
          98.7,
          89.6,
          86.9,
          86.8,
          86.3,
          93.8,
          88.4,
          94.4
         ],
         "yaxis": "y"
        },
        {
         "customdata": [
          [
           "A Y JACKSON S.S."
          ],
          [
           "ACADEMIE ALEXANDRE-DUMAS"
          ],
          [
           "ADAM BECK JR P.S."
          ],
          [
           "AFRICENTRIC ALTERNATIVE SCHOOL"
          ],
          [
           "AGINCOURT C.I."
          ],
          [
           "AGINCOURT JR P.S."
          ],
          [
           "AGNES MACPHAIL P.S."
          ],
          [
           "ALBERT CAMPBELL C.I."
          ],
          [
           "ALBION HEIGHTS JMS"
          ],
          [
           "ALEXANDER MUIR/GLADSTONE AVE JR & SR P.S."
          ],
          [
           "ALEXANDER STIRLING P.S."
          ],
          [
           "ALEXMUIR JR P.S."
          ],
          [
           "ALL SAINTS C.S."
          ],
          [
           "ALLENBY JR P.S."
          ],
          [
           "ALPHA ALTERNATIVE JR SCHOOL"
          ],
          [
           "ALPHA II ALTERNATIVE SCHOOL"
          ],
          [
           "ALTERNATIVE SCARBOROUGH EDUCATION 1"
          ],
          [
           "ALVIN CURLING P.S."
          ],
          [
           "AMESBURY MIDDLE SCHOOL"
          ],
          [
           "ANCASTER P.S."
          ],
          [
           "ANNETTE STREET JR & SR P.S."
          ],
          [
           "ANNUNCIATION C.S."
          ],
          [
           "ANSON PARK P.S."
          ],
          [
           "ANSON S TAYLOR JR P.S."
          ],
          [
           "ARBOR GLEN P.S."
          ],
          [
           "ARMOUR HEIGHTS P.S."
          ],
          [
           "AVONDALE ALTERNATIVE ELEMENTARY"
          ],
          [
           "AVONDALE P.S."
          ],
          [
           "AVONDALE SECONDARY ALTERNATIVE"
          ],
          [
           "BALA AVENUE COMMUNITY SCHOOL"
          ],
          [
           "BALMY BEACH COMMUNITY SCHOOL"
          ],
          [
           "BANTING AND BEST P.S."
          ],
          [
           "BAYCREST P.S."
          ],
          [
           "BAYVIEW MIDDLE SCHOOL"
          ],
          [
           "BEACHES ALTERNATIVE JR"
          ],
          [
           "BEAUMONDE HEIGHTS JMS"
          ],
          [
           "BEDFORD PARK P.S."
          ],
          [
           "BELLMERE JR P.S."
          ],
          [
           "BEN HEPPNER VOCAL MUSIC ACADEMY"
          ],
          [
           "BENDALE BUSINESS & TECHNICAL INSTITUTE"
          ],
          [
           "BENDALE JR P.S."
          ],
          [
           "BENNINGTON HEIGHTS ELEMENTARY"
          ],
          [
           "BERNER TRAIL JR P.S."
          ],
          [
           "BESSBOROUGH DR. EMS"
          ],
          [
           "BEVERLEY HEIGHTS MIDDLE SCHOOL"
          ],
          [
           "BEVERLEY SCHOOL"
          ],
          [
           "BEVERLY GLEN JR P.S."
          ],
          [
           "BIRCH CLIFF HEIGHTS P.S."
          ],
          [
           "BIRCH CLIFF P.S."
          ],
          [
           "BIRCHMOUNT PARK C.I."
          ],
          [
           "BISHOP ALLEN ACADEMY CATHOLIC S.S."
          ],
          [
           "BISHOP MARROCCO/THOMAS MERTON CATHOLIC S.S."
          ],
          [
           "BLACKSMITH P.S."
          ],
          [
           "BLAKE STREET JR P.S."
          ],
          [
           "BLANTYRE P.S."
          ],
          [
           "BLAYDON P.S."
          ],
          [
           "BLESSED CARDINAL NEWMAN C.S."
          ],
          [
           "BLESSED MARGHERITA OF CITTA CASTELLO C.S."
          ],
          [
           "BLESSED PIER GIORGIO FRASSATI C.S."
          ],
          [
           "BLESSED POPE PAUL VI C.S."
          ],
          [
           "BLESSED SACRAMENT C.S."
          ],
          [
           "BLESSED TRINITY C.S."
          ],
          [
           "BLISS CARMAN SENIOR P.S."
          ],
          [
           "BLOOR C.I."
          ],
          [
           "BLOORDALE MIDDLE SCHOOL"
          ],
          [
           "BLOORLEA MIDDLE SCHOOL"
          ],
          [
           "BLYTHWOOD JR P.S."
          ],
          [
           "BOWMORE ROAD JR & SR P.S."
          ],
          [
           "BOYS' LEADERSHIP ACADEMY"
          ],
          [
           "BRAEBURN JR SCHOOL"
          ],
          [
           "BREBEUF COLLEGE SCHOOL"
          ],
          [
           "BRIAN P.S."
          ],
          [
           "BRIARCREST JR SCHOOL"
          ],
          [
           "BRIDLEWOOD JR P.S."
          ],
          [
           "BRIMWOOD BOULEVARD JR P.S."
          ],
          [
           "BROADACRES JR P.S."
          ],
          [
           "BROADLANDS P.S."
          ],
          [
           "BROCK P.S."
          ],
          [
           "BROOKHAVEN P.S."
          ],
          [
           "BROOKMILL BOULEVARD JR P.S."
          ],
          [
           "BROOKSIDE P.S."
          ],
          [
           "BROOKVIEW MIDDLE SCHOOL"
          ],
          [
           "BROWN JR P.S."
          ],
          [
           "BRUCE JR P.S."
          ],
          [
           "BUCHANAN P.S."
          ],
          [
           "BURROWS HALL JR P.S."
          ],
          [
           "C D FARQUHARSON JR P.S."
          ],
          [
           "C R MARCHANT MIDDLE SCHOOL"
          ],
          [
           "C W JEFFERYS C.I."
          ],
          [
           "CALICO P.S."
          ],
          [
           "CAMERON P.S."
          ],
          [
           "CANADIAN MARTYRS C.S."
          ],
          [
           "CARDINAL CARTER ACADEMY FOR THE ARTS"
          ],
          [
           "CARDINAL LEGER C.S."
          ],
          [
           "CARLETON VILLAGE JR AND SR P.S."
          ],
          [
           "CASSANDRA P.S."
          ],
          [
           "CEDAR DRIVE JR P.S."
          ],
          [
           "CEDARBRAE C.I."
          ],
          [
           "CEDARBROOK P.S."
          ],
          [
           "CEDARVALE COMMUNITY SCHOOL"
          ],
          [
           "CENTENNIAL ROAD JR P.S."
          ],
          [
           "CENTRAL ETOBICOKE HIGH SCHOOL"
          ],
          [
           "CENTRAL TECHNICAL SCHOOL"
          ],
          [
           "CENTRAL TORONTO ACADEMY"
          ],
          [
           "CHALKFARM P.S."
          ],
          [
           "CHAMINADE COLLEGE SCHOOL"
          ],
          [
           "CHARLES E WEBSTER P.S."
          ],
          [
           "CHARLES G FRASER JR P.S."
          ],
          [
           "CHARLES GORDON SENIOR P.S."
          ],
          [
           "CHARLES H BEST MIDDLE SCHOOL"
          ],
          [
           "CHARLOTTETOWN JR P.S."
          ],
          [
           "CHARTLAND JR P.S."
          ],
          [
           "CHEROKEE P.S."
          ],
          [
           "CHESTER ELEMENTARY SCHOOL"
          ],
          [
           "CHESTER LE JR P.S."
          ],
          [
           "CHIEF DAN GEORGE P.S."
          ],
          [
           "CHINE DRIVE P.S."
          ],
          [
           "CHURCH STREET JR P.S."
          ],
          [
           "CHURCHILL HEIGHTS P.S."
          ],
          [
           "CHURCHILL P.S."
          ],
          [
           "CITY SCHOOL"
          ],
          [
           "CITY VIEW ALTERNATIVE SR"
          ],
          [
           "CLAIREVILLE JR SCHOOL"
          ],
          [
           "CLAIRLEA P.S."
          ],
          [
           "CLAUDE WATSON SCHOOL FOR THE ARTS"
          ],
          [
           "CLIFFSIDE P.S."
          ],
          [
           "CLIFFWOOD P.S."
          ],
          [
           "CLINTON STREET JR P.S."
          ],
          [
           "COLLEGE FRANCAIS ELEMENTAIRE"
          ],
          [
           "GREENLAND P.S."
          ],
          [
           "COLLEGE FRANCAIS SECONDAIRE"
          ],
          [
           "CONTACT ALTERNATIVE SCHOOL"
          ],
          [
           "CORDELLA JR P.S."
          ],
          [
           "CORNELL JR P.S."
          ],
          [
           "CORVETTE JR P.S."
          ],
          [
           "COSBURN MIDDLE SCHOOL"
          ],
          [
           "COTTINGHAM JR P.S."
          ],
          [
           "COURCELETTE P.S."
          ],
          [
           "CRESCENT TOWN ELEMENTARY"
          ],
          [
           "CRESTHAVEN P.S."
          ],
          [
           "CRESTVIEW P.S."
          ],
          [
           "CUMMER VALLEY MIDDLE SCHOOL"
          ],
          [
           "D A MORRISON MIDDLE SCHOOL"
          ],
          [
           "DA VINCI SCHOOL"
          ],
          [
           "DALLINGTON P.S."
          ],
          [
           "DANFORTH C. I. AND TECHNICAL SCHOOL"
          ],
          [
           "DANFORTH GARDENS P.S."
          ],
          [
           "DANTE ALIGHIERI ACADEMY"
          ],
          [
           "D'ARCY MCGEE C.S."
          ],
          [
           "DAVID AND MARY THOMSON C.I."
          ],
          [
           "DAVID HORNELL JR SCHOOL"
          ],
          [
           "DAVID LEWIS P.S."
          ],
          [
           "DAVISVILLE JR P.S."
          ],
          [
           "DAYSTROM P.S."
          ],
          [
           "DEER PARK JR & SR P.S."
          ],
          [
           "DELPHI SECONDARY ALTERNATIVE"
          ],
          [
           "DELTA SENIOR ALTERNATIVE"
          ],
          [
           "DENLOW P.S."
          ],
          [
           "DENNIS AVENUE COMMUNITY SCHOOL"
          ],
          [
           "DERRYDOWN P.S."
          ],
          [
           "DEWSON STREET JR P.S."
          ],
          [
           "DIEFENBAKER ELEMENTARY"
          ],
          [
           "DIXON GROVE JMS"
          ],
          [
           "DON MILLS C.I."
          ],
          [
           "DON MILLS MIDDLE SCHOOL"
          ],
          [
           "DON VALLEY JR H.S."
          ],
          [
           "DONVIEW MIDDLE HEALTH & WELLNESS ACADEMY"
          ],
          [
           "DONWOOD PARK JR P.S."
          ],
          [
           "DORSET PARK P.S."
          ],
          [
           "DOVERCOURT P.S."
          ],
          [
           "DOWNSVIEW P.S."
          ],
          [
           "DOWNSVIEW S.S."
          ],
          [
           "DOWNTOWN ALTERNATIVE SCHOOL"
          ],
          [
           "DOWNTOWN VOCAL MUSIC ACADEMY OF TORONTO"
          ],
          [
           "DR MARION HILLIARD SR P.S."
          ],
          [
           "DR NORMAN BETHUNE C.I."
          ],
          [
           "DREWRY S.S."
          ],
          [
           "DRIFTWOOD P.S."
          ],
          [
           "DUBLIN HEIGHTS EMS"
          ],
          [
           "DUKE OF CONNAUGHT JR & SR P.S."
          ],
          [
           "DUNDAS JR P.S."
          ],
          [
           "DUNLACE P.S."
          ],
          [
           "EARL BEATTY JR & SR P.S."
          ],
          [
           "EARL GREY SR P.S."
          ],
          [
           "EARL HAIG P.S."
          ],
          [
           "EARL HAIG S.S."
          ],
          [
           "EAST ALTERNATIVE SCHOOL OF TORONTO"
          ],
          [
           "EAST YORK ALTERNATIVE S.S."
          ],
          [
           "EAST YORK C.I."
          ],
          [
           "EASTDALE C.I."
          ],
          [
           "EASTVIEW P.S."
          ],
          [
           "EATONVILLE JUNIOR SCHOOL"
          ],
          [
           "ECOLE ELEMENTAIRE CHARLES-SAURIOL"
          ],
          [
           "ECOLE ELEMENTAIRE ETIENNE-BRULE"
          ],
          [
           "ECOLE ELEMENTAIRE FELIX-LECLERC"
          ],
          [
           "ECOLE ELEMENTAIRE GABRIELLE-ROY"
          ],
          [
           "ECOLE ELEMENTAIRE JEANNE-LAJOIE"
          ],
          [
           "ECOLE ELEMENTAIRE LA MOSAIQUE"
          ],
          [
           "ECOLE ELEMENTAIRE LAURE-RIESE"
          ],
          [
           "ECOLE ELEMENTAIRE MATHIEU-DA-COSTAI"
          ],
          [
           "ECOLE ELEMENTAIRE MICHELINE-SAINT-CYR"
          ],
          [
           "ECOLE ELEMENTAIRE PAUL-DEMERS"
          ],
          [
           "ECOLE ELEMENTAIRE PIERRE-ELLIOTT-TRUDEAU"
          ],
          [
           "ECOLE ELEMENTAIRE TORONTO OUEST"
          ],
          [
           "ECOLE SECONDAIRE ETIENNE-BRULE"
          ],
          [
           "ECOLE SECONDAIRE TORONTO OUEST"
          ],
          [
           "EDGEWOOD P.S."
          ],
          [
           "EEC DU SACRE-COEUR-TORONTO"
          ],
          [
           "EEC GEORGES-ETIENNE-CARTIER"
          ],
          [
           "EEC NOTRE-DAME-DE-GRCE - TORONTO"
          ],
          [
           "EEC SAINTE-MADELEINE"
          ],
          [
           "EEC SAINTE-MARGUERITE-D'YOUVILLE"
          ],
          [
           "EEC SAINT-JEAN-DE-LALANDE"
          ],
          [
           "EEC SAINT-MICHEL-TORONTO"
          ],
          [
           "EEC SAINT-NOEL-CHABANEL-TORONTO"
          ],
          [
           "EGLINTON JR P.S."
          ],
          [
           "EIC MONSEIGNEUR-DE-CHARBONNEL"
          ],
          [
           "EIC PERE-PHILIPPE-LAMARCHE"
          ],
          [
           "EIC SAINT-FRERE-ANDRE"
          ],
          [
           "ELIA MIDDLE SCHOOL"
          ],
          [
           "ELIZABETH SIMCOE JR P.S."
          ],
          [
           "ELKHORN P.S."
          ],
          [
           "ELLESMERE-STATTON P.S."
          ],
          [
           "ELMBANK JMA"
          ],
          [
           "ELMLEA JR SCHOOL"
          ],
          [
           "EMERY C.I."
          ],
          [
           "EMILY CARR P.S."
          ],
          [
           "EPIPHANY OF OUR LORD CATHOLIC ACADEMY"
          ],
          [
           "EQUINOX HOLISTIC ALTERNATIVE"
          ],
          [
           "ERNEST P.S."
          ],
          [
           "ESC MONSEIGNEUR-DE-CHARBONNEL"
          ],
          [
           "ESC PERE-PHILIPPE-LAMARCHE"
          ],
          [
           "ESC SAINT-FRERE-ANDRE"
          ],
          [
           "ESSEX JR & SR P.S."
          ],
          [
           "ETIENNE BRULE JR SCHOOL"
          ],
          [
           "ETOBICOKE C.I."
          ],
          [
           "ETOBICOKE SCHOOL OF THE ARTS"
          ],
          [
           "ETOBICOKE YEAR ROUND ALTERNATIVE CENTRE"
          ],
          [
           "F H MILLER JR P.S."
          ],
          [
           "FAIRBANK JMS"
          ],
          [
           "FAIRBANK MEMORIAL COMMUNITY SCHOOL"
          ],
          [
           "FAIRGLEN JR P.S."
          ],
          [
           "FAIRMOUNT P.S."
          ],
          [
           "FATHER HENRY CARR CATHOLIC S.S."
          ],
          [
           "FATHER JOHN REDMOND CATHOLIC S.S."
          ],
          [
           "FATHER SERRA C.S."
          ],
          [
           "FAYWOOD ARTS-BASED CURRICULUM SCHOOL"
          ],
          [
           "FENSIDE P.S."
          ],
          [
           "FERN AVENUE JR & SR P.S."
          ],
          [
           "FINCH P.S."
          ],
          [
           "FIRGROVE P.S."
          ],
          [
           "FISHERVILLE SR P.S."
          ],
          [
           "FLEMING P.S."
          ],
          [
           "FLEMINGTON P.S."
          ],
          [
           "FOREST HILL C.I."
          ],
          [
           "FOREST HILL JR & SR P.S."
          ],
          [
           "FOREST MANOR P.S."
          ],
          [
           "FRANCIS LIBERMANN CATHOLIC H.S."
          ],
          [
           "FRANK OKE S.S."
          ],
          [
           "FRANKLAND COMMUNITY SCHOOL"
          ],
          [
           "GALLOWAY ROAD P.S."
          ],
          [
           "GARDEN AVENUE JR P.S."
          ],
          [
           "GATEWAY P.S."
          ],
          [
           "GENERAL BROCK P.S."
          ],
          [
           "GENERAL CRERAR P.S."
          ],
          [
           "GENERAL MERCER JR P.S."
          ],
          [
           "GEORGE ANDERSON P.S."
          ],
          [
           "GEORGE B LITTLE P.S."
          ],
          [
           "GEORGE HARVEY C.I."
          ],
          [
           "GEORGE P MACKIE JR P.S."
          ],
          [
           "GEORGE PECK P.S."
          ],
          [
           "GEORGE R GAULD JR SCHOOL"
          ],
          [
           "GEORGE S HENRY ACADEMY"
          ],
          [
           "GEORGE SYME COMMUNITY SCHOOL"
          ],
          [
           "GEORGE WEBSTER ELEMENTARY"
          ],
          [
           "GEORGES VANIER S.S."
          ],
          [
           "GIVINS/SHAW JR P.S."
          ],
          [
           "GLAMORGAN JR P.S."
          ],
          [
           "GLEDHILL JR P.S."
          ],
          [
           "GLEN AMES SR P.S."
          ],
          [
           "GLEN PARK P.S."
          ],
          [
           "GLEN RAVINE JR P.S."
          ],
          [
           "GLENVIEW SR P.S."
          ],
          [
           "GOLF ROAD JR P.S."
          ],
          [
           "GORDON A BROWN MIDDLE SCHOOL"
          ],
          [
           "GOSFORD P.S."
          ],
          [
           "GRACEDALE P.S."
          ],
          [
           "GRACEFIELD P.S."
          ],
          [
           "GREENHOLME JMS"
          ],
          [
           "GREENWOOD S.S."
          ],
          [
           "GRENOBLE P.S."
          ],
          [
           "GREY OWL JR P.S."
          ],
          [
           "GUILDWOOD JR P.S."
          ],
          [
           "GULFSTREAM P.S."
          ],
          [
           "H A HALBERT JR P.S."
          ],
          [
           "H J ALEXANDER COMMUNITY SCHOOL"
          ],
          [
           "HARBORD C.I."
          ],
          [
           "HARRISON P.S."
          ],
          [
           "HARWOOD P.S."
          ],
          [
           "HAWTHORNE II BILINGUAL ALTERNATIVE JR"
          ],
          [
           "HEATHER HEIGHTS JR P.S."
          ],
          [
           "HENRY HUDSON SENIOR P.S."
          ],
          [
           "HENRY KELSEY SENIOR P.S."
          ],
          [
           "HERITAGE PARK P.S."
          ],
          [
           "HEYDON PARK S.S."
          ],
          [
           "HIGH PARK ALTERNATIVE JR"
          ],
          [
           "HIGHCASTLE P.S."
          ],
          [
           "HIGHFIELD JR SCHOOL"
          ],
          [
           "HIGHLAND CREEK P.S."
          ],
          [
           "HIGHLAND HEIGHTS JR P.S."
          ],
          [
           "HIGHLAND JR HIGH SCHOOL"
          ],
          [
           "HIGHVIEW P.S."
          ],
          [
           "HILLCREST COMMUNITY SCHOOL"
          ],
          [
           "HILLMOUNT P.S."
          ],
          [
           "HILLTOP MIDDLE SCHOOL"
          ],
          [
           "HODGSON SR P.S."
          ],
          [
           "HOLLYCREST MIDDLE SCHOOL"
          ],
          [
           "HOLLYWOOD P.S."
          ],
          [
           "HOLY ANGELS C.S."
          ],
          [
           "HOLY CHILD C.S."
          ],
          [
           "HOLY CROSS C.S."
          ],
          [
           "HOLY FAMILY C.S."
          ],
          [
           "HOLY NAME C.S."
          ],
          [
           "HOLY ROSARY C.S."
          ],
          [
           "HOLY SPIRIT C.S."
          ],
          [
           "HORIZON ALTERNATIVE SR SCHOOL"
          ],
          [
           "HOWARD JR P.S."
          ],
          [
           "HUMBER SUMMIT MIDDLE SCHOOL"
          ],
          [
           "HUMBER VALLEY VILLAGE JMS"
          ],
          [
           "HUMBERCREST P.S."
          ],
          [
           "HUMBERSIDE C.I."
          ],
          [
           "HUMBERWOOD DOWNS JMA"
          ],
          [
           "HUMEWOOD COMMUNITY SCHOOL"
          ],
          [
           "HUNTER'S GLEN JR P.S."
          ],
          [
           "HURON STREET JR P.S."
          ],
          [
           "IMMACULATE CONCEPTION C.S."
          ],
          [
           "IMMACULATE HEART OF MARY C.S."
          ],
          [
           "INDIAN ROAD CRESCENT JR P.S."
          ],
          [
           "INGLENOOK COMMUNITY SCHOOL"
          ],
          [
           "INGLEWOOD HEIGHTS JR P.S."
          ],
          [
           "IONVIEW P.S."
          ],
          [
           "IROQUOIS JR P.S."
          ],
          [
           "ISLAND PUBLIC/NATURAL SCIENCE SCHOOL"
          ],
          [
           "ISLINGTON JMS"
          ],
          [
           "J B TYRRELL SR P.S."
          ],
          [
           "J G WORKMAN P.S."
          ],
          [
           "J R WILCOX COMMUNITY SCHOOL"
          ],
          [
           "JACK MINER SR P.S."
          ],
          [
           "JACKMAN AVENUE JR P.S."
          ],
          [
           "JAMES CARDINAL MCGUIGAN CATHOLIC H.S."
          ],
          [
           "JAMES CULNAN C.S."
          ],
          [
           "JAMES S BELL JMS"
          ],
          [
           "JARVIS C.I."
          ],
          [
           "JEAN VANIER CATHOLIC S.S."
          ],
          [
           "JESSE KETCHUM JR & SR P.S."
          ],
          [
           "JOHN A LESLIE P.S."
          ],
          [
           "JOHN BUCHAN SR P.S."
          ],
          [
           "JOHN D PARKER JR SCHOOL"
          ],
          [
           "JOHN ENGLISH JMS"
          ],
          [
           "JOHN FISHER JR P.S."
          ],
          [
           "JOHN G ALTHOUSE MIDDLE SCHOOL"
          ],
          [
           "JOHN G DIEFENBAKER P.S."
          ],
          [
           "JOHN MCCRAE P.S."
          ],
          [
           "JOHN POLANYI C.I."
          ],
          [
           "JOHN ROSS ROBERTSON JR P.S."
          ],
          [
           "JOHN WANLESS JR P.S."
          ],
          [
           "JOSEPH BRANT SR P.S."
          ],
          [
           "JOSEPH HOWE SR P.S."
          ],
          [
           "JOSYF CARDINAL SLIPYJ C.S."
          ],
          [
           "JOYCE P.S."
          ],
          [
           "KAPAPAMAHCHAKWE - WANDERING SPIRIT SCHOOL"
          ],
          [
           "KAREN KAIN SCHOOL OF THE ARTS"
          ],
          [
           "KEELE STREET JR P.S."
          ],
          [
           "KEELESDALE JR P.S."
          ],
          [
           "KENNEDY P.S."
          ],
          [
           "KENSINGTON COMMUNITY SCHOOL"
          ],
          [
           "KEW BEACH JR P.S."
          ],
          [
           "KIMBERLEY JR P.S."
          ],
          [
           "KING EDWARD JR & SR P.S."
          ],
          [
           "KING GEORGE JR P.S."
          ],
          [
           "KINGSLAKE P.S."
          ],
          [
           "KINGSVIEW VILLAGE JR SCHOOL"
          ],
          [
           "KIPLING C.I."
          ],
          [
           "KNOB HILL P.S."
          ],
          [
           "LAKESHORE C.I."
          ],
          [
           "LAMBERTON P.S."
          ],
          [
           "LAMBTON KINGSWAY JMS"
          ],
          [
           "RUNNYMEDE C.I."
          ],
          [
           "LAMBTON PARK COMMUNITY SCHOOL"
          ],
          [
           "L'AMOREAUX C.I."
          ],
          [
           "LANOR JMS"
          ],
          [
           "LAWRENCE HEIGHTS MIDDLE SCHOOL"
          ],
          [
           "LAWRENCE PARK C.I."
          ],
          [
           "LEASIDE HIGH SCHOOL"
          ],
          [
           "LEDBURY PARK EMS"
          ],
          [
           "LESCON P.S."
          ],
          [
           "LESLIEVILLE JR P.S."
          ],
          [
           "LESTER B PEARSON C.I."
          ],
          [
           "LESTER B PEARSON ELEMENTARY"
          ],
          [
           "LILLIAN P.S."
          ],
          [
           "LORD DUFFERIN JR & SR P.S."
          ],
          [
           "LORD LANSDOWNE JR P.S."
          ],
          [
           "LORD ROBERTS JR P.S."
          ],
          [
           "LORETTO ABBEY CATHOLIC S.S."
          ],
          [
           "LORETTO COLLEGE SCHOOL"
          ],
          [
           "LUCY MAUD MONTGOMERY P.S."
          ],
          [
           "LUCY MCCORMICK SR SCHOOL"
          ],
          [
           "LYNNGATE JR P.S."
          ],
          [
           "LYNNWOOD HEIGHTS JR P.S."
          ],
          [
           "MACKLIN P.S."
          ],
          [
           "MADONNA CATHOLIC S.S."
          ],
          [
           "MALVERN C.I."
          ],
          [
           "MALVERN JR P.S."
          ],
          [
           "MANHATTAN PARK JR P.S."
          ],
          [
           "MAPLE LEAF P.S."
          ],
          [
           "MAPLEWOOD HIGH SCHOOL"
          ],
          [
           "MARC GARNEAU C.I."
          ],
          [
           "MARKET LANE JR & SR P.S."
          ],
          [
           "MARSHALL MCLUHAN CATHOLIC S.S."
          ],
          [
           "MARTINGROVE C.I."
          ],
          [
           "MARY SHADD P.S."
          ],
          [
           "MARY WARD CATHOLIC S.S."
          ],
          [
           "MARYVALE P.S."
          ],
          [
           "MASON ROAD JR P.S."
          ],
          [
           "MAURICE CODY JR P.S."
          ],
          [
           "MCKEE P.S."
          ],
          [
           "MCMURRICH JR P.S."
          ],
          [
           "MEADOWVALE P.S."
          ],
          [
           "MELODY VILLAGE JR SCHOOL"
          ],
          [
           "MICHAEL POWER/ST JOSEPH H.S."
          ],
          [
           "MILITARY TRAIL P.S."
          ],
          [
           "MILL VALLEY JR SCHOOL"
          ],
          [
           "MILLIKEN P.S."
          ],
          [
           "MILLWOOD JR SCHOOL"
          ],
          [
           "MILNE VALLEY MIDDLE SCHOOL"
          ],
          [
           "MONARCH PARK C.I."
          ],
          [
           "MONSIGNOR FRASER COLLEGE - ALTERNATE STUDY"
          ],
          [
           "MONSIGNOR FRASER COLLEGE - ISABELLA"
          ],
          [
           "MONSIGNOR FRASER COLLEGE - MIDLAND"
          ],
          [
           "MONSIGNOR FRASER COLLEGE - MIDLAND NORTH"
          ],
          [
           "MONSIGNOR FRASER COLLEGE - MIDTOWN"
          ],
          [
           "MONSIGNOR FRASER COLLEGE - NORFINCH"
          ],
          [
           "MONSIGNOR FRASER COLLEGE - NORTHEAST"
          ],
          [
           "MONSIGNOR FRASER COLLEGE - SOUTHWEST"
          ],
          [
           "MONSIGNOR FRASER COLLEGE - ST. MARTIN"
          ],
          [
           "MONSIGNOR JOHN CORRIGAN C.S."
          ],
          [
           "MONSIGNOR PERCY JOHNSON CATHOLIC H.S."
          ],
          [
           "MONTROSE JR P.S."
          ],
          [
           "MORRISH P.S."
          ],
          [
           "MORSE STREET JR P.S."
          ],
          [
           "MOTHER CABRINI C.S."
          ],
          [
           "MOUNTVIEW ALTERNATIVE JR"
          ],
          [
           "MUIRHEAD P.S."
          ],
          [
           "NATIVE LEARNING CENTRE"
          ],
          [
           "NATIVITY OF OUR LORD C.S."
          ],
          [
           "NEIL MCNEIL HIGH SCHOOL"
          ],
          [
           "NELSON MANDELA PARK P.S."
          ],
          [
           "NEWTONBROOK S.S."
          ],
          [
           "NIAGARA STREET JR P.S."
          ],
          [
           "NORMAN COOK JR P.S."
          ],
          [
           "NORMAN INGRAM P.S."
          ],
          [
           "NORSEMAN JMS"
          ],
          [
           "NORTH AGINCOURT JR P.S."
          ],
          [
           "NORTH ALBION C.I."
          ],
          [
           "NORTH BENDALE JR P.S."
          ],
          [
           "NORTH BRIDLEWOOD JR P.S."
          ],
          [
           "NORTH EAST YEAR ROUND ALTERNATIVE"
          ],
          [
           "NORTH KIPLING JMS"
          ],
          [
           "NORTH PREPARATORY JR P.S."
          ],
          [
           "NORTH TORONTO C.I."
          ],
          [
           "NORTH WEST YEAR ROUND ALTERNATIVE"
          ],
          [
           "NORTHERN S.S."
          ],
          [
           "NORTHLEA EMS"
          ],
          [
           "NORTHVIEW HEIGHTS S.S."
          ],
          [
           "NORWAY JR P.S."
          ],
          [
           "NOTRE DAME CATHOLIC H.S."
          ],
          [
           "OAKDALE PARK MIDDLE SCHOOL"
          ],
          [
           "OAKRIDGE JR P.S."
          ],
          [
           "OAKWOOD C.I."
          ],
          [
           "OASIS ALTERNATIVE"
          ],
          [
           "O'CONNOR P.S."
          ],
          [
           "OGDEN JR P.S."
          ],
          [
           "ORDE STREET JR P.S."
          ],
          [
           "ORIOLE PARK JR P.S."
          ],
          [
           "OSSINGTON/OLD ORCHARD JR P.S."
          ],
          [
           "ST JOACHIM C.S."
          ],
          [
           "OUR LADY OF FATIMA C.S."
          ],
          [
           "OUR LADY OF GRACE C.S."
          ],
          [
           "OUR LADY OF GUADALUPE C.S."
          ],
          [
           "OUR LADY OF LOURDES C.S."
          ],
          [
           "OUR LADY OF PEACE C.S."
          ],
          [
           "OUR LADY OF PERPETUAL HELP C.S."
          ],
          [
           "OUR LADY OF SORROWS C.S."
          ],
          [
           "OUR LADY OF THE ASSUMPTION C.S."
          ],
          [
           "OUR LADY OF VICTORY C.S."
          ],
          [
           "OUR LADY OF WISDOM C.S."
          ],
          [
           "OWEN P.S."
          ],
          [
           "PALMERSTON AVENUE JR P.S."
          ],
          [
           "PAPE AVENUE JR P.S."
          ],
          [
           "PARK LANE P.S."
          ],
          [
           "PARK LAWN JMS"
          ],
          [
           "PARKDALE C.I."
          ],
          [
           "PARKDALE JR & SR P.S."
          ],
          [
           "PARKFIELD JR SCHOOL"
          ],
          [
           "PARKSIDE ELEMENTARY"
          ],
          [
           "PARKVIEW ALTERNATIVE"
          ],
          [
           "PAULINE JOHNSON JR P.S."
          ],
          [
           "PAULINE JR P.S."
          ],
          [
           "PELMO PARK P.S."
          ],
          [
           "PERCY WILLIAMS JR P.S."
          ],
          [
           "PERTH AVENUE JR P.S."
          ],
          [
           "PIERRE LAPORTE MIDDLE SCHOOL"
          ],
          [
           "PINEWAY P.S."
          ],
          [
           "PLEASANT P.S."
          ],
          [
           "PLEASANT VIEW MIDDLE SCHOOL"
          ],
          [
           "POPE FRANCIS C.S."
          ],
          [
           "POPLAR ROAD JR P.S."
          ],
          [
           "PORT ROYAL P.S."
          ],
          [
           "PORTAGE TRAIL COMMUNITY JR SCHOOL"
          ],
          [
           "PRECIOUS BLOOD C.S."
          ],
          [
           "PRESTEIGN HEIGHTS ELEMENTARY"
          ],
          [
           "PRINCE OF PEACE C.S."
          ],
          [
           "PRINCESS MARGARET JR SCHOOL"
          ],
          [
           "QUEEN ALEXANDRA MIDDLE SCHOOL"
          ],
          [
           "QUEEN VICTORIA JR P.S."
          ],
          [
           "QUEST ALTERNATIVE SR"
          ],
          [
           "R H KING ACADEMY"
          ],
          [
           "R H MCGREGOR ELEMENTARY"
          ],
          [
           "R J LANG EMS"
          ],
          [
           "RANCHDALE P.S."
          ],
          [
           "RAWLINSON COMMUNITY SCHOOL"
          ],
          [
           "REGAL ROAD JR P.S."
          ],
          [
           "REGENT HEIGHTS P.S."
          ],
          [
           "REGINA MUNDI C.S."
          ],
          [
           "RENE GORDON HEALTH & WELLNESS ACADEMY"
          ],
          [
           "RICHVIEW C.I."
          ],
          [
           "RIPPLETON P.S."
          ],
          [
           "RIVERCREST JR SCHOOL"
          ],
          [
           "RIVERDALE C.I."
          ],
          [
           "ROBERT SERVICE SR P.S."
          ],
          [
           "ROCKCLIFFE MIDDLE SCHOOL"
          ],
          [
           "ROCKFORD P.S."
          ],
          [
           "RODEN P.S."
          ],
          [
           "ROLPH ROAD ELEMENTARY"
          ],
          [
           "ROSE AVENUE JR P.S."
          ],
          [
           "ROSEDALE HEIGHTS SCHOOL OF THE ARTS"
          ],
          [
           "ROSEDALE JR P.S."
          ],
          [
           "ROSELANDS JR P.S."
          ],
          [
           "ROSETHORN JR SCHOOL"
          ],
          [
           "ROUGE VALLEY P.S."
          ],
          [
           "ROYWOOD P.S."
          ],
          [
           "RUNNYMEDE JR & SR P.S."
          ],
          [
           "RYERSON COMMUNITY SCHOOL"
          ],
          [
           "SACRED HEART C.S."
          ],
          [
           "SAMUEL HEARNE P.S."
          ],
          [
           "SANTA MARIA C.S."
          ],
          [
           "SATEC AT W A PORTER C.I."
          ],
          [
           "SCARBOROUGH VILLAGE P.S."
          ],
          [
           "SCHOOL OF EXPERIENTIAL EDUCATION"
          ],
          [
           "SCHOOL OF LIFE EXPERIENCE"
          ],
          [
           "SECOND STREET JMS"
          ],
          [
           "SECORD ELEMENTARY"
          ],
          [
           "SEED ALTERNATIVE"
          ],
          [
           "SELWYN ELEMENTARY"
          ],
          [
           "SENATOR O'CONNOR COLLEGE"
          ],
          [
           "SENECA HILL P.S."
          ],
          [
           "SENECA SCHOOL"
          ],
          [
           "SEVENTH STREET JR SCHOOL"
          ],
          [
           "SHAUGHNESSY P.S."
          ],
          [
           "SHEPPARD P.S."
          ],
          [
           "SHIRLEY STREET JR P.S."
          ],
          [
           "SHOREHAM P.S."
          ],
          [
           "SILVER SPRINGS P.S."
          ],
          [
           "SILVERTHORN C.I."
          ],
          [
           "SILVERTHORN COMMUNITY SCHOOL"
          ],
          [
           "SIR ADAM BECK JR SCHOOL"
          ],
          [
           "SIR ALEXANDER MACKENZIE SR P.S."
          ],
          [
           "SIR ERNEST MACMILLAN SR P.S."
          ],
          [
           "SIR JOHN A MACDONALD C.I."
          ],
          [
           "SIR OLIVER MOWAT C.I."
          ],
          [
           "SIR SAMUEL B STEELE JR P.S."
          ],
          [
           "SIR WILFRID LAURIER C.I."
          ],
          [
           "SIR WILLIAM OSLER H.S."
          ],
          [
           "SLOANE P.S."
          ],
          [
           "SMITHFIELD MIDDLE SCHOOL"
          ],
          [
           "SOUTH EAST YEAR ROUND ALTERNATIVE"
          ],
          [
           "SPECTRUM ALTERNATIVE SR"
          ],
          [
           "SPRUCECOURT JR P.S."
          ],
          [
           "ST AGATHA C.S."
          ],
          [
           "ST AGNES C.S."
          ],
          [
           "ST AIDAN C.S."
          ],
          [
           "ST ALBERT C.S."
          ],
          [
           "ST ALPHONSUS C.S."
          ],
          [
           "ST AMBROSE C.S."
          ],
          [
           "ST ANDRE C.S."
          ],
          [
           "ST ANDREW C.S."
          ],
          [
           "ST ANDREWS MIDDLE SCHOOL"
          ],
          [
           "ST ANDREWS P.S."
          ],
          [
           "ST ANGELA C.S."
          ],
          [
           "ST ANSELM C.S."
          ],
          [
           "ST ANTHONY C.S."
          ],
          [
           "ST ANTOINE DANIEL C.S."
          ],
          [
           "ST AUGUSTINE C.S."
          ],
          [
           "ST BARBARA C.S."
          ],
          [
           "ST BARNABAS C.S."
          ],
          [
           "ST BARTHOLOMEW C.S."
          ],
          [
           "ST BEDE C.S."
          ],
          [
           "ST BENEDICT C.S."
          ],
          [
           "ST BERNARD C.S."
          ],
          [
           "ST BONAVENTURE C.S."
          ],
          [
           "ST BONIFACE C.S."
          ],
          [
           "ST BRENDAN C.S."
          ],
          [
           "ST BRIGID C.S."
          ],
          [
           "ST BRUNO / ST RAYMOND C.S."
          ],
          [
           "ST CATHERINE C.S."
          ],
          [
           "ST CECILIA C.S."
          ],
          [
           "ST CHARLES C.S."
          ],
          [
           "ST CHARLES GARNIER C.S."
          ],
          [
           "ST CLARE C.S."
          ],
          [
           "ST CLEMENT C.S."
          ],
          [
           "ST COLUMBA C.S."
          ],
          [
           "ST CONRAD C.S."
          ],
          [
           "ST CYRIL C.S."
          ],
          [
           "ST DEMETRIUS C.S."
          ],
          [
           "ST DENIS C.S."
          ],
          [
           "ST DOMINIC SAVIO C.S."
          ],
          [
           "ST DOROTHY C.S."
          ],
          [
           "ST DUNSTAN C.S."
          ],
          [
           "ST EDMUND CAMPION C.S."
          ],
          [
           "ST EDWARD C.S."
          ],
          [
           "ST ELIZABETH C.S."
          ],
          [
           "ST ELIZABETH SETON C.S."
          ],
          [
           "ST EUGENE C.S."
          ],
          [
           "ST FIDELIS C.S."
          ],
          [
           "ST FLORENCE C.S."
          ],
          [
           "ST FRANCIS DE SALES C.S."
          ],
          [
           "ST FRANCIS OF ASSISI C.S."
          ],
          [
           "ST FRANCIS XAVIER C.S."
          ],
          [
           "ST GABRIEL C.S."
          ],
          [
           "ST GABRIEL LALEMANT C.S."
          ],
          [
           "ST GEORGE'S JR"
          ],
          [
           "ST GERALD C.S."
          ],
          [
           "ST GREGORY C.S."
          ],
          [
           "ST HELEN C.S."
          ],
          [
           "ST HENRY C.S."
          ],
          [
           "ST IGNATIUS OF LOYOLA C.S."
          ],
          [
           "ST ISAAC JOGUES C.S."
          ],
          [
           "ST JAMES C.S."
          ],
          [
           "ST JANE FRANCES C.S."
          ],
          [
           "ST JEAN DE BREBEUF C.S."
          ],
          [
           "ST JEROME C.S."
          ],
          [
           "ST JOHN BOSCO C.S."
          ],
          [
           "ST JOHN C.S."
          ],
          [
           "ST JOHN THE EVANGELIST C.S."
          ],
          [
           "ST JOHN VIANNEY C.S."
          ],
          [
           "ST JOSAPHAT C.S."
          ],
          [
           "ST JOSEPH C.S."
          ],
          [
           "ST JOSEPH'S COLLEGE"
          ],
          [
           "ST JOSEPHS MORROW PARK H.S."
          ],
          [
           "ST JUDE C.S."
          ],
          [
           "ST KEVIN C.S."
          ],
          [
           "ST LAWRENCE C.S."
          ],
          [
           "ST LEO C.S."
          ],
          [
           "ST LOUIS C.S."
          ],
          [
           "ST LUIGI C.S."
          ],
          [
           "ST MALACHY C.S."
          ],
          [
           "ST MARCELLUS C.S."
          ],
          [
           "ST MARGARET C.S."
          ],
          [
           "ST MARGARET'S P.S."
          ],
          [
           "ST MARGUERITE BOURGEOYS C.S."
          ],
          [
           "ST MARIA GORETTI C.S."
          ],
          [
           "ST MARK C.S."
          ],
          [
           "ST MARTHA C.S."
          ],
          [
           "ST MARTIN DE PORRES C.S."
          ],
          [
           "ST MARY C.S."
          ],
          [
           "ST MARY OF THE ANGELS C.S."
          ],
          [
           "ST MARY'S CATHOLIC S.S."
          ],
          [
           "ST MATTHEW C.S."
          ],
          [
           "ST MATTHIAS C.S."
          ],
          [
           "ST MAURICE C.S."
          ],
          [
           "ST MICHAEL C.S."
          ],
          [
           "ST MICHAEL'S CHOIR JR SCHOOL"
          ],
          [
           "ST MICHAEL'S CHOIR SR SCHOOL"
          ],
          [
           "ST MONICA C.S."
          ],
          [
           "ST NICHOLAS C.S."
          ],
          [
           "ST NICHOLAS OF BARI C.S."
          ],
          [
           "ST NORBERT C.S."
          ],
          [
           "ST OSCAR ROMERO CATHOLIC S.S."
          ],
          [
           "ST PASCHAL BAYLON C.S."
          ],
          [
           "ST PATRICK CATHOLIC S.S."
          ],
          [
           "ST PAUL C.S."
          ],
          [
           "ST PIUS X C.S."
          ],
          [
           "ST RAPHAEL C.S."
          ],
          [
           "ST RENE GOUPIL C.S."
          ],
          [
           "ST RICHARD C.S."
          ],
          [
           "ST RITA C.S."
          ],
          [
           "ST ROBERT C.S."
          ],
          [
           "ST ROCH C.S."
          ],
          [
           "ST ROSE OF LIMA C.S."
          ],
          [
           "ST SEBASTIAN C.S."
          ],
          [
           "ST SIMON C.S."
          ],
          [
           "ST STEPHEN C.S."
          ],
          [
           "ST SYLVESTER C.S."
          ],
          [
           "ST TERESA C.S."
          ],
          [
           "ST THERESA SHRINE C.S."
          ],
          [
           "ST THOMAS AQUINAS C.S."
          ],
          [
           "ST THOMAS MORE C.S."
          ],
          [
           "ST TIMOTHY C.S."
          ],
          [
           "ST URSULA C.S."
          ],
          [
           "ST VICTOR C.S."
          ],
          [
           "ST VINCENT DE PAUL C.S."
          ],
          [
           "ST WILFRID C.S."
          ],
          [
           "ST. BASIL THE GREAT COLLEGE"
          ],
          [
           "ST. JOHN PAUL II CATHOLIC S.S."
          ],
          [
           "ST. JOHN XXIII C.S."
          ],
          [
           "ST. KATERI TEKAKWITHA C.S."
          ],
          [
           "ST. MOTHER TERESA CATHOLIC ACADEMY"
          ],
          [
           "STANLEY P.S."
          ],
          [
           "STEELESVIEW P.S."
          ],
          [
           "STELLA MARIS C.S."
          ],
          [
           "STEPHEN LEACOCK C.I."
          ],
          [
           "STILECROFT P.S."
          ],
          [
           "STS COSMAS AND DAMIAN C.S."
          ],
          [
           "SUBWAY ACADEMY I"
          ],
          [
           "SUBWAY ACADEMY II"
          ],
          [
           "SUMMIT HEIGHTS P.S."
          ],
          [
           "SUNNY VIEW JR & SR P.S."
          ],
          [
           "SUNNYLEA JR SCHOOL"
          ],
          [
           "SWANSEA JR & SR P.S."
          ],
          [
           "TAM O'SHANTER JR P.S."
          ],
          [
           "TAYLOR CREEK P.S."
          ],
          [
           "TECUMSEH SENIOR P.S."
          ],
          [
           "TERRAVIEW-WILLOWFIELD P.S."
          ],
          [
           "TERRY FOX P.S."
          ],
          [
           "THE DIVINE INFANT C.S."
          ],
          [
           "THE ELMS JMS"
          ],
          [
           "THE GROVE COMMUNITY SCHOOL"
          ],
          [
           "THE HOLY TRINITY C.S."
          ],
          [
           "THE STUDENT SCHOOL"
          ],
          [
           "THE WATERFRONT SCHOOL"
          ],
          [
           "THISTLETOWN C.I."
          ],
          [
           "THOMAS L WELLS P.S."
          ],
          [
           "THORNCLIFFE PARK P.S."
          ],
          [
           "THREE VALLEYS P.S."
          ],
          [
           "TIMBERBANK JR P.S."
          ],
          [
           "TOM LONGBOAT JR P.S."
          ],
          [
           "TOPCLIFF P.S."
          ],
          [
           "TRANSFIGURATION OF OUR LORD C.S."
          ],
          [
           "TREDWAY WOODSWORTH P.S."
          ],
          [
           "TUMPANE P.S."
          ],
          [
           "TWENTIETH STREET JR SCHOOL"
          ],
          [
           "URSULA FRANKLIN ACADEMY"
          ],
          [
           "VALLEY PARK MIDDLE SCHOOL"
          ],
          [
           "VALLEYFIELD JR SCHOOL"
          ],
          [
           "VENERABLE JOHN MERLINI C.S."
          ],
          [
           "VICTORIA PARK C.I."
          ],
          [
           "VICTORIA PARK ELEMENTARY"
          ],
          [
           "VICTORIA VILLAGE P.S."
          ],
          [
           "VRADENBURG JR P.S."
          ],
          [
           "WALTER PERRY JR P.S."
          ],
          [
           "WARREN PARK JR P.S."
          ],
          [
           "WEDGEWOOD JR SCHOOL"
          ],
          [
           "WELLESWORTH JR SCHOOL"
          ],
          [
           "WEST END ALTERNATIVE"
          ],
          [
           "WEST GLEN JR SCHOOL"
          ],
          [
           "WEST HILL C.I."
          ],
          [
           "WEST HILL P.S."
          ],
          [
           "WEST HUMBER C.I."
          ],
          [
           "WEST HUMBER JMS"
          ],
          [
           "WEST PREPARATORY JR P.S."
          ],
          [
           "WEST ROUGE JR P.S."
          ],
          [
           "WESTERN TECHNICAL & COMMERCIAL SCHOOL"
          ],
          [
           "WESTMOUNT JR SCHOOL"
          ],
          [
           "WESTON C.I."
          ],
          [
           "WESTON MEMORIAL JR P.S."
          ],
          [
           "WESTVIEW CENTENNIAL S.S."
          ],
          [
           "WESTWAY JR SCHOOL"
          ],
          [
           "WESTWOOD MIDDLE SCHOOL"
          ],
          [
           "WEXFORD COLLEGIATE SCHOOL FOR THE ARTS"
          ],
          [
           "WEXFORD P.S."
          ],
          [
           "WHITE HAVEN JR P.S."
          ],
          [
           "WHITNEY JR P.S."
          ],
          [
           "WILKINSON JR P.S."
          ],
          [
           "WILLIAM BURGESS ELEMENTARY"
          ],
          [
           "WILLIAM G DAVIS JR P.S."
          ],
          [
           "WILLIAM G MILLER JR P.S."
          ],
          [
           "WILLIAM J MCCORDIC SCHOOL"
          ],
          [
           "WILLIAM LYON MACKENZIE C.I."
          ],
          [
           "WILLIAMSON ROAD JR P.S."
          ],
          [
           "WILLOW PARK JR P.S."
          ],
          [
           "WILLOWDALE MIDDLE SCHOOL"
          ],
          [
           "WILMINGTON ELEMENTARY"
          ],
          [
           "WINCHESTER JR & SR P.S."
          ],
          [
           "WINDFIELDS MIDDLE SCHOOL"
          ],
          [
           "WINONA DRIVE SENIOR P.S."
          ],
          [
           "WINSTON CHURCHILL C.I."
          ],
          [
           "WITHROW AVENUE JR P.S."
          ],
          [
           "WOBURN C.I."
          ],
          [
           "WOBURN JR P.S."
          ],
          [
           "WOODBINE JR H.S."
          ],
          [
           "YORK HUMBER H.S."
          ],
          [
           "YORK MEMORIAL C.I."
          ],
          [
           "YORK MILLS C.I."
          ],
          [
           "YORKVIEW P.S."
          ],
          [
           "YORKWOODS P.S."
          ],
          [
           "ZION HEIGHTS JR H.S."
          ]
         ],
         "hovertemplate": "year=2018-2019<br>vax=MMR<br>Enrolled population=%{x}<br>Coverage Rate (%)=%{y}<br>School Name=%{customdata[0]}<br>Religious Exemption Rate (%)=%{marker.color}<extra></extra>",
         "legendgroup": "",
         "marker": {
          "color": [
           1.1,
           1.6,
           3.6,
           20.8,
           1,
           0,
           0,
           0.4,
           1,
           1.9,
           0.8,
           0.4,
           3.3,
           2.5,
           22.4,
           15.8,
           0,
           1.8,
           1.1,
           0,
           2.3,
           2,
           0.6,
           0,
           1.1,
           2.8,
           6.4,
           1.4,
           2.7,
           0,
           2.8,
           0,
           8.6,
           0.5,
           18.2,
           0.7,
           2.2,
           1.3,
           11.1,
           2.8,
           0,
           0.8,
           0,
           2.1,
           1.6,
           4.7,
           1.4,
           0.5,
           2.2,
           0.8,
           2.2,
           0.7,
           1.1,
           2.5,
           3.6,
           1,
           0.9,
           0.4,
           1.3,
           0,
           2.8,
           1.9,
           1.8,
           2,
           3.5,
           2.4,
           2.2,
           3,
           2.1,
           1.1,
           1.1,
           2.4,
           2.6,
           2,
           0.4,
           3.4,
           5.3,
           2.9,
           0.9,
           0,
           0.2,
           0.5,
           2.2,
           1.4,
           2.7,
           0.7,
           0,
           2.4,
           1.5,
           3.1,
           2.3,
           0.4,
           2.8,
           0.4,
           2.6,
           1.8,
           0.7,
           1.1,
           2,
           2.7,
           2.5,
           8.8,
           2.9,
           4,
           1.4,
           1,
           1,
           2.2,
           2.1,
           1.7,
           4.6,
           0.9,
           3.6,
           1.8,
           5.7,
           0.9,
           4.7,
           1.1,
           1,
           2.1,
           11.1,
           20.4,
           1.4,
           2.9,
           3,
           1.4,
           1,
           2.6,
           3.4,
           2.5,
           4.5,
           5.7,
           2.6,
           0.2,
           0.9,
           1.9,
           3,
           6.5,
           1.2,
           3.6,
           0,
           0.2,
           2.3,
           36.2,
           1.8,
           2.2,
           0.8,
           0.6,
           0,
           1,
           4.3,
           0,
           2,
           0,
           3.2,
           3.6,
           10,
           2.7,
           3.7,
           2.2,
           5.3,
           4.5,
           0.3,
           1.9,
           2.4,
           0.6,
           1.7,
           2.2,
           0.6,
           2.7,
           1.7,
           2,
           6.1,
           6.4,
           1.5,
           0.2,
           2,
           0.4,
           3.5,
           3,
           2.4,
           1.9,
           4.3,
           2.4,
           2.4,
           1.2,
           3.2,
           0,
           2.5,
           1.1,
           0,
           0,
           0.5,
           1.3,
           5.6,
           2.5,
           0.8,
           5.1,
           3.4,
           0,
           0,
           1.5,
           4.2,
           2.6,
           2.5,
           2.6,
           0,
           0,
           0.9,
           1.9,
           0.6,
           3.7,
           2.6,
           1,
           1,
           2.1,
           3.2,
           0,
           4.1,
           0.3,
           5.4,
           2.5,
           0.9,
           2.4,
           3.1,
           1.2,
           1.3,
           0,
           22,
           1.4,
           2.1,
           0,
           3.5,
           3.4,
           2.9,
           1.8,
           4.3,
           3.8,
           2.6,
           3,
           0,
           0,
           1.6,
           0.5,
           3,
           3.4,
           4.6,
           0.8,
           2.6,
           2.6,
           0,
           1.3,
           0,
           0,
           1.3,
           1.6,
           0.3,
           0.8,
           2.7,
           3.4,
           1.4,
           2.3,
           1.7,
           1.7,
           2.1,
           4.6,
           0,
           0.3,
           0.7,
           5.2,
           0.5,
           0,
           1.2,
           2.2,
           0.7,
           0.3,
           3.6,
           0,
           2.7,
           1.7,
           2.9,
           0.6,
           1,
           0,
           4.1,
           0,
           1.1,
           0.7,
           0,
           0,
           0.8,
           2.8,
           7.9,
           1.1,
           0.7,
           1.6,
           2.9,
           1,
           0.8,
           5.9,
           0.8,
           0.7,
           0.3,
           0.8,
           2.2,
           13.5,
           0.4,
           0.5,
           0.7,
           0.9,
           1,
           0,
           4.5,
           2.5,
           3.6,
           2.7,
           3.4,
           0.9,
           2.2,
           0,
           0.8,
           1.2,
           1.7,
           1.6,
           0,
           7.5,
           4.3,
           1.1,
           5.5,
           2.6,
           2.6,
           0.4,
           3.7,
           0.7,
           4.5,
           0,
           1.7,
           4.4,
           6,
           1.4,
           0,
           0,
           3.2,
           1.8,
           1.4,
           0,
           2.7,
           1,
           4.3,
           0.4,
           0.6,
           4.1,
           0.8,
           0.4,
           3.2,
           0.3,
           0,
           0.4,
           3.6,
           3.8,
           2.9,
           2.9,
           1.5,
           1.6,
           2.4,
           1.1,
           1.1,
           1.5,
           7.8,
           0,
           8.5,
           8.7,
           4,
           0,
           0,
           3.2,
           3.8,
           0,
           2.6,
           2.4,
           2.3,
           2.3,
           0.2,
           0.3,
           2.5,
           1.6,
           3.5,
           1.7,
           0,
           1.4,
           3.7,
           2.7,
           2.3,
           1.5,
           1.3,
           2.7,
           0.9,
           0.7,
           2.1,
           0,
           0.7,
           3.4,
           0.4,
           1.5,
           0.5,
           0,
           5.9,
           2.9,
           2,
           0.6,
           0.2,
           2.8,
           0.8,
           3.1,
           4.4,
           4.3,
           0.6,
           1.6,
           0.7,
           0.9,
           0.6,
           1.1,
           1.7,
           0.5,
           2.1,
           0.9,
           4,
           1.7,
           0.8,
           2,
           0.6,
           7.2,
           1.6,
           2.1,
           1.6,
           2.3,
           1.9,
           7.1,
           0,
           0,
           0,
           0,
           0,
           1,
           0,
           0.6,
           0.9,
           0.9,
           0.4,
           1.9,
           2.2,
           4.8,
           2.1,
           6.7,
           2.8,
           1.6,
           2.1,
           1.7,
           1.6,
           1.2,
           3.7,
           2.1,
           1.1,
           0,
           2.7,
           1.5,
           3.4,
           0.6,
           0.8,
           1.2,
           0,
           3,
           1.6,
           1.1,
           3.8,
           0.3,
           0.7,
           0.8,
           3.3,
           9.7,
           0,
           0.9,
           0.8,
           3.2,
           3.2,
           0,
           1.8,
           0.5,
           0.8,
           0,
           3.3,
           0.4,
           2.4,
           1.1,
           0.2,
           3.8,
           1.5,
           4.5,
           2.2,
           0,
           3.7,
           1.4,
           3.3,
           1.3,
           0,
           4.7,
           0.6,
           3,
           3,
           0,
           4,
           0.8,
           1.3,
           3.3,
           1.3,
           0,
           1.3,
           0.8,
           2.9,
           0.9,
           4.4,
           0.9,
           1.9,
           2.9,
           3.1,
           7.6,
           0.6,
           1.2,
           1.5,
           0,
           2,
           2.2,
           0.5,
           1.1,
           1.2,
           2.6,
           1.2,
           2.5,
           2.8,
           0,
           2.4,
           1.6,
           2.1,
           1.7,
           0,
           8.2,
           0,
           2.5,
           5,
           0.6,
           2.9,
           1.3,
           1.9,
           1,
           0.5,
           0,
           0.3,
           0,
           2.2,
           0,
           2.3,
           2.4,
           6.5,
           3.1,
           1.3,
           0,
           3.6,
           3.4,
           0,
           1,
           8.1,
           1.4,
           0,
           2.4,
           3.1,
           4.1,
           1.3,
           1.4,
           1.3,
           2,
           0.9,
           1.1,
           0.9,
           0,
           0.3,
           0,
           8.3,
           1,
           1.1,
           2.1,
           0.5,
           0.9,
           1.2,
           3.9,
           0,
           0.2,
           2.3,
           0,
           0.5,
           2.6,
           2.5,
           0.3,
           0.2,
           1.1,
           1.4,
           4.5,
           0.9,
           0.7,
           1,
           1.1,
           0,
           0.5,
           1.9,
           5.1,
           3.8,
           2.2,
           1,
           0.6,
           1.3,
           2.1,
           3.6,
           0.7,
           0.9,
           6.2,
           3.3,
           1,
           0.8,
           1.1,
           0,
           1.5,
           2.4,
           1.7,
           2.7,
           3,
           1.4,
           0.3,
           4.1,
           0.5,
           1.3,
           0,
           1.8,
           0.9,
           3,
           1,
           0.6,
           5.5,
           0.8,
           0.8,
           0.4,
           0.6,
           0.3,
           0,
           0.9,
           0,
           2.5,
           7.4,
           0.7,
           0.9,
           0.4,
           0,
           1.1,
           0.6,
           2,
           3.4,
           0,
           0.9,
           1.7,
           0.4,
           2,
           0,
           0.3,
           4.9,
           3.7,
           0,
           1.4,
           0,
           0.8,
           0.5,
           2,
           0.5,
           1.6,
           3,
           2.3,
           0.9,
           1.1,
           0.7,
           1.6,
           0.2,
           0.4,
           0.8,
           0,
           1.9,
           1.1,
           0,
           0.7,
           1.5,
           0.5,
           0,
           0.3,
           3.3,
           0.5,
           0.3,
           2.3,
           1.1,
           0,
           0,
           0.4,
           1.1,
           0.5,
           0.4,
           2.9,
           0.4,
           0.7,
           0.5,
           0.7,
           2.3,
           1.5,
           1.4,
           1,
           0.8,
           0.6,
           0.7,
           0.8,
           9.5,
           0,
           2.6,
           3,
           2.8,
           3.3,
           0.5,
           0.4,
           0.8,
           3.5,
           0,
           1.2,
           1.7,
           19.7,
           2.2,
           4.5,
           4.9,
           0.9,
           0,
           0.3,
           2.3,
           0.7,
           1.7,
           0,
           1.9,
           1.2,
           1.7,
           5.3,
           3.8,
           0.4,
           1.9,
           1,
           0.9,
           0,
           4.5,
           0,
           1.6,
           6.3,
           1.3,
           3.1,
           8.2,
           4.1,
           1.4,
           2.7,
           0.9,
           0.3,
           3.5,
           5.5,
           3.7,
           2.4,
           1.2,
           1.3,
           0.7,
           1.6,
           2.9,
           2,
           1.6,
           1.1,
           2.5,
           1.6,
           3,
           0,
           3.5,
           3.8,
           2.5,
           2,
           0,
           2.2,
           0,
           3.2,
           2.7,
           5.1,
           1.5,
           2.5,
           0.2,
           0,
           1.4,
           4.1,
           2.5,
           1.3,
           2.3,
           0.9,
           1
          ],
          "coloraxis": "coloraxis",
          "symbol": "circle"
         },
         "mode": "markers",
         "name": "",
         "showlegend": false,
         "type": "scattergl",
         "x": [
          1027,
          129,
          309,
          77,
          1241,
          141,
          207,
          1072,
          294,
          324,
          261,
          226,
          643,
          524,
          49,
          19,
          15,
          383,
          268,
          57,
          384,
          253,
          162,
          122,
          185,
          179,
          94,
          221,
          37,
          129,
          252,
          218,
          81,
          443,
          44,
          430,
          534,
          237,
          45,
          285,
          238,
          129,
          158,
          419,
          434,
          64,
          284,
          188,
          270,
          833,
          1540,
          686,
          93,
          200,
          194,
          99,
          973,
          241,
          224,
          228,
          400,
          158,
          281,
          834,
          368,
          286,
          269,
          705,
          47,
          93,
          852,
          206,
          189,
          147,
          234,
          236,
          341,
          204,
          216,
          152,
          532,
          421,
          362,
          138,
          226,
          138,
          225,
          419,
          738,
          162,
          177,
          243,
          780,
          224,
          227,
          166,
          419,
          1019,
          391,
          293,
          161,
          80,
          724,
          503,
          139,
          913,
          311,
          138,
          328,
          347,
          260,
          117,
          112,
          277,
          87,
          231,
          106,
          188,
          306,
          234,
          81,
          54,
          144,
          415,
          300,
          142,
          198,
          273,
          118,
          81,
          154,
          35,
          77,
          464,
          349,
          641,
          100,
          215,
          258,
          167,
          177,
          418,
          426,
          47,
          273,
          945,
          356,
          785,
          217,
          937,
          140,
          344,
          304,
          235,
          404,
          84,
          60,
          259,
          54,
          231,
          300,
          247,
          594,
          935,
          409,
          363,
          356,
          449,
          159,
          293,
          121,
          501,
          66,
          47,
          269,
          932,
          49,
          240,
          631,
          695,
          206,
          209,
          277,
          452,
          372,
          1810,
          62,
          60,
          1003,
          95,
          226,
          131,
          205,
          151,
          124,
          159,
          252,
          273,
          174,
          102,
          49,
          66,
          213,
          156,
          281,
          153,
          119,
          69,
          233,
          105,
          156,
          215,
          76,
          100,
          98,
          280,
          62,
          74,
          74,
          290,
          203,
          243,
          460,
          245,
          229,
          484,
          229,
          141,
          132,
          69,
          140,
          81,
          142,
          208,
          105,
          957,
          929,
          26,
          77,
          230,
          78,
          236,
          308,
          850,
          1187,
          386,
          324,
          124,
          545,
          151,
          208,
          159,
          192,
          133,
          928,
          675,
          393,
          878,
          74,
          233,
          148,
          172,
          522,
          302,
          285,
          130,
          91,
          294,
          401,
          77,
          187,
          75,
          338,
          226,
          538,
          747,
          194,
          327,
          258,
          414,
          307,
          179,
          768,
          190,
          368,
          150,
          363,
          140,
          234,
          123,
          623,
          143,
          63,
          435,
          136,
          304,
          1014,
          102,
          130,
          119,
          118,
          287,
          298,
          237,
          91,
          96,
          225,
          381,
          138,
          115,
          482,
          101,
          224,
          121,
          558,
          528,
          475,
          224,
          368,
          227,
          239,
          167,
          234,
          193,
          324,
          67,
          328,
          450,
          291,
          494,
          1195,
          554,
          410,
          302,
          202,
          340,
          120,
          204,
          50,
          140,
          262,
          240,
          154,
          342,
          415,
          136,
          186,
          197,
          414,
          794,
          346,
          318,
          638,
          821,
          345,
          383,
          184,
          253,
          698,
          292,
          480,
          171,
          404,
          743,
          372,
          443,
          459,
          392,
          395,
          154,
          153,
          172,
          347,
          78,
          415,
          95,
          312,
          160,
          499,
          123,
          128,
          260,
          410,
          366,
          603,
          189,
          463,
          522,
          79,
          443,
          218,
          148,
          1178,
          958,
          384,
          112,
          231,
          1291,
          385,
          138,
          306,
          174,
          252,
          904,
          418,
          133,
          51,
          104,
          101,
          340,
          634,
          1107,
          236,
          65,
          160,
          93,
          1629,
          191,
          1032,
          1088,
          310,
          1002,
          180,
          209,
          374,
          427,
          350,
          177,
          124,
          1818,
          319,
          83,
          184,
          241,
          575,
          775,
          106,
          14,
          16,
          28,
          26,
          73,
          64,
          99,
          16,
          158,
          936,
          112,
          235,
          323,
          136,
          63,
          97,
          15,
          322,
          822,
          234,
          749,
          125,
          83,
          109,
          581,
          267,
          757,
          75,
          136,
          29,
          469,
          122,
          1286,
          14,
          1678,
          560,
          1490,
          185,
          656,
          417,
          265,
          359,
          72,
          80,
          116,
          243,
          156,
          188,
          217,
          558,
          194,
          121,
          383,
          458,
          244,
          577,
          284,
          485,
          236,
          331,
          269,
          230,
          47,
          383,
          493,
          334,
          152,
          101,
          43,
          167,
          164,
          166,
          197,
          175,
          398,
          76,
          272,
          313,
          184,
          159,
          243,
          480,
          327,
          135,
          230,
          209,
          342,
          586,
          66,
          1229,
          409,
          323,
          124,
          501,
          357,
          371,
          280,
          161,
          1035,
          161,
          118,
          1198,
          166,
          296,
          430,
          284,
          235,
          371,
          1045,
          151,
          200,
          258,
          163,
          104,
          707,
          309,
          194,
          372,
          161,
          1181,
          140,
          45,
          28,
          351,
          327,
          31,
          163,
          1321,
          195,
          56,
          118,
          143,
          99,
          111,
          146,
          250,
          834,
          225,
          244,
          396,
          370,
          1094,
          1048,
          234,
          1319,
          110,
          144,
          631,
          27,
          60,
          194,
          282,
          241,
          220,
          317,
          165,
          258,
          419,
          550,
          393,
          222,
          397,
          269,
          242,
          297,
          422,
          265,
          207,
          67,
          117,
          436,
          478,
          435,
          259,
          409,
          425,
          158,
          78,
          463,
          193,
          314,
          300,
          329,
          169,
          426,
          217,
          193,
          215,
          193,
          239,
          185,
          185,
          336,
          167,
          116,
          263,
          438,
          141,
          334,
          123,
          372,
          227,
          105,
          113,
          212,
          530,
          289,
          179,
          91,
          259,
          131,
          517,
          159,
          372,
          238,
          336,
          306,
          282,
          108,
          151,
          758,
          459,
          542,
          180,
          329,
          200,
          145,
          99,
          214,
          286,
          474,
          199,
          69,
          717,
          144,
          162,
          302,
          219,
          167,
          650,
          378,
          202,
          204,
          129,
          169,
          88,
          223,
          273,
          454,
          243,
          627,
          522,
          728,
          123,
          373,
          367,
          95,
          302,
          66,
          441,
          253,
          325,
          152,
          384,
          294,
          130,
          182,
          157,
          401,
          235,
          456,
          184,
          235,
          244,
          472,
          1258,
          1276,
          305,
          213,
          413,
          209,
          200,
          263,
          511,
          138,
          261,
          21,
          19,
          274,
          67,
          178,
          642,
          202,
          275,
          263,
          202,
          282,
          82,
          287,
          76,
          317,
          22,
          142,
          441,
          396,
          1108,
          173,
          152,
          178,
          210,
          320,
          587,
          232,
          94,
          521,
          964,
          208,
          210,
          1173,
          92,
          132,
          145,
          189,
          111,
          240,
          96,
          49,
          98,
          631,
          150,
          1016,
          341,
          341,
          199,
          975,
          123,
          894,
          157,
          763,
          122,
          373,
          1084,
          250,
          350,
          161,
          316,
          202,
          170,
          373,
          52,
          1377,
          356,
          216,
          542,
          101,
          343,
          661,
          414,
          517,
          366,
          877,
          225,
          347,
          122,
          876,
          1200,
          256,
          224,
          592
         ],
         "xaxis": "x2",
         "y": [
          96.5,
          89.1,
          95.8,
          72.7,
          98.1,
          98.6,
          96.6,
          96.8,
          97.3,
          94.4,
          93.5,
          98.2,
          91,
          96.6,
          77.6,
          68.4,
          100,
          95.8,
          95.9,
          91.2,
          95.3,
          89.7,
          93.2,
          100,
          96.2,
          95,
          92.6,
          91.4,
          89.2,
          97.7,
          96.8,
          97.2,
          85.2,
          95,
          81.8,
          95.6,
          97,
          95.4,
          82.2,
          96.5,
          98.3,
          98.4,
          96.8,
          96.4,
          91.7,
          87.5,
          98.6,
          97.9,
          95.9,
          96.2,
          93.6,
          91.3,
          95.7,
          96.5,
          93.8,
          92.9,
          96.1,
          93.8,
          91.1,
          90.4,
          91,
          90.5,
          93.6,
          96.6,
          95.7,
          95.5,
          96.7,
          95.7,
          93.6,
          92.5,
          90.6,
          93.7,
          95.8,
          91.8,
          98.7,
          95.8,
          93.5,
          93.6,
          97.7,
          98,
          97.6,
          93.1,
          94.2,
          97.1,
          94.2,
          98.6,
          99.1,
          92.6,
          93.6,
          89.5,
          96,
          87.7,
          96.3,
          93.8,
          93,
          97.6,
          95.5,
          94.9,
          96.2,
          94.9,
          96.9,
          88.8,
          92.3,
          88.5,
          90.6,
          97.8,
          96.8,
          94.9,
          94.5,
          89.3,
          95,
          95.7,
          94.6,
          96.8,
          88.5,
          96.5,
          92.5,
          90.4,
          98,
          94.9,
          87.7,
          79.6,
          94.4,
          95.2,
          96.7,
          95.8,
          96.5,
          96,
          79.7,
          95.1,
          87,
          94.3,
          93.5,
          95.9,
          95.4,
          96.7,
          96,
          93,
          95,
          95.2,
          96.6,
          94.5,
          95.1,
          59.6,
          97.1,
          96.4,
          92.1,
          92.6,
          95.4,
          94.7,
          91.4,
          95.9,
          95.7,
          98.3,
          94.1,
          94,
          88.3,
          96.5,
          94.4,
          94.8,
          93.7,
          94.7,
          93.9,
          95.7,
          93.4,
          96.4,
          92.4,
          91.5,
          96.2,
          93.2,
          95,
          90.2,
          90.9,
          89.4,
          96.3,
          98,
          89.8,
          92.1,
          91.9,
          96,
          94.2,
          95.7,
          94.9,
          96.7,
          96.8,
          96.6,
          96.8,
          100,
          94.9,
          96.8,
          89.4,
          95.4,
          86.8,
          86.1,
          80.6,
          85.5,
          85.7,
          90.8,
          78.2,
          85.3,
          71.4,
          60.6,
          86.9,
          90.4,
          92.9,
          92.8,
          98.3,
          89.9,
          91,
          86.7,
          90.4,
          86.5,
          88.2,
          90,
          85.7,
          93.6,
          90.3,
          93.2,
          87.8,
          94.5,
          94.6,
          96.3,
          94.8,
          95.5,
          89.1,
          93.8,
          97.4,
          86.5,
          78,
          91.3,
          96.4,
          93.8,
          94.4,
          90.9,
          94.3,
          96.6,
          93.4,
          96.2,
          93.5,
          91.7,
          93.6,
          99.2,
          96.4,
          94.5,
          94.4,
          92.7,
          88.9,
          94.4,
          96.5,
          92.7,
          94.2,
          83,
          99.5,
          96.2,
          96,
          95,
          94.7,
          95.4,
          97.3,
          94,
          92.6,
          95.9,
          93.1,
          94,
          96.1,
          90.8,
          96.7,
          96.3,
          85.8,
          93.5,
          93.6,
          100,
          92.3,
          93.8,
          90,
          86.1,
          93.3,
          96.9,
          96.9,
          97.6,
          96.1,
          98.9,
          98,
          99.5,
          94,
          98,
          93.7,
          94.3,
          98.7,
          64.2,
          95.5,
          91.6,
          92.1,
          94,
          96.3,
          91.4,
          96.1,
          97.1,
          96.2,
          92.4,
          92.4,
          96.9,
          98.3,
          95.4,
          97.8,
          84.4,
          97.3,
          93.4,
          96.4,
          96.5,
          96.9,
          90.1,
          94.2,
          94.2,
          94.3,
          95.6,
          94.3,
          97.3,
          90.2,
          91.2,
          88.3,
          83.2,
          91,
          87.6,
          85.8,
          91,
          94.8,
          90.7,
          92.8,
          96.4,
          96.2,
          96.4,
          95.1,
          94.4,
          95.5,
          93.2,
          90.8,
          95.1,
          88,
          90.7,
          94.7,
          99.2,
          96.1,
          93,
          96.4,
          94.1,
          93.5,
          97.5,
          94.4,
          85.1,
          93.6,
          92.8,
          95.5,
          91.6,
          90.7,
          93.7,
          94,
          96.4,
          93.6,
          94.5,
          96,
          96.5,
          94.8,
          87.9,
          96.2,
          98.6,
          90.8,
          97.4,
          84.8,
          95.5,
          73.9,
          90.7,
          92.2,
          97.4,
          96.4,
          91.6,
          94.6,
          100,
          95,
          94.3,
          91.4,
          87.7,
          89.5,
          93.4,
          94,
          94.7,
          94.2,
          96.7,
          74.7,
          90.7,
          95.4,
          92.6,
          97.3,
          97.7,
          94.3,
          84.8,
          97.4,
          98.3,
          97.9,
          96.4,
          96.7,
          96,
          96.8,
          97.7,
          96.9,
          98.5,
          80.4,
          93.3,
          93.1,
          95.9,
          92.9,
          96.1,
          95.8,
          89.2,
          93.1,
          94.6,
          95,
          92.1,
          96.1,
          97.1,
          96.1,
          96.9,
          92.8,
          90.4,
          96.3,
          97.9,
          93.1,
          96,
          97.6,
          95.5,
          91.2,
          92.8,
          96.7,
          97.5,
          93.7,
          96,
          95.3,
          71.4,
          100,
          96.4,
          96.2,
          93.2,
          92.2,
          94.9,
          100,
          88,
          94.7,
          98.2,
          97.9,
          96.9,
          89,
          93.7,
          90.7,
          86.7,
          87.6,
          96.4,
          94.9,
          89.9,
          96.8,
          96.4,
          94.5,
          96.7,
          98.1,
          98,
          94.7,
          95.6,
          93.1,
          94.5,
          96.7,
          97,
          100,
          95.8,
          97.7,
          93.7,
          96.2,
          96.5,
          95.2,
          86,
          94.7,
          88.9,
          91.3,
          94.8,
          92.6,
          95.5,
          95.2,
          92.6,
          86.7,
          93.3,
          84.3,
          87.5,
          93,
          92.2,
          92.5,
          75,
          88.7,
          91.1,
          94.9,
          92.2,
          97.4,
          74.5,
          93.5,
          95.7,
          86.2,
          96.1,
          96,
          95.3,
          93.4,
          90.9,
          90.4,
          98.5,
          90.3,
          91.7,
          89.5,
          93,
          93.6,
          91.3,
          98.1,
          96.3,
          92.3,
          87.5,
          94.1,
          93,
          90.4,
          95,
          92.5,
          89.4,
          98,
          96.1,
          90.1,
          96.8,
          95,
          93.3,
          91.1,
          91.4,
          94.4,
          96.8,
          96.9,
          91.5,
          96.3,
          97.6,
          95.3,
          94.2,
          94.4,
          97.4,
          95.1,
          89.6,
          98.7,
          94,
          93.8,
          98.2,
          91.3,
          97.9,
          85.1,
          88.7,
          90.3,
          91.3,
          96.4,
          95.7,
          97.8,
          96.4,
          94.3,
          93.9,
          90.3,
          96.3,
          94.7,
          98.5,
          94.6,
          95.8,
          97.9,
          94.9,
          91.9,
          91.1,
          96,
          95.2,
          93.8,
          94.7,
          97.5,
          96.8,
          95.4,
          97.1,
          97,
          97.3,
          93.6,
          96.5,
          98.1,
          100,
          91.7,
          96.9,
          91.5,
          81.3,
          91.8,
          91.5,
          86.7,
          88.4,
          88.1,
          86.4,
          94.9,
          98.2,
          81.1,
          91.1,
          86,
          82.8,
          84.6,
          84.5,
          93.2,
          86.6,
          90.6,
          89.4,
          88.7,
          93.1,
          86.5,
          94.4,
          88,
          84.8,
          87.2,
          94.2,
          91.2,
          86.6,
          89.7,
          93.3,
          82.2,
          90.6,
          93.5,
          87.6,
          90.7,
          89.6,
          90,
          82.7,
          90.8,
          90.8,
          86.2,
          94,
          89.7,
          89.7,
          87.9,
          87.7,
          93.5,
          87.6,
          78,
          95.2,
          94.7,
          83,
          89.6,
          93.1,
          89.9,
          89,
          85.3,
          87.8,
          89.7,
          92.5,
          88.7,
          90.3,
          93.5,
          87.6,
          86.2,
          76.9,
          93.4,
          92.5,
          88.5,
          91,
          90.6,
          92.1,
          86.5,
          91,
          84.8,
          90.7,
          82.9,
          85,
          93.5,
          91.3,
          90.8,
          84.7,
          87,
          87.4,
          90,
          93.4,
          87.8,
          94.7,
          83.2,
          87.7,
          90.7,
          94.1,
          95.5,
          90.1,
          90.1,
          92.1,
          88.5,
          93.9,
          82.6,
          90.4,
          83.7,
          90.9,
          89.4,
          57.9,
          92.4,
          90.9,
          87.5,
          92.9,
          88.6,
          94.1,
          90.4,
          88.1,
          90,
          87.4,
          94.9,
          88.8,
          88.9,
          88.8,
          93.5,
          93.2,
          89.8,
          83.5,
          95.1,
          97.2,
          78.4,
          78.4,
          90.1,
          95.2,
          97.5,
          92.8,
          93.2,
          94.2,
          87.7,
          81,
          78.9,
          96.7,
          86.6,
          96.6,
          96,
          95.5,
          98.5,
          96.2,
          93.6,
          98.9,
          90.2,
          94.8,
          80.3,
          84.2,
          95.5,
          92.3,
          97.1,
          99.2,
          96,
          95.4,
          94.7,
          93.8,
          98.6,
          91.3,
          95.9,
          95.3,
          90.4,
          95.2,
          91.2,
          91.3,
          93.8,
          96.2,
          100,
          90.2,
          98.6,
          93.1,
          87.4,
          98.3,
          88.5,
          89.8,
          89.8,
          95.7,
          90,
          96.1,
          93.5,
          94.1,
          91.5,
          93.7,
          93.5,
          95.3,
          98.1,
          93.8,
          95.9,
          95.2,
          96.5,
          92,
          96,
          95.7,
          96.8,
          91.1,
          95.9,
          96,
          84.6,
          94.6,
          96.9,
          99.1,
          94.6,
          90.1,
          93.3,
          95.2,
          94.2,
          96.5,
          95.6,
          98.5,
          98.7,
          90.2,
          93.4,
          96.3,
          97.2,
          93,
          91.5,
          96.5
         ],
         "yaxis": "y2"
        }
       ],
       "layout": {
        "annotations": [
         {
          "font": {},
          "showarrow": false,
          "text": "vax=DTP",
          "x": 0.24,
          "xanchor": "center",
          "xref": "paper",
          "y": 1,
          "yanchor": "bottom",
          "yref": "paper"
         },
         {
          "font": {},
          "showarrow": false,
          "text": "vax=MMR",
          "x": 0.74,
          "xanchor": "center",
          "xref": "paper",
          "y": 1,
          "yanchor": "bottom",
          "yref": "paper"
         },
         {
          "font": {},
          "showarrow": false,
          "text": "year=2018-2019",
          "textangle": 90,
          "x": 0.98,
          "xanchor": "left",
          "xref": "paper",
          "y": 0.2425,
          "yanchor": "middle",
          "yref": "paper"
         },
         {
          "font": {},
          "showarrow": false,
          "text": "year=2017-2018",
          "textangle": 90,
          "x": 0.98,
          "xanchor": "left",
          "xref": "paper",
          "y": 0.7575000000000001,
          "yanchor": "middle",
          "yref": "paper"
         }
        ],
        "coloraxis": {
         "colorbar": {
          "title": {
           "text": "Religious Exemption Rate (%)"
          }
         },
         "colorscale": [
          [
           0,
           "#0d0887"
          ],
          [
           0.1111111111111111,
           "#46039f"
          ],
          [
           0.2222222222222222,
           "#7201a8"
          ],
          [
           0.3333333333333333,
           "#9c179e"
          ],
          [
           0.4444444444444444,
           "#bd3786"
          ],
          [
           0.5555555555555556,
           "#d8576b"
          ],
          [
           0.6666666666666666,
           "#ed7953"
          ],
          [
           0.7777777777777778,
           "#fb9f3a"
          ],
          [
           0.8888888888888888,
           "#fdca26"
          ],
          [
           1,
           "#f0f921"
          ]
         ]
        },
        "legend": {
         "tracegroupgap": 0
        },
        "margin": {
         "t": 60
        },
        "template": {
         "data": {
          "bar": [
           {
            "error_x": {
             "color": "#2a3f5f"
            },
            "error_y": {
             "color": "#2a3f5f"
            },
            "marker": {
             "line": {
              "color": "#E5ECF6",
              "width": 0.5
             },
             "pattern": {
              "fillmode": "overlay",
              "size": 10,
              "solidity": 0.2
             }
            },
            "type": "bar"
           }
          ],
          "barpolar": [
           {
            "marker": {
             "line": {
              "color": "#E5ECF6",
              "width": 0.5
             },
             "pattern": {
              "fillmode": "overlay",
              "size": 10,
              "solidity": 0.2
             }
            },
            "type": "barpolar"
           }
          ],
          "carpet": [
           {
            "aaxis": {
             "endlinecolor": "#2a3f5f",
             "gridcolor": "white",
             "linecolor": "white",
             "minorgridcolor": "white",
             "startlinecolor": "#2a3f5f"
            },
            "baxis": {
             "endlinecolor": "#2a3f5f",
             "gridcolor": "white",
             "linecolor": "white",
             "minorgridcolor": "white",
             "startlinecolor": "#2a3f5f"
            },
            "type": "carpet"
           }
          ],
          "choropleth": [
           {
            "colorbar": {
             "outlinewidth": 0,
             "ticks": ""
            },
            "type": "choropleth"
           }
          ],
          "contour": [
           {
            "colorbar": {
             "outlinewidth": 0,
             "ticks": ""
            },
            "colorscale": [
             [
              0,
              "#0d0887"
             ],
             [
              0.1111111111111111,
              "#46039f"
             ],
             [
              0.2222222222222222,
              "#7201a8"
             ],
             [
              0.3333333333333333,
              "#9c179e"
             ],
             [
              0.4444444444444444,
              "#bd3786"
             ],
             [
              0.5555555555555556,
              "#d8576b"
             ],
             [
              0.6666666666666666,
              "#ed7953"
             ],
             [
              0.7777777777777778,
              "#fb9f3a"
             ],
             [
              0.8888888888888888,
              "#fdca26"
             ],
             [
              1,
              "#f0f921"
             ]
            ],
            "type": "contour"
           }
          ],
          "contourcarpet": [
           {
            "colorbar": {
             "outlinewidth": 0,
             "ticks": ""
            },
            "type": "contourcarpet"
           }
          ],
          "heatmap": [
           {
            "colorbar": {
             "outlinewidth": 0,
             "ticks": ""
            },
            "colorscale": [
             [
              0,
              "#0d0887"
             ],
             [
              0.1111111111111111,
              "#46039f"
             ],
             [
              0.2222222222222222,
              "#7201a8"
             ],
             [
              0.3333333333333333,
              "#9c179e"
             ],
             [
              0.4444444444444444,
              "#bd3786"
             ],
             [
              0.5555555555555556,
              "#d8576b"
             ],
             [
              0.6666666666666666,
              "#ed7953"
             ],
             [
              0.7777777777777778,
              "#fb9f3a"
             ],
             [
              0.8888888888888888,
              "#fdca26"
             ],
             [
              1,
              "#f0f921"
             ]
            ],
            "type": "heatmap"
           }
          ],
          "heatmapgl": [
           {
            "colorbar": {
             "outlinewidth": 0,
             "ticks": ""
            },
            "colorscale": [
             [
              0,
              "#0d0887"
             ],
             [
              0.1111111111111111,
              "#46039f"
             ],
             [
              0.2222222222222222,
              "#7201a8"
             ],
             [
              0.3333333333333333,
              "#9c179e"
             ],
             [
              0.4444444444444444,
              "#bd3786"
             ],
             [
              0.5555555555555556,
              "#d8576b"
             ],
             [
              0.6666666666666666,
              "#ed7953"
             ],
             [
              0.7777777777777778,
              "#fb9f3a"
             ],
             [
              0.8888888888888888,
              "#fdca26"
             ],
             [
              1,
              "#f0f921"
             ]
            ],
            "type": "heatmapgl"
           }
          ],
          "histogram": [
           {
            "marker": {
             "pattern": {
              "fillmode": "overlay",
              "size": 10,
              "solidity": 0.2
             }
            },
            "type": "histogram"
           }
          ],
          "histogram2d": [
           {
            "colorbar": {
             "outlinewidth": 0,
             "ticks": ""
            },
            "colorscale": [
             [
              0,
              "#0d0887"
             ],
             [
              0.1111111111111111,
              "#46039f"
             ],
             [
              0.2222222222222222,
              "#7201a8"
             ],
             [
              0.3333333333333333,
              "#9c179e"
             ],
             [
              0.4444444444444444,
              "#bd3786"
             ],
             [
              0.5555555555555556,
              "#d8576b"
             ],
             [
              0.6666666666666666,
              "#ed7953"
             ],
             [
              0.7777777777777778,
              "#fb9f3a"
             ],
             [
              0.8888888888888888,
              "#fdca26"
             ],
             [
              1,
              "#f0f921"
             ]
            ],
            "type": "histogram2d"
           }
          ],
          "histogram2dcontour": [
           {
            "colorbar": {
             "outlinewidth": 0,
             "ticks": ""
            },
            "colorscale": [
             [
              0,
              "#0d0887"
             ],
             [
              0.1111111111111111,
              "#46039f"
             ],
             [
              0.2222222222222222,
              "#7201a8"
             ],
             [
              0.3333333333333333,
              "#9c179e"
             ],
             [
              0.4444444444444444,
              "#bd3786"
             ],
             [
              0.5555555555555556,
              "#d8576b"
             ],
             [
              0.6666666666666666,
              "#ed7953"
             ],
             [
              0.7777777777777778,
              "#fb9f3a"
             ],
             [
              0.8888888888888888,
              "#fdca26"
             ],
             [
              1,
              "#f0f921"
             ]
            ],
            "type": "histogram2dcontour"
           }
          ],
          "mesh3d": [
           {
            "colorbar": {
             "outlinewidth": 0,
             "ticks": ""
            },
            "type": "mesh3d"
           }
          ],
          "parcoords": [
           {
            "line": {
             "colorbar": {
              "outlinewidth": 0,
              "ticks": ""
             }
            },
            "type": "parcoords"
           }
          ],
          "pie": [
           {
            "automargin": true,
            "type": "pie"
           }
          ],
          "scatter": [
           {
            "fillpattern": {
             "fillmode": "overlay",
             "size": 10,
             "solidity": 0.2
            },
            "type": "scatter"
           }
          ],
          "scatter3d": [
           {
            "line": {
             "colorbar": {
              "outlinewidth": 0,
              "ticks": ""
             }
            },
            "marker": {
             "colorbar": {
              "outlinewidth": 0,
              "ticks": ""
             }
            },
            "type": "scatter3d"
           }
          ],
          "scattercarpet": [
           {
            "marker": {
             "colorbar": {
              "outlinewidth": 0,
              "ticks": ""
             }
            },
            "type": "scattercarpet"
           }
          ],
          "scattergeo": [
           {
            "marker": {
             "colorbar": {
              "outlinewidth": 0,
              "ticks": ""
             }
            },
            "type": "scattergeo"
           }
          ],
          "scattergl": [
           {
            "marker": {
             "colorbar": {
              "outlinewidth": 0,
              "ticks": ""
             }
            },
            "type": "scattergl"
           }
          ],
          "scattermapbox": [
           {
            "marker": {
             "colorbar": {
              "outlinewidth": 0,
              "ticks": ""
             }
            },
            "type": "scattermapbox"
           }
          ],
          "scatterpolar": [
           {
            "marker": {
             "colorbar": {
              "outlinewidth": 0,
              "ticks": ""
             }
            },
            "type": "scatterpolar"
           }
          ],
          "scatterpolargl": [
           {
            "marker": {
             "colorbar": {
              "outlinewidth": 0,
              "ticks": ""
             }
            },
            "type": "scatterpolargl"
           }
          ],
          "scatterternary": [
           {
            "marker": {
             "colorbar": {
              "outlinewidth": 0,
              "ticks": ""
             }
            },
            "type": "scatterternary"
           }
          ],
          "surface": [
           {
            "colorbar": {
             "outlinewidth": 0,
             "ticks": ""
            },
            "colorscale": [
             [
              0,
              "#0d0887"
             ],
             [
              0.1111111111111111,
              "#46039f"
             ],
             [
              0.2222222222222222,
              "#7201a8"
             ],
             [
              0.3333333333333333,
              "#9c179e"
             ],
             [
              0.4444444444444444,
              "#bd3786"
             ],
             [
              0.5555555555555556,
              "#d8576b"
             ],
             [
              0.6666666666666666,
              "#ed7953"
             ],
             [
              0.7777777777777778,
              "#fb9f3a"
             ],
             [
              0.8888888888888888,
              "#fdca26"
             ],
             [
              1,
              "#f0f921"
             ]
            ],
            "type": "surface"
           }
          ],
          "table": [
           {
            "cells": {
             "fill": {
              "color": "#EBF0F8"
             },
             "line": {
              "color": "white"
             }
            },
            "header": {
             "fill": {
              "color": "#C8D4E3"
             },
             "line": {
              "color": "white"
             }
            },
            "type": "table"
           }
          ]
         },
         "layout": {
          "annotationdefaults": {
           "arrowcolor": "#2a3f5f",
           "arrowhead": 0,
           "arrowwidth": 1
          },
          "autotypenumbers": "strict",
          "coloraxis": {
           "colorbar": {
            "outlinewidth": 0,
            "ticks": ""
           }
          },
          "colorscale": {
           "diverging": [
            [
             0,
             "#8e0152"
            ],
            [
             0.1,
             "#c51b7d"
            ],
            [
             0.2,
             "#de77ae"
            ],
            [
             0.3,
             "#f1b6da"
            ],
            [
             0.4,
             "#fde0ef"
            ],
            [
             0.5,
             "#f7f7f7"
            ],
            [
             0.6,
             "#e6f5d0"
            ],
            [
             0.7,
             "#b8e186"
            ],
            [
             0.8,
             "#7fbc41"
            ],
            [
             0.9,
             "#4d9221"
            ],
            [
             1,
             "#276419"
            ]
           ],
           "sequential": [
            [
             0,
             "#0d0887"
            ],
            [
             0.1111111111111111,
             "#46039f"
            ],
            [
             0.2222222222222222,
             "#7201a8"
            ],
            [
             0.3333333333333333,
             "#9c179e"
            ],
            [
             0.4444444444444444,
             "#bd3786"
            ],
            [
             0.5555555555555556,
             "#d8576b"
            ],
            [
             0.6666666666666666,
             "#ed7953"
            ],
            [
             0.7777777777777778,
             "#fb9f3a"
            ],
            [
             0.8888888888888888,
             "#fdca26"
            ],
            [
             1,
             "#f0f921"
            ]
           ],
           "sequentialminus": [
            [
             0,
             "#0d0887"
            ],
            [
             0.1111111111111111,
             "#46039f"
            ],
            [
             0.2222222222222222,
             "#7201a8"
            ],
            [
             0.3333333333333333,
             "#9c179e"
            ],
            [
             0.4444444444444444,
             "#bd3786"
            ],
            [
             0.5555555555555556,
             "#d8576b"
            ],
            [
             0.6666666666666666,
             "#ed7953"
            ],
            [
             0.7777777777777778,
             "#fb9f3a"
            ],
            [
             0.8888888888888888,
             "#fdca26"
            ],
            [
             1,
             "#f0f921"
            ]
           ]
          },
          "colorway": [
           "#636efa",
           "#EF553B",
           "#00cc96",
           "#ab63fa",
           "#FFA15A",
           "#19d3f3",
           "#FF6692",
           "#B6E880",
           "#FF97FF",
           "#FECB52"
          ],
          "font": {
           "color": "#2a3f5f"
          },
          "geo": {
           "bgcolor": "white",
           "lakecolor": "white",
           "landcolor": "#E5ECF6",
           "showlakes": true,
           "showland": true,
           "subunitcolor": "white"
          },
          "hoverlabel": {
           "align": "left"
          },
          "hovermode": "closest",
          "mapbox": {
           "style": "light"
          },
          "paper_bgcolor": "white",
          "plot_bgcolor": "#E5ECF6",
          "polar": {
           "angularaxis": {
            "gridcolor": "white",
            "linecolor": "white",
            "ticks": ""
           },
           "bgcolor": "#E5ECF6",
           "radialaxis": {
            "gridcolor": "white",
            "linecolor": "white",
            "ticks": ""
           }
          },
          "scene": {
           "xaxis": {
            "backgroundcolor": "#E5ECF6",
            "gridcolor": "white",
            "gridwidth": 2,
            "linecolor": "white",
            "showbackground": true,
            "ticks": "",
            "zerolinecolor": "white"
           },
           "yaxis": {
            "backgroundcolor": "#E5ECF6",
            "gridcolor": "white",
            "gridwidth": 2,
            "linecolor": "white",
            "showbackground": true,
            "ticks": "",
            "zerolinecolor": "white"
           },
           "zaxis": {
            "backgroundcolor": "#E5ECF6",
            "gridcolor": "white",
            "gridwidth": 2,
            "linecolor": "white",
            "showbackground": true,
            "ticks": "",
            "zerolinecolor": "white"
           }
          },
          "shapedefaults": {
           "line": {
            "color": "#2a3f5f"
           }
          },
          "ternary": {
           "aaxis": {
            "gridcolor": "white",
            "linecolor": "white",
            "ticks": ""
           },
           "baxis": {
            "gridcolor": "white",
            "linecolor": "white",
            "ticks": ""
           },
           "bgcolor": "#E5ECF6",
           "caxis": {
            "gridcolor": "white",
            "linecolor": "white",
            "ticks": ""
           }
          },
          "title": {
           "x": 0.05
          },
          "xaxis": {
           "automargin": true,
           "gridcolor": "white",
           "linecolor": "white",
           "ticks": "",
           "title": {
            "standoff": 15
           },
           "zerolinecolor": "white",
           "zerolinewidth": 2
          },
          "yaxis": {
           "automargin": true,
           "gridcolor": "white",
           "linecolor": "white",
           "ticks": "",
           "title": {
            "standoff": 15
           },
           "zerolinecolor": "white",
           "zerolinewidth": 2
          }
         }
        },
        "title": {
         "font": {
          "size": 18
         },
         "text": "Vaccine Coverage Rate in Toronto Schools"
        },
        "xaxis": {
         "anchor": "y",
         "domain": [
          0,
          0.48
         ],
         "title": {
          "text": "Enrolled population"
         }
        },
        "xaxis2": {
         "anchor": "y2",
         "domain": [
          0.5,
          0.98
         ],
         "matches": "x",
         "title": {
          "text": "Enrolled population"
         }
        },
        "xaxis3": {
         "anchor": "y3",
         "domain": [
          0,
          0.48
         ],
         "matches": "x",
         "showticklabels": false
        },
        "xaxis4": {
         "anchor": "y4",
         "domain": [
          0.5,
          0.98
         ],
         "matches": "x",
         "showticklabels": false
        },
        "yaxis": {
         "anchor": "x",
         "domain": [
          0,
          0.485
         ],
         "title": {
          "text": "Coverage Rate (%)"
         }
        },
        "yaxis2": {
         "anchor": "x2",
         "domain": [
          0,
          0.485
         ],
         "matches": "y",
         "showticklabels": false
        },
        "yaxis3": {
         "anchor": "x3",
         "domain": [
          0.515,
          1
         ],
         "matches": "y",
         "title": {
          "text": "Coverage Rate (%)"
         }
        },
        "yaxis4": {
         "anchor": "x4",
         "domain": [
          0.515,
          1
         ],
         "matches": "y",
         "showticklabels": false
        }
       }
      }
     },
     "metadata": {},
     "output_type": "display_data"
    }
   ],
   "source": [
    "graph = px.scatter(dtpmmr, x='Enrolled population',\n",
    "                   y='Coverage Rate (%)', \n",
    "                   color='Religious Exemption Rate (%)', \n",
    "                   facet_col = 'vax',\n",
    "                   facet_row = 'year',\n",
    "                   hover_data='School Name')\n",
    "graph.update_layout(\n",
    "    title = dict(text = 'Vaccine Coverage Rate in Toronto Schools',\n",
    "                 font=dict(size=18))\n",
    ")\n",
    "graph.show()"
   ]
  },
  {
   "cell_type": "markdown",
   "metadata": {},
   "source": [
    "#### Setting up Data for Tableau ####"
   ]
  },
  {
   "cell_type": "code",
   "execution_count": 8,
   "metadata": {},
   "outputs": [
    {
     "data": {
      "text/html": [
       "<div>\n",
       "<style scoped>\n",
       "    .dataframe tbody tr th:only-of-type {\n",
       "        vertical-align: middle;\n",
       "    }\n",
       "\n",
       "    .dataframe tbody tr th {\n",
       "        vertical-align: top;\n",
       "    }\n",
       "\n",
       "    .dataframe thead th {\n",
       "        text-align: right;\n",
       "    }\n",
       "</style>\n",
       "<table border=\"1\" class=\"dataframe\">\n",
       "  <thead>\n",
       "    <tr style=\"text-align: right;\">\n",
       "      <th></th>\n",
       "      <th>_id</th>\n",
       "      <th>School Name_x</th>\n",
       "      <th>Enrolled population_x</th>\n",
       "      <th>DTP coverage rate (%)_x</th>\n",
       "      <th>DTP Religious exemption rate (%)_x</th>\n",
       "      <th>MMR coverage rate (%)_x</th>\n",
       "      <th>MMR Religious exemption rate (%)_x</th>\n",
       "      <th>Lat_x</th>\n",
       "      <th>Lng_x</th>\n",
       "      <th>School Name_y</th>\n",
       "      <th>Enrolled population_y</th>\n",
       "      <th>DTP coverage rate (%)_y</th>\n",
       "      <th>DTP Religious exemption rate (%)_y</th>\n",
       "      <th>MMR coverage rate (%)_y</th>\n",
       "      <th>MMR Religious exemption rate (%)_y</th>\n",
       "      <th>Lat_y</th>\n",
       "      <th>Lng_y</th>\n",
       "    </tr>\n",
       "  </thead>\n",
       "  <tbody>\n",
       "    <tr>\n",
       "      <th>0</th>\n",
       "      <td>1</td>\n",
       "      <td>A Y JACKSON SECONDARY SCHOOL</td>\n",
       "      <td>1070</td>\n",
       "      <td>91.0</td>\n",
       "      <td>1.0</td>\n",
       "      <td>95.7</td>\n",
       "      <td>1.0</td>\n",
       "      <td>43.805261</td>\n",
       "      <td>-79.366555</td>\n",
       "      <td>A Y Jackson S.S.</td>\n",
       "      <td>1027</td>\n",
       "      <td>89.0</td>\n",
       "      <td>1.1</td>\n",
       "      <td>96.5</td>\n",
       "      <td>1.1</td>\n",
       "      <td>43.805261</td>\n",
       "      <td>-79.366555</td>\n",
       "    </tr>\n",
       "    <tr>\n",
       "      <th>1</th>\n",
       "      <td>2</td>\n",
       "      <td>ACADEMIE ALEXANDRE-DUMAS</td>\n",
       "      <td>110</td>\n",
       "      <td>88.2</td>\n",
       "      <td>1.8</td>\n",
       "      <td>90.0</td>\n",
       "      <td>1.8</td>\n",
       "      <td>43.762419</td>\n",
       "      <td>-79.179765</td>\n",
       "      <td>Academie Alexandre-Dumas</td>\n",
       "      <td>129</td>\n",
       "      <td>86.8</td>\n",
       "      <td>1.6</td>\n",
       "      <td>89.1</td>\n",
       "      <td>1.6</td>\n",
       "      <td>43.762419</td>\n",
       "      <td>-79.179765</td>\n",
       "    </tr>\n",
       "    <tr>\n",
       "      <th>2</th>\n",
       "      <td>3</td>\n",
       "      <td>ADAM BECK JUNIOR PUBLIC SCHOOL</td>\n",
       "      <td>247</td>\n",
       "      <td>91.9</td>\n",
       "      <td>3.6</td>\n",
       "      <td>94.3</td>\n",
       "      <td>3.6</td>\n",
       "      <td>43.683152</td>\n",
       "      <td>-79.288488</td>\n",
       "      <td>Adam Beck Jr P.S.</td>\n",
       "      <td>309</td>\n",
       "      <td>96.1</td>\n",
       "      <td>3.6</td>\n",
       "      <td>95.8</td>\n",
       "      <td>3.6</td>\n",
       "      <td>43.683152</td>\n",
       "      <td>-79.288488</td>\n",
       "    </tr>\n",
       "    <tr>\n",
       "      <th>3</th>\n",
       "      <td>4</td>\n",
       "      <td>AFRICENTRIC ALTERNATIVE SCHOOL</td>\n",
       "      <td>66</td>\n",
       "      <td>71.2</td>\n",
       "      <td>19.7</td>\n",
       "      <td>72.7</td>\n",
       "      <td>19.7</td>\n",
       "      <td>43.745424</td>\n",
       "      <td>-79.488261</td>\n",
       "      <td>Africentric Alternative School</td>\n",
       "      <td>77</td>\n",
       "      <td>71.4</td>\n",
       "      <td>20.8</td>\n",
       "      <td>72.7</td>\n",
       "      <td>20.8</td>\n",
       "      <td>43.745424</td>\n",
       "      <td>-79.488261</td>\n",
       "    </tr>\n",
       "    <tr>\n",
       "      <th>4</th>\n",
       "      <td>5</td>\n",
       "      <td>AGINCOURT COLLEGIATE INSTITUTE</td>\n",
       "      <td>1253</td>\n",
       "      <td>90.7</td>\n",
       "      <td>1.0</td>\n",
       "      <td>97.8</td>\n",
       "      <td>1.0</td>\n",
       "      <td>43.788874</td>\n",
       "      <td>-79.278910</td>\n",
       "      <td>Agincourt C.I.</td>\n",
       "      <td>1241</td>\n",
       "      <td>87.3</td>\n",
       "      <td>1.0</td>\n",
       "      <td>98.1</td>\n",
       "      <td>1.0</td>\n",
       "      <td>43.788874</td>\n",
       "      <td>-79.278910</td>\n",
       "    </tr>\n",
       "  </tbody>\n",
       "</table>\n",
       "</div>"
      ],
      "text/plain": [
       "   _id                   School Name_x  Enrolled population_x  \\\n",
       "0    1    A Y JACKSON SECONDARY SCHOOL                   1070   \n",
       "1    2        ACADEMIE ALEXANDRE-DUMAS                    110   \n",
       "2    3  ADAM BECK JUNIOR PUBLIC SCHOOL                    247   \n",
       "3    4  AFRICENTRIC ALTERNATIVE SCHOOL                     66   \n",
       "4    5  AGINCOURT COLLEGIATE INSTITUTE                   1253   \n",
       "\n",
       "   DTP coverage rate (%)_x  DTP Religious exemption rate (%)_x  \\\n",
       "0                     91.0                                 1.0   \n",
       "1                     88.2                                 1.8   \n",
       "2                     91.9                                 3.6   \n",
       "3                     71.2                                19.7   \n",
       "4                     90.7                                 1.0   \n",
       "\n",
       "   MMR coverage rate (%)_x  MMR Religious exemption rate (%)_x      Lat_x  \\\n",
       "0                     95.7                                 1.0  43.805261   \n",
       "1                     90.0                                 1.8  43.762419   \n",
       "2                     94.3                                 3.6  43.683152   \n",
       "3                     72.7                                19.7  43.745424   \n",
       "4                     97.8                                 1.0  43.788874   \n",
       "\n",
       "       Lng_x                   School Name_y  Enrolled population_y  \\\n",
       "0 -79.366555                A Y Jackson S.S.                   1027   \n",
       "1 -79.179765        Academie Alexandre-Dumas                    129   \n",
       "2 -79.288488               Adam Beck Jr P.S.                    309   \n",
       "3 -79.488261  Africentric Alternative School                     77   \n",
       "4 -79.278910                  Agincourt C.I.                   1241   \n",
       "\n",
       "   DTP coverage rate (%)_y  DTP Religious exemption rate (%)_y  \\\n",
       "0                     89.0                                 1.1   \n",
       "1                     86.8                                 1.6   \n",
       "2                     96.1                                 3.6   \n",
       "3                     71.4                                20.8   \n",
       "4                     87.3                                 1.0   \n",
       "\n",
       "   MMR coverage rate (%)_y  MMR Religious exemption rate (%)_y      Lat_y  \\\n",
       "0                     96.5                                 1.1  43.805261   \n",
       "1                     89.1                                 1.6  43.762419   \n",
       "2                     95.8                                 3.6  43.683152   \n",
       "3                     72.7                                20.8  43.745424   \n",
       "4                     98.1                                 1.0  43.788874   \n",
       "\n",
       "       Lng_y  \n",
       "0 -79.366555  \n",
       "1 -79.179765  \n",
       "2 -79.288488  \n",
       "3 -79.488261  \n",
       "4 -79.278910  "
      ]
     },
     "execution_count": 8,
     "metadata": {},
     "output_type": "execute_result"
    }
   ],
   "source": [
    "df_merge = pd.merge(df1718, df1819, left_on='_id', right_on='_id')\n",
    "df_merge.head()"
   ]
  },
  {
   "cell_type": "code",
   "execution_count": 31,
   "metadata": {},
   "outputs": [
    {
     "data": {
      "text/html": [
       "<div>\n",
       "<style scoped>\n",
       "    .dataframe tbody tr th:only-of-type {\n",
       "        vertical-align: middle;\n",
       "    }\n",
       "\n",
       "    .dataframe tbody tr th {\n",
       "        vertical-align: top;\n",
       "    }\n",
       "\n",
       "    .dataframe thead th {\n",
       "        text-align: right;\n",
       "    }\n",
       "</style>\n",
       "<table border=\"1\" class=\"dataframe\">\n",
       "  <thead>\n",
       "    <tr style=\"text-align: right;\">\n",
       "      <th></th>\n",
       "      <th>School Name_y</th>\n",
       "      <th>DTP coverage rate (%)_x</th>\n",
       "      <th>DTP Religious exemption rate (%)_x</th>\n",
       "      <th>MMR coverage rate (%)_x</th>\n",
       "      <th>MMR Religious exemption rate (%)_x</th>\n",
       "      <th>DTP coverage rate (%)_y</th>\n",
       "      <th>DTP Religious exemption rate (%)_y</th>\n",
       "      <th>MMR coverage rate (%)_y</th>\n",
       "      <th>MMR Religious exemption rate (%)_y</th>\n",
       "      <th>Lat_y</th>\n",
       "      <th>Lng_y</th>\n",
       "    </tr>\n",
       "  </thead>\n",
       "  <tbody>\n",
       "    <tr>\n",
       "      <th>0</th>\n",
       "      <td>A Y Jackson S.S.</td>\n",
       "      <td>91.0</td>\n",
       "      <td>1.0</td>\n",
       "      <td>95.7</td>\n",
       "      <td>1.0</td>\n",
       "      <td>89.0</td>\n",
       "      <td>1.1</td>\n",
       "      <td>96.5</td>\n",
       "      <td>1.1</td>\n",
       "      <td>43.805261</td>\n",
       "      <td>-79.366555</td>\n",
       "    </tr>\n",
       "    <tr>\n",
       "      <th>1</th>\n",
       "      <td>Academie Alexandre-Dumas</td>\n",
       "      <td>88.2</td>\n",
       "      <td>1.8</td>\n",
       "      <td>90.0</td>\n",
       "      <td>1.8</td>\n",
       "      <td>86.8</td>\n",
       "      <td>1.6</td>\n",
       "      <td>89.1</td>\n",
       "      <td>1.6</td>\n",
       "      <td>43.762419</td>\n",
       "      <td>-79.179765</td>\n",
       "    </tr>\n",
       "    <tr>\n",
       "      <th>2</th>\n",
       "      <td>Adam Beck Jr P.S.</td>\n",
       "      <td>91.9</td>\n",
       "      <td>3.6</td>\n",
       "      <td>94.3</td>\n",
       "      <td>3.6</td>\n",
       "      <td>96.1</td>\n",
       "      <td>3.6</td>\n",
       "      <td>95.8</td>\n",
       "      <td>3.6</td>\n",
       "      <td>43.683152</td>\n",
       "      <td>-79.288488</td>\n",
       "    </tr>\n",
       "    <tr>\n",
       "      <th>3</th>\n",
       "      <td>Africentric Alternative School</td>\n",
       "      <td>71.2</td>\n",
       "      <td>19.7</td>\n",
       "      <td>72.7</td>\n",
       "      <td>19.7</td>\n",
       "      <td>71.4</td>\n",
       "      <td>20.8</td>\n",
       "      <td>72.7</td>\n",
       "      <td>20.8</td>\n",
       "      <td>43.745424</td>\n",
       "      <td>-79.488261</td>\n",
       "    </tr>\n",
       "    <tr>\n",
       "      <th>4</th>\n",
       "      <td>Agincourt C.I.</td>\n",
       "      <td>90.7</td>\n",
       "      <td>1.0</td>\n",
       "      <td>97.8</td>\n",
       "      <td>1.0</td>\n",
       "      <td>87.3</td>\n",
       "      <td>1.0</td>\n",
       "      <td>98.1</td>\n",
       "      <td>1.0</td>\n",
       "      <td>43.788874</td>\n",
       "      <td>-79.278910</td>\n",
       "    </tr>\n",
       "  </tbody>\n",
       "</table>\n",
       "</div>"
      ],
      "text/plain": [
       "                    School Name_y  DTP coverage rate (%)_x  \\\n",
       "0                A Y Jackson S.S.                     91.0   \n",
       "1        Academie Alexandre-Dumas                     88.2   \n",
       "2               Adam Beck Jr P.S.                     91.9   \n",
       "3  Africentric Alternative School                     71.2   \n",
       "4                  Agincourt C.I.                     90.7   \n",
       "\n",
       "   DTP Religious exemption rate (%)_x  MMR coverage rate (%)_x  \\\n",
       "0                                 1.0                     95.7   \n",
       "1                                 1.8                     90.0   \n",
       "2                                 3.6                     94.3   \n",
       "3                                19.7                     72.7   \n",
       "4                                 1.0                     97.8   \n",
       "\n",
       "   MMR Religious exemption rate (%)_x  DTP coverage rate (%)_y  \\\n",
       "0                                 1.0                     89.0   \n",
       "1                                 1.8                     86.8   \n",
       "2                                 3.6                     96.1   \n",
       "3                                19.7                     71.4   \n",
       "4                                 1.0                     87.3   \n",
       "\n",
       "   DTP Religious exemption rate (%)_y  MMR coverage rate (%)_y  \\\n",
       "0                                 1.1                     96.5   \n",
       "1                                 1.6                     89.1   \n",
       "2                                 3.6                     95.8   \n",
       "3                                20.8                     72.7   \n",
       "4                                 1.0                     98.1   \n",
       "\n",
       "   MMR Religious exemption rate (%)_y      Lat_y      Lng_y  \n",
       "0                                 1.1  43.805261 -79.366555  \n",
       "1                                 1.6  43.762419 -79.179765  \n",
       "2                                 3.6  43.683152 -79.288488  \n",
       "3                                20.8  43.745424 -79.488261  \n",
       "4                                 1.0  43.788874 -79.278910  "
      ]
     },
     "execution_count": 31,
     "metadata": {},
     "output_type": "execute_result"
    }
   ],
   "source": [
    "# going to select only one school name\n",
    "df_reduce = df_merge[['School Name_y', 'DTP coverage rate (%)_x', 'DTP Religious exemption rate (%)_x',\n",
    "               'MMR coverage rate (%)_x', 'MMR Religious exemption rate (%)_x',\n",
    "               'DTP coverage rate (%)_y', 'DTP Religious exemption rate (%)_y',\n",
    "               'MMR coverage rate (%)_y', 'MMR Religious exemption rate (%)_y',\n",
    "               'Lat_y', 'Lng_y']]\n",
    "df_reduce.head()"
   ]
  },
  {
   "cell_type": "code",
   "execution_count": 32,
   "metadata": {},
   "outputs": [
    {
     "data": {
      "text/html": [
       "<div>\n",
       "<style scoped>\n",
       "    .dataframe tbody tr th:only-of-type {\n",
       "        vertical-align: middle;\n",
       "    }\n",
       "\n",
       "    .dataframe tbody tr th {\n",
       "        vertical-align: top;\n",
       "    }\n",
       "\n",
       "    .dataframe thead th {\n",
       "        text-align: right;\n",
       "    }\n",
       "</style>\n",
       "<table border=\"1\" class=\"dataframe\">\n",
       "  <thead>\n",
       "    <tr style=\"text-align: right;\">\n",
       "      <th></th>\n",
       "      <th>School Name_y</th>\n",
       "      <th>DTP coverage rate (%)_x</th>\n",
       "      <th>DTP Religious exemption rate (%)_x</th>\n",
       "      <th>MMR coverage rate (%)_x</th>\n",
       "      <th>MMR Religious exemption rate (%)_x</th>\n",
       "      <th>DTP coverage rate (%)_y</th>\n",
       "      <th>DTP Religious exemption rate (%)_y</th>\n",
       "      <th>MMR coverage rate (%)_y</th>\n",
       "      <th>MMR Religious exemption rate (%)_y</th>\n",
       "      <th>Lat_y</th>\n",
       "      <th>Lng_y</th>\n",
       "      <th>DTP difference</th>\n",
       "      <th>MMR difference</th>\n",
       "      <th>DTP relig difference</th>\n",
       "      <th>MMR relig difference</th>\n",
       "    </tr>\n",
       "  </thead>\n",
       "  <tbody>\n",
       "    <tr>\n",
       "      <th>0</th>\n",
       "      <td>A Y Jackson S.S.</td>\n",
       "      <td>91.0</td>\n",
       "      <td>1.0</td>\n",
       "      <td>95.7</td>\n",
       "      <td>1.0</td>\n",
       "      <td>89.0</td>\n",
       "      <td>1.1</td>\n",
       "      <td>96.5</td>\n",
       "      <td>1.1</td>\n",
       "      <td>43.805261</td>\n",
       "      <td>-79.366555</td>\n",
       "      <td>-2.197802</td>\n",
       "      <td>0.835946</td>\n",
       "      <td>10.000000</td>\n",
       "      <td>10.000000</td>\n",
       "    </tr>\n",
       "    <tr>\n",
       "      <th>1</th>\n",
       "      <td>Academie Alexandre-Dumas</td>\n",
       "      <td>88.2</td>\n",
       "      <td>1.8</td>\n",
       "      <td>90.0</td>\n",
       "      <td>1.8</td>\n",
       "      <td>86.8</td>\n",
       "      <td>1.6</td>\n",
       "      <td>89.1</td>\n",
       "      <td>1.6</td>\n",
       "      <td>43.762419</td>\n",
       "      <td>-79.179765</td>\n",
       "      <td>-1.587302</td>\n",
       "      <td>-1.000000</td>\n",
       "      <td>-11.111111</td>\n",
       "      <td>-11.111111</td>\n",
       "    </tr>\n",
       "    <tr>\n",
       "      <th>2</th>\n",
       "      <td>Adam Beck Jr P.S.</td>\n",
       "      <td>91.9</td>\n",
       "      <td>3.6</td>\n",
       "      <td>94.3</td>\n",
       "      <td>3.6</td>\n",
       "      <td>96.1</td>\n",
       "      <td>3.6</td>\n",
       "      <td>95.8</td>\n",
       "      <td>3.6</td>\n",
       "      <td>43.683152</td>\n",
       "      <td>-79.288488</td>\n",
       "      <td>4.570185</td>\n",
       "      <td>1.590668</td>\n",
       "      <td>0.000000</td>\n",
       "      <td>0.000000</td>\n",
       "    </tr>\n",
       "    <tr>\n",
       "      <th>3</th>\n",
       "      <td>Africentric Alternative School</td>\n",
       "      <td>71.2</td>\n",
       "      <td>19.7</td>\n",
       "      <td>72.7</td>\n",
       "      <td>19.7</td>\n",
       "      <td>71.4</td>\n",
       "      <td>20.8</td>\n",
       "      <td>72.7</td>\n",
       "      <td>20.8</td>\n",
       "      <td>43.745424</td>\n",
       "      <td>-79.488261</td>\n",
       "      <td>0.280899</td>\n",
       "      <td>0.000000</td>\n",
       "      <td>5.583756</td>\n",
       "      <td>5.583756</td>\n",
       "    </tr>\n",
       "    <tr>\n",
       "      <th>4</th>\n",
       "      <td>Agincourt C.I.</td>\n",
       "      <td>90.7</td>\n",
       "      <td>1.0</td>\n",
       "      <td>97.8</td>\n",
       "      <td>1.0</td>\n",
       "      <td>87.3</td>\n",
       "      <td>1.0</td>\n",
       "      <td>98.1</td>\n",
       "      <td>1.0</td>\n",
       "      <td>43.788874</td>\n",
       "      <td>-79.278910</td>\n",
       "      <td>-3.748622</td>\n",
       "      <td>0.306748</td>\n",
       "      <td>0.000000</td>\n",
       "      <td>0.000000</td>\n",
       "    </tr>\n",
       "  </tbody>\n",
       "</table>\n",
       "</div>"
      ],
      "text/plain": [
       "                    School Name_y  DTP coverage rate (%)_x  \\\n",
       "0                A Y Jackson S.S.                     91.0   \n",
       "1        Academie Alexandre-Dumas                     88.2   \n",
       "2               Adam Beck Jr P.S.                     91.9   \n",
       "3  Africentric Alternative School                     71.2   \n",
       "4                  Agincourt C.I.                     90.7   \n",
       "\n",
       "   DTP Religious exemption rate (%)_x  MMR coverage rate (%)_x  \\\n",
       "0                                 1.0                     95.7   \n",
       "1                                 1.8                     90.0   \n",
       "2                                 3.6                     94.3   \n",
       "3                                19.7                     72.7   \n",
       "4                                 1.0                     97.8   \n",
       "\n",
       "   MMR Religious exemption rate (%)_x  DTP coverage rate (%)_y  \\\n",
       "0                                 1.0                     89.0   \n",
       "1                                 1.8                     86.8   \n",
       "2                                 3.6                     96.1   \n",
       "3                                19.7                     71.4   \n",
       "4                                 1.0                     87.3   \n",
       "\n",
       "   DTP Religious exemption rate (%)_y  MMR coverage rate (%)_y  \\\n",
       "0                                 1.1                     96.5   \n",
       "1                                 1.6                     89.1   \n",
       "2                                 3.6                     95.8   \n",
       "3                                20.8                     72.7   \n",
       "4                                 1.0                     98.1   \n",
       "\n",
       "   MMR Religious exemption rate (%)_y      Lat_y      Lng_y  DTP difference  \\\n",
       "0                                 1.1  43.805261 -79.366555       -2.197802   \n",
       "1                                 1.6  43.762419 -79.179765       -1.587302   \n",
       "2                                 3.6  43.683152 -79.288488        4.570185   \n",
       "3                                20.8  43.745424 -79.488261        0.280899   \n",
       "4                                 1.0  43.788874 -79.278910       -3.748622   \n",
       "\n",
       "   MMR difference  DTP relig difference  MMR relig difference  \n",
       "0        0.835946             10.000000             10.000000  \n",
       "1       -1.000000            -11.111111            -11.111111  \n",
       "2        1.590668              0.000000              0.000000  \n",
       "3        0.000000              5.583756              5.583756  \n",
       "4        0.306748              0.000000              0.000000  "
      ]
     },
     "execution_count": 32,
     "metadata": {},
     "output_type": "execute_result"
    }
   ],
   "source": [
    "df = df_reduce.copy()\n",
    "df['DTP difference'] = 100*(df['DTP coverage rate (%)_y'] - df['DTP coverage rate (%)_x']) / df['DTP coverage rate (%)_x']\n",
    "df['MMR difference'] = 100*(df['MMR coverage rate (%)_y'] - df['MMR coverage rate (%)_x']) / df['MMR coverage rate (%)_x']\n",
    "df['DTP relig difference'] = 100*(df['DTP Religious exemption rate (%)_y'] - df['DTP Religious exemption rate (%)_x']) / df['DTP Religious exemption rate (%)_x']\n",
    "df['MMR relig difference'] = 100*(df['MMR Religious exemption rate (%)_y'] - df['MMR Religious exemption rate (%)_x']) / df['MMR Religious exemption rate (%)_x']\n",
    "df.head()"
   ]
  },
  {
   "cell_type": "code",
   "execution_count": null,
   "metadata": {},
   "outputs": [
    {
     "name": "stderr",
     "output_type": "stream",
     "text": [
      "C:\\Users\\Alexander\\AppData\\Local\\Temp\\ipykernel_36368\\3087984992.py:2: SettingWithCopyWarning: \n",
      "A value is trying to be set on a copy of a slice from a DataFrame.\n",
      "Try using .loc[row_indexer,col_indexer] = value instead\n",
      "\n",
      "See the caveats in the documentation: https://pandas.pydata.org/pandas-docs/stable/user_guide/indexing.html#returning-a-view-versus-a-copy\n",
      "  dtp['vaccine'] = 'DTP'\n"
     ]
    },
    {
     "data": {
      "text/html": [
       "<div>\n",
       "<style scoped>\n",
       "    .dataframe tbody tr th:only-of-type {\n",
       "        vertical-align: middle;\n",
       "    }\n",
       "\n",
       "    .dataframe tbody tr th {\n",
       "        vertical-align: top;\n",
       "    }\n",
       "\n",
       "    .dataframe thead th {\n",
       "        text-align: right;\n",
       "    }\n",
       "</style>\n",
       "<table border=\"1\" class=\"dataframe\">\n",
       "  <thead>\n",
       "    <tr style=\"text-align: right;\">\n",
       "      <th></th>\n",
       "      <th>School Name_y</th>\n",
       "      <th>Lat_y</th>\n",
       "      <th>Lng_y</th>\n",
       "      <th>Year vax difference</th>\n",
       "      <th>Year relig difference</th>\n",
       "      <th>vaccine</th>\n",
       "    </tr>\n",
       "  </thead>\n",
       "  <tbody>\n",
       "    <tr>\n",
       "      <th>0</th>\n",
       "      <td>A Y Jackson S.S.</td>\n",
       "      <td>43.805261</td>\n",
       "      <td>-79.366555</td>\n",
       "      <td>-2.197802</td>\n",
       "      <td>10.000000</td>\n",
       "      <td>DTP</td>\n",
       "    </tr>\n",
       "    <tr>\n",
       "      <th>1</th>\n",
       "      <td>Academie Alexandre-Dumas</td>\n",
       "      <td>43.762419</td>\n",
       "      <td>-79.179765</td>\n",
       "      <td>-1.587302</td>\n",
       "      <td>-11.111111</td>\n",
       "      <td>DTP</td>\n",
       "    </tr>\n",
       "    <tr>\n",
       "      <th>2</th>\n",
       "      <td>Adam Beck Jr P.S.</td>\n",
       "      <td>43.683152</td>\n",
       "      <td>-79.288488</td>\n",
       "      <td>4.570185</td>\n",
       "      <td>0.000000</td>\n",
       "      <td>DTP</td>\n",
       "    </tr>\n",
       "    <tr>\n",
       "      <th>3</th>\n",
       "      <td>Africentric Alternative School</td>\n",
       "      <td>43.745424</td>\n",
       "      <td>-79.488261</td>\n",
       "      <td>0.280899</td>\n",
       "      <td>5.583756</td>\n",
       "      <td>DTP</td>\n",
       "    </tr>\n",
       "    <tr>\n",
       "      <th>4</th>\n",
       "      <td>Agincourt C.I.</td>\n",
       "      <td>43.788874</td>\n",
       "      <td>-79.278910</td>\n",
       "      <td>-3.748622</td>\n",
       "      <td>0.000000</td>\n",
       "      <td>DTP</td>\n",
       "    </tr>\n",
       "  </tbody>\n",
       "</table>\n",
       "</div>"
      ],
      "text/plain": [
       "                    School Name_y      Lat_y      Lng_y  Year vax difference  \\\n",
       "0                A Y Jackson S.S.  43.805261 -79.366555            -2.197802   \n",
       "1        Academie Alexandre-Dumas  43.762419 -79.179765            -1.587302   \n",
       "2               Adam Beck Jr P.S.  43.683152 -79.288488             4.570185   \n",
       "3  Africentric Alternative School  43.745424 -79.488261             0.280899   \n",
       "4                  Agincourt C.I.  43.788874 -79.278910            -3.748622   \n",
       "\n",
       "   Year relig difference vaccine  \n",
       "0              10.000000     DTP  \n",
       "1             -11.111111     DTP  \n",
       "2               0.000000     DTP  \n",
       "3               5.583756     DTP  \n",
       "4               0.000000     DTP  "
      ]
     },
     "execution_count": 37,
     "metadata": {},
     "output_type": "execute_result"
    }
   ],
   "source": [
    "dtp = df[['School Name_y', 'Lat_y', 'Lng_y', 'DTP difference', 'DTP relig difference']]\n",
    "dtp['vaccine'] = 'DTP'\n",
    "\n",
    "# rename columns\n",
    "dtp = dtp.rename(columns = {'DTP difference':'Year vax difference',\n",
    "                      'DTP relig difference':'Year relig difference'})\n",
    "dtp.head()"
   ]
  },
  {
   "cell_type": "code",
   "execution_count": 39,
   "metadata": {},
   "outputs": [
    {
     "name": "stderr",
     "output_type": "stream",
     "text": [
      "C:\\Users\\Alexander\\AppData\\Local\\Temp\\ipykernel_36368\\1993431061.py:2: SettingWithCopyWarning: \n",
      "A value is trying to be set on a copy of a slice from a DataFrame.\n",
      "Try using .loc[row_indexer,col_indexer] = value instead\n",
      "\n",
      "See the caveats in the documentation: https://pandas.pydata.org/pandas-docs/stable/user_guide/indexing.html#returning-a-view-versus-a-copy\n",
      "  mmr['vaccine'] = 'MMR'\n"
     ]
    },
    {
     "data": {
      "text/html": [
       "<div>\n",
       "<style scoped>\n",
       "    .dataframe tbody tr th:only-of-type {\n",
       "        vertical-align: middle;\n",
       "    }\n",
       "\n",
       "    .dataframe tbody tr th {\n",
       "        vertical-align: top;\n",
       "    }\n",
       "\n",
       "    .dataframe thead th {\n",
       "        text-align: right;\n",
       "    }\n",
       "</style>\n",
       "<table border=\"1\" class=\"dataframe\">\n",
       "  <thead>\n",
       "    <tr style=\"text-align: right;\">\n",
       "      <th></th>\n",
       "      <th>School Name_y</th>\n",
       "      <th>Lat_y</th>\n",
       "      <th>Lng_y</th>\n",
       "      <th>Year vax difference</th>\n",
       "      <th>Year relig difference</th>\n",
       "      <th>vaccine</th>\n",
       "    </tr>\n",
       "  </thead>\n",
       "  <tbody>\n",
       "    <tr>\n",
       "      <th>0</th>\n",
       "      <td>A Y Jackson S.S.</td>\n",
       "      <td>43.805261</td>\n",
       "      <td>-79.366555</td>\n",
       "      <td>0.835946</td>\n",
       "      <td>10.000000</td>\n",
       "      <td>MMR</td>\n",
       "    </tr>\n",
       "    <tr>\n",
       "      <th>1</th>\n",
       "      <td>Academie Alexandre-Dumas</td>\n",
       "      <td>43.762419</td>\n",
       "      <td>-79.179765</td>\n",
       "      <td>-1.000000</td>\n",
       "      <td>-11.111111</td>\n",
       "      <td>MMR</td>\n",
       "    </tr>\n",
       "    <tr>\n",
       "      <th>2</th>\n",
       "      <td>Adam Beck Jr P.S.</td>\n",
       "      <td>43.683152</td>\n",
       "      <td>-79.288488</td>\n",
       "      <td>1.590668</td>\n",
       "      <td>0.000000</td>\n",
       "      <td>MMR</td>\n",
       "    </tr>\n",
       "    <tr>\n",
       "      <th>3</th>\n",
       "      <td>Africentric Alternative School</td>\n",
       "      <td>43.745424</td>\n",
       "      <td>-79.488261</td>\n",
       "      <td>0.000000</td>\n",
       "      <td>5.583756</td>\n",
       "      <td>MMR</td>\n",
       "    </tr>\n",
       "    <tr>\n",
       "      <th>4</th>\n",
       "      <td>Agincourt C.I.</td>\n",
       "      <td>43.788874</td>\n",
       "      <td>-79.278910</td>\n",
       "      <td>0.306748</td>\n",
       "      <td>0.000000</td>\n",
       "      <td>MMR</td>\n",
       "    </tr>\n",
       "  </tbody>\n",
       "</table>\n",
       "</div>"
      ],
      "text/plain": [
       "                    School Name_y      Lat_y      Lng_y  Year vax difference  \\\n",
       "0                A Y Jackson S.S.  43.805261 -79.366555             0.835946   \n",
       "1        Academie Alexandre-Dumas  43.762419 -79.179765            -1.000000   \n",
       "2               Adam Beck Jr P.S.  43.683152 -79.288488             1.590668   \n",
       "3  Africentric Alternative School  43.745424 -79.488261             0.000000   \n",
       "4                  Agincourt C.I.  43.788874 -79.278910             0.306748   \n",
       "\n",
       "   Year relig difference vaccine  \n",
       "0              10.000000     MMR  \n",
       "1             -11.111111     MMR  \n",
       "2               0.000000     MMR  \n",
       "3               5.583756     MMR  \n",
       "4               0.000000     MMR  "
      ]
     },
     "execution_count": 39,
     "metadata": {},
     "output_type": "execute_result"
    }
   ],
   "source": [
    "mmr = df[['School Name_y', 'Lat_y', 'Lng_y', 'MMR difference', 'MMR relig difference']]\n",
    "mmr['vaccine'] = 'MMR'\n",
    "\n",
    "# rename columns\n",
    "mmr = mmr.rename(columns = {'MMR difference':'Year vax difference',\n",
    "                      'MMR relig difference':'Year relig difference'})\n",
    "\n",
    "mmr.head()"
   ]
  },
  {
   "cell_type": "code",
   "execution_count": 40,
   "metadata": {},
   "outputs": [
    {
     "data": {
      "text/html": [
       "<div>\n",
       "<style scoped>\n",
       "    .dataframe tbody tr th:only-of-type {\n",
       "        vertical-align: middle;\n",
       "    }\n",
       "\n",
       "    .dataframe tbody tr th {\n",
       "        vertical-align: top;\n",
       "    }\n",
       "\n",
       "    .dataframe thead th {\n",
       "        text-align: right;\n",
       "    }\n",
       "</style>\n",
       "<table border=\"1\" class=\"dataframe\">\n",
       "  <thead>\n",
       "    <tr style=\"text-align: right;\">\n",
       "      <th></th>\n",
       "      <th>School Name_y</th>\n",
       "      <th>Lat_y</th>\n",
       "      <th>Lng_y</th>\n",
       "      <th>Year vax difference</th>\n",
       "      <th>Year relig difference</th>\n",
       "      <th>vaccine</th>\n",
       "    </tr>\n",
       "  </thead>\n",
       "  <tbody>\n",
       "    <tr>\n",
       "      <th>0</th>\n",
       "      <td>A Y Jackson S.S.</td>\n",
       "      <td>43.805261</td>\n",
       "      <td>-79.366555</td>\n",
       "      <td>0.835946</td>\n",
       "      <td>10.000000</td>\n",
       "      <td>MMR</td>\n",
       "    </tr>\n",
       "    <tr>\n",
       "      <th>1</th>\n",
       "      <td>Academie Alexandre-Dumas</td>\n",
       "      <td>43.762419</td>\n",
       "      <td>-79.179765</td>\n",
       "      <td>-1.000000</td>\n",
       "      <td>-11.111111</td>\n",
       "      <td>MMR</td>\n",
       "    </tr>\n",
       "    <tr>\n",
       "      <th>2</th>\n",
       "      <td>Adam Beck Jr P.S.</td>\n",
       "      <td>43.683152</td>\n",
       "      <td>-79.288488</td>\n",
       "      <td>1.590668</td>\n",
       "      <td>0.000000</td>\n",
       "      <td>MMR</td>\n",
       "    </tr>\n",
       "    <tr>\n",
       "      <th>3</th>\n",
       "      <td>Africentric Alternative School</td>\n",
       "      <td>43.745424</td>\n",
       "      <td>-79.488261</td>\n",
       "      <td>0.000000</td>\n",
       "      <td>5.583756</td>\n",
       "      <td>MMR</td>\n",
       "    </tr>\n",
       "    <tr>\n",
       "      <th>4</th>\n",
       "      <td>Agincourt C.I.</td>\n",
       "      <td>43.788874</td>\n",
       "      <td>-79.278910</td>\n",
       "      <td>0.306748</td>\n",
       "      <td>0.000000</td>\n",
       "      <td>MMR</td>\n",
       "    </tr>\n",
       "    <tr>\n",
       "      <th>...</th>\n",
       "      <td>...</td>\n",
       "      <td>...</td>\n",
       "      <td>...</td>\n",
       "      <td>...</td>\n",
       "      <td>...</td>\n",
       "      <td>...</td>\n",
       "    </tr>\n",
       "    <tr>\n",
       "      <th>1607</th>\n",
       "      <td>York Memorial C.I.</td>\n",
       "      <td>43.690279</td>\n",
       "      <td>-79.476240</td>\n",
       "      <td>-3.232999</td>\n",
       "      <td>127.272727</td>\n",
       "      <td>DTP</td>\n",
       "    </tr>\n",
       "    <tr>\n",
       "      <th>1608</th>\n",
       "      <td>York Mills C.I.</td>\n",
       "      <td>43.751529</td>\n",
       "      <td>-79.373524</td>\n",
       "      <td>-3.033708</td>\n",
       "      <td>-59.375000</td>\n",
       "      <td>DTP</td>\n",
       "    </tr>\n",
       "    <tr>\n",
       "      <th>1609</th>\n",
       "      <td>Yorkview P.S.</td>\n",
       "      <td>43.772574</td>\n",
       "      <td>-79.435566</td>\n",
       "      <td>4.804469</td>\n",
       "      <td>-4.166667</td>\n",
       "      <td>DTP</td>\n",
       "    </tr>\n",
       "    <tr>\n",
       "      <th>1610</th>\n",
       "      <td>Yorkwoods P.S.</td>\n",
       "      <td>43.750660</td>\n",
       "      <td>-79.513885</td>\n",
       "      <td>-1.229050</td>\n",
       "      <td>-35.714286</td>\n",
       "      <td>DTP</td>\n",
       "    </tr>\n",
       "    <tr>\n",
       "      <th>1611</th>\n",
       "      <td>Zion Heights Jr H.S.</td>\n",
       "      <td>43.797915</td>\n",
       "      <td>-79.371097</td>\n",
       "      <td>1.396348</td>\n",
       "      <td>-56.521739</td>\n",
       "      <td>DTP</td>\n",
       "    </tr>\n",
       "  </tbody>\n",
       "</table>\n",
       "<p>1612 rows × 6 columns</p>\n",
       "</div>"
      ],
      "text/plain": [
       "                       School Name_y      Lat_y      Lng_y  \\\n",
       "0                   A Y Jackson S.S.  43.805261 -79.366555   \n",
       "1           Academie Alexandre-Dumas  43.762419 -79.179765   \n",
       "2                  Adam Beck Jr P.S.  43.683152 -79.288488   \n",
       "3     Africentric Alternative School  43.745424 -79.488261   \n",
       "4                     Agincourt C.I.  43.788874 -79.278910   \n",
       "...                              ...        ...        ...   \n",
       "1607              York Memorial C.I.  43.690279 -79.476240   \n",
       "1608                 York Mills C.I.  43.751529 -79.373524   \n",
       "1609                   Yorkview P.S.  43.772574 -79.435566   \n",
       "1610                  Yorkwoods P.S.  43.750660 -79.513885   \n",
       "1611            Zion Heights Jr H.S.  43.797915 -79.371097   \n",
       "\n",
       "      Year vax difference  Year relig difference vaccine  \n",
       "0                0.835946              10.000000     MMR  \n",
       "1               -1.000000             -11.111111     MMR  \n",
       "2                1.590668               0.000000     MMR  \n",
       "3                0.000000               5.583756     MMR  \n",
       "4                0.306748               0.000000     MMR  \n",
       "...                   ...                    ...     ...  \n",
       "1607            -3.232999             127.272727     DTP  \n",
       "1608            -3.033708             -59.375000     DTP  \n",
       "1609             4.804469              -4.166667     DTP  \n",
       "1610            -1.229050             -35.714286     DTP  \n",
       "1611             1.396348             -56.521739     DTP  \n",
       "\n",
       "[1612 rows x 6 columns]"
      ]
     },
     "execution_count": 40,
     "metadata": {},
     "output_type": "execute_result"
    }
   ],
   "source": [
    "combined_df = pd.concat([mmr, dtp], ignore_index=True, axis=0)\n",
    "combined_df\n"
   ]
  },
  {
   "cell_type": "code",
   "execution_count": 42,
   "metadata": {},
   "outputs": [],
   "source": [
    "combined_df.to_csv(r'C:\\Users\\Alexander\\Documents\\DSI\\visualization\\combined_vax.csv')"
   ]
  }
 ],
 "metadata": {
  "kernelspec": {
   "display_name": "Python 3",
   "language": "python",
   "name": "python3"
  },
  "language_info": {
   "codemirror_mode": {
    "name": "ipython",
    "version": 3
   },
   "file_extension": ".py",
   "mimetype": "text/x-python",
   "name": "python",
   "nbconvert_exporter": "python",
   "pygments_lexer": "ipython3",
   "version": "3.9.15"
  }
 },
 "nbformat": 4,
 "nbformat_minor": 2
}
