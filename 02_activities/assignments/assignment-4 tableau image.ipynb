{
 "cells": [
  {
   "cell_type": "markdown",
   "metadata": {},
   "source": [
    "#### Assignment 4 - Tableau Visualization ####"
   ]
  },
  {
   "cell_type": "markdown",
   "metadata": {},
   "source": [
    "Will be using the Immunization Coverage for Students data. \n",
    "https://open.toronto.ca/dataset/immunization-coverage-for-students/  \n",
    "\n",
    "Description:  \n",
    "The Toronto Schools Immunization Coverage data will be utilized for the current analyses. In the map, two datasets have been included, the 2017/2018 coverage rate per school per vaccine, and the same dataset for 2018/2019. The data was reshaped and a difference variables was calculated to compute the percentage change in coverage rate from 2017/2018 to 2018/2019. For the map, we plotted every school within the dataset according to their given x, y coordinate values. With one data point representing one school, you can hover over each point for the name and the percentage change of the selected vaccine. Data points will appear as a colour from the red-yellow-green gradient. Deeper, stronger red colours represent a lower, more negative percentage, meaning a reduction in vaccine coverage from 2017/2018 to 2018/2019. On the other hand, a brighter and stronger green colour represents a larger more positive percentage, meaning an increase in vaccine coverage from 2017/2018 to 2018/2019. Data points of a yellow-ish colour are closer to a 0% change, or in other words, no change in vaccine coverage across the years. Similarly, size applied to the data points. Larger bubbles mean more extreme percentage changes, both positive and negative. To determine if the percentage as positive or negative, you can hover on the data point for further information. Lastly, in the top right corner, you select between the MMR or DTP vaccine. "
   ]
  },
  {
   "cell_type": "markdown",
   "metadata": {},
   "source": [
    "https://public.tableau.com/app/profile/alex.michelberger/viz/vaccine_coverage_map/CoverageandSummary"
   ]
  }
 ],
 "metadata": {
  "language_info": {
   "name": "python"
  }
 },
 "nbformat": 4,
 "nbformat_minor": 2
}
